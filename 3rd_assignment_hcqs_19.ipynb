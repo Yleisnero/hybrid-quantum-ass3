{
 "cells": [
  {
   "cell_type": "markdown",
   "id": "e741379f",
   "metadata": {
    "id": "e741379f"
   },
   "source": [
    "# Hybrid Classic-Quantum Systems - Third Assignment #\n",
    "\n",
    "You should fill in this Jupyter notebook in order to complete the assignment. Here a small recap of the rules:\n",
    "\n",
    "* You should **NOT** modify the functions that are already provided in the notebook, unless it is strictly necessary;\n",
    "* If you want to modify the given functions, please, provide an explanation of why you had to;\n",
    "* You can define new functions, as soon as they are well commented;\n",
    "* You can import all libraries you want, as soon as you justify their utilization;\n",
    "* You can add new cells, as soon as you do not remove the cells where you are supposed to comment your solution;\n",
    "* This is a group assignment. The maximum number of people is 3;\n",
    "* Your solution should be commented and accompanied by a small description - you can add additional cells if needed;\n",
    "* For any issue and doubt, please do not hesitate to use the forum or to write me an email."
   ]
  },
  {
   "cell_type": "markdown",
   "id": "abc48bc1",
   "metadata": {
    "id": "abc48bc1"
   },
   "source": [
    "# Preliminaries #\n",
    "\n",
    "## Bin Packing Problem (BPP) ##\n",
    "The bin packing problem (BPP) is an optimization problem. The final goal is to fit items of different sizes into a finite number of bins, each of a fixed given capacity, minimizing the number of bins used. The problem has many applications, ranging from logistics, multi-processor scheduling.\n",
    "\n",
    "Computationally, the problem is NP-hard, and the corresponding decision problem, deciding if items can fit into a specified number of bins, is NP-complete.\n",
    "![np-complete](https://imgs.xkcd.com/comics/np_complete.png)"
   ]
  },
  {
   "cell_type": "markdown",
   "id": "b02c1bad",
   "metadata": {
    "id": "b02c1bad"
   },
   "source": [
    "## Mathematical formulation ##\n",
    "The objective function of BPP is to minimize the number of bins used, more formally,\n",
    "\\begin{align} \\label{eqn:bpp}\n",
    "    & {\\min}\n",
    "    & &  \\sum_{j=1}^{K} B_j \\\\\n",
    "    & {\\text{subject to}}\n",
    "    & & g(x_{ij}) = \\sum_{j=1}^{K} x_{ij} = 1 \\qquad \\forall i \\\\\n",
    "    & & & h(x_{ij}) = \\sum_{i=1}^N w_{i}x_{ij} \\le C*B_j \\qquad \\forall j\n",
    "\\end{align}"
   ]
  },
  {
   "cell_type": "markdown",
   "id": "11009203",
   "metadata": {
    "id": "11009203"
   },
   "source": [
    "# Loading BPP instances #\n",
    "First of all, we focus on generating instances of BPP to be used for the evaluation. Each instance is structured in the following way:\n",
    "\n",
    "$[[w_0, w_1, ..., w_n], C, B, items]$, such that:\n",
    "* $w_i$ is the weight of item $i$;\n",
    "* $C$ is the capacity of each bin;\n",
    "* $B$ is the number of bins;\n",
    "* $items$ is the number of items\n",
    "\n",
    "We pre-generated the instances for you and saved them in an attached binary file. You can read them in your code by using the following code:"
   ]
  },
  {
   "cell_type": "code",
   "outputs": [
    {
     "name": "stdout",
     "output_type": "stream",
     "text": [
      "Requirement already satisfied: numpy in ./venv/lib/python3.9/site-packages (1.26.3)\r\n",
      "\r\n",
      "\u001B[1m[\u001B[0m\u001B[34;49mnotice\u001B[0m\u001B[1;39;49m]\u001B[0m\u001B[39;49m A new release of pip is available: \u001B[0m\u001B[31;49m23.2.1\u001B[0m\u001B[39;49m -> \u001B[0m\u001B[32;49m23.3.2\u001B[0m\r\n",
      "\u001B[1m[\u001B[0m\u001B[34;49mnotice\u001B[0m\u001B[1;39;49m]\u001B[0m\u001B[39;49m To update, run: \u001B[0m\u001B[32;49mpip install --upgrade pip\u001B[0m\r\n"
     ]
    }
   ],
   "source": [
    "!pip install numpy"
   ],
   "metadata": {
    "colab": {
     "base_uri": "https://localhost:8080/"
    },
    "id": "f84b335ce41030be",
    "outputId": "4184e866-669f-4a78-ba78-bb3079fa9a64",
    "ExecuteTime": {
     "end_time": "2024-01-29T17:06:37.379303Z",
     "start_time": "2024-01-29T17:06:35.121204Z"
    }
   },
   "id": "f84b335ce41030be",
   "execution_count": 1
  },
  {
   "cell_type": "code",
   "outputs": [],
   "source": [
    "import pickle\n",
    "\n",
    "\n",
    "def read_list(filename):\n",
    "    # for reading also binary mode is important\n",
    "    with open(filename, 'rb') as fp:\n",
    "        n_list = pickle.load(fp)\n",
    "        return n_list"
   ],
   "metadata": {
    "id": "98c95b55",
    "ExecuteTime": {
     "end_time": "2024-01-29T17:06:37.380813Z",
     "start_time": "2024-01-29T17:06:37.372085Z"
    }
   },
   "id": "98c95b55",
   "execution_count": 2
  },
  {
   "cell_type": "markdown",
   "source": [
    "The constraint $g(x)$ implies that each task can be packed into at most one CPU, and constraint $h(x_{ij})$ says that the requirements of each task can not exceed the given $C$ capacity. In this paper, BPP can be considered as a mixture of inequality and equality-constrained optimization problems."
   ],
   "metadata": {
    "id": "8cd6c093"
   },
   "id": "8cd6c093"
  },
  {
   "cell_type": "code",
   "outputs": [],
   "source": [
    "from math import gcd\n",
    "from functools import reduce\n",
    "def smallest_denominator(instances):\n",
    "    processed = []\n",
    "\n",
    "    for ins in instances:\n",
    "        weights, C, B, items = ins\n",
    "\n",
    "        while True:\n",
    "            # Finding the GCD of all weights and the capacity\n",
    "            all_values = weights + [C]\n",
    "            smallest_denominator = reduce(gcd, all_values)\n",
    "\n",
    "            if smallest_denominator <= 1:\n",
    "                break  # Exit the loop if the GCD is 1\n",
    "\n",
    "            # Dividing weights and capacity by the smallest denominator\n",
    "            weights = [w // smallest_denominator for w in weights]\n",
    "            C = C // smallest_denominator\n",
    "        processed.append([weights, C, B, items])\n",
    "    return processed\n"
   ],
   "metadata": {
    "id": "7a9c18dcc2b60b79",
    "ExecuteTime": {
     "end_time": "2024-01-29T17:06:37.404122Z",
     "start_time": "2024-01-29T17:06:37.379671Z"
    }
   },
   "id": "7a9c18dcc2b60b79",
   "execution_count": 3
  },
  {
   "cell_type": "code",
   "outputs": [],
   "source": [
    "from itertools import combinations\n",
    "\n",
    "def best_space_util(instances):\n",
    "    processed = []\n",
    "    for ins in instances:\n",
    "        weights, C, B, items = ins\n",
    "\n",
    "        # Initialize variables to track the best pair and minimum remaining capacity\n",
    "        best_pair = None\n",
    "        min_remaining_capacity = C\n",
    "\n",
    "        # Iterate through all pairs of weights\n",
    "        for pair in combinations(weights, 2):\n",
    "            combined_weight = sum(pair)\n",
    "            remaining_capacity = C - combined_weight\n",
    "\n",
    "            # Update best_pair and min_remaining_capacity if this pair is better\n",
    "            if 0 <= remaining_capacity < min_remaining_capacity:\n",
    "                min_remaining_capacity = remaining_capacity\n",
    "                best_pair = pair\n",
    "\n",
    "        # Combine the best pair into a single item or keep the weights as is if no pair found\n",
    "        if best_pair:\n",
    "            new_weights = weights.copy()\n",
    "            # Remove the first element of the pair\n",
    "            new_weights.remove(best_pair[0])\n",
    "            # Remove the second element of the pair\n",
    "            new_weights.remove(best_pair[1])\n",
    "            new_weights.append(sum(best_pair))\n",
    "            new_items = items - 1\n",
    "            processed.append([new_weights, C, B, new_items])\n",
    "        else:\n",
    "            processed.append([weights, C, B, items])\n",
    "    return processed"
   ],
   "metadata": {
    "id": "46d1700fb1172813",
    "ExecuteTime": {
     "end_time": "2024-01-29T17:06:37.407009Z",
     "start_time": "2024-01-29T17:06:37.387457Z"
    }
   },
   "id": "46d1700fb1172813",
   "execution_count": 4
  },
  {
   "cell_type": "code",
   "outputs": [],
   "source": [
    "def remove_bucket_if_item_is_big(instances):\n",
    "    processed = []\n",
    "    for ins in instances:\n",
    "        weights, C, B, items = ins\n",
    "        biggest_item = max(weights)\n",
    "        smallest_item = min(weights)\n",
    "        if biggest_item + smallest_item > C:\n",
    "            # Remove the bucket\n",
    "            new_B = B - 1\n",
    "            new_weights = weights.copy()\n",
    "            # Remove the biggest item\n",
    "            new_weights.remove(biggest_item)\n",
    "            new_items = items - 1\n",
    "            processed.append([new_weights, C, new_B, new_items])\n",
    "        else:\n",
    "            processed.append([weights, C, B, items])\n",
    "    return processed"
   ],
   "metadata": {
    "id": "9a51aa4afe353431",
    "ExecuteTime": {
     "end_time": "2024-01-29T17:06:37.438238Z",
     "start_time": "2024-01-29T17:06:37.394768Z"
    }
   },
   "id": "9a51aa4afe353431",
   "execution_count": 5
  },
  {
   "cell_type": "code",
   "outputs": [],
   "source": [
    "def preprocess_instances(instances):\n",
    "    space_util = best_space_util(instances)\n",
    "    better_buckets = remove_bucket_if_item_is_big(space_util)\n",
    "    reduced_weight = smallest_denominator(better_buckets)\n",
    "    single_instance_space_util = best_space_util([reduced_weight[1]])\n",
    "    single_instance_better_buckets = remove_bucket_if_item_is_big(single_instance_space_util)\n",
    "    single_instance_reduced_weight = smallest_denominator(single_instance_better_buckets)\n",
    "    reduced_weight[1] = single_instance_reduced_weight[0]\n",
    "    return reduced_weight"
   ],
   "metadata": {
    "id": "bffdf91985e80f93",
    "ExecuteTime": {
     "end_time": "2024-01-29T17:06:37.439161Z",
     "start_time": "2024-01-29T17:06:37.398360Z"
    }
   },
   "id": "bffdf91985e80f93",
   "execution_count": 6
  },
  {
   "cell_type": "markdown",
   "source": [
    "# Transforming BPP into a QUBO #\n",
    "QUBO is a mathematical model that is used to represent combinatorial optimization problems in which the variables are binary $\\{0,1\\}$ and the objective function with constraints is quadratic. We employ QUBO for BPP because it provides a framework for representing combinatorial optimization problems in a form that can be efficiently solved using quantum computing algorithms designed for QUBO problems, such as VQE or QAOA.\n",
    "\n",
    "## Slack Variables + Quadratic Penalty Encoding ##\n",
    "Qiskit Optimization provides with QuadraticProgram a very generic and powerful representation for optimization problems. However, usually, optimization algorithms cannot handle all possible types of problems that can be modelled, but only a sub-class. Many available quantum optimization algorithms can handle Quadratic Unconstrained Binary Optimization (QUBO) problems. To do so, first, it is necessary to convert a given optimization problem into a QUBO.\n",
    "\n",
    "Qiskit Optimization provides converters to achieve this conversion whenever possible. More precisely, Qiskit Optimization provides the following converters:\n",
    "* *InequalityToEquality*: converts inequality constraints into equality constraints with additional slack variables.\n",
    "* *IntegerToBinary* : converts integer variables into binary variables and corresponding coefficients.\n",
    "* *LinearEqualityToPenalty* : convert equality constraints into additional terms of the object function.\n",
    "* *QuadraticProgramToQubo* : a wrapper for IntegerToBinary and LinearEqualityToPenalty for convenience.\n",
    "More information available at: https://qiskit.org/documentation/stable/0.19/tutorials/optimization/2_converters_for_quadratic_programs.html\n",
    "\n",
    "## Penalty-Based Encoding ##\n",
    "\n",
    "### Define penalties ###\n",
    "To enforce the constraints, we introduce penalty terms to the objective function. These terms penalize solutions that violate the constraints. Firsts, we rewrite constraints $g(x_{ij})$ and $h(x_{ij})$ as follows,\n",
    "     \\begin{align*}\n",
    "        g(x_{ij}) = \\sum_{j=1}^{K} x_{ij} - 1 = 0 \\qquad \\forall i \\\\\n",
    "        h(x_{ij}) = \\sum_{i=1}^N w_{i}x_{ij} - C \\cdot B_j \\le 0 \\qquad \\forall j \\\\\n",
    "    \\end{align*}\n",
    "    Second, introduce penalty functions $p_1(\\lambda, g(x))$ and $p_2(\\beta, h(x))$ with coefficients $\\{\\lambda, \\beta\\} \\geq 0 $\n",
    "    \\begin{equation}\\label{penalty1}\n",
    "        p_1(\\lambda, g(x_{ij})) =\n",
    "        \\begin{cases}\n",
    "            0 & \\text{if $g(x_{ij}) \\leq 0$} \\\\\n",
    "            \\lambda g(x_{ij}) & \\text{if $g(x_{ij}) > 0$}\n",
    "        \\end{cases}\n",
    "    \\end{equation}\n",
    "    \\begin{equation}\\label{penalty2}\n",
    "        p_2(\\beta, h(x_{ij})) =\n",
    "        \\begin{cases}\n",
    "            0 & \\text{if $h(x_{ij}) \\leq 0$} \\\\\n",
    "            \\beta h(x_{ij}) & \\text{if $h(x_{ij}) > 0$}\n",
    "        \\end{cases}\n",
    "    \\end{equation}\n",
    "    \n",
    "In literature, there are multiple methods for penalization such as the exterior penalty function and interior penalty function.\n",
    "\n",
    "### Injecting Penalties in the Model ###\n",
    "To get the final QUBO form we combine penalties with objective function and get\n",
    "\n",
    "\\begin{equation}\n",
    "    \\mathcal{F} = \\sum_{j=1}^{K} B_j + \\sum_{j=1}^{K}p_1(\\lambda, g_j) + \\sum_{i=1}^{N}p_2(\\beta,h_i)\n",
    "\\end{equation}\n",
    "\n",
    "### Examples of penalty functions ###\n",
    "* https://www.stat.cmu.edu/~ryantibs/convexopt-F13/scribes/lec16.pdf\n",
    "* https://www.rose-hulman.edu/~bryan/lottamath/penalty.pdf"
   ],
   "metadata": {
    "id": "e4577458"
   },
   "id": "e4577458"
  },
  {
   "cell_type": "markdown",
   "source": [
    "## YOUR TASK ##\n",
    "* Apply slack + quadratic penalty\n",
    "* Apply penalty-based encoding using three functions"
   ],
   "metadata": {
    "id": "4e4c2d63"
   },
   "id": "4e4c2d63"
  },
  {
   "cell_type": "code",
   "outputs": [
    {
     "name": "stdout",
     "output_type": "stream",
     "text": [
      "Requirement already satisfied: qiskit-aqt-provider in ./venv/lib/python3.9/site-packages (1.1.0)\r\n",
      "Requirement already satisfied: httpx>=0.24.0 in ./venv/lib/python3.9/site-packages (from qiskit-aqt-provider) (0.26.0)\r\n",
      "Requirement already satisfied: platformdirs>=3 in ./venv/lib/python3.9/site-packages (from qiskit-aqt-provider) (4.1.0)\r\n",
      "Requirement already satisfied: pydantic>=2.5.0 in ./venv/lib/python3.9/site-packages (from qiskit-aqt-provider) (2.5.3)\r\n",
      "Requirement already satisfied: python-dotenv>=1 in ./venv/lib/python3.9/site-packages (from qiskit-aqt-provider) (1.0.1)\r\n",
      "Requirement already satisfied: qiskit>=0.45.0 in ./venv/lib/python3.9/site-packages (from qiskit-aqt-provider) (0.45.2)\r\n",
      "Requirement already satisfied: qiskit-aer>=0.11 in ./venv/lib/python3.9/site-packages (from qiskit-aqt-provider) (0.13.2)\r\n",
      "Requirement already satisfied: tabulate>=0.9.0 in ./venv/lib/python3.9/site-packages (from qiskit-aqt-provider) (0.9.0)\r\n",
      "Requirement already satisfied: tqdm>=4 in ./venv/lib/python3.9/site-packages (from qiskit-aqt-provider) (4.66.1)\r\n",
      "Requirement already satisfied: typing-extensions>=4.0.0 in ./venv/lib/python3.9/site-packages (from qiskit-aqt-provider) (4.9.0)\r\n",
      "Requirement already satisfied: anyio in ./venv/lib/python3.9/site-packages (from httpx>=0.24.0->qiskit-aqt-provider) (4.2.0)\r\n",
      "Requirement already satisfied: certifi in ./venv/lib/python3.9/site-packages (from httpx>=0.24.0->qiskit-aqt-provider) (2023.11.17)\r\n",
      "Requirement already satisfied: httpcore==1.* in ./venv/lib/python3.9/site-packages (from httpx>=0.24.0->qiskit-aqt-provider) (1.0.2)\r\n",
      "Requirement already satisfied: idna in ./venv/lib/python3.9/site-packages (from httpx>=0.24.0->qiskit-aqt-provider) (3.6)\r\n",
      "Requirement already satisfied: sniffio in ./venv/lib/python3.9/site-packages (from httpx>=0.24.0->qiskit-aqt-provider) (1.3.0)\r\n",
      "Requirement already satisfied: h11<0.15,>=0.13 in ./venv/lib/python3.9/site-packages (from httpcore==1.*->httpx>=0.24.0->qiskit-aqt-provider) (0.14.0)\r\n",
      "Requirement already satisfied: annotated-types>=0.4.0 in ./venv/lib/python3.9/site-packages (from pydantic>=2.5.0->qiskit-aqt-provider) (0.6.0)\r\n",
      "Requirement already satisfied: pydantic-core==2.14.6 in ./venv/lib/python3.9/site-packages (from pydantic>=2.5.0->qiskit-aqt-provider) (2.14.6)\r\n",
      "Requirement already satisfied: qiskit-terra==0.45.2 in ./venv/lib/python3.9/site-packages (from qiskit>=0.45.0->qiskit-aqt-provider) (0.45.2)\r\n",
      "Requirement already satisfied: rustworkx>=0.13.0 in ./venv/lib/python3.9/site-packages (from qiskit-terra==0.45.2->qiskit>=0.45.0->qiskit-aqt-provider) (0.14.0)\r\n",
      "Requirement already satisfied: numpy<2,>=1.17 in ./venv/lib/python3.9/site-packages (from qiskit-terra==0.45.2->qiskit>=0.45.0->qiskit-aqt-provider) (1.26.3)\r\n",
      "Requirement already satisfied: ply>=3.10 in ./venv/lib/python3.9/site-packages (from qiskit-terra==0.45.2->qiskit>=0.45.0->qiskit-aqt-provider) (3.11)\r\n",
      "Requirement already satisfied: psutil>=5 in ./venv/lib/python3.9/site-packages (from qiskit-terra==0.45.2->qiskit>=0.45.0->qiskit-aqt-provider) (5.9.8)\r\n",
      "Requirement already satisfied: scipy>=1.5 in ./venv/lib/python3.9/site-packages (from qiskit-terra==0.45.2->qiskit>=0.45.0->qiskit-aqt-provider) (1.12.0)\r\n",
      "Requirement already satisfied: sympy>=1.3 in ./venv/lib/python3.9/site-packages (from qiskit-terra==0.45.2->qiskit>=0.45.0->qiskit-aqt-provider) (1.12)\r\n",
      "Requirement already satisfied: dill>=0.3 in ./venv/lib/python3.9/site-packages (from qiskit-terra==0.45.2->qiskit>=0.45.0->qiskit-aqt-provider) (0.3.7)\r\n",
      "Requirement already satisfied: python-dateutil>=2.8.0 in ./venv/lib/python3.9/site-packages (from qiskit-terra==0.45.2->qiskit>=0.45.0->qiskit-aqt-provider) (2.8.2)\r\n",
      "Requirement already satisfied: stevedore>=3.0.0 in ./venv/lib/python3.9/site-packages (from qiskit-terra==0.45.2->qiskit>=0.45.0->qiskit-aqt-provider) (5.1.0)\r\n",
      "Requirement already satisfied: symengine!=0.10.0,>=0.9 in ./venv/lib/python3.9/site-packages (from qiskit-terra==0.45.2->qiskit>=0.45.0->qiskit-aqt-provider) (0.11.0)\r\n",
      "Requirement already satisfied: exceptiongroup>=1.0.2 in ./venv/lib/python3.9/site-packages (from anyio->httpx>=0.24.0->qiskit-aqt-provider) (1.2.0)\r\n",
      "Requirement already satisfied: six>=1.5 in ./venv/lib/python3.9/site-packages (from python-dateutil>=2.8.0->qiskit-terra==0.45.2->qiskit>=0.45.0->qiskit-aqt-provider) (1.16.0)\r\n",
      "Requirement already satisfied: pbr!=2.1.0,>=2.0.0 in ./venv/lib/python3.9/site-packages (from stevedore>=3.0.0->qiskit-terra==0.45.2->qiskit>=0.45.0->qiskit-aqt-provider) (6.0.0)\r\n",
      "Requirement already satisfied: mpmath>=0.19 in ./venv/lib/python3.9/site-packages (from sympy>=1.3->qiskit-terra==0.45.2->qiskit>=0.45.0->qiskit-aqt-provider) (1.3.0)\r\n",
      "\r\n",
      "\u001B[1m[\u001B[0m\u001B[34;49mnotice\u001B[0m\u001B[1;39;49m]\u001B[0m\u001B[39;49m A new release of pip is available: \u001B[0m\u001B[31;49m23.2.1\u001B[0m\u001B[39;49m -> \u001B[0m\u001B[32;49m23.3.2\u001B[0m\r\n",
      "\u001B[1m[\u001B[0m\u001B[34;49mnotice\u001B[0m\u001B[1;39;49m]\u001B[0m\u001B[39;49m To update, run: \u001B[0m\u001B[32;49mpip install --upgrade pip\u001B[0m\r\n"
     ]
    }
   ],
   "source": [
    "# needs to installed before other qiskit packages to avoid dependency issues\n",
    "!pip install qiskit-aqt-provider"
   ],
   "metadata": {
    "colab": {
     "base_uri": "https://localhost:8080/"
    },
    "id": "a09dad25222a0d0c",
    "outputId": "81a703c3-7ee1-4a04-c295-86e8ba35f6dd",
    "ExecuteTime": {
     "end_time": "2024-01-29T17:06:39.540542Z",
     "start_time": "2024-01-29T17:06:37.402929Z"
    }
   },
   "id": "a09dad25222a0d0c",
   "execution_count": 7
  },
  {
   "cell_type": "code",
   "outputs": [
    {
     "name": "stdout",
     "output_type": "stream",
     "text": [
      "Requirement already satisfied: qiskit-optimization in ./venv/lib/python3.9/site-packages (0.6.0)\r\n",
      "Requirement already satisfied: qiskit>=0.44 in ./venv/lib/python3.9/site-packages (from qiskit-optimization) (0.45.2)\r\n",
      "Requirement already satisfied: qiskit-algorithms>=0.2.0 in ./venv/lib/python3.9/site-packages (from qiskit-optimization) (0.2.2)\r\n",
      "Requirement already satisfied: scipy>=1.9.0 in ./venv/lib/python3.9/site-packages (from qiskit-optimization) (1.12.0)\r\n",
      "Requirement already satisfied: numpy>=1.17 in ./venv/lib/python3.9/site-packages (from qiskit-optimization) (1.26.3)\r\n",
      "Requirement already satisfied: docplex!=2.24.231,>=2.21.207 in ./venv/lib/python3.9/site-packages (from qiskit-optimization) (2.25.236)\r\n",
      "Requirement already satisfied: setuptools>=40.1.0 in ./venv/lib/python3.9/site-packages (from qiskit-optimization) (68.2.0)\r\n",
      "Requirement already satisfied: networkx>=2.6.3 in ./venv/lib/python3.9/site-packages (from qiskit-optimization) (3.2.1)\r\n",
      "Requirement already satisfied: six in ./venv/lib/python3.9/site-packages (from docplex!=2.24.231,>=2.21.207->qiskit-optimization) (1.16.0)\r\n",
      "Requirement already satisfied: qiskit-terra==0.45.2 in ./venv/lib/python3.9/site-packages (from qiskit>=0.44->qiskit-optimization) (0.45.2)\r\n",
      "Requirement already satisfied: rustworkx>=0.13.0 in ./venv/lib/python3.9/site-packages (from qiskit-terra==0.45.2->qiskit>=0.44->qiskit-optimization) (0.14.0)\r\n",
      "Requirement already satisfied: ply>=3.10 in ./venv/lib/python3.9/site-packages (from qiskit-terra==0.45.2->qiskit>=0.44->qiskit-optimization) (3.11)\r\n",
      "Requirement already satisfied: psutil>=5 in ./venv/lib/python3.9/site-packages (from qiskit-terra==0.45.2->qiskit>=0.44->qiskit-optimization) (5.9.8)\r\n",
      "Requirement already satisfied: sympy>=1.3 in ./venv/lib/python3.9/site-packages (from qiskit-terra==0.45.2->qiskit>=0.44->qiskit-optimization) (1.12)\r\n",
      "Requirement already satisfied: dill>=0.3 in ./venv/lib/python3.9/site-packages (from qiskit-terra==0.45.2->qiskit>=0.44->qiskit-optimization) (0.3.7)\r\n",
      "Requirement already satisfied: python-dateutil>=2.8.0 in ./venv/lib/python3.9/site-packages (from qiskit-terra==0.45.2->qiskit>=0.44->qiskit-optimization) (2.8.2)\r\n",
      "Requirement already satisfied: stevedore>=3.0.0 in ./venv/lib/python3.9/site-packages (from qiskit-terra==0.45.2->qiskit>=0.44->qiskit-optimization) (5.1.0)\r\n",
      "Requirement already satisfied: symengine!=0.10.0,>=0.9 in ./venv/lib/python3.9/site-packages (from qiskit-terra==0.45.2->qiskit>=0.44->qiskit-optimization) (0.11.0)\r\n",
      "Requirement already satisfied: typing-extensions in ./venv/lib/python3.9/site-packages (from qiskit-terra==0.45.2->qiskit>=0.44->qiskit-optimization) (4.9.0)\r\n",
      "Requirement already satisfied: pbr!=2.1.0,>=2.0.0 in ./venv/lib/python3.9/site-packages (from stevedore>=3.0.0->qiskit-terra==0.45.2->qiskit>=0.44->qiskit-optimization) (6.0.0)\r\n",
      "Requirement already satisfied: mpmath>=0.19 in ./venv/lib/python3.9/site-packages (from sympy>=1.3->qiskit-terra==0.45.2->qiskit>=0.44->qiskit-optimization) (1.3.0)\r\n",
      "\r\n",
      "\u001B[1m[\u001B[0m\u001B[34;49mnotice\u001B[0m\u001B[1;39;49m]\u001B[0m\u001B[39;49m A new release of pip is available: \u001B[0m\u001B[31;49m23.2.1\u001B[0m\u001B[39;49m -> \u001B[0m\u001B[32;49m23.3.2\u001B[0m\r\n",
      "\u001B[1m[\u001B[0m\u001B[34;49mnotice\u001B[0m\u001B[1;39;49m]\u001B[0m\u001B[39;49m To update, run: \u001B[0m\u001B[32;49mpip install --upgrade pip\u001B[0m\r\n"
     ]
    }
   ],
   "source": [
    "!pip install qiskit-optimization"
   ],
   "metadata": {
    "colab": {
     "base_uri": "https://localhost:8080/"
    },
    "id": "6f419d6b9893bee2",
    "outputId": "fda5b899-893d-4aee-82e2-5c3539177dee",
    "ExecuteTime": {
     "end_time": "2024-01-29T17:06:41.618252Z",
     "start_time": "2024-01-29T17:06:39.541582Z"
    }
   },
   "id": "6f419d6b9893bee2",
   "execution_count": 8
  },
  {
   "cell_type": "code",
   "outputs": [],
   "source": [
    "from qiskit_optimization import QuadraticProgram\n",
    "from qiskit_optimization.converters import LinearEqualityToPenalty, InequalityToEquality, \\\n",
    "    IntegerToBinary\n",
    "\n",
    "\n",
    "def quadratic_penalty(instance):\n",
    "    # Extract instance data\n",
    "    weights, C, B, items = instance\n",
    "\n",
    "    # Create a Quadratic Program\n",
    "    qp = QuadraticProgram()\n",
    "\n",
    "\n",
    "    for j in range(B):\n",
    "        qp.binary_var(name=f'B_{j}')\n",
    "\n",
    "    for i in range(items):\n",
    "        for j in range(B):\n",
    "            # Skip creating a variable for the first item in non-first bins\n",
    "            if i == 0 and j != 0:\n",
    "                continue\n",
    "            qp.binary_var(name=f'x_{i}_{j}')\n",
    "\n",
    "    # Objective function: Minimize the number of bins used\n",
    "    # This is done by minimizing the sum of B_j, where B_j = 1 if bin j is used\n",
    "    qp.minimize(linear=[1] * B)\n",
    "\n",
    "    eq_to_pen = LinearEqualityToPenalty(100)\n",
    "    # Constraint g(x): Each item i must be in exactly one bin\n",
    "    for i in range(items):\n",
    "        qp.linear_constraint(\n",
    "            linear={f'x_{i}_{j}': 1 for j in range(B) if not (i == 0 and j != 0)},\n",
    "            sense='==',\n",
    "            rhs=1,\n",
    "            name=f'item_in_one_bin_{i}')\n",
    "        qp = eq_to_pen.convert(qp)\n",
    "    neq_to_eq = InequalityToEquality(\"integer\")\n",
    "    eq_to_pen2 = LinearEqualityToPenalty(200)\n",
    "    int_to_bin = IntegerToBinary()\n",
    "    # Constraint h(x): Total weight in each bin j must not exceed its capacity C\n",
    "    for j in range(B):\n",
    "        # Create a dictionary for the linear terms\n",
    "        linear_terms = {f'x_{i}_{j}': weights[i] for i in range(items) if not (i == 0 and j != 0)}\n",
    "        # Add the term for B_j with a negative coefficient\n",
    "        linear_terms[f'B_{j}'] = -C\n",
    "        qp.linear_constraint(\n",
    "            linear=linear_terms,\n",
    "            sense='<=',\n",
    "            rhs=0,  # Set the RHS to 0\n",
    "            name=f'bin_capacity_{j}')\n",
    "        qp = neq_to_eq.convert(qp)\n",
    "        qp = int_to_bin.convert(qp)\n",
    "        qp = eq_to_pen2.convert(qp)\n",
    "    return qp"
   ],
   "metadata": {
    "id": "b14eed48e5f66c93",
    "ExecuteTime": {
     "end_time": "2024-01-29T17:06:43.420499Z",
     "start_time": "2024-01-29T17:06:41.623225Z"
    }
   },
   "id": "b14eed48e5f66c93",
   "execution_count": 9
  },
  {
   "cell_type": "markdown",
   "id": "1bcc6b56",
   "metadata": {
    "id": "1bcc6b56"
   },
   "source": [
    "# Encoding QUBO into ISING Hamiltonian #\n",
    "The next step is to encode the classical QUBO formulation into a quantum state. There exist techniques to encode classical data into quantum such as basis encoding, amplitude encoding, and angle encoding. In this paper, we apply basis encoding, for which any quantum basis can be chosen, but the common way for doing so is to choose basis $\\{-1,1\\}$ as follows:\n",
    "\\begin{align}\n",
    "\\label{eqn:to_ising}\n",
    "    \\begin{split}\n",
    "    x_i = \\frac{1-z_i}{2}\\\\\n",
    "    z_i*z_j = \\sigma_Z^i \\otimes \\sigma_Z^j \\\\\n",
    "    z_i = \\sigma_Z^i\n",
    "    \\end{split}\n",
    "\\end{align}\n",
    "where $\\sigma_Z^i$ denotes the Pauli-Z matrix\n",
    "$\\begin{pmatrix}\n",
    "  1 & 0\\\\\n",
    "  0 & -1\n",
    "\\end{pmatrix}$ on the $i$-th qubit.\n",
    "The eigenvalues of $\\text{I} - \\frac{Z}{2}$ are $\\{-1,1\\}$ with corresponding eigenstates $|0\\rangle$ and $|1\\rangle$. Thus, we switch from Z to $\\text{I} - \\frac{Z}{2}$, and rewrite the problem as BPP Ising hamiltonian,\n",
    "\\begin{equation} \\label{eqn:final_hamiltonian}\n",
    "    H_{bpp}= \\sum_{j=1}^{K} \\sigma_j + \\sum_{j=1}^{K}p_1(\\lambda, g_j) + \\sum_{i=1}^{N}p_2(\\beta,h_i)\n",
    "\\end{equation}\n",
    "where $g_j$ and $h_i$ are now functions of $\\sigma$."
   ]
  },
  {
   "cell_type": "markdown",
   "id": "667dcbe7",
   "metadata": {
    "id": "667dcbe7"
   },
   "source": [
    "## YOUR TASK: Encoding the QUBO as an Ising Hamiltonian ##\n"
   ]
  },
  {
   "cell_type": "markdown",
   "source": [
    "With the quadratic penalty encoding quskit automatically converts the QUBO into an Ising Hamiltonian when using the QAOA algorithm\n",
    "for demonstrations show how to convert the QUBO into an Ising Hamiltonian and back"
   ],
   "metadata": {
    "collapsed": false,
    "id": "921eab5cfaaba24d"
   },
   "id": "921eab5cfaaba24d"
  },
  {
   "cell_type": "code",
   "outputs": [],
   "source": [
    "import os\n",
    "\n",
    "\n",
    "def is_colab_env():\n",
    "    return 'COLAB_GPU' in os.environ"
   ],
   "metadata": {
    "id": "66959ea4dd48653f",
    "ExecuteTime": {
     "end_time": "2024-01-29T17:06:43.426919Z",
     "start_time": "2024-01-29T17:06:43.421830Z"
    }
   },
   "id": "66959ea4dd48653f",
   "execution_count": 10
  },
  {
   "cell_type": "code",
   "outputs": [],
   "source": [
    "if is_colab_env():\n",
    "    from google.colab import drive\n",
    "\n",
    "    drive.mount('/content/drive', force_remount=True)\n",
    "    %cd /content/drive/My Drive/Data Set/HCQ"
   ],
   "metadata": {
    "colab": {
     "base_uri": "https://localhost:8080/"
    },
    "id": "2c1d42a9808eb68e",
    "outputId": "38e5437b-733d-4cfc-f30c-8fe433b3de8b",
    "ExecuteTime": {
     "end_time": "2024-01-29T17:06:43.436541Z",
     "start_time": "2024-01-29T17:06:43.429175Z"
    }
   },
   "id": "2c1d42a9808eb68e",
   "execution_count": 11
  },
  {
   "cell_type": "code",
   "outputs": [],
   "source": [
    "from qiskit_optimization import QuadraticProgram\n",
    "from qiskit_optimization.converters import LinearEqualityToPenalty, InequalityToEquality, \\\n",
    "    IntegerToBinary\n",
    "\n",
    "\n",
    "def quadratic_penalty(instance):\n",
    "    # Extract instance data\n",
    "    weights, C, B, items = instance\n",
    "\n",
    "    # Create a Quadratic Program\n",
    "    qp = QuadraticProgram()\n",
    "\n",
    "\n",
    "    for j in range(B):\n",
    "        qp.binary_var(name=f'B_{j}')\n",
    "\n",
    "    for i in range(items):\n",
    "        for j in range(B):\n",
    "            qp.binary_var(name=f'x_{i}_{j}')\n",
    "\n",
    "    # Objective function: Minimize the number of bins used\n",
    "    # This is done by minimizing the sum of B_j, where B_j = 1 if bin j is used\n",
    "    qp.minimize(linear=[1] * B)\n",
    "\n",
    "    eq_to_pen = LinearEqualityToPenalty(100)\n",
    "    # Constraint g(x): Each item i must be in exactly one bin\n",
    "    for i in range(items):\n",
    "        qp.linear_constraint(\n",
    "            linear={f'x_{i}_{j}': 1 for j in range(B)},\n",
    "            sense='==',\n",
    "            rhs=1,\n",
    "            name=f'item_in_one_bin_{i}')\n",
    "        qp = eq_to_pen.convert(qp)\n",
    "    neq_to_eq = InequalityToEquality(\"integer\")\n",
    "    eq_to_pen2 = LinearEqualityToPenalty(200)\n",
    "    int_to_bin = IntegerToBinary()\n",
    "    # Constraint h(x): Total weight in each bin j must not exceed its capacity C\n",
    "    for j in range(B):\n",
    "        # Create a dictionary for the linear terms\n",
    "        linear_terms = {f'x_{i}_{j}': weights[i] for i in range(items)}\n",
    "        # Add the term for B_j with a negative coefficient\n",
    "        linear_terms[f'B_{j}'] = -C\n",
    "        qp.linear_constraint(\n",
    "            linear=linear_terms,\n",
    "            sense='<=',\n",
    "            rhs=0,  # Set the RHS to 0\n",
    "            name=f'bin_capacity_{j}')\n",
    "        qp = neq_to_eq.convert(qp)\n",
    "        qp = int_to_bin.convert(qp)\n",
    "        qp = eq_to_pen2.convert(qp)\n",
    "    return qp"
   ],
   "metadata": {
    "id": "de0734df5faedd09",
    "ExecuteTime": {
     "end_time": "2024-01-29T17:06:43.440013Z",
     "start_time": "2024-01-29T17:06:43.437294Z"
    }
   },
   "id": "de0734df5faedd09",
   "execution_count": 12
  },
  {
   "cell_type": "markdown",
   "id": "0e383180",
   "metadata": {
    "id": "0e383180"
   },
   "source": [
    "# Solving BPP instances #\n",
    "Solve each problem instances using different methods:\n",
    "## CPLEX optimizer ##\n",
    "Classic optimizer, to be used as baseline with all the others."
   ]
  },
  {
   "cell_type": "code",
   "outputs": [
    {
     "name": "stdout",
     "output_type": "stream",
     "text": [
      "Invoking ['/Users/paulpinter/Repository/hybrid-quantum-ass3/venv/bin/python', '-m', 'pip', 'install', '.'] in /Users/paulpinter/Applications/CPLEX_Studio_Community2211/cplex/python/3.9/arm64_osx\r\n",
      "Processing /Users/paulpinter/Applications/CPLEX_Studio_Community2211/cplex/python/3.9/arm64_osx\r\n",
      "  Preparing metadata (setup.py) ... \u001B[?25ldone\r\n",
      "\u001B[?25hBuilding wheels for collected packages: cplex\r\n",
      "  Building wheel for cplex (setup.py) ... \u001B[?25ldone\r\n",
      "\u001B[?25h  Created wheel for cplex: filename=cplex-22.1.1.0-py3-none-any.whl size=8153295 sha256=0dad44a993365b51b71be715ab656870ac009e052f1169404e0cff5ae0c2f0d7\r\n",
      "  Stored in directory: /private/var/folders/6l/zlnf9sw956d63h7tczx2cqv00000gn/T/pip-ephem-wheel-cache-4etr988c/wheels/1d/cd/cd/a559b6d9c297ea89fe811bf256b1066cc5e0e02508337d4277\r\n",
      "Successfully built cplex\r\n",
      "Installing collected packages: cplex\r\n",
      "  Attempting uninstall: cplex\r\n",
      "    Found existing installation: cplex 22.1.1.0\r\n",
      "    Uninstalling cplex-22.1.1.0:\r\n",
      "      Successfully uninstalled cplex-22.1.1.0\r\n",
      "Successfully installed cplex-22.1.1.0\r\n",
      "\r\n",
      "\u001B[1m[\u001B[0m\u001B[34;49mnotice\u001B[0m\u001B[1;39;49m]\u001B[0m\u001B[39;49m A new release of pip is available: \u001B[0m\u001B[31;49m23.2.1\u001B[0m\u001B[39;49m -> \u001B[0m\u001B[32;49m23.3.2\u001B[0m\r\n",
      "\u001B[1m[\u001B[0m\u001B[34;49mnotice\u001B[0m\u001B[1;39;49m]\u001B[0m\u001B[39;49m To update, run: \u001B[0m\u001B[32;49mpip install --upgrade pip\u001B[0m\r\n",
      "Invoking ['/Users/paulpinter/Repository/hybrid-quantum-ass3/venv/bin/python', '-m', 'pip', 'install', 'docplex']\r\n",
      "Requirement already satisfied: docplex in ./venv/lib/python3.9/site-packages (2.25.236)\r\n",
      "Requirement already satisfied: six in ./venv/lib/python3.9/site-packages (from docplex) (1.16.0)\r\n",
      "\r\n",
      "\u001B[1m[\u001B[0m\u001B[34;49mnotice\u001B[0m\u001B[1;39;49m]\u001B[0m\u001B[39;49m A new release of pip is available: \u001B[0m\u001B[31;49m23.2.1\u001B[0m\u001B[39;49m -> \u001B[0m\u001B[32;49m23.3.2\u001B[0m\r\n",
      "\u001B[1m[\u001B[0m\u001B[34;49mnotice\u001B[0m\u001B[1;39;49m]\u001B[0m\u001B[39;49m To update, run: \u001B[0m\u001B[32;49mpip install --upgrade pip\u001B[0m\r\n"
     ]
    }
   ],
   "source": [
    "if os.getenv(\"CUSTOM_MAC_ENV\"):\n",
    "    !python ~/Applications/CPLEX_Studio_Community2211/python/setup.py install\n",
    "else:\n",
    "    !pip install qiskit-optimization[cplex]"
   ],
   "metadata": {
    "colab": {
     "base_uri": "https://localhost:8080/"
    },
    "id": "475d42229e27295e",
    "outputId": "03ae10e0-0778-46f3-898f-0ed8bb484690",
    "ExecuteTime": {
     "end_time": "2024-01-29T17:06:49.051852Z",
     "start_time": "2024-01-29T17:06:43.442428Z"
    }
   },
   "id": "475d42229e27295e",
   "execution_count": 13
  },
  {
   "cell_type": "code",
   "outputs": [
    {
     "name": "stdout",
     "output_type": "stream",
     "text": [
      "Requirement already satisfied: pandas in ./venv/lib/python3.9/site-packages (2.2.0)\r\n",
      "Requirement already satisfied: numpy<2,>=1.22.4 in ./venv/lib/python3.9/site-packages (from pandas) (1.26.3)\r\n",
      "Requirement already satisfied: python-dateutil>=2.8.2 in ./venv/lib/python3.9/site-packages (from pandas) (2.8.2)\r\n",
      "Requirement already satisfied: pytz>=2020.1 in ./venv/lib/python3.9/site-packages (from pandas) (2023.3.post1)\r\n",
      "Requirement already satisfied: tzdata>=2022.7 in ./venv/lib/python3.9/site-packages (from pandas) (2023.4)\r\n",
      "Requirement already satisfied: six>=1.5 in ./venv/lib/python3.9/site-packages (from python-dateutil>=2.8.2->pandas) (1.16.0)\r\n",
      "\r\n",
      "\u001B[1m[\u001B[0m\u001B[34;49mnotice\u001B[0m\u001B[1;39;49m]\u001B[0m\u001B[39;49m A new release of pip is available: \u001B[0m\u001B[31;49m23.2.1\u001B[0m\u001B[39;49m -> \u001B[0m\u001B[32;49m23.3.2\u001B[0m\r\n",
      "\u001B[1m[\u001B[0m\u001B[34;49mnotice\u001B[0m\u001B[1;39;49m]\u001B[0m\u001B[39;49m To update, run: \u001B[0m\u001B[32;49mpip install --upgrade pip\u001B[0m\r\n"
     ]
    }
   ],
   "source": [
    "!pip install pandas"
   ],
   "metadata": {
    "colab": {
     "base_uri": "https://localhost:8080/"
    },
    "id": "b5c58e70f63b1c2c",
    "outputId": "ac99326a-f0db-4d39-d1fd-1598e9d26155",
    "ExecuteTime": {
     "end_time": "2024-01-29T17:06:51.167153Z",
     "start_time": "2024-01-29T17:06:49.056432Z"
    }
   },
   "id": "b5c58e70f63b1c2c",
   "execution_count": 14
  },
  {
   "cell_type": "code",
   "outputs": [],
   "source": [
    "def create_instance_df(instances):\n",
    "    instance_file = 'instance_data.csv'\n",
    "    instance_df = pd.DataFrame(columns=['id', 'weights', 'capacity', 'bins', 'items', 'number_var'])\n",
    "    for idx, ins in enumerate(instances):\n",
    "        bp = quadratic_penalty(ins)\n",
    "        instance_df.loc[idx] = [idx, ins[0], ins[1], ins[2], ins[3], bp.get_num_vars()]\n",
    "    instance_df.to_csv(instance_file, index=False)"
   ],
   "metadata": {
    "id": "197ebe8f11a2eaf8",
    "ExecuteTime": {
     "end_time": "2024-01-29T17:06:51.176787Z",
     "start_time": "2024-01-29T17:06:51.169692Z"
    }
   },
   "id": "197ebe8f11a2eaf8",
   "execution_count": 15
  },
  {
   "cell_type": "code",
   "outputs": [],
   "source": [
    "from qiskit_optimization.algorithms import CplexOptimizer\n",
    "from time import time\n",
    "\n",
    "\n",
    "def create_classical_df(instances):\n",
    "    classical_file = 'classical_data.csv'\n",
    "    classical_df = pd.DataFrame(columns=['id', 'instance_id', 'optimum', 'time'])\n",
    "    for idx, ins in enumerate(instances):\n",
    "        bp = quadratic_penalty(ins)\n",
    "        cplex_solver = CplexOptimizer()\n",
    "        start_time = time()\n",
    "        result = cplex_solver.solve(bp)\n",
    "        end_time = time()\n",
    "        execution_time = end_time - start_time\n",
    "        classical_df.loc[idx] = [idx, idx, result.fval, execution_time]\n",
    "    classical_df.to_csv(classical_file, index=False)"
   ],
   "metadata": {
    "id": "543ba05315547019",
    "ExecuteTime": {
     "end_time": "2024-01-29T17:06:51.669757Z",
     "start_time": "2024-01-29T17:06:51.177892Z"
    }
   },
   "id": "543ba05315547019",
   "execution_count": 16
  },
  {
   "cell_type": "markdown",
   "source": [
    "## QAOA solution ##"
   ],
   "metadata": {
    "id": "de1e20c0"
   },
   "id": "de1e20c0"
  },
  {
   "cell_type": "code",
   "outputs": [
    {
     "name": "stdout",
     "output_type": "stream",
     "text": [
      "Requirement already satisfied: qiskit-algorithms in ./venv/lib/python3.9/site-packages (0.2.2)\r\n",
      "Requirement already satisfied: qiskit>=0.44 in ./venv/lib/python3.9/site-packages (from qiskit-algorithms) (0.45.2)\r\n",
      "Requirement already satisfied: scipy>=1.4 in ./venv/lib/python3.9/site-packages (from qiskit-algorithms) (1.12.0)\r\n",
      "Requirement already satisfied: numpy>=1.17 in ./venv/lib/python3.9/site-packages (from qiskit-algorithms) (1.26.3)\r\n",
      "Requirement already satisfied: qiskit-terra==0.45.2 in ./venv/lib/python3.9/site-packages (from qiskit>=0.44->qiskit-algorithms) (0.45.2)\r\n",
      "Requirement already satisfied: rustworkx>=0.13.0 in ./venv/lib/python3.9/site-packages (from qiskit-terra==0.45.2->qiskit>=0.44->qiskit-algorithms) (0.14.0)\r\n",
      "Requirement already satisfied: ply>=3.10 in ./venv/lib/python3.9/site-packages (from qiskit-terra==0.45.2->qiskit>=0.44->qiskit-algorithms) (3.11)\r\n",
      "Requirement already satisfied: psutil>=5 in ./venv/lib/python3.9/site-packages (from qiskit-terra==0.45.2->qiskit>=0.44->qiskit-algorithms) (5.9.8)\r\n",
      "Requirement already satisfied: sympy>=1.3 in ./venv/lib/python3.9/site-packages (from qiskit-terra==0.45.2->qiskit>=0.44->qiskit-algorithms) (1.12)\r\n",
      "Requirement already satisfied: dill>=0.3 in ./venv/lib/python3.9/site-packages (from qiskit-terra==0.45.2->qiskit>=0.44->qiskit-algorithms) (0.3.7)\r\n",
      "Requirement already satisfied: python-dateutil>=2.8.0 in ./venv/lib/python3.9/site-packages (from qiskit-terra==0.45.2->qiskit>=0.44->qiskit-algorithms) (2.8.2)\r\n",
      "Requirement already satisfied: stevedore>=3.0.0 in ./venv/lib/python3.9/site-packages (from qiskit-terra==0.45.2->qiskit>=0.44->qiskit-algorithms) (5.1.0)\r\n",
      "Requirement already satisfied: symengine!=0.10.0,>=0.9 in ./venv/lib/python3.9/site-packages (from qiskit-terra==0.45.2->qiskit>=0.44->qiskit-algorithms) (0.11.0)\r\n",
      "Requirement already satisfied: typing-extensions in ./venv/lib/python3.9/site-packages (from qiskit-terra==0.45.2->qiskit>=0.44->qiskit-algorithms) (4.9.0)\r\n",
      "Requirement already satisfied: six>=1.5 in ./venv/lib/python3.9/site-packages (from python-dateutil>=2.8.0->qiskit-terra==0.45.2->qiskit>=0.44->qiskit-algorithms) (1.16.0)\r\n",
      "Requirement already satisfied: pbr!=2.1.0,>=2.0.0 in ./venv/lib/python3.9/site-packages (from stevedore>=3.0.0->qiskit-terra==0.45.2->qiskit>=0.44->qiskit-algorithms) (6.0.0)\r\n",
      "Requirement already satisfied: mpmath>=0.19 in ./venv/lib/python3.9/site-packages (from sympy>=1.3->qiskit-terra==0.45.2->qiskit>=0.44->qiskit-algorithms) (1.3.0)\r\n",
      "\r\n",
      "\u001B[1m[\u001B[0m\u001B[34;49mnotice\u001B[0m\u001B[1;39;49m]\u001B[0m\u001B[39;49m A new release of pip is available: \u001B[0m\u001B[31;49m23.2.1\u001B[0m\u001B[39;49m -> \u001B[0m\u001B[32;49m23.3.2\u001B[0m\r\n",
      "\u001B[1m[\u001B[0m\u001B[34;49mnotice\u001B[0m\u001B[1;39;49m]\u001B[0m\u001B[39;49m To update, run: \u001B[0m\u001B[32;49mpip install --upgrade pip\u001B[0m\r\n"
     ]
    }
   ],
   "source": [
    "!pip install qiskit-algorithms"
   ],
   "metadata": {
    "colab": {
     "base_uri": "https://localhost:8080/"
    },
    "id": "3c782c17131b6782",
    "outputId": "0d80d8b3-054c-49ee-a970-8c36d8e3cf88",
    "ExecuteTime": {
     "end_time": "2024-01-29T17:06:53.311293Z",
     "start_time": "2024-01-29T17:06:51.671713Z"
    }
   },
   "id": "3c782c17131b6782",
   "execution_count": 17
  },
  {
   "cell_type": "code",
   "outputs": [
    {
     "name": "stdout",
     "output_type": "stream",
     "text": [
      "Not running on Google Colab. Installing qiskit-aer...\n",
      "Requirement already satisfied: qiskit-aer in ./venv/lib/python3.9/site-packages (0.13.2)\r\n",
      "Requirement already satisfied: qiskit>=0.45.0 in ./venv/lib/python3.9/site-packages (from qiskit-aer) (0.45.2)\r\n",
      "Requirement already satisfied: numpy>=1.16.3 in ./venv/lib/python3.9/site-packages (from qiskit-aer) (1.26.3)\r\n",
      "Requirement already satisfied: scipy>=1.0 in ./venv/lib/python3.9/site-packages (from qiskit-aer) (1.12.0)\r\n",
      "Requirement already satisfied: psutil>=5 in ./venv/lib/python3.9/site-packages (from qiskit-aer) (5.9.8)\r\n",
      "Requirement already satisfied: qiskit-terra==0.45.2 in ./venv/lib/python3.9/site-packages (from qiskit>=0.45.0->qiskit-aer) (0.45.2)\r\n",
      "Requirement already satisfied: rustworkx>=0.13.0 in ./venv/lib/python3.9/site-packages (from qiskit-terra==0.45.2->qiskit>=0.45.0->qiskit-aer) (0.14.0)\r\n",
      "Requirement already satisfied: ply>=3.10 in ./venv/lib/python3.9/site-packages (from qiskit-terra==0.45.2->qiskit>=0.45.0->qiskit-aer) (3.11)\r\n",
      "Requirement already satisfied: sympy>=1.3 in ./venv/lib/python3.9/site-packages (from qiskit-terra==0.45.2->qiskit>=0.45.0->qiskit-aer) (1.12)\r\n",
      "Requirement already satisfied: dill>=0.3 in ./venv/lib/python3.9/site-packages (from qiskit-terra==0.45.2->qiskit>=0.45.0->qiskit-aer) (0.3.7)\r\n",
      "Requirement already satisfied: python-dateutil>=2.8.0 in ./venv/lib/python3.9/site-packages (from qiskit-terra==0.45.2->qiskit>=0.45.0->qiskit-aer) (2.8.2)\r\n",
      "Requirement already satisfied: stevedore>=3.0.0 in ./venv/lib/python3.9/site-packages (from qiskit-terra==0.45.2->qiskit>=0.45.0->qiskit-aer) (5.1.0)\r\n",
      "Requirement already satisfied: symengine!=0.10.0,>=0.9 in ./venv/lib/python3.9/site-packages (from qiskit-terra==0.45.2->qiskit>=0.45.0->qiskit-aer) (0.11.0)\r\n",
      "Requirement already satisfied: typing-extensions in ./venv/lib/python3.9/site-packages (from qiskit-terra==0.45.2->qiskit>=0.45.0->qiskit-aer) (4.9.0)\r\n",
      "Requirement already satisfied: six>=1.5 in ./venv/lib/python3.9/site-packages (from python-dateutil>=2.8.0->qiskit-terra==0.45.2->qiskit>=0.45.0->qiskit-aer) (1.16.0)\r\n",
      "Requirement already satisfied: pbr!=2.1.0,>=2.0.0 in ./venv/lib/python3.9/site-packages (from stevedore>=3.0.0->qiskit-terra==0.45.2->qiskit>=0.45.0->qiskit-aer) (6.0.0)\r\n",
      "Requirement already satisfied: mpmath>=0.19 in ./venv/lib/python3.9/site-packages (from sympy>=1.3->qiskit-terra==0.45.2->qiskit>=0.45.0->qiskit-aer) (1.3.0)\r\n",
      "\r\n",
      "\u001B[1m[\u001B[0m\u001B[34;49mnotice\u001B[0m\u001B[1;39;49m]\u001B[0m\u001B[39;49m A new release of pip is available: \u001B[0m\u001B[31;49m23.2.1\u001B[0m\u001B[39;49m -> \u001B[0m\u001B[32;49m23.3.2\u001B[0m\r\n",
      "\u001B[1m[\u001B[0m\u001B[34;49mnotice\u001B[0m\u001B[1;39;49m]\u001B[0m\u001B[39;49m To update, run: \u001B[0m\u001B[32;49mpip install --upgrade pip\u001B[0m\r\n",
      "Note: you may need to restart the kernel to use updated packages.\n"
     ]
    }
   ],
   "source": [
    "if is_colab_env():\n",
    "    print(\"Running on Google Colab. Installing qiskit-aer-gpu...\")\n",
    "    %pip install qiskit-aer-gpu\n",
    "else:\n",
    "    print(\"Not running on Google Colab. Installing qiskit-aer...\")\n",
    "    %pip install qiskit-aer"
   ],
   "metadata": {
    "colab": {
     "base_uri": "https://localhost:8080/"
    },
    "id": "963fd9aab43fb936",
    "outputId": "36a55afa-8100-4ea5-c511-041c361cebae",
    "ExecuteTime": {
     "end_time": "2024-01-29T17:06:54.397245Z",
     "start_time": "2024-01-29T17:06:53.313984Z"
    }
   },
   "id": "963fd9aab43fb936",
   "execution_count": 18
  },
  {
   "cell_type": "code",
   "outputs": [],
   "source": [
    "from qiskit import Aer\n",
    "from qiskit.primitives import BackendSampler\n",
    "\n",
    "\n",
    "def aer_sampler(shots):\n",
    "    backend = Aer.get_backend('aer_simulator')\n",
    "    if is_colab_env():\n",
    "        backend.set_options(device='GPU', shots=shots)\n",
    "    else:\n",
    "        backend.set_options(shots=shots)\n",
    "    return BackendSampler(backend=backend)"
   ],
   "metadata": {
    "id": "e5686da8dbacf0f4",
    "ExecuteTime": {
     "end_time": "2024-01-29T17:06:54.398150Z",
     "start_time": "2024-01-29T17:06:54.395112Z"
    }
   },
   "id": "e5686da8dbacf0f4",
   "execution_count": 19
  },
  {
   "cell_type": "code",
   "outputs": [],
   "source": [
    "from qiskit_aer.noise import NoiseModel, phase_damping_error\n",
    "\n",
    "\n",
    "def noisy_sampler(shots):\n",
    "    noise_model = NoiseModel()\n",
    "    # Phase damping error\n",
    "    p_phase_damping = 0.05\n",
    "    phase_damping = phase_damping_error(p_phase_damping)\n",
    "    noise_model.add_all_qubit_quantum_error(phase_damping, 'z')\n",
    "    backend = Aer.get_backend('aer_simulator')\n",
    "    if is_colab_env():\n",
    "        backend.set_options(device='GPU', shots=shots, noise_model=noise_model)\n",
    "    else:\n",
    "        backend.set_options(shots=shots, noise_model=noise_model)\n",
    "    return BackendSampler(backend=backend)"
   ],
   "metadata": {
    "id": "5afaf107485b410",
    "ExecuteTime": {
     "end_time": "2024-01-29T17:06:54.444290Z",
     "start_time": "2024-01-29T17:06:54.400149Z"
    }
   },
   "id": "5afaf107485b410",
   "execution_count": 20
  },
  {
   "cell_type": "code",
   "outputs": [],
   "source": [
    "from qiskit_aqt_provider import AQTProvider\n",
    "from qiskit_aqt_provider.primitives import AQTSampler\n",
    "\n",
    "\n",
    "def aqt_sampler(shots):\n",
    "    aqt = AQTProvider(\"ACCESS_TOKEN\")\n",
    "    backend = aqt.get_backend('offline_simulator_no_noise')\n",
    "    backend.set_options(shots=shots)\n",
    "    return AQTSampler(backend=backend)"
   ],
   "metadata": {
    "id": "8ffb44db1d331fd4",
    "ExecuteTime": {
     "end_time": "2024-01-29T17:06:54.620362Z",
     "start_time": "2024-01-29T17:06:54.445278Z"
    }
   },
   "id": "8ffb44db1d331fd4",
   "execution_count": 21
  },
  {
   "cell_type": "code",
   "outputs": [],
   "source": [
    "from qiskit_algorithms.utils import algorithm_globals\n",
    "\n",
    "algorithm_globals.random_seed = 10598"
   ],
   "metadata": {
    "id": "164c2cae9598f8d8",
    "ExecuteTime": {
     "end_time": "2024-01-29T17:06:54.623151Z",
     "start_time": "2024-01-29T17:06:54.621201Z"
    }
   },
   "id": "164c2cae9598f8d8",
   "execution_count": 22
  },
  {
   "cell_type": "code",
   "outputs": [],
   "source": [
    "from qiskit_optimization.algorithms import MinimumEigenOptimizer\n",
    "from qiskit_algorithms.minimum_eigensolvers import QAOA\n",
    "\n",
    "\n",
    "def solve_qaoa(sampler, reps, optimizer):\n",
    "    qaoa_mes = QAOA(sampler=sampler, optimizer=optimizer, reps=reps)\n",
    "    solver = MinimumEigenOptimizer(qaoa_mes)\n",
    "    return solver"
   ],
   "metadata": {
    "id": "0c420424",
    "ExecuteTime": {
     "end_time": "2024-01-29T17:06:54.631585Z",
     "start_time": "2024-01-29T17:06:54.623767Z"
    }
   },
   "id": "0c420424",
   "execution_count": 23
  },
  {
   "cell_type": "markdown",
   "source": [
    "## Warm start QAOA ##"
   ],
   "metadata": {
    "id": "ed853d11"
   },
   "id": "ed853d11"
  },
  {
   "cell_type": "code",
   "outputs": [],
   "source": [
    "from qiskit_optimization.algorithms import WarmStartQAOAOptimizer\n",
    "\n",
    "\n",
    "def solve_qaoa_warm_start(sampler, optimizer, reps):\n",
    "    qaoa_mes = QAOA(sampler=sampler, reps=reps, optimizer=optimizer)\n",
    "    solver = WarmStartQAOAOptimizer(pre_solver=CplexOptimizer(),\n",
    "                                    relax_for_pre_solver=True,\n",
    "                                    qaoa=qaoa_mes)\n",
    "    return solver"
   ],
   "metadata": {
    "id": "92515181",
    "ExecuteTime": {
     "end_time": "2024-01-29T17:06:54.632784Z",
     "start_time": "2024-01-29T17:06:54.628814Z"
    }
   },
   "id": "92515181",
   "execution_count": 24
  },
  {
   "cell_type": "markdown",
   "source": [
    "# Evaluation #"
   ],
   "metadata": {
    "id": "72de9740"
   },
   "id": "72de9740"
  },
  {
   "cell_type": "markdown",
   "source": [
    "Evaluate quantum solutions in comparison with classic solution using the following metrics:\n",
    "* Running time;\n",
    "* Mean square error between quantum optimum and classic optimum;\n",
    "* Number of times each algorithm reaches the optimum;\n",
    "\n",
    "Evaluation should be performed on the following backends:\n",
    "* Noiseless simulator (Aer)\n",
    "* Noisy simulator (choose a noise model)\n",
    "* BONUS: test on AQT simulator (check https://github.com/qiskit-community/qiskit-aqt-provider)\n",
    "\n",
    "QAOA should be evaluated using different configurations:\n",
    "* QAOAAnsatz with $p=[1,5]$\n",
    "* Optimizers: COBYLA, NelderMead, SLSQP\n",
    "* Shots: {200, 400, 600, 800, 1000} (Please note that AQT backend is limited to 200 shots)\n",
    "* Optimizers' iteration: {250, 500, 750, 1000}"
   ],
   "metadata": {
    "id": "3e3d3de7"
   },
   "id": "3e3d3de7"
  },
  {
   "cell_type": "code",
   "outputs": [],
   "source": [
    "def extract_backend_str(s):\n",
    "    if 'aqt' in s:\n",
    "        return 'aqt'\n",
    "    elif 'noise' in s:\n",
    "        return 'noise'\n",
    "    elif 'aer' in s:\n",
    "        return 'aer'\n",
    "    else:\n",
    "        return 'unknown'"
   ],
   "metadata": {
    "id": "c0b7b40e4c53166",
    "ExecuteTime": {
     "end_time": "2024-01-29T17:06:54.636643Z",
     "start_time": "2024-01-29T17:06:54.632322Z"
    }
   },
   "id": "c0b7b40e4c53166",
   "execution_count": 25
  },
  {
   "cell_type": "code",
   "execution_count": 26,
   "id": "ed42806c",
   "metadata": {
    "id": "ed42806c",
    "ExecuteTime": {
     "end_time": "2024-01-29T17:06:54.664927Z",
     "start_time": "2024-01-29T17:06:54.640728Z"
    }
   },
   "outputs": [],
   "source": [
    "from qiskit_algorithms.optimizers import NELDER_MEAD, SLSQP, COBYLA\n",
    "import pandas as pd\n",
    "import os\n",
    "\n",
    "\n",
    "def create_quantum_df(instances, skip=0, quantum_file='quantum_data.csv'):\n",
    "    batch_size = 10\n",
    "    quantum_df = pd.DataFrame(\n",
    "        columns=['id', 'instance_id', 'sampler', 'p', 'max_iter', 'shots', 'optimizer', 'warm_start', 'optimum',\n",
    "                 'time'])\n",
    "\n",
    "    count = 0\n",
    "    if skip == 0:\n",
    "        quantum_df.to_csv(quantum_file, index=False)\n",
    "    for idx, ins in enumerate(instances):\n",
    "        print(f\"instance: {idx}\")\n",
    "        bp = quadratic_penalty(ins)\n",
    "        for p in range(1, 6):\n",
    "            for ite in [250, 500, 750, 1000]:\n",
    "                for sh in [200, 400, 600, 800, 1000]:\n",
    "                    for o in [COBYLA(maxiter=ite), NELDER_MEAD(maxiter=ite), SLSQP(maxiter=ite)]:\n",
    "                        for sa in [aer_sampler(sh), noisy_sampler(sh)] + ([aqt_sampler(sh)] if sh <= 200 else []):\n",
    "                            for so in [solve_qaoa(sampler=sa, reps=p, optimizer=o), solve_qaoa_warm_start(sampler=sa, reps=p, optimizer=o)]:\n",
    "                                if count < skip:\n",
    "                                    print(f\"skipped: {count}\")\n",
    "                                    count += 1\n",
    "                                    continue\n",
    "                                optimizer_name = o.__class__.__name__\n",
    "                                backend_name = extract_backend_str(str(sa.backend))\n",
    "                                warm_start = so.__class__.__name__ == 'WarmStartQAOAOptimizer'\n",
    "                                start_time = time()\n",
    "                                res = so.solve(bp)\n",
    "                                end_time = time()\n",
    "                                t = end_time - start_time\n",
    "                                row = [count, idx, backend_name, p, ite, sh, optimizer_name, warm_start, res.fval, t]\n",
    "                                print(f\"solved: {row}\")\n",
    "                                quantum_df.loc[count] = row\n",
    "                                count += 1\n",
    "                                if count % batch_size == 0:\n",
    "                                    quantum_df.to_csv(quantum_file, mode='a', header=False, index=False)\n",
    "                                    quantum_df = pd.DataFrame(\n",
    "                                        columns=['id', 'instance_id', 'sampler', 'p', 'max_iter', 'shots', 'optimizer',\n",
    "                                                 'warm_start', 'optimum', 'time'])\n",
    "    quantum_df.to_csv(quantum_file, mode='a', header=False, index=False)"
   ]
  },
  {
   "cell_type": "code",
   "outputs": [],
   "source": [
    "def create_evaluation_df(quantum_df, classical_df):\n",
    "    for instance_id in quantum_df['instance_id'].unique():\n",
    "        # Finding corresponding classical time for the instance ID\n",
    "        if instance_id in classical_df['instance_id'].values:\n",
    "            classical_time = classical_df[classical_df['instance_id'] == instance_id]['time'].iloc[0]\n",
    "            classical_optimum = classical_df[classical_df['instance_id'] == instance_id]['optimum'].iloc[0]\n",
    "            # Updating time difference for each row in quantum dataframe with this instance ID\n",
    "            quantum_df.loc[quantum_df['instance_id'] == instance_id, 'time_difference'] = \\\n",
    "                quantum_df[quantum_df['instance_id'] == instance_id]['time'] - classical_time\n",
    "            quantum_df['error'] = (quantum_df['optimum'] - classical_optimum) ** 2\n",
    "    quantum_df.to_csv('evaluation_data.csv', index=False)"
   ],
   "metadata": {
    "id": "29bb77871f568927",
    "ExecuteTime": {
     "end_time": "2024-01-29T17:06:54.667306Z",
     "start_time": "2024-01-29T17:06:54.645259Z"
    }
   },
   "id": "29bb77871f568927",
   "execution_count": 27
  },
  {
   "cell_type": "code",
   "outputs": [],
   "source": [
    "def calc_optimum_percentage(evaluation_df):\n",
    "    mse_zero_count = len(e_df[e_df['error'] == 0])\n",
    "    # Total number of rows\n",
    "    total_rows = len(evaluation_df)\n",
    "    # Calculate the percentage\n",
    "    percentage = (mse_zero_count / total_rows) * 100\n",
    "    print(\n",
    "        f\"{mse_zero_count} from {total_rows} of quantum solutions have reached the optimum, which is {percentage}% of all solutions\")\n",
    "    print(f\"Mean square error: {evaluation_df['error'].mean()}\")\n",
    "    print(f\"Mean time difference: {evaluation_df['time_difference'].mean()}\")"
   ],
   "metadata": {
    "id": "1cc66fd2c0433b08",
    "ExecuteTime": {
     "end_time": "2024-01-29T17:06:54.668439Z",
     "start_time": "2024-01-29T17:06:54.649413Z"
    }
   },
   "id": "1cc66fd2c0433b08",
   "execution_count": 28
  },
  {
   "cell_type": "code",
   "outputs": [],
   "source": [
    "import os\n",
    "\n",
    "def calculate_skip():\n",
    "    if os.path.exists('quantum_data.csv'):\n",
    "        quantum_df = pd.read_csv('quantum_data.csv')\n",
    "        print(f\"Skipping {len(quantum_df)} rows\")\n",
    "        return len(quantum_df)\n",
    "    else:\n",
    "        return 0"
   ],
   "metadata": {
    "id": "d84eaae5377838a6",
    "ExecuteTime": {
     "end_time": "2024-01-29T17:06:54.676917Z",
     "start_time": "2024-01-29T17:06:54.654340Z"
    }
   },
   "id": "d84eaae5377838a6",
   "execution_count": 29
  },
  {
   "cell_type": "code",
   "outputs": [
    {
     "name": "stdout",
     "output_type": "stream",
     "text": [
      "instance: 0\n",
      "solved: [0, 0, 'aer', 1, 250, 200, 'COBYLA', False, 1.0, 0.5697548389434814]\n",
      "solved: [1, 0, 'aer', 1, 250, 200, 'COBYLA', True, 1.0, 0.31230902671813965]\n",
      "solved: [2, 0, 'noise', 1, 250, 200, 'COBYLA', False, 101.0, 0.3936028480529785]\n",
      "solved: [3, 0, 'noise', 1, 250, 200, 'COBYLA', True, 101.0, 0.46024513244628906]\n",
      "solved: [4, 0, 'aqt', 1, 250, 200, 'COBYLA', False, 201.0, 1.437028169631958]\n",
      "solved: [5, 0, 'aqt', 1, 250, 200, 'COBYLA', True, 1.0, 1.3866839408874512]\n",
      "solved: [6, 0, 'aer', 1, 250, 200, 'NELDER_MEAD', False, 1.0, 2.9087300300598145]\n",
      "solved: [7, 0, 'aer', 1, 250, 200, 'NELDER_MEAD', True, 1.0, 2.9391517639160156]\n",
      "solved: [8, 0, 'noise', 1, 250, 200, 'NELDER_MEAD', False, 201.0, 3.8545868396759033]\n",
      "solved: [9, 0, 'noise', 1, 250, 200, 'NELDER_MEAD', True, 101.0, 4.643474817276001]\n",
      "solved: [10, 0, 'aqt', 1, 250, 200, 'NELDER_MEAD', False, 201.0, 19.84140706062317]\n",
      "solved: [11, 0, 'aqt', 1, 250, 200, 'NELDER_MEAD', True, 1.0, 16.99836492538452]\n",
      "solved: [12, 0, 'aer', 1, 250, 200, 'SLSQP', False, 101.0, 0.4483919143676758]\n",
      "solved: [13, 0, 'aer', 1, 250, 200, 'SLSQP', True, 1.0, 0.8264079093933105]\n",
      "solved: [14, 0, 'noise', 1, 250, 200, 'SLSQP', False, 1.0, 0.641455888748169]\n",
      "solved: [15, 0, 'noise', 1, 250, 200, 'SLSQP', True, 1.0, 0.7028579711914062]\n",
      "solved: [16, 0, 'aqt', 1, 250, 200, 'SLSQP', False, 1.0, 1.4243130683898926]\n",
      "solved: [17, 0, 'aqt', 1, 250, 200, 'SLSQP', True, 1.0, 4.581244230270386]\n",
      "solved: [18, 0, 'aer', 1, 250, 400, 'COBYLA', False, 1.0, 0.4073178768157959]\n",
      "solved: [19, 0, 'aer', 1, 250, 400, 'COBYLA', True, 1.0, 0.35300302505493164]\n",
      "solved: [20, 0, 'noise', 1, 250, 400, 'COBYLA', False, 101.0, 0.41309022903442383]\n",
      "solved: [21, 0, 'noise', 1, 250, 400, 'COBYLA', True, 1.0, 0.38219690322875977]\n",
      "solved: [22, 0, 'aer', 1, 250, 400, 'NELDER_MEAD', False, 101.0, 4.116317987442017]\n",
      "solved: [23, 0, 'aer', 1, 250, 400, 'NELDER_MEAD', True, 1.0, 3.4136509895324707]\n",
      "solved: [24, 0, 'noise', 1, 250, 400, 'NELDER_MEAD', False, 1.0, 5.016289949417114]\n",
      "solved: [25, 0, 'noise', 1, 250, 400, 'NELDER_MEAD', True, 1.0, 4.581845998764038]\n",
      "solved: [26, 0, 'aer', 1, 250, 400, 'SLSQP', False, 101.0, 0.5904719829559326]\n",
      "solved: [27, 0, 'aer', 1, 250, 400, 'SLSQP', True, 1.0, 0.5314950942993164]\n",
      "solved: [28, 0, 'noise', 1, 250, 400, 'SLSQP', False, 101.0, 0.5848047733306885]\n",
      "solved: [29, 0, 'noise', 1, 250, 400, 'SLSQP', True, 1.0, 0.7469840049743652]\n",
      "solved: [30, 0, 'aer', 1, 250, 600, 'COBYLA', False, 1.0, 0.5210223197937012]\n",
      "solved: [31, 0, 'aer', 1, 250, 600, 'COBYLA', True, 1.0, 0.36206912994384766]\n",
      "solved: [32, 0, 'noise', 1, 250, 600, 'COBYLA', False, 1.0, 0.5815470218658447]\n",
      "solved: [33, 0, 'noise', 1, 250, 600, 'COBYLA', True, 1.0, 0.4843451976776123]\n",
      "solved: [34, 0, 'aer', 1, 250, 600, 'NELDER_MEAD', False, 101.0, 5.182978868484497]\n",
      "solved: [35, 0, 'aer', 1, 250, 600, 'NELDER_MEAD', True, 1.0, 4.308089971542358]\n",
      "solved: [36, 0, 'noise', 1, 250, 600, 'NELDER_MEAD', False, 1.0, 6.20932412147522]\n",
      "solved: [37, 0, 'noise', 1, 250, 600, 'NELDER_MEAD', True, 1.0, 5.310297966003418]\n",
      "solved: [38, 0, 'aer', 1, 250, 600, 'SLSQP', False, 1.0, 0.8464360237121582]\n",
      "solved: [39, 0, 'aer', 1, 250, 600, 'SLSQP', True, 1.0, 0.9475629329681396]\n",
      "solved: [40, 0, 'noise', 1, 250, 600, 'SLSQP', False, 101.0, 0.6283338069915771]\n",
      "solved: [41, 0, 'noise', 1, 250, 600, 'SLSQP', True, 1.0, 0.7401149272918701]\n",
      "solved: [42, 0, 'aer', 1, 250, 800, 'COBYLA', False, 101.0, 0.6984760761260986]\n",
      "solved: [43, 0, 'aer', 1, 250, 800, 'COBYLA', True, 1.0, 0.45536088943481445]\n",
      "solved: [44, 0, 'noise', 1, 250, 800, 'COBYLA', False, 101.0, 0.6665711402893066]\n",
      "solved: [45, 0, 'noise', 1, 250, 800, 'COBYLA', True, 1.0, 0.48427605628967285]\n",
      "solved: [46, 0, 'aer', 1, 250, 800, 'NELDER_MEAD', False, 101.0, 5.398620128631592]\n",
      "solved: [47, 0, 'aer', 1, 250, 800, 'NELDER_MEAD', True, 101.0, 4.282506942749023]\n",
      "solved: [48, 0, 'noise', 1, 250, 800, 'NELDER_MEAD', False, 1.0, 6.101531744003296]\n",
      "solved: [49, 0, 'noise', 1, 250, 800, 'NELDER_MEAD', True, 1.0, 5.747605085372925]\n",
      "solved: [50, 0, 'aer', 1, 250, 800, 'SLSQP', False, 1.0, 0.866544246673584]\n",
      "solved: [51, 0, 'aer', 1, 250, 800, 'SLSQP', True, 1.0, 0.8345956802368164]\n",
      "solved: [52, 0, 'noise', 1, 250, 800, 'SLSQP', False, 101.0, 0.9072740077972412]\n",
      "solved: [53, 0, 'noise', 1, 250, 800, 'SLSQP', True, 1.0, 0.8834688663482666]\n",
      "solved: [54, 0, 'aer', 1, 250, 1000, 'COBYLA', False, 1.0, 0.6098220348358154]\n",
      "solved: [55, 0, 'aer', 1, 250, 1000, 'COBYLA', True, 1.0, 0.49063611030578613]\n",
      "solved: [56, 0, 'noise', 1, 250, 1000, 'COBYLA', False, 1.0, 0.6448497772216797]\n",
      "solved: [57, 0, 'noise', 1, 250, 1000, 'COBYLA', True, 1.0, 0.5815260410308838]\n",
      "solved: [58, 0, 'aer', 1, 250, 1000, 'NELDER_MEAD', False, 1.0, 6.038931846618652]\n",
      "solved: [59, 0, 'aer', 1, 250, 1000, 'NELDER_MEAD', True, 1.0, 5.765612840652466]\n",
      "solved: [60, 0, 'noise', 1, 250, 1000, 'NELDER_MEAD', False, 101.0, 7.820146083831787]\n",
      "solved: [61, 0, 'noise', 1, 250, 1000, 'NELDER_MEAD', True, 1.0, 7.354857921600342]\n",
      "solved: [62, 0, 'aer', 1, 250, 1000, 'SLSQP', False, 1.0, 1.927922010421753]\n",
      "solved: [63, 0, 'aer', 1, 250, 1000, 'SLSQP', True, 1.0, 1.0921599864959717]\n",
      "solved: [64, 0, 'noise', 1, 250, 1000, 'SLSQP', False, 1.0, 1.240936040878296]\n",
      "solved: [65, 0, 'noise', 1, 250, 1000, 'SLSQP', True, 1.0, 1.312757968902588]\n",
      "solved: [66, 0, 'aer', 1, 500, 200, 'COBYLA', False, 101.0, 0.26094818115234375]\n",
      "solved: [67, 0, 'aer', 1, 500, 200, 'COBYLA', True, 1.0, 0.27437686920166016]\n",
      "solved: [68, 0, 'noise', 1, 500, 200, 'COBYLA', False, 401.0, 0.31978392601013184]\n",
      "solved: [69, 0, 'noise', 1, 500, 200, 'COBYLA', True, 1.0, 0.4235200881958008]\n",
      "solved: [70, 0, 'aqt', 1, 500, 200, 'COBYLA', False, 101.0, 0.9810469150543213]\n",
      "solved: [71, 0, 'aqt', 1, 500, 200, 'COBYLA', True, 1.0, 1.1117539405822754]\n",
      "solved: [72, 0, 'aer', 1, 500, 200, 'NELDER_MEAD', False, 1.0, 4.293592691421509]\n",
      "solved: [73, 0, 'aer', 1, 500, 200, 'NELDER_MEAD', True, 301.0, 3.719062566757202]\n",
      "solved: [74, 0, 'noise', 1, 500, 200, 'NELDER_MEAD', False, 201.0, 6.1186909675598145]\n",
      "solved: [75, 0, 'noise', 1, 500, 200, 'NELDER_MEAD', True, 201.0, 6.749523878097534]\n",
      "solved: [76, 0, 'aqt', 1, 500, 200, 'NELDER_MEAD', False, 101.0, 38.84524321556091]\n",
      "solved: [77, 0, 'aqt', 1, 500, 200, 'NELDER_MEAD', True, 101.0, 52.2821261882782]\n",
      "solved: [78, 0, 'aer', 1, 500, 200, 'SLSQP', False, 101.0, 0.699533224105835]\n",
      "solved: [79, 0, 'aer', 1, 500, 200, 'SLSQP', True, 1.0, 0.8241047859191895]\n",
      "solved: [80, 0, 'noise', 1, 500, 200, 'SLSQP', False, 101.0, 1.1251220703125]\n",
      "solved: [81, 0, 'noise', 1, 500, 200, 'SLSQP', True, 1.0, 1.4122827053070068]\n",
      "solved: [82, 0, 'aqt', 1, 500, 200, 'SLSQP', False, 301.0, 1.797149896621704]\n",
      "solved: [83, 0, 'aqt', 1, 500, 200, 'SLSQP', True, 1.0, 3.2438161373138428]\n",
      "solved: [84, 0, 'aer', 1, 500, 400, 'COBYLA', False, 101.0, 0.736379861831665]\n",
      "solved: [85, 0, 'aer', 1, 500, 400, 'COBYLA', True, 1.0, 0.6337630748748779]\n",
      "solved: [86, 0, 'noise', 1, 500, 400, 'COBYLA', False, 101.0, 0.7502508163452148]\n",
      "solved: [87, 0, 'noise', 1, 500, 400, 'COBYLA', True, 1.0, 0.7021667957305908]\n",
      "solved: [88, 0, 'aer', 1, 500, 400, 'NELDER_MEAD', False, 101.0, 9.815001010894775]\n",
      "solved: [89, 0, 'aer', 1, 500, 400, 'NELDER_MEAD', True, 1.0, 11.817070960998535]\n",
      "solved: [90, 0, 'noise', 1, 500, 400, 'NELDER_MEAD', False, 1.0, 23.783687353134155]\n",
      "solved: [91, 0, 'noise', 1, 500, 400, 'NELDER_MEAD', True, 1.0, 28.662445783615112]\n",
      "solved: [92, 0, 'aer', 1, 500, 400, 'SLSQP', False, 101.0, 3.066962957382202]\n",
      "solved: [93, 0, 'aer', 1, 500, 400, 'SLSQP', True, 1.0, 2.187648057937622]\n",
      "solved: [94, 0, 'noise', 1, 500, 400, 'SLSQP', False, 1.0, 1.7174079418182373]\n",
      "solved: [95, 0, 'noise', 1, 500, 400, 'SLSQP', True, 301.0, 1.782757043838501]\n",
      "solved: [96, 0, 'aer', 1, 500, 600, 'COBYLA', False, 1.0, 0.9032728672027588]\n",
      "solved: [97, 0, 'aer', 1, 500, 600, 'COBYLA', True, 1.0, 0.8083498477935791]\n",
      "solved: [98, 0, 'noise', 1, 500, 600, 'COBYLA', False, 101.0, 1.065675973892212]\n",
      "solved: [99, 0, 'noise', 1, 500, 600, 'COBYLA', True, 101.0, 1.1920950412750244]\n",
      "solved: [100, 0, 'aer', 1, 500, 600, 'NELDER_MEAD', False, 1.0, 13.164002895355225]\n",
      "solved: [101, 0, 'aer', 1, 500, 600, 'NELDER_MEAD', True, 101.0, 15.446958780288696]\n",
      "solved: [102, 0, 'noise', 1, 500, 600, 'NELDER_MEAD', False, 1.0, 16.64183211326599]\n",
      "solved: [103, 0, 'noise', 1, 500, 600, 'NELDER_MEAD', True, 1.0, 16.824111223220825]\n",
      "solved: [104, 0, 'aer', 1, 500, 600, 'SLSQP', False, 101.0, 1.6030628681182861]\n",
      "solved: [105, 0, 'aer', 1, 500, 600, 'SLSQP', True, 101.0, 1.7641170024871826]\n",
      "solved: [106, 0, 'noise', 1, 500, 600, 'SLSQP', False, 101.0, 2.4201269149780273]\n",
      "solved: [107, 0, 'noise', 1, 500, 600, 'SLSQP', True, 1.0, 1.8233647346496582]\n",
      "solved: [108, 0, 'aer', 1, 500, 800, 'COBYLA', False, 1.0, 1.2381870746612549]\n",
      "solved: [109, 0, 'aer', 1, 500, 800, 'COBYLA', True, 1.0, 1.0623931884765625]\n",
      "solved: [110, 0, 'noise', 1, 500, 800, 'COBYLA', False, 1.0, 1.3767259120941162]\n",
      "solved: [111, 0, 'noise', 1, 500, 800, 'COBYLA', True, 1.0, 0.9700360298156738]\n",
      "solved: [112, 0, 'aer', 1, 500, 800, 'NELDER_MEAD', False, 1.0, 18.495779752731323]\n",
      "solved: [113, 0, 'aer', 1, 500, 800, 'NELDER_MEAD', True, 1.0, 14.198507070541382]\n",
      "solved: [114, 0, 'noise', 1, 500, 800, 'NELDER_MEAD', False, 1.0, 18.804390907287598]\n",
      "solved: [115, 0, 'noise', 1, 500, 800, 'NELDER_MEAD', True, 1.0, 10.902652978897095]\n",
      "solved: [116, 0, 'aer', 1, 500, 800, 'SLSQP', False, 201.0, 0.57169508934021]\n",
      "solved: [117, 0, 'aer', 1, 500, 800, 'SLSQP', True, 101.0, 1.7268738746643066]\n",
      "solved: [118, 0, 'noise', 1, 500, 800, 'SLSQP', False, 101.0, 1.1704649925231934]\n",
      "solved: [119, 0, 'noise', 1, 500, 800, 'SLSQP', True, 101.0, 1.1110310554504395]\n",
      "solved: [120, 0, 'aer', 1, 500, 1000, 'COBYLA', False, 1.0, 0.7616510391235352]\n",
      "solved: [121, 0, 'aer', 1, 500, 1000, 'COBYLA', True, 1.0, 0.6776471138000488]\n",
      "solved: [122, 0, 'noise', 1, 500, 1000, 'COBYLA', False, 101.0, 0.8799891471862793]\n",
      "solved: [123, 0, 'noise', 1, 500, 1000, 'COBYLA', True, 1.0, 0.7573268413543701]\n",
      "solved: [124, 0, 'aer', 1, 500, 1000, 'NELDER_MEAD', False, 1.0, 16.657353162765503]\n",
      "solved: [125, 0, 'aer', 1, 500, 1000, 'NELDER_MEAD', True, 101.0, 11.429593086242676]\n",
      "solved: [126, 0, 'noise', 1, 500, 1000, 'NELDER_MEAD', False, 101.0, 14.017824172973633]\n",
      "solved: [127, 0, 'noise', 1, 500, 1000, 'NELDER_MEAD', True, 1.0, 9.814718008041382]\n",
      "solved: [128, 0, 'aer', 1, 500, 1000, 'SLSQP', False, 201.0, 1.9689090251922607]\n",
      "solved: [129, 0, 'aer', 1, 500, 1000, 'SLSQP', True, 1.0, 0.9434359073638916]\n",
      "solved: [130, 0, 'noise', 1, 500, 1000, 'SLSQP', False, 101.0, 0.9064919948577881]\n",
      "solved: [131, 0, 'noise', 1, 500, 1000, 'SLSQP', True, 201.0, 2.3100268840789795]\n",
      "solved: [132, 0, 'aer', 1, 750, 200, 'COBYLA', False, 201.0, 0.27292490005493164]\n",
      "solved: [133, 0, 'aer', 1, 750, 200, 'COBYLA', True, 1.0, 0.28744029998779297]\n",
      "solved: [134, 0, 'noise', 1, 750, 200, 'COBYLA', False, 1.0, 0.3405768871307373]\n",
      "solved: [135, 0, 'noise', 1, 750, 200, 'COBYLA', True, 1.0, 0.3779921531677246]\n",
      "solved: [136, 0, 'aqt', 1, 750, 200, 'COBYLA', False, 301.0, 1.1939587593078613]\n",
      "solved: [137, 0, 'aqt', 1, 750, 200, 'COBYLA', True, 1.0, 1.3073508739471436]\n",
      "solved: [138, 0, 'aer', 1, 750, 200, 'NELDER_MEAD', False, 1.0, 4.277478933334351]\n",
      "solved: [139, 0, 'aer', 1, 750, 200, 'NELDER_MEAD', True, 1.0, 4.512799024581909]\n",
      "solved: [140, 0, 'noise', 1, 750, 200, 'NELDER_MEAD', False, 201.0, 5.839101314544678]\n",
      "solved: [141, 0, 'noise', 1, 750, 200, 'NELDER_MEAD', True, 1.0, 7.427478790283203]\n",
      "solved: [142, 0, 'aqt', 1, 750, 200, 'NELDER_MEAD', False, 201.0, 33.999696254730225]\n",
      "solved: [143, 0, 'aqt', 1, 750, 200, 'NELDER_MEAD', True, 301.0, 35.291664838790894]\n",
      "solved: [144, 0, 'aer', 1, 750, 200, 'SLSQP', False, 101.0, 0.3896980285644531]\n",
      "solved: [145, 0, 'aer', 1, 750, 200, 'SLSQP', True, 1.0, 0.4023709297180176]\n",
      "solved: [146, 0, 'noise', 1, 750, 200, 'SLSQP', False, 1.0, 0.6662092208862305]\n",
      "solved: [147, 0, 'noise', 1, 750, 200, 'SLSQP', True, 1.0, 0.5888540744781494]\n",
      "solved: [148, 0, 'aqt', 1, 750, 200, 'SLSQP', False, 1.0, 1.9741077423095703]\n",
      "solved: [149, 0, 'aqt', 1, 750, 200, 'SLSQP', True, 1.0, 2.1713321208953857]\n",
      "solved: [150, 0, 'aer', 1, 750, 400, 'COBYLA', False, 101.0, 0.4565138816833496]\n",
      "solved: [151, 0, 'aer', 1, 750, 400, 'COBYLA', True, 1.0, 0.3712019920349121]\n",
      "solved: [152, 0, 'noise', 1, 750, 400, 'COBYLA', False, 101.0, 0.4919710159301758]\n",
      "solved: [153, 0, 'noise', 1, 750, 400, 'COBYLA', True, 1.0, 0.4632880687713623]\n",
      "solved: [154, 0, 'aer', 1, 750, 400, 'NELDER_MEAD', False, 101.0, 5.957681894302368]\n",
      "solved: [155, 0, 'aer', 1, 750, 400, 'NELDER_MEAD', True, 1.0, 5.448963165283203]\n",
      "solved: [156, 0, 'noise', 1, 750, 400, 'NELDER_MEAD', False, 101.0, 7.613519191741943]\n",
      "solved: [157, 0, 'noise', 1, 750, 400, 'NELDER_MEAD', True, 1.0, 6.619086980819702]\n",
      "solved: [158, 0, 'aer', 1, 750, 400, 'SLSQP', False, 301.0, 0.4283478260040283]\n",
      "solved: [159, 0, 'aer', 1, 750, 400, 'SLSQP', True, 1.0, 0.7035119533538818]\n",
      "solved: [160, 0, 'noise', 1, 750, 400, 'SLSQP', False, 201.0, 0.8612008094787598]\n",
      "solved: [161, 0, 'noise', 1, 750, 400, 'SLSQP', True, 1.0, 0.6064567565917969]\n",
      "solved: [162, 0, 'aer', 1, 750, 600, 'COBYLA', False, 301.0, 0.46495580673217773]\n",
      "solved: [163, 0, 'aer', 1, 750, 600, 'COBYLA', True, 1.0, 0.4476737976074219]\n",
      "solved: [164, 0, 'noise', 1, 750, 600, 'COBYLA', False, 101.0, 0.5599491596221924]\n",
      "solved: [165, 0, 'noise', 1, 750, 600, 'COBYLA', True, 1.0, 0.4950571060180664]\n",
      "solved: [166, 0, 'aer', 1, 750, 600, 'NELDER_MEAD', False, 1.0, 7.056894302368164]\n",
      "solved: [167, 0, 'aer', 1, 750, 600, 'NELDER_MEAD', True, 1.0, 6.178966999053955]\n",
      "solved: [168, 0, 'noise', 1, 750, 600, 'NELDER_MEAD', False, 101.0, 8.591253995895386]\n",
      "solved: [169, 0, 'noise', 1, 750, 600, 'NELDER_MEAD', True, 1.0, 8.527972936630249]\n",
      "solved: [170, 0, 'aer', 1, 750, 600, 'SLSQP', False, 101.0, 1.4203128814697266]\n",
      "solved: [171, 0, 'aer', 1, 750, 600, 'SLSQP', True, 1.0, 0.7376210689544678]\n",
      "solved: [172, 0, 'noise', 1, 750, 600, 'SLSQP', False, 1.0, 0.7265300750732422]\n",
      "solved: [173, 0, 'noise', 1, 750, 600, 'SLSQP', True, 1.0, 0.9092769622802734]\n",
      "solved: [174, 0, 'aer', 1, 750, 800, 'COBYLA', False, 101.0, 0.46418094635009766]\n",
      "solved: [175, 0, 'aer', 1, 750, 800, 'COBYLA', True, 1.0, 0.4769139289855957]\n",
      "solved: [176, 0, 'noise', 1, 750, 800, 'COBYLA', False, 101.0, 0.7096900939941406]\n",
      "solved: [177, 0, 'noise', 1, 750, 800, 'COBYLA', True, 1.0, 0.6232309341430664]\n",
      "solved: [178, 0, 'aer', 1, 750, 800, 'NELDER_MEAD', False, 1.0, 8.448431968688965]\n",
      "solved: [179, 0, 'aer', 1, 750, 800, 'NELDER_MEAD', True, 1.0, 6.817080020904541]\n",
      "solved: [180, 0, 'noise', 1, 750, 800, 'NELDER_MEAD', False, 101.0, 9.268405199050903]\n",
      "solved: [181, 0, 'noise', 1, 750, 800, 'NELDER_MEAD', True, 1.0, 9.123286962509155]\n",
      "solved: [182, 0, 'aer', 1, 750, 800, 'SLSQP', False, 1.0, 0.7869219779968262]\n",
      "solved: [183, 0, 'aer', 1, 750, 800, 'SLSQP', True, 1.0, 1.6026601791381836]\n",
      "solved: [184, 0, 'noise', 1, 750, 800, 'SLSQP', False, 101.0, 1.5627291202545166]\n",
      "solved: [185, 0, 'noise', 1, 750, 800, 'SLSQP', True, 1.0, 2.330019950866699]\n",
      "solved: [186, 0, 'aer', 1, 750, 1000, 'COBYLA', False, 1.0, 0.6499538421630859]\n",
      "solved: [187, 0, 'aer', 1, 750, 1000, 'COBYLA', True, 1.0, 0.547900915145874]\n",
      "solved: [188, 0, 'noise', 1, 750, 1000, 'COBYLA', False, 101.0, 0.7725570201873779]\n",
      "solved: [189, 0, 'noise', 1, 750, 1000, 'COBYLA', True, 1.0, 0.6499745845794678]\n",
      "solved: [190, 0, 'aer', 1, 750, 1000, 'NELDER_MEAD', False, 1.0, 9.32847785949707]\n",
      "solved: [191, 0, 'aer', 1, 750, 1000, 'NELDER_MEAD', True, 1.0, 13.520344018936157]\n",
      "solved: [192, 0, 'noise', 1, 750, 1000, 'NELDER_MEAD', False, 101.0, 16.079816818237305]\n",
      "solved: [193, 0, 'noise', 1, 750, 1000, 'NELDER_MEAD', True, 1.0, 26.822065830230713]\n",
      "solved: [194, 0, 'aer', 1, 750, 1000, 'SLSQP', False, 1.0, 2.2931888103485107]\n",
      "solved: [195, 0, 'aer', 1, 750, 1000, 'SLSQP', True, 1.0, 3.601109743118286]\n",
      "solved: [196, 0, 'noise', 1, 750, 1000, 'SLSQP', False, 1.0, 2.164273977279663]\n",
      "solved: [197, 0, 'noise', 1, 750, 1000, 'SLSQP', True, 1.0, 2.3025689125061035]\n",
      "solved: [198, 0, 'aer', 1, 1000, 200, 'COBYLA', False, 101.0, 0.561378002166748]\n",
      "solved: [199, 0, 'aer', 1, 1000, 200, 'COBYLA', True, 101.0, 0.6089019775390625]\n",
      "solved: [200, 0, 'noise', 1, 1000, 200, 'COBYLA', False, 301.0, 0.7596402168273926]\n",
      "solved: [201, 0, 'noise', 1, 1000, 200, 'COBYLA', True, 1.0, 0.8077061176300049]\n",
      "solved: [202, 0, 'aqt', 1, 1000, 200, 'COBYLA', False, 201.0, 2.3819398880004883]\n",
      "solved: [203, 0, 'aqt', 1, 1000, 200, 'COBYLA', True, 1.0, 2.0943260192871094]\n",
      "solved: [204, 0, 'aer', 1, 1000, 200, 'NELDER_MEAD', False, 101.0, 9.556802988052368]\n",
      "solved: [205, 0, 'aer', 1, 1000, 200, 'NELDER_MEAD', True, 1.0, 9.494033813476562]\n",
      "solved: [206, 0, 'noise', 1, 1000, 200, 'NELDER_MEAD', False, 201.0, 13.425878047943115]\n",
      "solved: [207, 0, 'noise', 1, 1000, 200, 'NELDER_MEAD', True, 301.0, 20.441517114639282]\n",
      "solved: [208, 0, 'aqt', 1, 1000, 200, 'NELDER_MEAD', False, 101.0, 71.6167471408844]\n",
      "solved: [209, 0, 'aqt', 1, 1000, 200, 'NELDER_MEAD', True, 201.0, 69.26890182495117]\n",
      "solved: [210, 0, 'aer', 1, 1000, 200, 'SLSQP', False, 201.0, 1.8955979347229004]\n",
      "solved: [211, 0, 'aer', 1, 1000, 200, 'SLSQP', True, 1.0, 0.7677311897277832]\n",
      "solved: [212, 0, 'noise', 1, 1000, 200, 'SLSQP', False, 1.0, 0.9191601276397705]\n",
      "solved: [213, 0, 'noise', 1, 1000, 200, 'SLSQP', True, 201.0, 1.9617700576782227]\n",
      "solved: [214, 0, 'aqt', 1, 1000, 200, 'SLSQP', False, 201.0, 4.5454840660095215]\n",
      "solved: [215, 0, 'aqt', 1, 1000, 200, 'SLSQP', True, 1.0, 6.066261053085327]\n",
      "solved: [216, 0, 'aer', 1, 1000, 400, 'COBYLA', False, 1.0, 0.9252538681030273]\n",
      "solved: [217, 0, 'aer', 1, 1000, 400, 'COBYLA', True, 1.0, 0.756098747253418]\n",
      "solved: [218, 0, 'noise', 1, 1000, 400, 'COBYLA', False, 1.0, 1.0855419635772705]\n",
      "solved: [219, 0, 'noise', 1, 1000, 400, 'COBYLA', True, 1.0, 1.072922945022583]\n",
      "solved: [220, 0, 'aer', 1, 1000, 400, 'NELDER_MEAD', False, 101.0, 12.072526693344116]\n",
      "solved: [221, 0, 'aer', 1, 1000, 400, 'NELDER_MEAD', True, 1.0, 11.592147827148438]\n",
      "solved: [222, 0, 'noise', 1, 1000, 400, 'NELDER_MEAD', False, 101.0, 16.543659210205078]\n",
      "solved: [223, 0, 'noise', 1, 1000, 400, 'NELDER_MEAD', True, 1.0, 17.158509016036987]\n",
      "solved: [224, 0, 'aer', 1, 1000, 400, 'SLSQP', False, 101.0, 2.5627729892730713]\n",
      "solved: [225, 0, 'aer', 1, 1000, 400, 'SLSQP', True, 101.0, 2.1708688735961914]\n",
      "solved: [226, 0, 'noise', 1, 1000, 400, 'SLSQP', False, 101.0, 1.6359949111938477]\n",
      "solved: [227, 0, 'noise', 1, 1000, 400, 'SLSQP', True, 1.0, 2.156405210494995]\n",
      "solved: [228, 0, 'aer', 1, 1000, 600, 'COBYLA', False, 1.0, 1.2129180431365967]\n",
      "solved: [229, 0, 'aer', 1, 1000, 600, 'COBYLA', True, 1.0, 0.9254601001739502]\n",
      "solved: [230, 0, 'noise', 1, 1000, 600, 'COBYLA', False, 101.0, 1.2236812114715576]\n",
      "solved: [231, 0, 'noise', 1, 1000, 600, 'COBYLA', True, 1.0, 1.1908769607543945]\n",
      "solved: [232, 0, 'aer', 1, 1000, 600, 'NELDER_MEAD', False, 101.0, 19.103442907333374]\n",
      "solved: [233, 0, 'aer', 1, 1000, 600, 'NELDER_MEAD', True, 201.0, 16.126302003860474]\n",
      "solved: [234, 0, 'noise', 1, 1000, 600, 'NELDER_MEAD', False, 1.0, 18.295464992523193]\n",
      "solved: [235, 0, 'noise', 1, 1000, 600, 'NELDER_MEAD', True, 101.0, 22.197813987731934]\n",
      "solved: [236, 0, 'aer', 1, 1000, 600, 'SLSQP', False, 101.0, 1.722594976425171]\n",
      "solved: [237, 0, 'aer', 1, 1000, 600, 'SLSQP', True, 1.0, 1.3962898254394531]\n",
      "solved: [238, 0, 'noise', 1, 1000, 600, 'SLSQP', False, 1.0, 1.5348830223083496]\n",
      "solved: [239, 0, 'noise', 1, 1000, 600, 'SLSQP', True, 1.0, 1.4105949401855469]\n",
      "solved: [240, 0, 'aer', 1, 1000, 800, 'COBYLA', False, 1.0, 1.0444092750549316]\n",
      "solved: [241, 0, 'aer', 1, 1000, 800, 'COBYLA', True, 1.0, 0.9673378467559814]\n",
      "solved: [242, 0, 'noise', 1, 1000, 800, 'COBYLA', False, 1.0, 1.5034737586975098]\n",
      "solved: [243, 0, 'noise', 1, 1000, 800, 'COBYLA', True, 1.0, 1.1445093154907227]\n",
      "solved: [244, 0, 'aer', 1, 1000, 800, 'NELDER_MEAD', False, 101.0, 18.182095050811768]\n",
      "solved: [245, 0, 'aer', 1, 1000, 800, 'NELDER_MEAD', True, 1.0, 14.037289142608643]\n",
      "solved: [246, 0, 'noise', 1, 1000, 800, 'NELDER_MEAD', False, 1.0, 15.78284478187561]\n",
      "solved: [247, 0, 'noise', 1, 1000, 800, 'NELDER_MEAD', True, 1.0, 21.615753412246704]\n",
      "solved: [248, 0, 'aer', 1, 1000, 800, 'SLSQP', False, 1.0, 1.164935827255249]\n",
      "solved: [249, 0, 'aer', 1, 1000, 800, 'SLSQP', True, 1.0, 0.8850307464599609]\n",
      "solved: [250, 0, 'noise', 1, 1000, 800, 'SLSQP', False, 201.0, 1.4854681491851807]\n",
      "solved: [251, 0, 'noise', 1, 1000, 800, 'SLSQP', True, 1.0, 2.4503681659698486]\n",
      "solved: [252, 0, 'aer', 1, 1000, 1000, 'COBYLA', False, 1.0, 3.185389995574951]\n",
      "solved: [253, 0, 'aer', 1, 1000, 1000, 'COBYLA', True, 1.0, 1.5178182125091553]\n",
      "solved: [254, 0, 'noise', 1, 1000, 1000, 'COBYLA', False, 1.0, 1.3386099338531494]\n",
      "solved: [255, 0, 'noise', 1, 1000, 1000, 'COBYLA', True, 1.0, 0.9507839679718018]\n",
      "solved: [256, 0, 'aer', 1, 1000, 1000, 'NELDER_MEAD', False, 101.0, 17.02365279197693]\n",
      "solved: [257, 0, 'aer', 1, 1000, 1000, 'NELDER_MEAD', True, 1.0, 17.902828216552734]\n",
      "solved: [258, 0, 'noise', 1, 1000, 1000, 'NELDER_MEAD', False, 101.0, 26.10266089439392]\n",
      "solved: [259, 0, 'noise', 1, 1000, 1000, 'NELDER_MEAD', True, 1.0, 33.234259843826294]\n",
      "solved: [260, 0, 'aer', 1, 1000, 1000, 'SLSQP', False, 1.0, 2.4601709842681885]\n",
      "solved: [261, 0, 'aer', 1, 1000, 1000, 'SLSQP', True, 1.0, 3.6262872219085693]\n",
      "solved: [262, 0, 'noise', 1, 1000, 1000, 'SLSQP', False, 1.0, 2.545260190963745]\n",
      "solved: [263, 0, 'noise', 1, 1000, 1000, 'SLSQP', True, 1.0, 4.080352067947388]\n",
      "solved: [264, 0, 'aer', 2, 250, 200, 'COBYLA', False, 101.0, 1.9019460678100586]\n",
      "solved: [265, 0, 'aer', 2, 250, 200, 'COBYLA', True, 101.0, 2.18033504486084]\n",
      "solved: [266, 0, 'noise', 2, 250, 200, 'COBYLA', False, 101.0, 1.7333869934082031]\n",
      "solved: [267, 0, 'noise', 2, 250, 200, 'COBYLA', True, 1.0, 1.936241865158081]\n",
      "solved: [268, 0, 'aqt', 2, 250, 200, 'COBYLA', False, 201.0, 5.922105073928833]\n",
      "solved: [269, 0, 'aqt', 2, 250, 200, 'COBYLA', True, 201.0, 8.449564933776855]\n",
      "solved: [270, 0, 'aer', 2, 250, 200, 'NELDER_MEAD', False, 101.0, 13.672481060028076]\n",
      "solved: [271, 0, 'aer', 2, 250, 200, 'NELDER_MEAD', True, 1.0, 18.298032999038696]\n",
      "solved: [272, 0, 'noise', 2, 250, 200, 'NELDER_MEAD', False, 201.0, 29.235135078430176]\n",
      "solved: [273, 0, 'noise', 2, 250, 200, 'NELDER_MEAD', True, 301.0, 39.79612588882446]\n",
      "solved: [274, 0, 'aqt', 2, 250, 200, 'NELDER_MEAD', False, 1.0, 55.152738094329834]\n",
      "solved: [275, 0, 'aqt', 2, 250, 200, 'NELDER_MEAD', True, 1.0, 54.92700791358948]\n",
      "solved: [276, 0, 'aer', 2, 250, 200, 'SLSQP', False, 101.0, 0.9166369438171387]\n",
      "solved: [277, 0, 'aer', 2, 250, 200, 'SLSQP', True, 1.0, 0.7462279796600342]\n",
      "solved: [278, 0, 'noise', 2, 250, 200, 'SLSQP', False, 1.0, 2.8761792182922363]\n",
      "solved: [279, 0, 'noise', 2, 250, 200, 'SLSQP', True, 101.0, 1.1094048023223877]\n",
      "solved: [280, 0, 'aqt', 2, 250, 200, 'SLSQP', False, 1.0, 7.7017247676849365]\n",
      "solved: [281, 0, 'aqt', 2, 250, 200, 'SLSQP', True, 1.0, 14.922829151153564]\n",
      "solved: [282, 0, 'aer', 2, 250, 400, 'COBYLA', False, 201.0, 0.7784192562103271]\n",
      "solved: [283, 0, 'aer', 2, 250, 400, 'COBYLA', True, 1.0, 0.7419898509979248]\n",
      "solved: [284, 0, 'noise', 2, 250, 400, 'COBYLA', False, 101.0, 0.9241049289703369]\n",
      "solved: [285, 0, 'noise', 2, 250, 400, 'COBYLA', True, 301.0, 0.8588311672210693]\n",
      "solved: [286, 0, 'aer', 2, 250, 400, 'NELDER_MEAD', False, 101.0, 5.679525852203369]\n",
      "solved: [287, 0, 'aer', 2, 250, 400, 'NELDER_MEAD', True, 1.0, 5.712180852890015]\n",
      "solved: [288, 0, 'noise', 2, 250, 400, 'NELDER_MEAD', False, 1.0, 8.09904670715332]\n",
      "solved: [289, 0, 'noise', 2, 250, 400, 'NELDER_MEAD', True, 1.0, 8.408936977386475]\n",
      "solved: [290, 0, 'aer', 2, 250, 400, 'SLSQP', False, 101.0, 2.1801137924194336]\n",
      "solved: [291, 0, 'aer', 2, 250, 400, 'SLSQP', True, 1.0, 2.3637020587921143]\n",
      "solved: [292, 0, 'noise', 2, 250, 400, 'SLSQP', False, 1.0, 2.647830009460449]\n",
      "solved: [293, 0, 'noise', 2, 250, 400, 'SLSQP', True, 1.0, 4.598650932312012]\n",
      "solved: [294, 0, 'aer', 2, 250, 600, 'COBYLA', False, 1.0, 0.886235237121582]\n",
      "solved: [295, 0, 'aer', 2, 250, 600, 'COBYLA', True, 1.0, 0.7732079029083252]\n",
      "solved: [296, 0, 'noise', 2, 250, 600, 'COBYLA', False, 1.0, 1.0118629932403564]\n",
      "solved: [297, 0, 'noise', 2, 250, 600, 'COBYLA', True, 1.0, 0.9134509563446045]\n",
      "solved: [298, 0, 'aer', 2, 250, 600, 'NELDER_MEAD', False, 101.0, 6.844452142715454]\n",
      "solved: [299, 0, 'aer', 2, 250, 600, 'NELDER_MEAD', True, 1.0, 7.2696850299835205]\n",
      "solved: [300, 0, 'noise', 2, 250, 600, 'NELDER_MEAD', False, 1.0, 8.758967876434326]\n",
      "solved: [301, 0, 'noise', 2, 250, 600, 'NELDER_MEAD', True, 101.0, 9.835530042648315]\n",
      "solved: [302, 0, 'aer', 2, 250, 600, 'SLSQP', False, 101.0, 0.9816629886627197]\n",
      "solved: [303, 0, 'aer', 2, 250, 600, 'SLSQP', True, 101.0, 1.9364190101623535]\n",
      "solved: [304, 0, 'noise', 2, 250, 600, 'SLSQP', False, 101.0, 1.699840784072876]\n",
      "solved: [305, 0, 'noise', 2, 250, 600, 'SLSQP', True, 1.0, 2.062307119369507]\n",
      "solved: [306, 0, 'aer', 2, 250, 800, 'COBYLA', False, 101.0, 0.9939510822296143]\n",
      "solved: [307, 0, 'aer', 2, 250, 800, 'COBYLA', True, 1.0, 0.7885377407073975]\n",
      "solved: [308, 0, 'noise', 2, 250, 800, 'COBYLA', False, 101.0, 1.0607306957244873]\n",
      "solved: [309, 0, 'noise', 2, 250, 800, 'COBYLA', True, 101.0, 1.2720329761505127]\n",
      "solved: [310, 0, 'aer', 2, 250, 800, 'NELDER_MEAD', False, 201.0, 6.840707063674927]\n",
      "solved: [311, 0, 'aer', 2, 250, 800, 'NELDER_MEAD', True, 1.0, 8.063745021820068]\n",
      "solved: [312, 0, 'noise', 2, 250, 800, 'NELDER_MEAD', False, 101.0, 9.871408700942993]\n",
      "solved: [313, 0, 'noise', 2, 250, 800, 'NELDER_MEAD', True, 1.0, 17.25077795982361]\n",
      "solved: [314, 0, 'aer', 2, 250, 800, 'SLSQP', False, 101.0, 3.4323251247406006]\n",
      "solved: [315, 0, 'aer', 2, 250, 800, 'SLSQP', True, 1.0, 4.326757192611694]\n",
      "solved: [316, 0, 'noise', 2, 250, 800, 'SLSQP', False, 1.0, 4.393609046936035]\n",
      "solved: [317, 0, 'noise', 2, 250, 800, 'SLSQP', True, 1.0, 7.7526772022247314]\n",
      "solved: [318, 0, 'aer', 2, 250, 1000, 'COBYLA', False, 1.0, 2.001999855041504]\n",
      "solved: [319, 0, 'aer', 2, 250, 1000, 'COBYLA', True, 1.0, 2.1712729930877686]\n",
      "solved: [320, 0, 'noise', 2, 250, 1000, 'COBYLA', False, 1.0, 2.5475640296936035]\n",
      "solved: [321, 0, 'noise', 2, 250, 1000, 'COBYLA', True, 1.0, 3.1305010318756104]\n",
      "solved: [322, 0, 'aer', 2, 250, 1000, 'NELDER_MEAD', False, 101.0, 14.75963020324707]\n",
      "solved: [323, 0, 'aer', 2, 250, 1000, 'NELDER_MEAD', True, 1.0, 20.157784938812256]\n",
      "solved: [324, 0, 'noise', 2, 250, 1000, 'NELDER_MEAD', False, 101.0, 31.833420991897583]\n",
      "solved: [325, 0, 'noise', 2, 250, 1000, 'NELDER_MEAD', True, 201.0, 16.810660123825073]\n",
      "solved: [326, 0, 'aer', 2, 250, 1000, 'SLSQP', False, 101.0, 4.839288949966431]\n",
      "solved: [327, 0, 'aer', 2, 250, 1000, 'SLSQP', True, 1.0, 6.511653184890747]\n",
      "solved: [328, 0, 'noise', 2, 250, 1000, 'SLSQP', False, 101.0, 5.706151247024536]\n",
      "solved: [329, 0, 'noise', 2, 250, 1000, 'SLSQP', True, 1.0, 4.975693225860596]\n",
      "solved: [330, 0, 'aer', 2, 500, 200, 'COBYLA', False, 101.0, 0.5552539825439453]\n",
      "solved: [331, 0, 'aer', 2, 500, 200, 'COBYLA', True, 1.0, 0.6220312118530273]\n",
      "solved: [332, 0, 'noise', 2, 500, 200, 'COBYLA', False, 101.0, 0.7902119159698486]\n",
      "solved: [333, 0, 'noise', 2, 500, 200, 'COBYLA', True, 1.0, 1.0284450054168701]\n",
      "solved: [334, 0, 'aqt', 2, 500, 200, 'COBYLA', False, 101.0, 2.9527530670166016]\n",
      "solved: [335, 0, 'aqt', 2, 500, 200, 'COBYLA', True, 1.0, 419.2746238708496]\n",
      "solved: [336, 0, 'aer', 2, 500, 200, 'NELDER_MEAD', False, 201.0, 6.996036052703857]\n",
      "solved: [337, 0, 'aer', 2, 500, 200, 'NELDER_MEAD', True, 101.0, 17.259917974472046]\n",
      "solved: [338, 0, 'noise', 2, 500, 200, 'NELDER_MEAD', False, 201.0, 11.223871231079102]\n",
      "solved: [339, 0, 'noise', 2, 500, 200, 'NELDER_MEAD', True, 201.0, 12.173668146133423]\n",
      "solved: [340, 0, 'aqt', 2, 500, 200, 'NELDER_MEAD', False, 101.0, 648.0666480064392]\n"
     ]
    }
   ],
   "source": [
    "raw_instances = read_list('bpp_instances')\n",
    "preprocessed_instances = preprocess_instances(raw_instances)\n",
    "create_instance_df(preprocessed_instances)\n",
    "create_classical_df(preprocessed_instances)\n",
    "instance_number = 19\n",
    "create_quantum_df([preprocessed_instances[instance_number]], quantum_file=f'quantum_data_{instance_number}.csv')\n",
    "q_df = pd.read_csv('quantum_data.csv')\n",
    "c_df = pd.read_csv('classical_data.csv')\n",
    "create_evaluation_df(q_df, c_df)\n",
    "e_df = pd.read_csv('evaluation_data.csv')\n",
    "calc_optimum_percentage(e_df)"
   ],
   "metadata": {
    "colab": {
     "base_uri": "https://localhost:8080/"
    },
    "id": "bccbc8969c753b6d",
    "outputId": "6b7bac34-38bb-4747-c9c2-815de4ad53b9",
    "is_executing": true,
    "ExecuteTime": {
     "start_time": "2024-01-29T17:06:54.658184Z"
    }
   },
   "id": "bccbc8969c753b6d",
   "execution_count": null
  }
 ],
 "metadata": {
  "kernelspec": {
   "name": "python3",
   "language": "python",
   "display_name": "Python 3 (ipykernel)"
  },
  "language_info": {
   "codemirror_mode": {
    "name": "ipython",
    "version": 3
   },
   "file_extension": ".py",
   "mimetype": "text/x-python",
   "name": "python",
   "nbconvert_exporter": "python",
   "pygments_lexer": "ipython3",
   "version": "3.10.12"
  },
  "colab": {
   "provenance": [],
   "gpuType": "T4"
  },
  "accelerator": "GPU"
 },
 "nbformat": 4,
 "nbformat_minor": 5
}
