{
 "cells": [
  {
   "cell_type": "markdown",
   "id": "e741379f",
   "metadata": {},
   "source": [
    "# Hybrid Classic-Quantum Systems - Third Assignment #\n",
    "\n",
    "You should fill in this Jupyter notebook in order to complete the assignment. Here a small recap of the rules:\n",
    "\n",
    "* You should **NOT** modify the functions that are already provided in the notebook, unless it is strictly necessary;\n",
    "* If you want to modify the given functions, please, provide an explanation of why you had to;\n",
    "* You can define new functions, as soon as they are well commented;\n",
    "* You can import all libraries you want, as soon as you justify their utilization;\n",
    "* You can add new cells, as soon as you do not remove the cells where you are supposed to comment your solution;\n",
    "* This is a group assignment. The maximum number of people is 3;\n",
    "* Your solution should be commented and accompanied by a small description - you can add additional cells if needed;\n",
    "* For any issue and doubt, please do not hesitate to use the forum or to write me an email."
   ]
  },
  {
   "cell_type": "markdown",
   "id": "abc48bc1",
   "metadata": {},
   "source": [
    "# Preliminaries #\n",
    "\n",
    "## Bin Packing Problem (BPP) ##\n",
    "The bin packing problem (BPP) is an optimization problem. The final goal is to fit items of different sizes into a finite number of bins, each of a fixed given capacity, minimizing the number of bins used. The problem has many applications, ranging from logistics, multi-processor scheduling.\n",
    "\n",
    "Computationally, the problem is NP-hard, and the corresponding decision problem, deciding if items can fit into a specified number of bins, is NP-complete.\n",
    "![np-complete](https://imgs.xkcd.com/comics/np_complete.png)"
   ]
  },
  {
   "cell_type": "markdown",
   "id": "b02c1bad",
   "metadata": {},
   "source": [
    "## Mathematical formulation ##\n",
    "The objective function of BPP is to minimize the number of bins used, more formally,\n",
    "\\begin{align} \\label{eqn:bpp}\n",
    "    & {\\min}\n",
    "    & &  \\sum_{j=1}^{K} B_j \\\\\n",
    "    & {\\text{subject to}}\n",
    "    & & g(x_{ij}) = \\sum_{j=1}^{K} x_{ij} = 1 \\qquad \\forall i \\\\\n",
    "    & & & h(x_{ij}) = \\sum_{i=1}^N w_{i}x_{ij} \\le C*B_j \\qquad \\forall j\n",
    "\\end{align}"
   ]
  },
  {
   "cell_type": "markdown",
   "id": "11009203",
   "metadata": {},
   "source": [
    "# Loading BPP instances #\n",
    "First of all, we focus on generating instances of BPP to be used for the evaluation. Each instance is structured in the following way:\n",
    "\n",
    "$[[w_0, w_1, ..., w_n], C, B, items]$, such that:\n",
    "* $w_i$ is the weight of item $i$;\n",
    "* $C$ is the capacity of each bin;\n",
    "* $B$ is the number of bins;\n",
    "* $items$ is the number of items\n",
    "\n",
    "We pre-generated the instances for you and saved them in an attached binary file. You can read them in your code by using the following code:"
   ]
  },
  {
   "cell_type": "code",
   "outputs": [
    {
     "name": "stdout",
     "output_type": "stream",
     "text": [
      "Requirement already satisfied: numpy in ./venv/lib/python3.9/site-packages (1.26.3)\r\n",
      "\r\n",
      "\u001B[1m[\u001B[0m\u001B[34;49mnotice\u001B[0m\u001B[1;39;49m]\u001B[0m\u001B[39;49m A new release of pip is available: \u001B[0m\u001B[31;49m23.2.1\u001B[0m\u001B[39;49m -> \u001B[0m\u001B[32;49m23.3.2\u001B[0m\r\n",
      "\u001B[1m[\u001B[0m\u001B[34;49mnotice\u001B[0m\u001B[1;39;49m]\u001B[0m\u001B[39;49m To update, run: \u001B[0m\u001B[32;49mpip install --upgrade pip\u001B[0m\r\n"
     ]
    }
   ],
   "source": [
    "!pip install numpy"
   ],
   "metadata": {
    "collapsed": false,
    "ExecuteTime": {
     "end_time": "2024-01-28T19:15:01.461527Z",
     "start_time": "2024-01-28T19:14:59.426307Z"
    }
   },
   "id": "f84b335ce41030be",
   "execution_count": 1
  },
  {
   "cell_type": "code",
   "outputs": [],
   "source": [
    "import pickle\n",
    "\n",
    "def read_list(filename):\n",
    "    # for reading also binary mode is important\n",
    "    with open(filename, 'rb') as fp:\n",
    "        n_list = pickle.load(fp)\n",
    "        return n_list"
   ],
   "metadata": {
    "ExecuteTime": {
     "end_time": "2024-01-28T19:15:01.466201Z",
     "start_time": "2024-01-28T19:15:01.463599Z"
    }
   },
   "id": "98c95b55",
   "execution_count": 2
  },
  {
   "cell_type": "markdown",
   "source": [
    "The constraint $g(x)$ implies that each task can be packed into at most one CPU, and constraint $h(x_{ij})$ says that the requirements of each task can not exceed the given $C$ capacity. In this paper, BPP can be considered as a mixture of inequality and equality-constrained optimization problems."
   ],
   "metadata": {},
   "id": "8cd6c093"
  },
  {
   "cell_type": "code",
   "outputs": [],
   "source": [
    "def preprocess_instances(input_list):\n",
    "    # Initialize an empty list to store the results\n",
    "    result = []\n",
    "\n",
    "    # Iterate over each element in the input list\n",
    "    for item in input_list:\n",
    "        # Divide each element in the first sub-array by 5\n",
    "        first_array = [x // 5 for x in item[0]]\n",
    "        # Divide the second element of the item by 5\n",
    "        second_element = item[1] // 5\n",
    "\n",
    "        # Append the modified elements to the result list\n",
    "        result.append([first_array, second_element, item[2], item[3]])\n",
    "\n",
    "    return result"
   ],
   "metadata": {
    "collapsed": false,
    "ExecuteTime": {
     "end_time": "2024-01-28T19:15:01.471783Z",
     "start_time": "2024-01-28T19:15:01.467920Z"
    }
   },
   "id": "7a9c18dcc2b60b79",
   "execution_count": 3
  },
  {
   "cell_type": "markdown",
   "source": [
    "# Transforming BPP into a QUBO #\n",
    "QUBO is a mathematical model that is used to represent combinatorial optimization problems in which the variables are binary $\\{0,1\\}$ and the objective function with constraints is quadratic. We employ QUBO for BPP because it provides a framework for representing combinatorial optimization problems in a form that can be efficiently solved using quantum computing algorithms designed for QUBO problems, such as VQE or QAOA.\n",
    "\n",
    "## Slack Variables + Quadratic Penalty Encoding ##\n",
    "Qiskit Optimization provides with QuadraticProgram a very generic and powerful representation for optimization problems. However, usually, optimization algorithms cannot handle all possible types of problems that can be modelled, but only a sub-class. Many available quantum optimization algorithms can handle Quadratic Unconstrained Binary Optimization (QUBO) problems. To do so, first, it is necessary to convert a given optimization problem into a QUBO.\n",
    "\n",
    "Qiskit Optimization provides converters to achieve this conversion whenever possible. More precisely, Qiskit Optimization provides the following converters: \n",
    "* *InequalityToEquality*: converts inequality constraints into equality constraints with additional slack variables.\n",
    "* *IntegerToBinary* : converts integer variables into binary variables and corresponding coefficients. \n",
    "* *LinearEqualityToPenalty* : convert equality constraints into additional terms of the object function. \n",
    "* *QuadraticProgramToQubo* : a wrapper for IntegerToBinary and LinearEqualityToPenalty for convenience.\n",
    "More information available at: https://qiskit.org/documentation/stable/0.19/tutorials/optimization/2_converters_for_quadratic_programs.html\n",
    "\n",
    "## Penalty-Based Encoding ##\n",
    "\n",
    "### Define penalties ###\n",
    "To enforce the constraints, we introduce penalty terms to the objective function. These terms penalize solutions that violate the constraints. Firsts, we rewrite constraints $g(x_{ij})$ and $h(x_{ij})$ as follows,\n",
    "     \\begin{align*}\n",
    "        g(x_{ij}) = \\sum_{j=1}^{K} x_{ij} - 1 = 0 \\qquad \\forall i \\\\\n",
    "        h(x_{ij}) = \\sum_{i=1}^N w_{i}x_{ij} - C \\cdot B_j \\le 0 \\qquad \\forall j \\\\\n",
    "    \\end{align*}\n",
    "    Second, introduce penalty functions $p_1(\\lambda, g(x))$ and $p_2(\\beta, h(x))$ with coefficients $\\{\\lambda, \\beta\\} \\geq 0 $\n",
    "    \\begin{equation}\\label{penalty1}\n",
    "        p_1(\\lambda, g(x_{ij})) =\n",
    "        \\begin{cases}\n",
    "            0 & \\text{if $g(x_{ij}) \\leq 0$} \\\\\n",
    "            \\lambda g(x_{ij}) & \\text{if $g(x_{ij}) > 0$} \n",
    "        \\end{cases}\n",
    "    \\end{equation}\n",
    "    \\begin{equation}\\label{penalty2}\n",
    "        p_2(\\beta, h(x_{ij})) =\n",
    "        \\begin{cases}\n",
    "            0 & \\text{if $h(x_{ij}) \\leq 0$} \\\\\n",
    "            \\beta h(x_{ij}) & \\text{if $h(x_{ij}) > 0$} \n",
    "        \\end{cases} \n",
    "    \\end{equation}\n",
    "    \n",
    "In literature, there are multiple methods for penalization such as the exterior penalty function and interior penalty function.\n",
    "\n",
    "### Injecting Penalties in the Model ###\n",
    "To get the final QUBO form we combine penalties with objective function and get\n",
    "\n",
    "\\begin{equation}\n",
    "    \\mathcal{F} = \\sum_{j=1}^{K} B_j + \\sum_{j=1}^{K}p_1(\\lambda, g_j) + \\sum_{i=1}^{N}p_2(\\beta,h_i)\n",
    "\\end{equation}\n",
    "\n",
    "### Examples of penalty functions ###\n",
    "* https://www.stat.cmu.edu/~ryantibs/convexopt-F13/scribes/lec16.pdf\n",
    "* https://www.rose-hulman.edu/~bryan/lottamath/penalty.pdf"
   ],
   "metadata": {},
   "id": "e4577458"
  },
  {
   "cell_type": "markdown",
   "source": [
    "## YOUR TASK ##\n",
    "* Apply slack + quadratic penalty\n",
    "* Apply penalty-based encoding using three functions"
   ],
   "metadata": {},
   "id": "4e4c2d63"
  },
  {
   "cell_type": "code",
   "outputs": [
    {
     "name": "stdout",
     "output_type": "stream",
     "text": [
      "Requirement already satisfied: qiskit-optimization in ./venv/lib/python3.9/site-packages (0.6.0)\r\n",
      "Requirement already satisfied: qiskit>=0.44 in ./venv/lib/python3.9/site-packages (from qiskit-optimization) (0.45.2)\r\n",
      "Requirement already satisfied: qiskit-algorithms>=0.2.0 in ./venv/lib/python3.9/site-packages (from qiskit-optimization) (0.2.2)\r\n",
      "Requirement already satisfied: scipy>=1.9.0 in ./venv/lib/python3.9/site-packages (from qiskit-optimization) (1.12.0)\r\n",
      "Requirement already satisfied: numpy>=1.17 in ./venv/lib/python3.9/site-packages (from qiskit-optimization) (1.26.3)\r\n",
      "Requirement already satisfied: docplex!=2.24.231,>=2.21.207 in ./venv/lib/python3.9/site-packages (from qiskit-optimization) (2.25.236)\r\n",
      "Requirement already satisfied: setuptools>=40.1.0 in ./venv/lib/python3.9/site-packages (from qiskit-optimization) (68.2.0)\r\n",
      "Requirement already satisfied: networkx>=2.6.3 in ./venv/lib/python3.9/site-packages (from qiskit-optimization) (3.2.1)\r\n",
      "Requirement already satisfied: six in ./venv/lib/python3.9/site-packages (from docplex!=2.24.231,>=2.21.207->qiskit-optimization) (1.16.0)\r\n",
      "Requirement already satisfied: qiskit-terra==0.45.2 in ./venv/lib/python3.9/site-packages (from qiskit>=0.44->qiskit-optimization) (0.45.2)\r\n",
      "Requirement already satisfied: rustworkx>=0.13.0 in ./venv/lib/python3.9/site-packages (from qiskit-terra==0.45.2->qiskit>=0.44->qiskit-optimization) (0.14.0)\r\n",
      "Requirement already satisfied: ply>=3.10 in ./venv/lib/python3.9/site-packages (from qiskit-terra==0.45.2->qiskit>=0.44->qiskit-optimization) (3.11)\r\n",
      "Requirement already satisfied: psutil>=5 in ./venv/lib/python3.9/site-packages (from qiskit-terra==0.45.2->qiskit>=0.44->qiskit-optimization) (5.9.8)\r\n",
      "Requirement already satisfied: sympy>=1.3 in ./venv/lib/python3.9/site-packages (from qiskit-terra==0.45.2->qiskit>=0.44->qiskit-optimization) (1.12)\r\n",
      "Requirement already satisfied: dill>=0.3 in ./venv/lib/python3.9/site-packages (from qiskit-terra==0.45.2->qiskit>=0.44->qiskit-optimization) (0.3.7)\r\n",
      "Requirement already satisfied: python-dateutil>=2.8.0 in ./venv/lib/python3.9/site-packages (from qiskit-terra==0.45.2->qiskit>=0.44->qiskit-optimization) (2.8.2)\r\n",
      "Requirement already satisfied: stevedore>=3.0.0 in ./venv/lib/python3.9/site-packages (from qiskit-terra==0.45.2->qiskit>=0.44->qiskit-optimization) (5.1.0)\r\n",
      "Requirement already satisfied: symengine!=0.10.0,>=0.9 in ./venv/lib/python3.9/site-packages (from qiskit-terra==0.45.2->qiskit>=0.44->qiskit-optimization) (0.11.0)\r\n",
      "Requirement already satisfied: typing-extensions in ./venv/lib/python3.9/site-packages (from qiskit-terra==0.45.2->qiskit>=0.44->qiskit-optimization) (4.9.0)\r\n",
      "Requirement already satisfied: pbr!=2.1.0,>=2.0.0 in ./venv/lib/python3.9/site-packages (from stevedore>=3.0.0->qiskit-terra==0.45.2->qiskit>=0.44->qiskit-optimization) (6.0.0)\r\n",
      "Requirement already satisfied: mpmath>=0.19 in ./venv/lib/python3.9/site-packages (from sympy>=1.3->qiskit-terra==0.45.2->qiskit>=0.44->qiskit-optimization) (1.3.0)\r\n",
      "\r\n",
      "\u001B[1m[\u001B[0m\u001B[34;49mnotice\u001B[0m\u001B[1;39;49m]\u001B[0m\u001B[39;49m A new release of pip is available: \u001B[0m\u001B[31;49m23.2.1\u001B[0m\u001B[39;49m -> \u001B[0m\u001B[32;49m23.3.2\u001B[0m\r\n",
      "\u001B[1m[\u001B[0m\u001B[34;49mnotice\u001B[0m\u001B[1;39;49m]\u001B[0m\u001B[39;49m To update, run: \u001B[0m\u001B[32;49mpip install --upgrade pip\u001B[0m\r\n"
     ]
    }
   ],
   "source": [
    "!pip install qiskit-optimization"
   ],
   "metadata": {
    "collapsed": false,
    "ExecuteTime": {
     "end_time": "2024-01-28T19:15:02.869846Z",
     "start_time": "2024-01-28T19:15:01.474747Z"
    }
   },
   "id": "6f419d6b9893bee2",
   "execution_count": 4
  },
  {
   "cell_type": "code",
   "outputs": [],
   "source": [
    "from qiskit_optimization import QuadraticProgram\n",
    "from qiskit_optimization.converters import LinearEqualityToPenalty, InequalityToEquality, \\\n",
    "    IntegerToBinary\n",
    "\n",
    "def quadratic_penalty(instance):\n",
    "    # Extract instance data\n",
    "    weights, C, B, items = instance\n",
    "\n",
    "    # Create a Quadratic Program\n",
    "    qp = QuadraticProgram()\n",
    "\n",
    "    # Add binary variables x_{ij} for each item i and bin j\n",
    "    # x_{ij} = 1 if item i is in bin j, else 0\n",
    "\n",
    "    for j in range(B):\n",
    "        qp.binary_var(name=f'B_{j}')\n",
    "\n",
    "    for i in range(items):\n",
    "        for j in range(B):\n",
    "            qp.binary_var(name=f'x_{i}_{j}')\n",
    "\n",
    "    # Objective function: Minimize the number of bins used\n",
    "    # This is done by minimizing the sum of B_j, where B_j = 1 if bin j is used\n",
    "    qp.minimize(linear=[1] * B)\n",
    "\n",
    "    eq_to_pen = LinearEqualityToPenalty(100)\n",
    "    # Constraint g(x): Each item i must be in exactly one bin\n",
    "    for i in range(items):\n",
    "        qp.linear_constraint(\n",
    "            linear={f'x_{i}_{j}': 1 for j in range(B)},\n",
    "            sense='==',\n",
    "            rhs=1,\n",
    "            name=f'item_in_one_bin_{i}')\n",
    "        qp = eq_to_pen.convert(qp)\n",
    "    neq_to_eq = InequalityToEquality(\"integer\")\n",
    "    eq_to_pen2 = LinearEqualityToPenalty(200)\n",
    "    int_to_bin = IntegerToBinary()\n",
    "    # Constraint h(x): Total weight in each bin j must not exceed its capacity C\n",
    "    for j in range(B):\n",
    "        # Create a dictionary for the linear terms\n",
    "        linear_terms = {f'x_{i}_{j}': weights[i] for i in range(items)}\n",
    "        # Add the term for B_j with a negative coefficient\n",
    "        linear_terms[f'B_{j}'] = -C\n",
    "        qp.linear_constraint(\n",
    "            linear=linear_terms,\n",
    "            sense='<=',\n",
    "            rhs=0,  # Set the RHS to 0\n",
    "            name=f'bin_capacity_{j}')\n",
    "        qp = neq_to_eq.convert(qp)\n",
    "        qp = int_to_bin.convert(qp)\n",
    "        qp = eq_to_pen2.convert(qp)\n",
    "    return qp"
   ],
   "metadata": {
    "collapsed": false,
    "ExecuteTime": {
     "end_time": "2024-01-28T19:15:04.349538Z",
     "start_time": "2024-01-28T19:15:02.874227Z"
    }
   },
   "id": "b14eed48e5f66c93",
   "execution_count": 5
  },
  {
   "cell_type": "markdown",
   "id": "1bcc6b56",
   "metadata": {},
   "source": [
    "# Encoding QUBO into ISING Hamiltonian #\n",
    "The next step is to encode the classical QUBO formulation into a quantum state. There exist techniques to encode classical data into quantum such as basis encoding, amplitude encoding, and angle encoding. In this paper, we apply basis encoding, for which any quantum basis can be chosen, but the common way for doing so is to choose basis $\\{-1,1\\}$ as follows:\n",
    "\\begin{align}\n",
    "\\label{eqn:to_ising}\n",
    "    \\begin{split}\n",
    "    x_i = \\frac{1-z_i}{2}\\\\\n",
    "    z_i*z_j = \\sigma_Z^i \\otimes \\sigma_Z^j \\\\\n",
    "    z_i = \\sigma_Z^i\n",
    "    \\end{split}\n",
    "\\end{align}\n",
    "where $\\sigma_Z^i$ denotes the Pauli-Z matrix \n",
    "$\\begin{pmatrix}\n",
    "  1 & 0\\\\ \n",
    "  0 & -1\n",
    "\\end{pmatrix}$ on the $i$-th qubit.\n",
    "The eigenvalues of $\\text{I} - \\frac{Z}{2}$ are $\\{-1,1\\}$ with corresponding eigenstates $|0\\rangle$ and $|1\\rangle$. Thus, we switch from Z to $\\text{I} - \\frac{Z}{2}$, and rewrite the problem as BPP Ising hamiltonian,\n",
    "\\begin{equation} \\label{eqn:final_hamiltonian}\n",
    "    H_{bpp}= \\sum_{j=1}^{K} \\sigma_j + \\sum_{j=1}^{K}p_1(\\lambda, g_j) + \\sum_{i=1}^{N}p_2(\\beta,h_i)\n",
    "\\end{equation}\n",
    "where $g_j$ and $h_i$ are now functions of $\\sigma$."
   ]
  },
  {
   "cell_type": "markdown",
   "id": "667dcbe7",
   "metadata": {},
   "source": [
    "## YOUR TASK: Encoding the QUBO as an Ising Hamiltonian ##\n"
   ]
  },
  {
   "cell_type": "markdown",
   "source": [
    "With the quadratic penalty encoding quskit automatically converts the QUBO into an Ising Hamiltonian when using the QAOA algorithm\n",
    "for demonstrations show how to convert the QUBO into an Ising Hamiltonian and back"
   ],
   "metadata": {
    "collapsed": false
   },
   "id": "921eab5cfaaba24d"
  },
  {
   "cell_type": "code",
   "outputs": [
    {
     "name": "stdout",
     "output_type": "stream",
     "text": [
      "Problem name: \n",
      "\n",
      "Minimize\n",
      "  2000000*B_0^2 - 40000*B_0*bin_capacity_0@int_slack@0\n",
      "  - 80000*B_0*bin_capacity_0@int_slack@1 - 160000*B_0*bin_capacity_0@int_slack@2\n",
      "  - 320000*B_0*bin_capacity_0@int_slack@3\n",
      "  - 640000*B_0*bin_capacity_0@int_slack@4\n",
      "  - 1280000*B_0*bin_capacity_0@int_slack@5\n",
      "  - 1480000*B_0*bin_capacity_0@int_slack@6 - 2200000*B_0*x_0_0\n",
      "  - 1600000*B_0*x_1_0 - 1000000*B_0*x_2_0 - 2000000*B_0*x_3_0 + 2000000*B_1^2\n",
      "  - 40000*B_1*bin_capacity_1@int_slack@0 - 80000*B_1*bin_capacity_1@int_slack@1\n",
      "  - 160000*B_1*bin_capacity_1@int_slack@2\n",
      "  - 320000*B_1*bin_capacity_1@int_slack@3\n",
      "  - 640000*B_1*bin_capacity_1@int_slack@4\n",
      "  - 1280000*B_1*bin_capacity_1@int_slack@5\n",
      "  - 1480000*B_1*bin_capacity_1@int_slack@6 - 2200000*B_1*x_0_1\n",
      "  - 1600000*B_1*x_1_1 - 1000000*B_1*x_2_1 - 2000000*B_1*x_3_1 + 2000000*B_2^2\n",
      "  - 40000*B_2*bin_capacity_2@int_slack@0 - 80000*B_2*bin_capacity_2@int_slack@1\n",
      "  - 160000*B_2*bin_capacity_2@int_slack@2\n",
      "  - 320000*B_2*bin_capacity_2@int_slack@3\n",
      "  - 640000*B_2*bin_capacity_2@int_slack@4\n",
      "  - 1280000*B_2*bin_capacity_2@int_slack@5\n",
      "  - 1480000*B_2*bin_capacity_2@int_slack@6 - 2200000*B_2*x_0_2\n",
      "  - 1600000*B_2*x_1_2 - 1000000*B_2*x_2_2 - 2000000*B_2*x_3_2\n",
      "  + 200*bin_capacity_0@int_slack@0^2\n",
      "  + 800*bin_capacity_0@int_slack@0*bin_capacity_0@int_slack@1\n",
      "  + 1600*bin_capacity_0@int_slack@0*bin_capacity_0@int_slack@2\n",
      "  + 3200*bin_capacity_0@int_slack@0*bin_capacity_0@int_slack@3\n",
      "  + 6400*bin_capacity_0@int_slack@0*bin_capacity_0@int_slack@4\n",
      "  + 12800*bin_capacity_0@int_slack@0*bin_capacity_0@int_slack@5\n",
      "  + 14800*bin_capacity_0@int_slack@0*bin_capacity_0@int_slack@6\n",
      "  + 800*bin_capacity_0@int_slack@1^2\n",
      "  + 3200*bin_capacity_0@int_slack@1*bin_capacity_0@int_slack@2\n",
      "  + 6400*bin_capacity_0@int_slack@1*bin_capacity_0@int_slack@3\n",
      "  + 12800*bin_capacity_0@int_slack@1*bin_capacity_0@int_slack@4\n",
      "  + 25600*bin_capacity_0@int_slack@1*bin_capacity_0@int_slack@5\n",
      "  + 29600*bin_capacity_0@int_slack@1*bin_capacity_0@int_slack@6\n",
      "  + 3200*bin_capacity_0@int_slack@2^2\n",
      "  + 12800*bin_capacity_0@int_slack@2*bin_capacity_0@int_slack@3\n",
      "  + 25600*bin_capacity_0@int_slack@2*bin_capacity_0@int_slack@4\n",
      "  + 51200*bin_capacity_0@int_slack@2*bin_capacity_0@int_slack@5\n",
      "  + 59200*bin_capacity_0@int_slack@2*bin_capacity_0@int_slack@6\n",
      "  + 12800*bin_capacity_0@int_slack@3^2\n",
      "  + 51200*bin_capacity_0@int_slack@3*bin_capacity_0@int_slack@4\n",
      "  + 102400*bin_capacity_0@int_slack@3*bin_capacity_0@int_slack@5\n",
      "  + 118400*bin_capacity_0@int_slack@3*bin_capacity_0@int_slack@6\n",
      "  + 51200*bin_capacity_0@int_slack@4^2\n",
      "  + 204800*bin_capacity_0@int_slack@4*bin_capacity_0@int_slack@5\n",
      "  + 236800*bin_capacity_0@int_slack@4*bin_capacity_0@int_slack@6\n",
      "  + 204800*bin_capacity_0@int_slack@5^2\n",
      "  + 473600*bin_capacity_0@int_slack@5*bin_capacity_0@int_slack@6\n",
      "  + 273800*bin_capacity_0@int_slack@6^2 + 200*bin_capacity_1@int_slack@0^2\n",
      "  + 800*bin_capacity_1@int_slack@0*bin_capacity_1@int_slack@1\n",
      "  + 1600*bin_capacity_1@int_slack@0*bin_capacity_1@int_slack@2\n",
      "  + 3200*bin_capacity_1@int_slack@0*bin_capacity_1@int_slack@3\n",
      "  + 6400*bin_capacity_1@int_slack@0*bin_capacity_1@int_slack@4\n",
      "  + 12800*bin_capacity_1@int_slack@0*bin_capacity_1@int_slack@5\n",
      "  + 14800*bin_capacity_1@int_slack@0*bin_capacity_1@int_slack@6\n",
      "  + 800*bin_capacity_1@int_slack@1^2\n",
      "  + 3200*bin_capacity_1@int_slack@1*bin_capacity_1@int_slack@2\n",
      "  + 6400*bin_capacity_1@int_slack@1*bin_capacity_1@int_slack@3\n",
      "  + 12800*bin_capacity_1@int_slack@1*bin_capacity_1@int_slack@4\n",
      "  + 25600*bin_capacity_1@int_slack@1*bin_capacity_1@int_slack@5\n",
      "  + 29600*bin_capacity_1@int_slack@1*bin_capacity_1@int_slack@6\n",
      "  + 3200*bin_capacity_1@int_slack@2^2\n",
      "  + 12800*bin_capacity_1@int_slack@2*bin_capacity_1@int_slack@3\n",
      "  + 25600*bin_capacity_1@int_slack@2*bin_capacity_1@int_slack@4\n",
      "  + 51200*bin_capacity_1@int_slack@2*bin_capacity_1@int_slack@5\n",
      "  + 59200*bin_capacity_1@int_slack@2*bin_capacity_1@int_slack@6\n",
      "  + 12800*bin_capacity_1@int_slack@3^2\n",
      "  + 51200*bin_capacity_1@int_slack@3*bin_capacity_1@int_slack@4\n",
      "  + 102400*bin_capacity_1@int_slack@3*bin_capacity_1@int_slack@5\n",
      "  + 118400*bin_capacity_1@int_slack@3*bin_capacity_1@int_slack@6\n",
      "  + 51200*bin_capacity_1@int_slack@4^2\n",
      "  + 204800*bin_capacity_1@int_slack@4*bin_capacity_1@int_slack@5\n",
      "  + 236800*bin_capacity_1@int_slack@4*bin_capacity_1@int_slack@6\n",
      "  + 204800*bin_capacity_1@int_slack@5^2\n",
      "  + 473600*bin_capacity_1@int_slack@5*bin_capacity_1@int_slack@6\n",
      "  + 273800*bin_capacity_1@int_slack@6^2 + 200*bin_capacity_2@int_slack@0^2\n",
      "  + 800*bin_capacity_2@int_slack@0*bin_capacity_2@int_slack@1\n",
      "  + 1600*bin_capacity_2@int_slack@0*bin_capacity_2@int_slack@2\n",
      "  + 3200*bin_capacity_2@int_slack@0*bin_capacity_2@int_slack@3\n",
      "  + 6400*bin_capacity_2@int_slack@0*bin_capacity_2@int_slack@4\n",
      "  + 12800*bin_capacity_2@int_slack@0*bin_capacity_2@int_slack@5\n",
      "  + 14800*bin_capacity_2@int_slack@0*bin_capacity_2@int_slack@6\n",
      "  + 800*bin_capacity_2@int_slack@1^2\n",
      "  + 3200*bin_capacity_2@int_slack@1*bin_capacity_2@int_slack@2\n",
      "  + 6400*bin_capacity_2@int_slack@1*bin_capacity_2@int_slack@3\n",
      "  + 12800*bin_capacity_2@int_slack@1*bin_capacity_2@int_slack@4\n",
      "  + 25600*bin_capacity_2@int_slack@1*bin_capacity_2@int_slack@5\n",
      "  + 29600*bin_capacity_2@int_slack@1*bin_capacity_2@int_slack@6\n",
      "  + 3200*bin_capacity_2@int_slack@2^2\n",
      "  + 12800*bin_capacity_2@int_slack@2*bin_capacity_2@int_slack@3\n",
      "  + 25600*bin_capacity_2@int_slack@2*bin_capacity_2@int_slack@4\n",
      "  + 51200*bin_capacity_2@int_slack@2*bin_capacity_2@int_slack@5\n",
      "  + 59200*bin_capacity_2@int_slack@2*bin_capacity_2@int_slack@6\n",
      "  + 12800*bin_capacity_2@int_slack@3^2\n",
      "  + 51200*bin_capacity_2@int_slack@3*bin_capacity_2@int_slack@4\n",
      "  + 102400*bin_capacity_2@int_slack@3*bin_capacity_2@int_slack@5\n",
      "  + 118400*bin_capacity_2@int_slack@3*bin_capacity_2@int_slack@6\n",
      "  + 51200*bin_capacity_2@int_slack@4^2\n",
      "  + 204800*bin_capacity_2@int_slack@4*bin_capacity_2@int_slack@5\n",
      "  + 236800*bin_capacity_2@int_slack@4*bin_capacity_2@int_slack@6\n",
      "  + 204800*bin_capacity_2@int_slack@5^2\n",
      "  + 473600*bin_capacity_2@int_slack@5*bin_capacity_2@int_slack@6\n",
      "  + 273800*bin_capacity_2@int_slack@6^2 + 22000*x_0_0*bin_capacity_0@int_slack@0\n",
      "  + 44000*x_0_0*bin_capacity_0@int_slack@1\n",
      "  + 88000*x_0_0*bin_capacity_0@int_slack@2\n",
      "  + 176000*x_0_0*bin_capacity_0@int_slack@3\n",
      "  + 352000*x_0_0*bin_capacity_0@int_slack@4\n",
      "  + 704000*x_0_0*bin_capacity_0@int_slack@5\n",
      "  + 814000*x_0_0*bin_capacity_0@int_slack@6 + 605100*x_0_0^2 + 200*x_0_0*x_0_1\n",
      "  + 200*x_0_0*x_0_2 + 880000*x_0_0*x_1_0 + 550000*x_0_0*x_2_0\n",
      "  + 1100000*x_0_0*x_3_0 + 22000*x_0_1*bin_capacity_1@int_slack@0\n",
      "  + 44000*x_0_1*bin_capacity_1@int_slack@1\n",
      "  + 88000*x_0_1*bin_capacity_1@int_slack@2\n",
      "  + 176000*x_0_1*bin_capacity_1@int_slack@3\n",
      "  + 352000*x_0_1*bin_capacity_1@int_slack@4\n",
      "  + 704000*x_0_1*bin_capacity_1@int_slack@5\n",
      "  + 814000*x_0_1*bin_capacity_1@int_slack@6 + 605100*x_0_1^2 + 200*x_0_1*x_0_2\n",
      "  + 880000*x_0_1*x_1_1 + 550000*x_0_1*x_2_1 + 1100000*x_0_1*x_3_1\n",
      "  + 22000*x_0_2*bin_capacity_2@int_slack@0\n",
      "  + 44000*x_0_2*bin_capacity_2@int_slack@1\n",
      "  + 88000*x_0_2*bin_capacity_2@int_slack@2\n",
      "  + 176000*x_0_2*bin_capacity_2@int_slack@3\n",
      "  + 352000*x_0_2*bin_capacity_2@int_slack@4\n",
      "  + 704000*x_0_2*bin_capacity_2@int_slack@5\n",
      "  + 814000*x_0_2*bin_capacity_2@int_slack@6 + 605100*x_0_2^2\n",
      "  + 880000*x_0_2*x_1_2 + 550000*x_0_2*x_2_2 + 1100000*x_0_2*x_3_2\n",
      "  + 16000*x_1_0*bin_capacity_0@int_slack@0\n",
      "  + 32000*x_1_0*bin_capacity_0@int_slack@1\n",
      "  + 64000*x_1_0*bin_capacity_0@int_slack@2\n",
      "  + 128000*x_1_0*bin_capacity_0@int_slack@3\n",
      "  + 256000*x_1_0*bin_capacity_0@int_slack@4\n",
      "  + 512000*x_1_0*bin_capacity_0@int_slack@5\n",
      "  + 592000*x_1_0*bin_capacity_0@int_slack@6 + 320100*x_1_0^2 + 200*x_1_0*x_1_1\n",
      "  + 200*x_1_0*x_1_2 + 400000*x_1_0*x_2_0 + 800000*x_1_0*x_3_0\n",
      "  + 16000*x_1_1*bin_capacity_1@int_slack@0\n",
      "  + 32000*x_1_1*bin_capacity_1@int_slack@1\n",
      "  + 64000*x_1_1*bin_capacity_1@int_slack@2\n",
      "  + 128000*x_1_1*bin_capacity_1@int_slack@3\n",
      "  + 256000*x_1_1*bin_capacity_1@int_slack@4\n",
      "  + 512000*x_1_1*bin_capacity_1@int_slack@5\n",
      "  + 592000*x_1_1*bin_capacity_1@int_slack@6 + 320100*x_1_1^2 + 200*x_1_1*x_1_2\n",
      "  + 400000*x_1_1*x_2_1 + 800000*x_1_1*x_3_1\n",
      "  + 16000*x_1_2*bin_capacity_2@int_slack@0\n",
      "  + 32000*x_1_2*bin_capacity_2@int_slack@1\n",
      "  + 64000*x_1_2*bin_capacity_2@int_slack@2\n",
      "  + 128000*x_1_2*bin_capacity_2@int_slack@3\n",
      "  + 256000*x_1_2*bin_capacity_2@int_slack@4\n",
      "  + 512000*x_1_2*bin_capacity_2@int_slack@5\n",
      "  + 592000*x_1_2*bin_capacity_2@int_slack@6 + 320100*x_1_2^2\n",
      "  + 400000*x_1_2*x_2_2 + 800000*x_1_2*x_3_2\n",
      "  + 10000*x_2_0*bin_capacity_0@int_slack@0\n",
      "  + 20000*x_2_0*bin_capacity_0@int_slack@1\n",
      "  + 40000*x_2_0*bin_capacity_0@int_slack@2\n",
      "  + 80000*x_2_0*bin_capacity_0@int_slack@3\n",
      "  + 160000*x_2_0*bin_capacity_0@int_slack@4\n",
      "  + 320000*x_2_0*bin_capacity_0@int_slack@5\n",
      "  + 370000*x_2_0*bin_capacity_0@int_slack@6 + 125100*x_2_0^2 + 200*x_2_0*x_2_1\n",
      "  + 200*x_2_0*x_2_2 + 500000*x_2_0*x_3_0\n",
      "  + 10000*x_2_1*bin_capacity_1@int_slack@0\n",
      "  + 20000*x_2_1*bin_capacity_1@int_slack@1\n",
      "  + 40000*x_2_1*bin_capacity_1@int_slack@2\n",
      "  + 80000*x_2_1*bin_capacity_1@int_slack@3\n",
      "  + 160000*x_2_1*bin_capacity_1@int_slack@4\n",
      "  + 320000*x_2_1*bin_capacity_1@int_slack@5\n",
      "  + 370000*x_2_1*bin_capacity_1@int_slack@6 + 125100*x_2_1^2 + 200*x_2_1*x_2_2\n",
      "  + 500000*x_2_1*x_3_1 + 10000*x_2_2*bin_capacity_2@int_slack@0\n",
      "  + 20000*x_2_2*bin_capacity_2@int_slack@1\n",
      "  + 40000*x_2_2*bin_capacity_2@int_slack@2\n",
      "  + 80000*x_2_2*bin_capacity_2@int_slack@3\n",
      "  + 160000*x_2_2*bin_capacity_2@int_slack@4\n",
      "  + 320000*x_2_2*bin_capacity_2@int_slack@5\n",
      "  + 370000*x_2_2*bin_capacity_2@int_slack@6 + 125100*x_2_2^2\n",
      "  + 500000*x_2_2*x_3_2 + 20000*x_3_0*bin_capacity_0@int_slack@0\n",
      "  + 40000*x_3_0*bin_capacity_0@int_slack@1\n",
      "  + 80000*x_3_0*bin_capacity_0@int_slack@2\n",
      "  + 160000*x_3_0*bin_capacity_0@int_slack@3\n",
      "  + 320000*x_3_0*bin_capacity_0@int_slack@4\n",
      "  + 640000*x_3_0*bin_capacity_0@int_slack@5\n",
      "  + 740000*x_3_0*bin_capacity_0@int_slack@6 + 500100*x_3_0^2 + 200*x_3_0*x_3_1\n",
      "  + 200*x_3_0*x_3_2 + 20000*x_3_1*bin_capacity_1@int_slack@0\n",
      "  + 40000*x_3_1*bin_capacity_1@int_slack@1\n",
      "  + 80000*x_3_1*bin_capacity_1@int_slack@2\n",
      "  + 160000*x_3_1*bin_capacity_1@int_slack@3\n",
      "  + 320000*x_3_1*bin_capacity_1@int_slack@4\n",
      "  + 640000*x_3_1*bin_capacity_1@int_slack@5\n",
      "  + 740000*x_3_1*bin_capacity_1@int_slack@6 + 500100*x_3_1^2 + 200*x_3_1*x_3_2\n",
      "  + 20000*x_3_2*bin_capacity_2@int_slack@0\n",
      "  + 40000*x_3_2*bin_capacity_2@int_slack@1\n",
      "  + 80000*x_3_2*bin_capacity_2@int_slack@2\n",
      "  + 160000*x_3_2*bin_capacity_2@int_slack@3\n",
      "  + 320000*x_3_2*bin_capacity_2@int_slack@4\n",
      "  + 640000*x_3_2*bin_capacity_2@int_slack@5\n",
      "  + 740000*x_3_2*bin_capacity_2@int_slack@6 + 500100*x_3_2^2 + B_0 + B_1 + B_2\n",
      "  - 200*x_0_0 - 200*x_0_1 - 200*x_0_2 - 200*x_1_0 - 200*x_1_1 - 200*x_1_2\n",
      "  - 200*x_2_0 - 200*x_2_1 - 200*x_2_2 - 200*x_3_0 - 200*x_3_1 - 200*x_3_2 + 400\n",
      "\n",
      "Subject to\n",
      "  No constraints\n",
      "\n",
      "  Binary variables (36)\n",
      "    B_0 B_1 B_2 x_0_0 x_0_1 x_0_2 x_1_0 x_1_1 x_1_2 x_2_0 x_2_1 x_2_2 x_3_0\n",
      "    x_3_1 x_3_2 bin_capacity_0@int_slack@0 bin_capacity_0@int_slack@1\n",
      "    bin_capacity_0@int_slack@2 bin_capacity_0@int_slack@3\n",
      "    bin_capacity_0@int_slack@4 bin_capacity_0@int_slack@5\n",
      "    bin_capacity_0@int_slack@6 bin_capacity_1@int_slack@0\n",
      "    bin_capacity_1@int_slack@1 bin_capacity_1@int_slack@2\n",
      "    bin_capacity_1@int_slack@3 bin_capacity_1@int_slack@4\n",
      "    bin_capacity_1@int_slack@5 bin_capacity_1@int_slack@6\n",
      "    bin_capacity_2@int_slack@0 bin_capacity_2@int_slack@1\n",
      "    bin_capacity_2@int_slack@2 bin_capacity_2@int_slack@3\n",
      "    bin_capacity_2@int_slack@4 bin_capacity_2@int_slack@5\n",
      "    bin_capacity_2@int_slack@6\n",
      "\n",
      "SparsePauliOp(['IIIIIIIIIIIIIIIIIIIIIIIIIIIIIIIIIIIZ', 'IIIIIIIIIIIIIIIIIIIIIIIIIIIIIIIIIIZI', 'IIIIIIIIIIIIIIIIIIIIIIIIIIIIIIIIIZII', 'IIIIIIIIIIIIIIIIIIIIIIIIIIIIIIIIZIII', 'IIIIIIIIIIIIIIIIIIIIIIIIIIIIIIIZIIII', 'IIIIIIIIIIIIIIIIIIIIIIIIIIIIIIZIIIII', 'IIIIIIIIIIIIIIIIIIIIIIIIIIIIIZIIIIII', 'IIIIIIIIIIIIIIIIIIIIIIIIIIIIZIIIIIII', 'IIIIIIIIIIIIIIIIIIIIIIIIIIIZIIIIIIII', 'IIIIIIIIIIIIIIIIIIIIIIIIIIZIIIIIIIII', 'IIIIIIIIIIIIIIIIIIIIIIIIIZIIIIIIIIII', 'IIIIIIIIIIIIIIIIIIIIIIIIZIIIIIIIIIII', 'IIIIIIIIIIIIIIIIIIIIIIIZIIIIIIIIIIII', 'IIIIIIIIIIIIIIIIIIIIIIZIIIIIIIIIIIII', 'IIIIIIIIIIIIIIIIIIIIIZIIIIIIIIIIIIII', 'IIIIIIIIIIIIIIIIIIIIIIIIIIIIIIIIZIIZ', 'IIIIIIIIIIIIIIIIIIIIIIIIIIIIIZIIIIIZ', 'IIIIIIIIIIIIIIIIIIIIIIIIIIZIIIIIIIIZ', 'IIIIIIIIIIIIIIIIIIIIIIIZIIIIIIIIIIIZ', 'IIIIIIIIIIIIIIIIIIIIZIIIIIIIIIIIIIIZ', 'IIIIIIIIIIIIIIIIIIIIZIIIIIIIIIIIIIII', 'IIIIIIIIIIIIIIIIIIIZIIIIIIIIIIIIIIIZ', 'IIIIIIIIIIIIIIIIIIIZIIIIIIIIIIIIIIII', 'IIIIIIIIIIIIIIIIIIZIIIIIIIIIIIIIIIIZ', 'IIIIIIIIIIIIIIIIIIZIIIIIIIIIIIIIIIII', 'IIIIIIIIIIIIIIIIIZIIIIIIIIIIIIIIIIIZ', 'IIIIIIIIIIIIIIIIIZIIIIIIIIIIIIIIIIII', 'IIIIIIIIIIIIIIIIZIIIIIIIIIIIIIIIIIIZ', 'IIIIIIIIIIIIIIIIZIIIIIIIIIIIIIIIIIII', 'IIIIIIIIIIIIIIIZIIIIIIIIIIIIIIIIIIIZ', 'IIIIIIIIIIIIIIIZIIIIIIIIIIIIIIIIIIII', 'IIIIIIIIIIIIIIZIIIIIIIIIIIIIIIIIIIIZ', 'IIIIIIIIIIIIIIZIIIIIIIIIIIIIIIIIIIII', 'IIIIIIIIIIIIIIIIIIIIIIIIIIIIIIIZIIZI', 'IIIIIIIIIIIIIIIIIIIIIIIIIIIIZIIIIIZI', 'IIIIIIIIIIIIIIIIIIIIIIIIIZIIIIIIIIZI', 'IIIIIIIIIIIIIIIIIIIIIIZIIIIIIIIIIIZI', 'IIIIIIIIIIIIIZIIIIIIIIIIIIIIIIIIIIZI', 'IIIIIIIIIIIIIZIIIIIIIIIIIIIIIIIIIIII', 'IIIIIIIIIIIIZIIIIIIIIIIIIIIIIIIIIIZI', 'IIIIIIIIIIIIZIIIIIIIIIIIIIIIIIIIIIII', 'IIIIIIIIIIIZIIIIIIIIIIIIIIIIIIIIIIZI', 'IIIIIIIIIIIZIIIIIIIIIIIIIIIIIIIIIIII', 'IIIIIIIIIIZIIIIIIIIIIIIIIIIIIIIIIIZI', 'IIIIIIIIIIZIIIIIIIIIIIIIIIIIIIIIIIII', 'IIIIIIIIIZIIIIIIIIIIIIIIIIIIIIIIIIZI', 'IIIIIIIIIZIIIIIIIIIIIIIIIIIIIIIIIIII', 'IIIIIIIIZIIIIIIIIIIIIIIIIIIIIIIIIIZI', 'IIIIIIIIZIIIIIIIIIIIIIIIIIIIIIIIIIII', 'IIIIIIIZIIIIIIIIIIIIIIIIIIIIIIIIIIZI', 'IIIIIIIZIIIIIIIIIIIIIIIIIIIIIIIIIIII', 'IIIIIIIIIIIIIIIIIIIIIIIIIIIIIIZIIZII', 'IIIIIIIIIIIIIIIIIIIIIIIIIIIZIIIIIZII', 'IIIIIIIIIIIIIIIIIIIIIIIIZIIIIIIIIZII', 'IIIIIIIIIIIIIIIIIIIIIZIIIIIIIIIIIZII', 'IIIIIIZIIIIIIIIIIIIIIIIIIIIIIIIIIZII', 'IIIIIIZIIIIIIIIIIIIIIIIIIIIIIIIIIIII', 'IIIIIZIIIIIIIIIIIIIIIIIIIIIIIIIIIZII', 'IIIIIZIIIIIIIIIIIIIIIIIIIIIIIIIIIIII', 'IIIIZIIIIIIIIIIIIIIIIIIIIIIIIIIIIZII', 'IIIIZIIIIIIIIIIIIIIIIIIIIIIIIIIIIIII', 'IIIZIIIIIIIIIIIIIIIIIIIIIIIIIIIIIZII', 'IIIZIIIIIIIIIIIIIIIIIIIIIIIIIIIIIIII', 'IIZIIIIIIIIIIIIIIIIIIIIIIIIIIIIIIZII', 'IIZIIIIIIIIIIIIIIIIIIIIIIIIIIIIIIIII', 'IZIIIIIIIIIIIIIIIIIIIIIIIIIIIIIIIZII', 'IZIIIIIIIIIIIIIIIIIIIIIIIIIIIIIIIIII', 'ZIIIIIIIIIIIIIIIIIIIIIIIIIIIIIIIIZII', 'ZIIIIIIIIIIIIIIIIIIIIIIIIIIIIIIIIIII', 'IIIIIIIIIIIIIIIIIIIIIIIIIIIIIIIZZIII', 'IIIIIIIIIIIIIIIIIIIIIIIIIIIIIIZIZIII', 'IIIIIIIIIIIIIIIIIIIIIIIIIIIIIZIIZIII', 'IIIIIIIIIIIIIIIIIIIIIIIIIIZIIIIIZIII', 'IIIIIIIIIIIIIIIIIIIIIIIZIIIIIIIIZIII', 'IIIIIIIIIIIIIIIIIIIIZIIIIIIIIIIIZIII', 'IIIIIIIIIIIIIIIIIIIZIIIIIIIIIIIIZIII', 'IIIIIIIIIIIIIIIIIIZIIIIIIIIIIIIIZIII', 'IIIIIIIIIIIIIIIIIZIIIIIIIIIIIIIIZIII', 'IIIIIIIIIIIIIIIIZIIIIIIIIIIIIIIIZIII', 'IIIIIIIIIIIIIIIZIIIIIIIIIIIIIIIIZIII', 'IIIIIIIIIIIIIIZIIIIIIIIIIIIIIIIIZIII', 'IIIIIIIIIIIIIIIIIIIIIIIIIIIIIIZZIIII', 'IIIIIIIIIIIIIIIIIIIIIIIIIIIIZIIZIIII', 'IIIIIIIIIIIIIIIIIIIIIIIIIZIIIIIZIIII', 'IIIIIIIIIIIIIIIIIIIIIIZIIIIIIIIZIIII', 'IIIIIIIIIIIIIZIIIIIIIIIIIIIIIIIZIIII', 'IIIIIIIIIIIIZIIIIIIIIIIIIIIIIIIZIIII', 'IIIIIIIIIIIZIIIIIIIIIIIIIIIIIIIZIIII', 'IIIIIIIIIIZIIIIIIIIIIIIIIIIIIIIZIIII', 'IIIIIIIIIZIIIIIIIIIIIIIIIIIIIIIZIIII', 'IIIIIIIIZIIIIIIIIIIIIIIIIIIIIIIZIIII', 'IIIIIIIZIIIIIIIIIIIIIIIIIIIIIIIZIIII', 'IIIIIIIIIIIIIIIIIIIIIIIIIIIZIIZIIIII', 'IIIIIIIIIIIIIIIIIIIIIIIIZIIIIIZIIIII', 'IIIIIIIIIIIIIIIIIIIIIZIIIIIIIIZIIIII', 'IIIIIIZIIIIIIIIIIIIIIIIIIIIIIIZIIIII', 'IIIIIZIIIIIIIIIIIIIIIIIIIIIIIIZIIIII', 'IIIIZIIIIIIIIIIIIIIIIIIIIIIIIIZIIIII', 'IIIZIIIIIIIIIIIIIIIIIIIIIIIIIIZIIIII', 'IIZIIIIIIIIIIIIIIIIIIIIIIIIIIIZIIIII', 'IZIIIIIIIIIIIIIIIIIIIIIIIIIIIIZIIIII', 'ZIIIIIIIIIIIIIIIIIIIIIIIIIIIIIZIIIII', 'IIIIIIIIIIIIIIIIIIIIIIIIIIIIZZIIIIII', 'IIIIIIIIIIIIIIIIIIIIIIIIIIIZIZIIIIII', 'IIIIIIIIIIIIIIIIIIIIIIIIIIZIIZIIIIII', 'IIIIIIIIIIIIIIIIIIIIIIIZIIIIIZIIIIII', 'IIIIIIIIIIIIIIIIIIIIZIIIIIIIIZIIIIII', 'IIIIIIIIIIIIIIIIIIIZIIIIIIIIIZIIIIII', 'IIIIIIIIIIIIIIIIIIZIIIIIIIIIIZIIIIII', 'IIIIIIIIIIIIIIIIIZIIIIIIIIIIIZIIIIII', 'IIIIIIIIIIIIIIIIZIIIIIIIIIIIIZIIIIII', 'IIIIIIIIIIIIIIIZIIIIIIIIIIIIIZIIIIII', 'IIIIIIIIIIIIIIZIIIIIIIIIIIIIIZIIIIII', 'IIIIIIIIIIIIIIIIIIIIIIIIIIIZZIIIIIII', 'IIIIIIIIIIIIIIIIIIIIIIIIIZIIZIIIIIII', 'IIIIIIIIIIIIIIIIIIIIIIZIIIIIZIIIIIII', 'IIIIIIIIIIIIIZIIIIIIIIIIIIIIZIIIIIII', 'IIIIIIIIIIIIZIIIIIIIIIIIIIIIZIIIIIII', 'IIIIIIIIIIIZIIIIIIIIIIIIIIIIZIIIIIII', 'IIIIIIIIIIZIIIIIIIIIIIIIIIIIZIIIIIII', 'IIIIIIIIIZIIIIIIIIIIIIIIIIIIZIIIIIII', 'IIIIIIIIZIIIIIIIIIIIIIIIIIIIZIIIIIII', 'IIIIIIIZIIIIIIIIIIIIIIIIIIIIZIIIIIII', 'IIIIIIIIIIIIIIIIIIIIIIIIZIIZIIIIIIII', 'IIIIIIIIIIIIIIIIIIIIIZIIIIIZIIIIIIII', 'IIIIIIZIIIIIIIIIIIIIIIIIIIIZIIIIIIII', 'IIIIIZIIIIIIIIIIIIIIIIIIIIIZIIIIIIII', 'IIIIZIIIIIIIIIIIIIIIIIIIIIIZIIIIIIII', 'IIIZIIIIIIIIIIIIIIIIIIIIIIIZIIIIIIII', 'IIZIIIIIIIIIIIIIIIIIIIIIIIIZIIIIIIII', 'IZIIIIIIIIIIIIIIIIIIIIIIIIIZIIIIIIII', 'ZIIIIIIIIIIIIIIIIIIIIIIIIIIZIIIIIIII', 'IIIIIIIIIIIIIIIIIIIIIIIIIZZIIIIIIIII', 'IIIIIIIIIIIIIIIIIIIIIIIIZIZIIIIIIIII', 'IIIIIIIIIIIIIIIIIIIIIIIZIIZIIIIIIIII', 'IIIIIIIIIIIIIIIIIIIIZIIIIIZIIIIIIIII', 'IIIIIIIIIIIIIIIIIIIZIIIIIIZIIIIIIIII', 'IIIIIIIIIIIIIIIIIIZIIIIIIIZIIIIIIIII', 'IIIIIIIIIIIIIIIIIZIIIIIIIIZIIIIIIIII', 'IIIIIIIIIIIIIIIIZIIIIIIIIIZIIIIIIIII', 'IIIIIIIIIIIIIIIZIIIIIIIIIIZIIIIIIIII', 'IIIIIIIIIIIIIIZIIIIIIIIIIIZIIIIIIIII', 'IIIIIIIIIIIIIIIIIIIIIIIIZZIIIIIIIIII', 'IIIIIIIIIIIIIIIIIIIIIIZIIZIIIIIIIIII', 'IIIIIIIIIIIIIZIIIIIIIIIIIZIIIIIIIIII', 'IIIIIIIIIIIIZIIIIIIIIIIIIZIIIIIIIIII', 'IIIIIIIIIIIZIIIIIIIIIIIIIZIIIIIIIIII', 'IIIIIIIIIIZIIIIIIIIIIIIIIZIIIIIIIIII', 'IIIIIIIIIZIIIIIIIIIIIIIIIZIIIIIIIIII', 'IIIIIIIIZIIIIIIIIIIIIIIIIZIIIIIIIIII', 'IIIIIIIZIIIIIIIIIIIIIIIIIZIIIIIIIIII', 'IIIIIIIIIIIIIIIIIIIIIZIIZIIIIIIIIIII', 'IIIIIIZIIIIIIIIIIIIIIIIIZIIIIIIIIIII', 'IIIIIZIIIIIIIIIIIIIIIIIIZIIIIIIIIIII', 'IIIIZIIIIIIIIIIIIIIIIIIIZIIIIIIIIIII', 'IIIZIIIIIIIIIIIIIIIIIIIIZIIIIIIIIIII', 'IIZIIIIIIIIIIIIIIIIIIIIIZIIIIIIIIIII', 'IZIIIIIIIIIIIIIIIIIIIIIIZIIIIIIIIIII', 'ZIIIIIIIIIIIIIIIIIIIIIIIZIIIIIIIIIII', 'IIIIIIIIIIIIIIIIIIIIIIZZIIIIIIIIIIII', 'IIIIIIIIIIIIIIIIIIIIIZIZIIIIIIIIIIII', 'IIIIIIIIIIIIIIIIIIIIZIIZIIIIIIIIIIII', 'IIIIIIIIIIIIIIIIIIIZIIIZIIIIIIIIIIII', 'IIIIIIIIIIIIIIIIIIZIIIIZIIIIIIIIIIII', 'IIIIIIIIIIIIIIIIIZIIIIIZIIIIIIIIIIII', 'IIIIIIIIIIIIIIIIZIIIIIIZIIIIIIIIIIII', 'IIIIIIIIIIIIIIIZIIIIIIIZIIIIIIIIIIII', 'IIIIIIIIIIIIIIZIIIIIIIIZIIIIIIIIIIII', 'IIIIIIIIIIIIIIIIIIIIIZZIIIIIIIIIIIII', 'IIIIIIIIIIIIIZIIIIIIIIZIIIIIIIIIIIII', 'IIIIIIIIIIIIZIIIIIIIIIZIIIIIIIIIIIII', 'IIIIIIIIIIIZIIIIIIIIIIZIIIIIIIIIIIII', 'IIIIIIIIIIZIIIIIIIIIIIZIIIIIIIIIIIII', 'IIIIIIIIIZIIIIIIIIIIIIZIIIIIIIIIIIII', 'IIIIIIIIZIIIIIIIIIIIIIZIIIIIIIIIIIII', 'IIIIIIIZIIIIIIIIIIIIIIZIIIIIIIIIIIII', 'IIIIIIZIIIIIIIIIIIIIIZIIIIIIIIIIIIII', 'IIIIIZIIIIIIIIIIIIIIIZIIIIIIIIIIIIII', 'IIIIZIIIIIIIIIIIIIIIIZIIIIIIIIIIIIII', 'IIIZIIIIIIIIIIIIIIIIIZIIIIIIIIIIIIII', 'IIZIIIIIIIIIIIIIIIIIIZIIIIIIIIIIIIII', 'IZIIIIIIIIIIIIIIIIIIIZIIIIIIIIIIIIII', 'ZIIIIIIIIIIIIIIIIIIIIZIIIIIIIIIIIIII', 'IIIIIIIIIIIIIIIIIIIZZIIIIIIIIIIIIIII', 'IIIIIIIIIIIIIIIIIIZIZIIIIIIIIIIIIIII', 'IIIIIIIIIIIIIIIIIZIIZIIIIIIIIIIIIIII', 'IIIIIIIIIIIIIIIIZIIIZIIIIIIIIIIIIIII', 'IIIIIIIIIIIIIIIZIIIIZIIIIIIIIIIIIIII', 'IIIIIIIIIIIIIIZIIIIIZIIIIIIIIIIIIIII', 'IIIIIIIIIIIIIIIIIIZZIIIIIIIIIIIIIIII', 'IIIIIIIIIIIIIIIIIZIZIIIIIIIIIIIIIIII', 'IIIIIIIIIIIIIIIIZIIZIIIIIIIIIIIIIIII', 'IIIIIIIIIIIIIIIZIIIZIIIIIIIIIIIIIIII', 'IIIIIIIIIIIIIIZIIIIZIIIIIIIIIIIIIIII', 'IIIIIIIIIIIIIIIIIZZIIIIIIIIIIIIIIIII', 'IIIIIIIIIIIIIIIIZIZIIIIIIIIIIIIIIIII', 'IIIIIIIIIIIIIIIZIIZIIIIIIIIIIIIIIIII', 'IIIIIIIIIIIIIIZIIIZIIIIIIIIIIIIIIIII', 'IIIIIIIIIIIIIIIIZZIIIIIIIIIIIIIIIIII', 'IIIIIIIIIIIIIIIZIZIIIIIIIIIIIIIIIIII', 'IIIIIIIIIIIIIIZIIZIIIIIIIIIIIIIIIIII', 'IIIIIIIIIIIIIIIZZIIIIIIIIIIIIIIIIIII', 'IIIIIIIIIIIIIIZIZIIIIIIIIIIIIIIIIIII', 'IIIIIIIIIIIIIIZZIIIIIIIIIIIIIIIIIIII', 'IIIIIIIIIIIIZZIIIIIIIIIIIIIIIIIIIIII', 'IIIIIIIIIIIZIZIIIIIIIIIIIIIIIIIIIIII', 'IIIIIIIIIIZIIZIIIIIIIIIIIIIIIIIIIIII', 'IIIIIIIIIZIIIZIIIIIIIIIIIIIIIIIIIIII', 'IIIIIIIIZIIIIZIIIIIIIIIIIIIIIIIIIIII', 'IIIIIIIZIIIIIZIIIIIIIIIIIIIIIIIIIIII', 'IIIIIIIIIIIZZIIIIIIIIIIIIIIIIIIIIIII', 'IIIIIIIIIIZIZIIIIIIIIIIIIIIIIIIIIIII', 'IIIIIIIIIZIIZIIIIIIIIIIIIIIIIIIIIIII', 'IIIIIIIIZIIIZIIIIIIIIIIIIIIIIIIIIIII', 'IIIIIIIZIIIIZIIIIIIIIIIIIIIIIIIIIIII', 'IIIIIIIIIIZZIIIIIIIIIIIIIIIIIIIIIIII', 'IIIIIIIIIZIZIIIIIIIIIIIIIIIIIIIIIIII', 'IIIIIIIIZIIZIIIIIIIIIIIIIIIIIIIIIIII', 'IIIIIIIZIIIZIIIIIIIIIIIIIIIIIIIIIIII', 'IIIIIIIIIZZIIIIIIIIIIIIIIIIIIIIIIIII', 'IIIIIIIIZIZIIIIIIIIIIIIIIIIIIIIIIIII', 'IIIIIIIZIIZIIIIIIIIIIIIIIIIIIIIIIIII', 'IIIIIIIIZZIIIIIIIIIIIIIIIIIIIIIIIIII', 'IIIIIIIZIZIIIIIIIIIIIIIIIIIIIIIIIIII', 'IIIIIIIZZIIIIIIIIIIIIIIIIIIIIIIIIIII', 'IIIIIZZIIIIIIIIIIIIIIIIIIIIIIIIIIIII', 'IIIIZIZIIIIIIIIIIIIIIIIIIIIIIIIIIIII', 'IIIZIIZIIIIIIIIIIIIIIIIIIIIIIIIIIIII', 'IIZIIIZIIIIIIIIIIIIIIIIIIIIIIIIIIIII', 'IZIIIIZIIIIIIIIIIIIIIIIIIIIIIIIIIIII', 'ZIIIIIZIIIIIIIIIIIIIIIIIIIIIIIIIIIII', 'IIIIZZIIIIIIIIIIIIIIIIIIIIIIIIIIIIII', 'IIIZIZIIIIIIIIIIIIIIIIIIIIIIIIIIIIII', 'IIZIIZIIIIIIIIIIIIIIIIIIIIIIIIIIIIII', 'IZIIIZIIIIIIIIIIIIIIIIIIIIIIIIIIIIII', 'ZIIIIZIIIIIIIIIIIIIIIIIIIIIIIIIIIIII', 'IIIZZIIIIIIIIIIIIIIIIIIIIIIIIIIIIIII', 'IIZIZIIIIIIIIIIIIIIIIIIIIIIIIIIIIIII', 'IZIIZIIIIIIIIIIIIIIIIIIIIIIIIIIIIIII', 'ZIIIZIIIIIIIIIIIIIIIIIIIIIIIIIIIIIII', 'IIZZIIIIIIIIIIIIIIIIIIIIIIIIIIIIIIII', 'IZIZIIIIIIIIIIIIIIIIIIIIIIIIIIIIIIII', 'ZIIZIIIIIIIIIIIIIIIIIIIIIIIIIIIIIIII', 'IZZIIIIIIIIIIIIIIIIIIIIIIIIIIIIIIIII', 'ZIZIIIIIIIIIIIIIIIIIIIIIIIIIIIIIIIII', 'ZZIIIIIIIIIIIIIIIIIIIIIIIIIIIIIIIIII'],\n",
      "              coeffs=[ 1.6999995e+06+0.j,  1.6999995e+06+0.j,  1.6999995e+06+0.j,\n",
      " -9.3505000e+05+0.j, -9.3505000e+05+0.j, -9.3505000e+05+0.j,\n",
      " -6.8005000e+05+0.j, -6.8005000e+05+0.j, -6.8005000e+05+0.j,\n",
      " -4.2505000e+05+0.j, -4.2505000e+05+0.j, -4.2505000e+05+0.j,\n",
      " -8.5005000e+05+0.j, -8.5005000e+05+0.j, -8.5005000e+05+0.j,\n",
      " -5.5000000e+05+0.j, -4.0000000e+05+0.j, -2.5000000e+05+0.j,\n",
      " -5.0000000e+05+0.j, -1.0000000e+04+0.j, -1.7000000e+04+0.j,\n",
      " -2.0000000e+04+0.j, -3.4000000e+04+0.j, -4.0000000e+04+0.j,\n",
      " -6.8000000e+04+0.j, -8.0000000e+04+0.j, -1.3600000e+05+0.j,\n",
      " -1.6000000e+05+0.j, -2.7200000e+05+0.j, -3.2000000e+05+0.j,\n",
      " -5.4400000e+05+0.j, -3.7000000e+05+0.j, -6.2900000e+05+0.j,\n",
      " -5.5000000e+05+0.j, -4.0000000e+05+0.j, -2.5000000e+05+0.j,\n",
      " -5.0000000e+05+0.j, -1.0000000e+04+0.j, -1.7000000e+04+0.j,\n",
      " -2.0000000e+04+0.j, -3.4000000e+04+0.j, -4.0000000e+04+0.j,\n",
      " -6.8000000e+04+0.j, -8.0000000e+04+0.j, -1.3600000e+05+0.j,\n",
      " -1.6000000e+05+0.j, -2.7200000e+05+0.j, -3.2000000e+05+0.j,\n",
      " -5.4400000e+05+0.j, -3.7000000e+05+0.j, -6.2900000e+05+0.j,\n",
      " -5.5000000e+05+0.j, -4.0000000e+05+0.j, -2.5000000e+05+0.j,\n",
      " -5.0000000e+05+0.j, -1.0000000e+04+0.j, -1.7000000e+04+0.j,\n",
      " -2.0000000e+04+0.j, -3.4000000e+04+0.j, -4.0000000e+04+0.j,\n",
      " -6.8000000e+04+0.j, -8.0000000e+04+0.j, -1.3600000e+05+0.j,\n",
      " -1.6000000e+05+0.j, -2.7200000e+05+0.j, -3.2000000e+05+0.j,\n",
      " -5.4400000e+05+0.j, -3.7000000e+05+0.j, -6.2900000e+05+0.j,\n",
      "  5.0000000e+01+0.j,  5.0000000e+01+0.j,  2.2000000e+05+0.j,\n",
      "  1.3750000e+05+0.j,  2.7500000e+05+0.j,  5.5000000e+03+0.j,\n",
      "  1.1000000e+04+0.j,  2.2000000e+04+0.j,  4.4000000e+04+0.j,\n",
      "  8.8000000e+04+0.j,  1.7600000e+05+0.j,  2.0350000e+05+0.j,\n",
      "  5.0000000e+01+0.j,  2.2000000e+05+0.j,  1.3750000e+05+0.j,\n",
      "  2.7500000e+05+0.j,  5.5000000e+03+0.j,  1.1000000e+04+0.j,\n",
      "  2.2000000e+04+0.j,  4.4000000e+04+0.j,  8.8000000e+04+0.j,\n",
      "  1.7600000e+05+0.j,  2.0350000e+05+0.j,  2.2000000e+05+0.j,\n",
      "  1.3750000e+05+0.j,  2.7500000e+05+0.j,  5.5000000e+03+0.j,\n",
      "  1.1000000e+04+0.j,  2.2000000e+04+0.j,  4.4000000e+04+0.j,\n",
      "  8.8000000e+04+0.j,  1.7600000e+05+0.j,  2.0350000e+05+0.j,\n",
      "  5.0000000e+01+0.j,  5.0000000e+01+0.j,  1.0000000e+05+0.j,\n",
      "  2.0000000e+05+0.j,  4.0000000e+03+0.j,  8.0000000e+03+0.j,\n",
      "  1.6000000e+04+0.j,  3.2000000e+04+0.j,  6.4000000e+04+0.j,\n",
      "  1.2800000e+05+0.j,  1.4800000e+05+0.j,  5.0000000e+01+0.j,\n",
      "  1.0000000e+05+0.j,  2.0000000e+05+0.j,  4.0000000e+03+0.j,\n",
      "  8.0000000e+03+0.j,  1.6000000e+04+0.j,  3.2000000e+04+0.j,\n",
      "  6.4000000e+04+0.j,  1.2800000e+05+0.j,  1.4800000e+05+0.j,\n",
      "  1.0000000e+05+0.j,  2.0000000e+05+0.j,  4.0000000e+03+0.j,\n",
      "  8.0000000e+03+0.j,  1.6000000e+04+0.j,  3.2000000e+04+0.j,\n",
      "  6.4000000e+04+0.j,  1.2800000e+05+0.j,  1.4800000e+05+0.j,\n",
      "  5.0000000e+01+0.j,  5.0000000e+01+0.j,  1.2500000e+05+0.j,\n",
      "  2.5000000e+03+0.j,  5.0000000e+03+0.j,  1.0000000e+04+0.j,\n",
      "  2.0000000e+04+0.j,  4.0000000e+04+0.j,  8.0000000e+04+0.j,\n",
      "  9.2500000e+04+0.j,  5.0000000e+01+0.j,  1.2500000e+05+0.j,\n",
      "  2.5000000e+03+0.j,  5.0000000e+03+0.j,  1.0000000e+04+0.j,\n",
      "  2.0000000e+04+0.j,  4.0000000e+04+0.j,  8.0000000e+04+0.j,\n",
      "  9.2500000e+04+0.j,  1.2500000e+05+0.j,  2.5000000e+03+0.j,\n",
      "  5.0000000e+03+0.j,  1.0000000e+04+0.j,  2.0000000e+04+0.j,\n",
      "  4.0000000e+04+0.j,  8.0000000e+04+0.j,  9.2500000e+04+0.j,\n",
      "  5.0000000e+01+0.j,  5.0000000e+01+0.j,  5.0000000e+03+0.j,\n",
      "  1.0000000e+04+0.j,  2.0000000e+04+0.j,  4.0000000e+04+0.j,\n",
      "  8.0000000e+04+0.j,  1.6000000e+05+0.j,  1.8500000e+05+0.j,\n",
      "  5.0000000e+01+0.j,  5.0000000e+03+0.j,  1.0000000e+04+0.j,\n",
      "  2.0000000e+04+0.j,  4.0000000e+04+0.j,  8.0000000e+04+0.j,\n",
      "  1.6000000e+05+0.j,  1.8500000e+05+0.j,  5.0000000e+03+0.j,\n",
      "  1.0000000e+04+0.j,  2.0000000e+04+0.j,  4.0000000e+04+0.j,\n",
      "  8.0000000e+04+0.j,  1.6000000e+05+0.j,  1.8500000e+05+0.j,\n",
      "  2.0000000e+02+0.j,  4.0000000e+02+0.j,  8.0000000e+02+0.j,\n",
      "  1.6000000e+03+0.j,  3.2000000e+03+0.j,  3.7000000e+03+0.j,\n",
      "  8.0000000e+02+0.j,  1.6000000e+03+0.j,  3.2000000e+03+0.j,\n",
      "  6.4000000e+03+0.j,  7.4000000e+03+0.j,  3.2000000e+03+0.j,\n",
      "  6.4000000e+03+0.j,  1.2800000e+04+0.j,  1.4800000e+04+0.j,\n",
      "  1.2800000e+04+0.j,  2.5600000e+04+0.j,  2.9600000e+04+0.j,\n",
      "  5.1200000e+04+0.j,  5.9200000e+04+0.j,  1.1840000e+05+0.j,\n",
      "  2.0000000e+02+0.j,  4.0000000e+02+0.j,  8.0000000e+02+0.j,\n",
      "  1.6000000e+03+0.j,  3.2000000e+03+0.j,  3.7000000e+03+0.j,\n",
      "  8.0000000e+02+0.j,  1.6000000e+03+0.j,  3.2000000e+03+0.j,\n",
      "  6.4000000e+03+0.j,  7.4000000e+03+0.j,  3.2000000e+03+0.j,\n",
      "  6.4000000e+03+0.j,  1.2800000e+04+0.j,  1.4800000e+04+0.j,\n",
      "  1.2800000e+04+0.j,  2.5600000e+04+0.j,  2.9600000e+04+0.j,\n",
      "  5.1200000e+04+0.j,  5.9200000e+04+0.j,  1.1840000e+05+0.j,\n",
      "  2.0000000e+02+0.j,  4.0000000e+02+0.j,  8.0000000e+02+0.j,\n",
      "  1.6000000e+03+0.j,  3.2000000e+03+0.j,  3.7000000e+03+0.j,\n",
      "  8.0000000e+02+0.j,  1.6000000e+03+0.j,  3.2000000e+03+0.j,\n",
      "  6.4000000e+03+0.j,  7.4000000e+03+0.j,  3.2000000e+03+0.j,\n",
      "  6.4000000e+03+0.j,  1.2800000e+04+0.j,  1.4800000e+04+0.j,\n",
      "  1.2800000e+04+0.j,  2.5600000e+04+0.j,  2.9600000e+04+0.j,\n",
      "  5.1200000e+04+0.j,  5.9200000e+04+0.j,  1.1840000e+05+0.j])\n",
      "Problem name: \n",
      "\n",
      "Minimize\n",
      "  2000001*x0^2 - 2000000*x0*x12 - 40000*x0*x15 - 80000*x0*x16 - 160000*x0*x17\n",
      "  - 320000*x0*x18 - 640000*x0*x19 - 1280000*x0*x20 - 1480000*x0*x21\n",
      "  - 2200000*x0*x3 - 1600000*x0*x6 - 1000000*x0*x9 + 2000001*x1^2\n",
      "  - 1000000*x1*x10 - 2000000*x1*x13 - 40000*x1*x22 - 80000*x1*x23\n",
      "  - 160000*x1*x24 - 320000*x1*x25 - 640000*x1*x26 - 1280000*x1*x27\n",
      "  - 1480000*x1*x28 - 2200000*x1*x4 - 1600000*x1*x7 + 124900*x10^2 + 200*x10*x11\n",
      "  + 500000*x10*x13 + 10000*x10*x22 + 20000*x10*x23 + 40000*x10*x24\n",
      "  + 80000*x10*x25 + 160000*x10*x26 + 320000*x10*x27 + 370000*x10*x28\n",
      "  + 124900*x11^2 + 500000*x11*x14 + 10000*x11*x29 + 20000*x11*x30\n",
      "  + 40000*x11*x31 + 80000*x11*x32 + 160000*x11*x33 + 320000*x11*x34\n",
      "  + 370000*x11*x35 + 499900*x12^2 + 200*x12*x13 + 200*x12*x14 + 20000*x12*x15\n",
      "  + 40000*x12*x16 + 80000*x12*x17 + 160000*x12*x18 + 320000*x12*x19\n",
      "  + 640000*x12*x20 + 740000*x12*x21 + 499900*x13^2 + 200*x13*x14 + 20000*x13*x22\n",
      "  + 40000*x13*x23 + 80000*x13*x24 + 160000*x13*x25 + 320000*x13*x26\n",
      "  + 640000*x13*x27 + 740000*x13*x28 + 499900*x14^2 + 20000*x14*x29\n",
      "  + 40000*x14*x30 + 80000*x14*x31 + 160000*x14*x32 + 320000*x14*x33\n",
      "  + 640000*x14*x34 + 740000*x14*x35 + 200*x15^2 + 800*x15*x16 + 1600*x15*x17\n",
      "  + 3200*x15*x18 + 6400*x15*x19 + 12800*x15*x20 + 14800*x15*x21 + 800*x16^2\n",
      "  + 3200*x16*x17 + 6400*x16*x18 + 12800*x16*x19 + 25600*x16*x20 + 29600*x16*x21\n",
      "  + 3200*x17^2 + 12800*x17*x18 + 25600*x17*x19 + 51200*x17*x20 + 59200*x17*x21\n",
      "  + 12800*x18^2 + 51200*x18*x19 + 102400*x18*x20 + 118400*x18*x21 + 51200*x19^2\n",
      "  + 204800*x19*x20 + 236800*x19*x21 - 1000000*x2*x11 - 2000000*x2*x14\n",
      "  + 2000001*x2^2 - 40000*x2*x29 - 80000*x2*x30 - 160000*x2*x31 - 320000*x2*x32\n",
      "  - 640000*x2*x33 - 1280000*x2*x34 - 1480000*x2*x35 - 2200000*x2*x5\n",
      "  - 1600000*x2*x8 + 204800*x20^2 + 473600*x20*x21 + 273800*x21^2 + 200*x22^2\n",
      "  + 800*x22*x23 + 1600*x22*x24 + 3200*x22*x25 + 6400*x22*x26 + 12800*x22*x27\n",
      "  + 14800*x22*x28 + 800*x23^2 + 3200*x23*x24 + 6400*x23*x25 + 12800*x23*x26\n",
      "  + 25600*x23*x27 + 29600*x23*x28 + 3200*x24^2 + 12800*x24*x25 + 25600*x24*x26\n",
      "  + 51200*x24*x27 + 59200*x24*x28 + 12800*x25^2 + 51200*x25*x26 + 102400*x25*x27\n",
      "  + 118400*x25*x28 + 51200*x26^2 + 204800*x26*x27 + 236800*x26*x28\n",
      "  + 204800*x27^2 + 473600*x27*x28 + 273800*x28^2 + 200*x29^2 + 800*x29*x30\n",
      "  + 1600*x29*x31 + 3200*x29*x32 + 6400*x29*x33 + 12800*x29*x34 + 14800*x29*x35\n",
      "  + 1100000*x3*x12 + 22000*x3*x15 + 44000*x3*x16 + 88000*x3*x17 + 176000*x3*x18\n",
      "  + 352000*x3*x19 + 704000*x3*x20 + 814000*x3*x21 + 604900*x3^2 + 200*x3*x4\n",
      "  + 200*x3*x5 + 880000*x3*x6 + 550000*x3*x9 + 800*x30^2 + 3200*x30*x31\n",
      "  + 6400*x30*x32 + 12800*x30*x33 + 25600*x30*x34 + 29600*x30*x35 + 3200*x31^2\n",
      "  + 12800*x31*x32 + 25600*x31*x33 + 51200*x31*x34 + 59200*x31*x35 + 12800*x32^2\n",
      "  + 51200*x32*x33 + 102400*x32*x34 + 118400*x32*x35 + 51200*x33^2\n",
      "  + 204800*x33*x34 + 236800*x33*x35 + 204800*x34^2 + 473600*x34*x35\n",
      "  + 273800*x35^2 + 550000*x4*x10 + 1100000*x4*x13 + 22000*x4*x22 + 44000*x4*x23\n",
      "  + 88000*x4*x24 + 176000*x4*x25 + 352000*x4*x26 + 704000*x4*x27 + 814000*x4*x28\n",
      "  + 604900*x4^2 + 200*x4*x5 + 880000*x4*x7 + 550000*x5*x11 + 1100000*x5*x14\n",
      "  + 22000*x5*x29 + 44000*x5*x30 + 88000*x5*x31 + 176000*x5*x32 + 352000*x5*x33\n",
      "  + 704000*x5*x34 + 814000*x5*x35 + 604900*x5^2 + 880000*x5*x8 + 800000*x6*x12\n",
      "  + 16000*x6*x15 + 32000*x6*x16 + 64000*x6*x17 + 128000*x6*x18 + 256000*x6*x19\n",
      "  + 512000*x6*x20 + 592000*x6*x21 + 319900*x6^2 + 200*x6*x7 + 200*x6*x8\n",
      "  + 400000*x6*x9 + 400000*x7*x10 + 800000*x7*x13 + 16000*x7*x22 + 32000*x7*x23\n",
      "  + 64000*x7*x24 + 128000*x7*x25 + 256000*x7*x26 + 512000*x7*x27 + 592000*x7*x28\n",
      "  + 319900*x7^2 + 200*x7*x8 + 400000*x8*x11 + 800000*x8*x14 + 16000*x8*x29\n",
      "  + 32000*x8*x30 + 64000*x8*x31 + 128000*x8*x32 + 256000*x8*x33 + 512000*x8*x34\n",
      "  + 592000*x8*x35 + 319900*x8^2 + 200*x9*x10 + 200*x9*x11 + 500000*x9*x12\n",
      "  + 10000*x9*x15 + 20000*x9*x16 + 40000*x9*x17 + 80000*x9*x18 + 160000*x9*x19\n",
      "  + 320000*x9*x20 + 370000*x9*x21 + 124900*x9^2 + 400\n",
      "\n",
      "Subject to\n",
      "  No constraints\n",
      "\n",
      "  Binary variables (36)\n",
      "    x0 x1 x2 x3 x4 x5 x6 x7 x8 x9 x10 x11 x12 x13 x14 x15 x16 x17 x18 x19 x20\n",
      "    x21 x22 x23 x24 x25 x26 x27 x28 x29 x30 x31 x32 x33 x34 x35\n"
     ]
    }
   ],
   "source": [
    "from qiskit_optimization.translators import from_ising\n",
    "\n",
    "def ising_conversion(qp):\n",
    "    print(qp.prettyprint())\n",
    "    op, offset = qp.to_ising()\n",
    "    print(op)\n",
    "    qp2 = from_ising(op, offset)\n",
    "    print(qp2.prettyprint())\n",
    "\n",
    "ising_conversion(quadratic_penalty(read_list('bpp_instances')[0]))"
   ],
   "metadata": {
    "collapsed": false,
    "ExecuteTime": {
     "end_time": "2024-01-28T19:15:04.445116Z",
     "start_time": "2024-01-28T19:15:04.352016Z"
    }
   },
   "id": "de0734df5faedd09",
   "execution_count": 6
  },
  {
   "cell_type": "markdown",
   "id": "0e383180",
   "metadata": {},
   "source": [
    "# Solving BPP instances #\n",
    "Solve each problem instances using different methods:\n",
    "## CPLEX optimizer ##\n",
    "Classic optimizer, to be used as baseline with all the others."
   ]
  },
  {
   "cell_type": "code",
   "outputs": [
    {
     "name": "stdout",
     "output_type": "stream",
     "text": [
      "Invoking ['/Users/paulpinter/Repository/hybrid-quantum-ass3/venv/bin/python', '-m', 'pip', 'install', '.'] in /Users/paulpinter/Applications/CPLEX_Studio_Community2211/cplex/python/3.9/arm64_osx\r\n",
      "Processing /Users/paulpinter/Applications/CPLEX_Studio_Community2211/cplex/python/3.9/arm64_osx\r\n",
      "  Preparing metadata (setup.py) ... \u001B[?25ldone\r\n",
      "\u001B[?25hBuilding wheels for collected packages: cplex\r\n",
      "  Building wheel for cplex (setup.py) ... \u001B[?25ldone\r\n",
      "\u001B[?25h  Created wheel for cplex: filename=cplex-22.1.1.0-py3-none-any.whl size=8153295 sha256=4058f4ccd64f63a60a403eba2a6b21a75a6815309c0eec90d8cafe32287bfc40\r\n",
      "  Stored in directory: /private/var/folders/6l/zlnf9sw956d63h7tczx2cqv00000gn/T/pip-ephem-wheel-cache-ozlnyhqi/wheels/1d/cd/cd/a559b6d9c297ea89fe811bf256b1066cc5e0e02508337d4277\r\n",
      "Successfully built cplex\r\n",
      "Installing collected packages: cplex\r\n",
      "  Attempting uninstall: cplex\r\n",
      "    Found existing installation: cplex 22.1.1.0\r\n",
      "    Uninstalling cplex-22.1.1.0:\r\n",
      "      Successfully uninstalled cplex-22.1.1.0\r\n",
      "Successfully installed cplex-22.1.1.0\r\n",
      "\r\n",
      "\u001B[1m[\u001B[0m\u001B[34;49mnotice\u001B[0m\u001B[1;39;49m]\u001B[0m\u001B[39;49m A new release of pip is available: \u001B[0m\u001B[31;49m23.2.1\u001B[0m\u001B[39;49m -> \u001B[0m\u001B[32;49m23.3.2\u001B[0m\r\n",
      "\u001B[1m[\u001B[0m\u001B[34;49mnotice\u001B[0m\u001B[1;39;49m]\u001B[0m\u001B[39;49m To update, run: \u001B[0m\u001B[32;49mpip install --upgrade pip\u001B[0m\r\n",
      "Invoking ['/Users/paulpinter/Repository/hybrid-quantum-ass3/venv/bin/python', '-m', 'pip', 'install', 'docplex']\r\n",
      "Requirement already satisfied: docplex in ./venv/lib/python3.9/site-packages (2.25.236)\r\n",
      "Requirement already satisfied: six in ./venv/lib/python3.9/site-packages (from docplex) (1.16.0)\r\n",
      "\r\n",
      "\u001B[1m[\u001B[0m\u001B[34;49mnotice\u001B[0m\u001B[1;39;49m]\u001B[0m\u001B[39;49m A new release of pip is available: \u001B[0m\u001B[31;49m23.2.1\u001B[0m\u001B[39;49m -> \u001B[0m\u001B[32;49m23.3.2\u001B[0m\r\n",
      "\u001B[1m[\u001B[0m\u001B[34;49mnotice\u001B[0m\u001B[1;39;49m]\u001B[0m\u001B[39;49m To update, run: \u001B[0m\u001B[32;49mpip install --upgrade pip\u001B[0m\r\n"
     ]
    }
   ],
   "source": [
    "#!pip install qiskit-optimization[cplex]\n",
    "!python ~/Applications/CPLEX_Studio_Community2211/python/setup.py install"
   ],
   "metadata": {
    "collapsed": false,
    "ExecuteTime": {
     "end_time": "2024-01-28T19:15:07.460490Z",
     "start_time": "2024-01-28T19:15:04.445685Z"
    }
   },
   "id": "475d42229e27295e",
   "execution_count": 7
  },
  {
   "cell_type": "code",
   "outputs": [
    {
     "name": "stdout",
     "output_type": "stream",
     "text": [
      "Requirement already satisfied: pandas in ./venv/lib/python3.9/site-packages (2.2.0)\r\n",
      "Requirement already satisfied: numpy<2,>=1.22.4 in ./venv/lib/python3.9/site-packages (from pandas) (1.26.3)\r\n",
      "Requirement already satisfied: python-dateutil>=2.8.2 in ./venv/lib/python3.9/site-packages (from pandas) (2.8.2)\r\n",
      "Requirement already satisfied: pytz>=2020.1 in ./venv/lib/python3.9/site-packages (from pandas) (2023.3.post1)\r\n",
      "Requirement already satisfied: tzdata>=2022.7 in ./venv/lib/python3.9/site-packages (from pandas) (2023.4)\r\n",
      "Requirement already satisfied: six>=1.5 in ./venv/lib/python3.9/site-packages (from python-dateutil>=2.8.2->pandas) (1.16.0)\r\n",
      "\r\n",
      "\u001B[1m[\u001B[0m\u001B[34;49mnotice\u001B[0m\u001B[1;39;49m]\u001B[0m\u001B[39;49m A new release of pip is available: \u001B[0m\u001B[31;49m23.2.1\u001B[0m\u001B[39;49m -> \u001B[0m\u001B[32;49m23.3.2\u001B[0m\r\n",
      "\u001B[1m[\u001B[0m\u001B[34;49mnotice\u001B[0m\u001B[1;39;49m]\u001B[0m\u001B[39;49m To update, run: \u001B[0m\u001B[32;49mpip install --upgrade pip\u001B[0m\r\n"
     ]
    }
   ],
   "source": [
    "!pip install pandas"
   ],
   "metadata": {
    "collapsed": false,
    "ExecuteTime": {
     "end_time": "2024-01-28T19:15:08.440259Z",
     "start_time": "2024-01-28T19:15:07.461766Z"
    }
   },
   "id": "b5c58e70f63b1c2c",
   "execution_count": 8
  },
  {
   "cell_type": "code",
   "outputs": [],
   "source": [
    "def create_instance_df(instances):\n",
    "    instance_file = 'instance_data.csv'\n",
    "    instance_df = pd.DataFrame(columns=['id', 'weights', 'capacity', 'bins', 'items','number_var'])\n",
    "    for idx, ins in enumerate(instances):\n",
    "        bp = quadratic_penalty(ins)\n",
    "        instance_df.loc[idx] = [idx, ins[0], ins[1], ins[2], ins[3], bp.get_num_vars()]\n",
    "    instance_df.to_csv(instance_file, index=False)"
   ],
   "metadata": {
    "collapsed": false,
    "ExecuteTime": {
     "end_time": "2024-01-28T19:15:08.450532Z",
     "start_time": "2024-01-28T19:15:08.439355Z"
    }
   },
   "id": "197ebe8f11a2eaf8",
   "execution_count": 9
  },
  {
   "cell_type": "code",
   "outputs": [],
   "source": [
    "from qiskit_optimization.algorithms import CplexOptimizer\n",
    "from time import time\n",
    "def create_classical_df(instances):\n",
    "    classical_file = 'classical_data.csv'\n",
    "    classical_df = pd.DataFrame(columns=['id', 'instance_id', 'optimum', 'time'])\n",
    "    for idx, ins in enumerate(instances):\n",
    "        bp = quadratic_penalty(ins)\n",
    "        cplex_solver = CplexOptimizer()\n",
    "        start_time = time()\n",
    "        result = cplex_solver.solve(bp)\n",
    "        end_time = time()\n",
    "        execution_time = end_time - start_time\n",
    "        classical_df.loc[idx] = [idx, idx, result.fval, execution_time]\n",
    "    classical_df.to_csv(classical_file, index=False)"
   ],
   "metadata": {
    "collapsed": false,
    "ExecuteTime": {
     "end_time": "2024-01-28T19:15:08.829570Z",
     "start_time": "2024-01-28T19:15:08.447984Z"
    }
   },
   "id": "543ba05315547019",
   "execution_count": 10
  },
  {
   "cell_type": "markdown",
   "source": [
    "## QAOA solution ##"
   ],
   "metadata": {},
   "id": "de1e20c0"
  },
  {
   "cell_type": "code",
   "outputs": [
    {
     "name": "stdout",
     "output_type": "stream",
     "text": [
      "Requirement already satisfied: qiskit-algorithms in ./venv/lib/python3.9/site-packages (0.2.2)\r\n",
      "Requirement already satisfied: qiskit>=0.44 in ./venv/lib/python3.9/site-packages (from qiskit-algorithms) (0.45.2)\r\n",
      "Requirement already satisfied: scipy>=1.4 in ./venv/lib/python3.9/site-packages (from qiskit-algorithms) (1.12.0)\r\n",
      "Requirement already satisfied: numpy>=1.17 in ./venv/lib/python3.9/site-packages (from qiskit-algorithms) (1.26.3)\r\n",
      "Requirement already satisfied: qiskit-terra==0.45.2 in ./venv/lib/python3.9/site-packages (from qiskit>=0.44->qiskit-algorithms) (0.45.2)\r\n",
      "Requirement already satisfied: rustworkx>=0.13.0 in ./venv/lib/python3.9/site-packages (from qiskit-terra==0.45.2->qiskit>=0.44->qiskit-algorithms) (0.14.0)\r\n",
      "Requirement already satisfied: ply>=3.10 in ./venv/lib/python3.9/site-packages (from qiskit-terra==0.45.2->qiskit>=0.44->qiskit-algorithms) (3.11)\r\n",
      "Requirement already satisfied: psutil>=5 in ./venv/lib/python3.9/site-packages (from qiskit-terra==0.45.2->qiskit>=0.44->qiskit-algorithms) (5.9.8)\r\n",
      "Requirement already satisfied: sympy>=1.3 in ./venv/lib/python3.9/site-packages (from qiskit-terra==0.45.2->qiskit>=0.44->qiskit-algorithms) (1.12)\r\n",
      "Requirement already satisfied: dill>=0.3 in ./venv/lib/python3.9/site-packages (from qiskit-terra==0.45.2->qiskit>=0.44->qiskit-algorithms) (0.3.7)\r\n",
      "Requirement already satisfied: python-dateutil>=2.8.0 in ./venv/lib/python3.9/site-packages (from qiskit-terra==0.45.2->qiskit>=0.44->qiskit-algorithms) (2.8.2)\r\n",
      "Requirement already satisfied: stevedore>=3.0.0 in ./venv/lib/python3.9/site-packages (from qiskit-terra==0.45.2->qiskit>=0.44->qiskit-algorithms) (5.1.0)\r\n",
      "Requirement already satisfied: symengine!=0.10.0,>=0.9 in ./venv/lib/python3.9/site-packages (from qiskit-terra==0.45.2->qiskit>=0.44->qiskit-algorithms) (0.11.0)\r\n",
      "Requirement already satisfied: typing-extensions in ./venv/lib/python3.9/site-packages (from qiskit-terra==0.45.2->qiskit>=0.44->qiskit-algorithms) (4.9.0)\r\n",
      "Requirement already satisfied: six>=1.5 in ./venv/lib/python3.9/site-packages (from python-dateutil>=2.8.0->qiskit-terra==0.45.2->qiskit>=0.44->qiskit-algorithms) (1.16.0)\r\n",
      "Requirement already satisfied: pbr!=2.1.0,>=2.0.0 in ./venv/lib/python3.9/site-packages (from stevedore>=3.0.0->qiskit-terra==0.45.2->qiskit>=0.44->qiskit-algorithms) (6.0.0)\r\n",
      "Requirement already satisfied: mpmath>=0.19 in ./venv/lib/python3.9/site-packages (from sympy>=1.3->qiskit-terra==0.45.2->qiskit>=0.44->qiskit-algorithms) (1.3.0)\r\n",
      "\r\n",
      "\u001B[1m[\u001B[0m\u001B[34;49mnotice\u001B[0m\u001B[1;39;49m]\u001B[0m\u001B[39;49m A new release of pip is available: \u001B[0m\u001B[31;49m23.2.1\u001B[0m\u001B[39;49m -> \u001B[0m\u001B[32;49m23.3.2\u001B[0m\r\n",
      "\u001B[1m[\u001B[0m\u001B[34;49mnotice\u001B[0m\u001B[1;39;49m]\u001B[0m\u001B[39;49m To update, run: \u001B[0m\u001B[32;49mpip install --upgrade pip\u001B[0m\r\n"
     ]
    }
   ],
   "source": [
    "!pip install qiskit-algorithms"
   ],
   "metadata": {
    "collapsed": false,
    "ExecuteTime": {
     "end_time": "2024-01-28T19:15:09.755260Z",
     "start_time": "2024-01-28T19:15:08.830549Z"
    }
   },
   "id": "3c782c17131b6782",
   "execution_count": 11
  },
  {
   "cell_type": "code",
   "outputs": [
    {
     "name": "stdout",
     "output_type": "stream",
     "text": [
      "Requirement already satisfied: qiskit-aer in ./venv/lib/python3.9/site-packages (0.13.2)\r\n",
      "Requirement already satisfied: qiskit>=0.45.0 in ./venv/lib/python3.9/site-packages (from qiskit-aer) (0.45.2)\r\n",
      "Requirement already satisfied: numpy>=1.16.3 in ./venv/lib/python3.9/site-packages (from qiskit-aer) (1.26.3)\r\n",
      "Requirement already satisfied: scipy>=1.0 in ./venv/lib/python3.9/site-packages (from qiskit-aer) (1.12.0)\r\n",
      "Requirement already satisfied: psutil>=5 in ./venv/lib/python3.9/site-packages (from qiskit-aer) (5.9.8)\r\n",
      "Requirement already satisfied: qiskit-terra==0.45.2 in ./venv/lib/python3.9/site-packages (from qiskit>=0.45.0->qiskit-aer) (0.45.2)\r\n",
      "Requirement already satisfied: rustworkx>=0.13.0 in ./venv/lib/python3.9/site-packages (from qiskit-terra==0.45.2->qiskit>=0.45.0->qiskit-aer) (0.14.0)\r\n",
      "Requirement already satisfied: ply>=3.10 in ./venv/lib/python3.9/site-packages (from qiskit-terra==0.45.2->qiskit>=0.45.0->qiskit-aer) (3.11)\r\n",
      "Requirement already satisfied: sympy>=1.3 in ./venv/lib/python3.9/site-packages (from qiskit-terra==0.45.2->qiskit>=0.45.0->qiskit-aer) (1.12)\r\n",
      "Requirement already satisfied: dill>=0.3 in ./venv/lib/python3.9/site-packages (from qiskit-terra==0.45.2->qiskit>=0.45.0->qiskit-aer) (0.3.7)\r\n",
      "Requirement already satisfied: python-dateutil>=2.8.0 in ./venv/lib/python3.9/site-packages (from qiskit-terra==0.45.2->qiskit>=0.45.0->qiskit-aer) (2.8.2)\r\n",
      "Requirement already satisfied: stevedore>=3.0.0 in ./venv/lib/python3.9/site-packages (from qiskit-terra==0.45.2->qiskit>=0.45.0->qiskit-aer) (5.1.0)\r\n",
      "Requirement already satisfied: symengine!=0.10.0,>=0.9 in ./venv/lib/python3.9/site-packages (from qiskit-terra==0.45.2->qiskit>=0.45.0->qiskit-aer) (0.11.0)\r\n",
      "Requirement already satisfied: typing-extensions in ./venv/lib/python3.9/site-packages (from qiskit-terra==0.45.2->qiskit>=0.45.0->qiskit-aer) (4.9.0)\r\n",
      "Requirement already satisfied: six>=1.5 in ./venv/lib/python3.9/site-packages (from python-dateutil>=2.8.0->qiskit-terra==0.45.2->qiskit>=0.45.0->qiskit-aer) (1.16.0)\r\n",
      "Requirement already satisfied: pbr!=2.1.0,>=2.0.0 in ./venv/lib/python3.9/site-packages (from stevedore>=3.0.0->qiskit-terra==0.45.2->qiskit>=0.45.0->qiskit-aer) (6.0.0)\r\n",
      "Requirement already satisfied: mpmath>=0.19 in ./venv/lib/python3.9/site-packages (from sympy>=1.3->qiskit-terra==0.45.2->qiskit>=0.45.0->qiskit-aer) (1.3.0)\r\n",
      "\r\n",
      "\u001B[1m[\u001B[0m\u001B[34;49mnotice\u001B[0m\u001B[1;39;49m]\u001B[0m\u001B[39;49m A new release of pip is available: \u001B[0m\u001B[31;49m23.2.1\u001B[0m\u001B[39;49m -> \u001B[0m\u001B[32;49m23.3.2\u001B[0m\r\n",
      "\u001B[1m[\u001B[0m\u001B[34;49mnotice\u001B[0m\u001B[1;39;49m]\u001B[0m\u001B[39;49m To update, run: \u001B[0m\u001B[32;49mpip install --upgrade pip\u001B[0m\r\n"
     ]
    }
   ],
   "source": [
    "#!pip install qiskit-aer-gpu\n",
    "!pip install qiskit-aer"
   ],
   "metadata": {
    "collapsed": false,
    "ExecuteTime": {
     "end_time": "2024-01-28T19:15:10.711806Z",
     "start_time": "2024-01-28T19:15:09.756131Z"
    }
   },
   "id": "963fd9aab43fb936",
   "execution_count": 12
  },
  {
   "cell_type": "code",
   "outputs": [],
   "source": [
    "from qiskit import Aer\n",
    "from qiskit.primitives import BackendSampler\n",
    "\n",
    "def aer_sampler(shots):\n",
    "    backend = Aer.get_backend('aer_simulator')\n",
    "    backend.set_options(shots=shots)\n",
    "    # backend.set_options(device='GPU', shots=shots)\n",
    "    return BackendSampler(backend=backend)"
   ],
   "metadata": {
    "collapsed": false,
    "ExecuteTime": {
     "end_time": "2024-01-28T19:15:10.721739Z",
     "start_time": "2024-01-28T19:15:10.713626Z"
    }
   },
   "id": "e5686da8dbacf0f4",
   "execution_count": 13
  },
  {
   "cell_type": "code",
   "outputs": [],
   "source": [
    "from qiskit_aer.noise import NoiseModel, phase_damping_error\n",
    "\n",
    "def noisy_sampler(shots):\n",
    "    noise_model = NoiseModel()\n",
    "    # Phase damping error\n",
    "    p_phase_damping = 0.05\n",
    "    phase_damping = phase_damping_error(p_phase_damping)\n",
    "    noise_model.add_all_qubit_quantum_error(phase_damping, 'z')\n",
    "    backend = Aer.get_backend('aer_simulator')\n",
    "    backend.set_options(shots=shots, noise_model=noise_model)\n",
    "    # backend.set_options(device='GPU', shots=shots)\n",
    "    return BackendSampler(backend=backend)"
   ],
   "metadata": {
    "collapsed": false,
    "ExecuteTime": {
     "end_time": "2024-01-28T19:15:10.755317Z",
     "start_time": "2024-01-28T19:15:10.717707Z"
    }
   },
   "id": "5afaf107485b410",
   "execution_count": 14
  },
  {
   "cell_type": "code",
   "outputs": [
    {
     "name": "stdout",
     "output_type": "stream",
     "text": [
      "Requirement already satisfied: qiskit-aqt-provider in ./venv/lib/python3.9/site-packages (1.1.0)\r\n",
      "Requirement already satisfied: httpx>=0.24.0 in ./venv/lib/python3.9/site-packages (from qiskit-aqt-provider) (0.26.0)\r\n",
      "Requirement already satisfied: platformdirs>=3 in ./venv/lib/python3.9/site-packages (from qiskit-aqt-provider) (4.1.0)\r\n",
      "Requirement already satisfied: pydantic>=2.5.0 in ./venv/lib/python3.9/site-packages (from qiskit-aqt-provider) (2.5.3)\r\n",
      "Requirement already satisfied: python-dotenv>=1 in ./venv/lib/python3.9/site-packages (from qiskit-aqt-provider) (1.0.1)\r\n",
      "Requirement already satisfied: qiskit>=0.45.0 in ./venv/lib/python3.9/site-packages (from qiskit-aqt-provider) (0.45.2)\r\n",
      "Requirement already satisfied: qiskit-aer>=0.11 in ./venv/lib/python3.9/site-packages (from qiskit-aqt-provider) (0.13.2)\r\n",
      "Requirement already satisfied: tabulate>=0.9.0 in ./venv/lib/python3.9/site-packages (from qiskit-aqt-provider) (0.9.0)\r\n",
      "Requirement already satisfied: tqdm>=4 in ./venv/lib/python3.9/site-packages (from qiskit-aqt-provider) (4.66.1)\r\n",
      "Requirement already satisfied: typing-extensions>=4.0.0 in ./venv/lib/python3.9/site-packages (from qiskit-aqt-provider) (4.9.0)\r\n",
      "Requirement already satisfied: anyio in ./venv/lib/python3.9/site-packages (from httpx>=0.24.0->qiskit-aqt-provider) (4.2.0)\r\n",
      "Requirement already satisfied: certifi in ./venv/lib/python3.9/site-packages (from httpx>=0.24.0->qiskit-aqt-provider) (2023.11.17)\r\n",
      "Requirement already satisfied: httpcore==1.* in ./venv/lib/python3.9/site-packages (from httpx>=0.24.0->qiskit-aqt-provider) (1.0.2)\r\n",
      "Requirement already satisfied: idna in ./venv/lib/python3.9/site-packages (from httpx>=0.24.0->qiskit-aqt-provider) (3.6)\r\n",
      "Requirement already satisfied: sniffio in ./venv/lib/python3.9/site-packages (from httpx>=0.24.0->qiskit-aqt-provider) (1.3.0)\r\n",
      "Requirement already satisfied: h11<0.15,>=0.13 in ./venv/lib/python3.9/site-packages (from httpcore==1.*->httpx>=0.24.0->qiskit-aqt-provider) (0.14.0)\r\n",
      "Requirement already satisfied: annotated-types>=0.4.0 in ./venv/lib/python3.9/site-packages (from pydantic>=2.5.0->qiskit-aqt-provider) (0.6.0)\r\n",
      "Requirement already satisfied: pydantic-core==2.14.6 in ./venv/lib/python3.9/site-packages (from pydantic>=2.5.0->qiskit-aqt-provider) (2.14.6)\r\n",
      "Requirement already satisfied: qiskit-terra==0.45.2 in ./venv/lib/python3.9/site-packages (from qiskit>=0.45.0->qiskit-aqt-provider) (0.45.2)\r\n",
      "Requirement already satisfied: rustworkx>=0.13.0 in ./venv/lib/python3.9/site-packages (from qiskit-terra==0.45.2->qiskit>=0.45.0->qiskit-aqt-provider) (0.14.0)\r\n",
      "Requirement already satisfied: numpy<2,>=1.17 in ./venv/lib/python3.9/site-packages (from qiskit-terra==0.45.2->qiskit>=0.45.0->qiskit-aqt-provider) (1.26.3)\r\n",
      "Requirement already satisfied: ply>=3.10 in ./venv/lib/python3.9/site-packages (from qiskit-terra==0.45.2->qiskit>=0.45.0->qiskit-aqt-provider) (3.11)\r\n",
      "Requirement already satisfied: psutil>=5 in ./venv/lib/python3.9/site-packages (from qiskit-terra==0.45.2->qiskit>=0.45.0->qiskit-aqt-provider) (5.9.8)\r\n",
      "Requirement already satisfied: scipy>=1.5 in ./venv/lib/python3.9/site-packages (from qiskit-terra==0.45.2->qiskit>=0.45.0->qiskit-aqt-provider) (1.12.0)\r\n",
      "Requirement already satisfied: sympy>=1.3 in ./venv/lib/python3.9/site-packages (from qiskit-terra==0.45.2->qiskit>=0.45.0->qiskit-aqt-provider) (1.12)\r\n",
      "Requirement already satisfied: dill>=0.3 in ./venv/lib/python3.9/site-packages (from qiskit-terra==0.45.2->qiskit>=0.45.0->qiskit-aqt-provider) (0.3.7)\r\n",
      "Requirement already satisfied: python-dateutil>=2.8.0 in ./venv/lib/python3.9/site-packages (from qiskit-terra==0.45.2->qiskit>=0.45.0->qiskit-aqt-provider) (2.8.2)\r\n",
      "Requirement already satisfied: stevedore>=3.0.0 in ./venv/lib/python3.9/site-packages (from qiskit-terra==0.45.2->qiskit>=0.45.0->qiskit-aqt-provider) (5.1.0)\r\n",
      "Requirement already satisfied: symengine!=0.10.0,>=0.9 in ./venv/lib/python3.9/site-packages (from qiskit-terra==0.45.2->qiskit>=0.45.0->qiskit-aqt-provider) (0.11.0)\r\n",
      "Requirement already satisfied: exceptiongroup>=1.0.2 in ./venv/lib/python3.9/site-packages (from anyio->httpx>=0.24.0->qiskit-aqt-provider) (1.2.0)\r\n",
      "Requirement already satisfied: six>=1.5 in ./venv/lib/python3.9/site-packages (from python-dateutil>=2.8.0->qiskit-terra==0.45.2->qiskit>=0.45.0->qiskit-aqt-provider) (1.16.0)\r\n",
      "Requirement already satisfied: pbr!=2.1.0,>=2.0.0 in ./venv/lib/python3.9/site-packages (from stevedore>=3.0.0->qiskit-terra==0.45.2->qiskit>=0.45.0->qiskit-aqt-provider) (6.0.0)\r\n",
      "Requirement already satisfied: mpmath>=0.19 in ./venv/lib/python3.9/site-packages (from sympy>=1.3->qiskit-terra==0.45.2->qiskit>=0.45.0->qiskit-aqt-provider) (1.3.0)\r\n",
      "\r\n",
      "\u001B[1m[\u001B[0m\u001B[34;49mnotice\u001B[0m\u001B[1;39;49m]\u001B[0m\u001B[39;49m A new release of pip is available: \u001B[0m\u001B[31;49m23.2.1\u001B[0m\u001B[39;49m -> \u001B[0m\u001B[32;49m23.3.2\u001B[0m\r\n",
      "\u001B[1m[\u001B[0m\u001B[34;49mnotice\u001B[0m\u001B[1;39;49m]\u001B[0m\u001B[39;49m To update, run: \u001B[0m\u001B[32;49mpip install --upgrade pip\u001B[0m\r\n"
     ]
    }
   ],
   "source": [
    "!pip install qiskit-aqt-provider"
   ],
   "metadata": {
    "collapsed": false,
    "ExecuteTime": {
     "end_time": "2024-01-28T19:15:11.736873Z",
     "start_time": "2024-01-28T19:15:10.755519Z"
    }
   },
   "id": "a09dad25222a0d0c",
   "execution_count": 15
  },
  {
   "cell_type": "code",
   "outputs": [],
   "source": [
    "from qiskit_aqt_provider import AQTProvider\n",
    "from qiskit_aqt_provider.primitives import AQTSampler\n",
    "def aqt_sampler(shots):\n",
    "    aqt = AQTProvider(\"ACCESS_TOKEN\")\n",
    "    backend = aqt.get_backend('offline_simulator_no_noise')\n",
    "    backend.set_options(shots=shots)\n",
    "    return AQTSampler(backend=backend)"
   ],
   "metadata": {
    "collapsed": false,
    "ExecuteTime": {
     "end_time": "2024-01-28T19:15:11.904476Z",
     "start_time": "2024-01-28T19:15:11.739312Z"
    }
   },
   "id": "8ffb44db1d331fd4",
   "execution_count": 16
  },
  {
   "cell_type": "code",
   "outputs": [],
   "source": [
    "from qiskit_algorithms.utils import algorithm_globals\n",
    "algorithm_globals.random_seed = 10598"
   ],
   "metadata": {
    "collapsed": false,
    "ExecuteTime": {
     "end_time": "2024-01-28T19:15:11.913974Z",
     "start_time": "2024-01-28T19:15:11.904734Z"
    }
   },
   "id": "164c2cae9598f8d8",
   "execution_count": 17
  },
  {
   "cell_type": "code",
   "outputs": [],
   "source": [
    "from qiskit_optimization.algorithms import MinimumEigenOptimizer\n",
    "from qiskit_algorithms.minimum_eigensolvers import QAOA\n",
    "\n",
    "def solve_qaoa(sampler, reps, optimizer):\n",
    "    qaoa_mes = QAOA(sampler=sampler, optimizer=optimizer, reps=reps)\n",
    "    solver = MinimumEigenOptimizer(qaoa_mes)\n",
    "    return solver"
   ],
   "metadata": {
    "ExecuteTime": {
     "end_time": "2024-01-28T19:15:11.914745Z",
     "start_time": "2024-01-28T19:15:11.907826Z"
    }
   },
   "id": "0c420424",
   "execution_count": 18
  },
  {
   "cell_type": "markdown",
   "source": [
    "## Warm start QAOA ##"
   ],
   "metadata": {},
   "id": "ed853d11"
  },
  {
   "cell_type": "code",
   "outputs": [],
   "source": [
    "from qiskit_optimization.algorithms import WarmStartQAOAOptimizer\n",
    "def solve_qaoa_warm_start(sampler, optimizer, reps):\n",
    "    qaoa_mes = QAOA(sampler=sampler, reps=reps, optimizer=optimizer)\n",
    "    solver = WarmStartQAOAOptimizer(pre_solver=CplexOptimizer(),\n",
    "                                  relax_for_pre_solver=True,\n",
    "                                  qaoa=qaoa_mes)\n",
    "    return solver"
   ],
   "metadata": {
    "ExecuteTime": {
     "end_time": "2024-01-28T19:15:11.915270Z",
     "start_time": "2024-01-28T19:15:11.909944Z"
    }
   },
   "id": "92515181",
   "execution_count": 19
  },
  {
   "cell_type": "markdown",
   "source": [
    "# Evaluation #"
   ],
   "metadata": {},
   "id": "72de9740"
  },
  {
   "cell_type": "markdown",
   "source": [
    "Evaluate quantum solutions in comparison with classic solution using the following metrics:\n",
    "* Running time;\n",
    "* Mean square error between quantum optimum and classic optimum;\n",
    "* Number of times each algorithm reaches the optimum;\n",
    "\n",
    "Evaluation should be performed on the following backends:\n",
    "* Noiseless simulator (Aer)\n",
    "* Noisy simulator (choose a noise model)\n",
    "* BONUS: test on AQT simulator (check https://github.com/qiskit-community/qiskit-aqt-provider)\n",
    "\n",
    "QAOA should be evaluated using different configurations:\n",
    "* QAOAAnsatz with $p=[1,5]$ \n",
    "* Optimizers: COBYLA, NelderMead, SLSQP\n",
    "* Shots: {200, 400, 600, 800, 1000} (Please note that AQT backend is limited to 200 shots)\n",
    "* Optimizers' iteration: {250, 500, 750, 1000}"
   ],
   "metadata": {},
   "id": "3e3d3de7"
  },
  {
   "cell_type": "code",
   "outputs": [],
   "source": [
    "def extract_backend_str(s):\n",
    "    if 'aqt' in s:\n",
    "        return 'aqt'\n",
    "    elif 'noise' in s:\n",
    "        return 'noise'\n",
    "    elif 'aer' in s:\n",
    "        return 'aer'\n",
    "    else:\n",
    "        return 'unknown'"
   ],
   "metadata": {
    "collapsed": false,
    "ExecuteTime": {
     "end_time": "2024-01-28T19:15:11.917573Z",
     "start_time": "2024-01-28T19:15:11.914682Z"
    }
   },
   "id": "c0b7b40e4c53166",
   "execution_count": 20
  },
  {
   "cell_type": "code",
   "execution_count": 21,
   "id": "ed42806c",
   "metadata": {
    "ExecuteTime": {
     "end_time": "2024-01-28T19:15:11.926358Z",
     "start_time": "2024-01-28T19:15:11.920963Z"
    }
   },
   "outputs": [],
   "source": [
    "from qiskit_algorithms.optimizers import NELDER_MEAD, SLSQP, COBYLA\n",
    "import pandas as pd\n",
    "import os\n",
    "\n",
    "def create_quantum_df(instances, skip=0):\n",
    "    batch_size = 10\n",
    "    quantum_file = 'quantum_data.csv'\n",
    "    quantum_df = pd.DataFrame(columns=['id', 'instance_id', 'sampler', 'p', 'max_iter' ,'shots', 'optimizer','warm_start', 'optimum', 'time'])\n",
    "\n",
    "    if skip == 0:\n",
    "        quantum_df.to_csv(quantum_file, index=False)\n",
    "    # for instance in instances:\n",
    "    for idx, ins in enumerate([instances[-1]]):\n",
    "        count = 0\n",
    "        bp = quadratic_penalty(ins)\n",
    "\n",
    "        # for p in range(1, 6):\n",
    "        for p in range(1, 2):\n",
    "            # for i in [250, 500, 750, 1000]:\n",
    "            for ite in [250]:\n",
    "                # for sh in [200, 400, 600, 800, 1000]:\n",
    "                for sh in [200]:\n",
    "                    # for o in [COBYLA(maxiter=ite), NELDER_MEAD(maxiter=ite), SLSQP(maxiter=ite)]:\n",
    "                    for o in [COBYLA(maxiter=ite)]:\n",
    "                        # for sa in [aer_sampler(sh), noisy_sampler(sh)] + ([aqt_sampler(sh)] if sh <= 200 else []):\n",
    "                        for sa in [aqt_sampler(sh)]:\n",
    "                            for so in [solve_qaoa(sampler=sa,reps=p,optimizer=o), solve_qaoa_warm_start(sampler=sa,reps=p,optimizer=o)]:\n",
    "                               if count < skip:\n",
    "                                   count += 1\n",
    "                                   continue \n",
    "                               optimizer_name = o.__class__.__name__\n",
    "                               backend_name = extract_backend_str(str(sa.backend))\n",
    "                               warm_start = so.__class__.__name__ == 'WarmStartQAOAOptimizer'\n",
    "                               start_time = time()\n",
    "                               res = so.solve(bp)\n",
    "                               end_time = time()\n",
    "                               t = end_time - start_time\n",
    "                               quantum_df.loc[count] = [count, idx, backend_name, p, ite, sh, optimizer_name, warm_start, res.fval, t]\n",
    "                               count += 1\n",
    "                               if count % batch_size == 0:\n",
    "                                   quantum_df.to_csv(quantum_file, mode='a', header=False, index=False)\n",
    "                                   quantum_df = pd.DataFrame(columns=['id', 'instance_id', 'sampler', 'p', 'max_iter' ,'shots', 'optimizer','warm_start', 'optimum', 'time'])\n",
    "    quantum_df.to_csv(quantum_file, mode='a', header=False, index=False)"
   ]
  },
  {
   "cell_type": "code",
   "outputs": [],
   "source": [
    "def create_evaluation_df(quantum_df, classical_df):\n",
    "    for instance_id in quantum_df['instance_id'].unique():\n",
    "        # Finding corresponding classical time for the instance ID\n",
    "        if instance_id in classical_df['instance_id'].values:\n",
    "            classical_time = classical_df[classical_df['instance_id'] == instance_id]['time'].iloc[0]\n",
    "            classical_optimum = classical_df[classical_df['instance_id'] == instance_id]['optimum'].iloc[0]\n",
    "            # Updating time difference for each row in quantum dataframe with this instance ID\n",
    "            quantum_df.loc[quantum_df['instance_id'] == instance_id, 'time_difference'] = \\\n",
    "                quantum_df[quantum_df['instance_id'] == instance_id]['time'] - classical_time\n",
    "            quantum_df['error'] = (quantum_df['optimum'] - classical_optimum) ** 2\n",
    "    quantum_df.to_csv('evaluation_data.csv', index=False)"
   ],
   "metadata": {
    "collapsed": false,
    "ExecuteTime": {
     "end_time": "2024-01-28T19:15:11.927979Z",
     "start_time": "2024-01-28T19:15:11.925231Z"
    }
   },
   "id": "29bb77871f568927",
   "execution_count": 22
  },
  {
   "cell_type": "code",
   "outputs": [],
   "source": [
    "def calc_optimum_percentage(evaluation_df):\n",
    "    mse_zero_count = len(e_df[e_df['error'] == 0])\n",
    "    # Total number of rows\n",
    "    total_rows = len(e_df)\n",
    "    # Calculate the percentage\n",
    "    percentage = (mse_zero_count / total_rows) * 100\n",
    "    print(f\"{mse_zero_count} from {total_rows} of quantum solutions have reached the optimum, which is {percentage}% of all solutions\")\n",
    "    print(f\"Mean square error: {e_df['error'].mean()}\")\n",
    "    print(f\"Mean time difference: {e_df['time_difference'].mean()}\")"
   ],
   "metadata": {
    "collapsed": false,
    "ExecuteTime": {
     "end_time": "2024-01-28T19:15:11.947755Z",
     "start_time": "2024-01-28T19:15:11.928413Z"
    }
   },
   "id": "1cc66fd2c0433b08",
   "execution_count": 23
  },
  {
   "cell_type": "code",
   "outputs": [],
   "source": [
    "import os\n",
    "def calculate_skip():\n",
    "    if os.path.exists('quantum_data.csv'):\n",
    "        quantum_df = pd.read_csv('quantum_data.csv')\n",
    "        print(f\"Skipping {len(quantum_df)} rows\")\n",
    "        return len(quantum_df)\n",
    "    else:\n",
    "        return 0"
   ],
   "metadata": {
    "collapsed": false,
    "ExecuteTime": {
     "end_time": "2024-01-28T19:16:10.008106Z",
     "start_time": "2024-01-28T19:16:10.005284Z"
    }
   },
   "id": "d84eaae5377838a6",
   "execution_count": 28
  },
  {
   "cell_type": "code",
   "outputs": [
    {
     "name": "stdout",
     "output_type": "stream",
     "text": [
      "Skipping 2 rows\n",
      "1 from 2 of quantum solutions have reached the optimum, which is 50.0% of all solutions\n",
      "Mean square error: 45000.0\n",
      "Mean time difference: 0.7327977418899537\n"
     ]
    }
   ],
   "source": [
    "raw_instances = read_list('bpp_instances')\n",
    "preprocessed_instances = preprocess_instances(raw_instances)\n",
    "# create_instance_df(preprocessed_instances)\n",
    "# create_classical_df(preprocessed_instances)\n",
    "create_quantum_df(preprocessed_instances, skip=calculate_skip())\n",
    "q_df = pd.read_csv('quantum_data.csv')\n",
    "c_df = pd.read_csv('classical_data.csv')\n",
    "create_evaluation_df(q_df, c_df)\n",
    "e_df = pd.read_csv('evaluation_data.csv')\n",
    "calc_optimum_percentage(e_df)"
   ],
   "metadata": {
    "collapsed": false,
    "ExecuteTime": {
     "end_time": "2024-01-28T19:16:10.720432Z",
     "start_time": "2024-01-28T19:16:10.546973Z"
    }
   },
   "id": "bccbc8969c753b6d",
   "execution_count": 29
  },
  {
   "cell_type": "code",
   "outputs": [],
   "source": [],
   "metadata": {
    "collapsed": false
   },
   "id": "9e320efe6399f9dd"
  }
 ],
 "metadata": {
  "kernelspec": {
   "display_name": "Python 3 (ipykernel)",
   "language": "python",
   "name": "python3"
  },
  "language_info": {
   "codemirror_mode": {
    "name": "ipython",
    "version": 3
   },
   "file_extension": ".py",
   "mimetype": "text/x-python",
   "name": "python",
   "nbconvert_exporter": "python",
   "pygments_lexer": "ipython3",
   "version": "3.10.12"
  }
 },
 "nbformat": 4,
 "nbformat_minor": 5
}
