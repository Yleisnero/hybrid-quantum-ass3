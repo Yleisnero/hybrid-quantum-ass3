{
 "cells": [
  {
   "cell_type": "markdown",
   "id": "e741379f",
   "metadata": {},
   "source": [
    "# Hybrid Classic-Quantum Systems - Third Assignment #\n",
    "\n",
    "You should fill in this Jupyter notebook in order to complete the assignment. Here a small recap of the rules:\n",
    "\n",
    "* You should **NOT** modify the functions that are already provided in the notebook, unless it is strictly necessary;\n",
    "* If you want to modify the given functions, please, provide an explanation of why you had to;\n",
    "* You can define new functions, as soon as they are well commented;\n",
    "* You can import all libraries you want, as soon as you justify their utilization;\n",
    "* You can add new cells, as soon as you do not remove the cells where you are supposed to comment your solution;\n",
    "* This is a group assignment. The maximum number of people is 3;\n",
    "* Your solution should be commented and accompanied by a small description - you can add additional cells if needed;\n",
    "* For any issue and doubt, please do not hesitate to use the forum or to write me an email."
   ]
  },
  {
   "cell_type": "markdown",
   "id": "abc48bc1",
   "metadata": {},
   "source": [
    "# Preliminaries #\n",
    "\n",
    "## Bin Packing Problem (BPP) ##\n",
    "The bin packing problem (BPP) is an optimization problem. The final goal is to fit items of different sizes into a finite number of bins, each of a fixed given capacity, minimizing the number of bins used. The problem has many applications, ranging from logistics, multi-processor scheduling.\n",
    "\n",
    "Computationally, the problem is NP-hard, and the corresponding decision problem, deciding if items can fit into a specified number of bins, is NP-complete.\n",
    "![np-complete](https://imgs.xkcd.com/comics/np_complete.png)"
   ]
  },
  {
   "cell_type": "markdown",
   "id": "b02c1bad",
   "metadata": {},
   "source": [
    "## Mathematical formulation ##\n",
    "The objective function of BPP is to minimize the number of bins used, more formally,\n",
    "\\begin{align} \\label{eqn:bpp}\n",
    "    & {\\min}\n",
    "    & &  \\sum_{j=1}^{K} B_j \\\\\n",
    "    & {\\text{subject to}}\n",
    "    & & g(x_{ij}) = \\sum_{j=1}^{K} x_{ij} = 1 \\qquad \\forall i \\\\\n",
    "    & & & h(x_{ij}) = \\sum_{i=1}^N w_{i}x_{ij} \\le C*B_j \\qquad \\forall j\n",
    "\\end{align}"
   ]
  },
  {
   "cell_type": "markdown",
   "id": "8cd6c093",
   "metadata": {},
   "source": [
    "The constraint $g(x)$ implies that each task can be packed into at most one CPU, and constraint $h(x_{ij})$ says that the requirements of each task can not exceed the given $C$ capacity. In this paper, BPP can be considered as a mixture of inequality and equality-constrained optimization problems."
   ]
  },
  {
   "cell_type": "markdown",
   "id": "11009203",
   "metadata": {},
   "source": [
    "# Loading BPP instances #\n",
    "First of all, we focus on generating instances of BPP to be used for the evaluation. Each instance is structured in the following way:\n",
    "\n",
    "$[[w_0, w_1, ..., w_n], C, B, items]$, such that:\n",
    "* $w_i$ is the weight of item $i$;\n",
    "* $C$ is the capacity of each bin;\n",
    "* $B$ is the number of bins;\n",
    "* $items$ is the number of items\n",
    "\n",
    "We pre-generated the instances for you and saved them in an attached binary file. You can read them in your code by using the following code:"
   ]
  },
  {
   "cell_type": "code",
   "execution_count": 1,
   "id": "98c95b55",
   "metadata": {},
   "outputs": [],
   "source": [
    "import pickle\n",
    "\n",
    "def read_list(filename):\n",
    "    # for reading also binary mode is important\n",
    "    with open(filename, 'rb') as fp:\n",
    "        n_list = pickle.load(fp)\n",
    "        return n_list"
   ]
  },
  {
   "cell_type": "markdown",
   "id": "e4577458",
   "metadata": {},
   "source": [
    "# Transforming BPP into a QUBO #\n",
    "QUBO is a mathematical model that is used to represent combinatorial optimization problems in which the variables are binary $\\{0,1\\}$ and the objective function with constraints is quadratic. We employ QUBO for BPP because it provides a framework for representing combinatorial optimization problems in a form that can be efficiently solved using quantum computing algorithms designed for QUBO problems, such as VQE or QAOA.\n",
    "\n",
    "## Slack Variables + Quadratic Penalty Encoding ##\n",
    "Qiskit Optimization provides with QuadraticProgram a very generic and powerful representation for optimization problems. However, usually, optimization algorithms cannot handle all possible types of problems that can be modelled, but only a sub-class. Many available quantum optimization algorithms can handle Quadratic Unconstrained Binary Optimization (QUBO) problems. To do so, first, it is necessary to convert a given optimization problem into a QUBO.\n",
    "\n",
    "Qiskit Optimization provides converters to achieve this conversion whenever possible. More precisely, Qiskit Optimization provides the following converters: \n",
    "* *InequalityToEquality*: converts inequality constraints into equality constraints with additional slack variables.\n",
    "* *IntegerToBinary* : converts integer variables into binary variables and corresponding coefficients. \n",
    "* *LinearEqualityToPenalty* : convert equality constraints into additional terms of the object function. \n",
    "* *QuadraticProgramToQubo* : a wrapper for IntegerToBinary and LinearEqualityToPenalty for convenience.\n",
    "More information available at: https://qiskit.org/documentation/stable/0.19/tutorials/optimization/2_converters_for_quadratic_programs.html\n",
    "\n",
    "## Penalty-Based Encoding ##\n",
    "\n",
    "### Define penalties ###\n",
    "To enforce the constraints, we introduce penalty terms to the objective function. These terms penalize solutions that violate the constraints. Firsts, we rewrite constraints $g(x_{ij})$ and $h(x_{ij})$ as follows,\n",
    "     \\begin{align*}\n",
    "        g(x_{ij}) = \\sum_{j=1}^{K} x_{ij} - 1 = 0 \\qquad \\forall i \\\\\n",
    "        h(x_{ij}) = \\sum_{i=1}^N w_{i}x_{ij} - C \\cdot B_j \\le 0 \\qquad \\forall j \\\\\n",
    "    \\end{align*}\n",
    "    Second, introduce penalty functions $p_1(\\lambda, g(x))$ and $p_2(\\beta, h(x))$ with coefficients $\\{\\lambda, \\beta\\} \\geq 0 $\n",
    "    \\begin{equation}\\label{penalty1}\n",
    "        p_1(\\lambda, g(x_{ij})) =\n",
    "        \\begin{cases}\n",
    "            0 & \\text{if $g(x_{ij}) \\leq 0$} \\\\\n",
    "            \\lambda g(x_{ij}) & \\text{if $g(x_{ij}) > 0$} \n",
    "        \\end{cases}\n",
    "    \\end{equation}\n",
    "    \\begin{equation}\\label{penalty2}\n",
    "        p_2(\\beta, h(x_{ij})) =\n",
    "        \\begin{cases}\n",
    "            0 & \\text{if $h(x_{ij}) \\leq 0$} \\\\\n",
    "            \\beta h(x_{ij}) & \\text{if $h(x_{ij}) > 0$} \n",
    "        \\end{cases} \n",
    "    \\end{equation}\n",
    "    \n",
    "In literature, there are multiple methods for penalization such as the exterior penalty function and interior penalty function.\n",
    "\n",
    "### Injecting Penalties in the Model ###\n",
    "To get the final QUBO form we combine penalties with objective function and get\n",
    "\n",
    "\\begin{equation}\n",
    "    \\mathcal{F} = \\sum_{j=1}^{K} B_j + \\sum_{j=1}^{K}p_1(\\lambda, g_j) + \\sum_{i=1}^{N}p_2(\\beta,h_i)\n",
    "\\end{equation}\n",
    "\n",
    "### Examples of penalty functions ###\n",
    "* https://www.stat.cmu.edu/~ryantibs/convexopt-F13/scribes/lec16.pdf\n",
    "* https://www.rose-hulman.edu/~bryan/lottamath/penalty.pdf"
   ]
  },
  {
   "cell_type": "markdown",
   "id": "4e4c2d63",
   "metadata": {},
   "source": [
    "## YOUR TASK ##\n",
    "* Apply slack + quadratic penalty\n",
    "* Apply penalty-based encoding using three functions"
   ]
  },
  {
   "cell_type": "code",
   "execution_count": 2,
   "id": "e0fdd7bb-25f7-4c92-8b45-967109816799",
   "metadata": {},
   "outputs": [
    {
     "name": "stdout",
     "output_type": "stream",
     "text": [
      "\\ This file has been generated by DOcplex\n",
      "\\ ENCODING=ISO-8859-1\n",
      "\\Problem name: BinPacking\n",
      "\n",
      "Minimize\n",
      " obj: x0 + x1 + x2\n",
      "Subject To\n",
      " cons0,0: _e0,0 + _e1,0 + _e2,0 = 1\n",
      " cons0,1: _e0,1 + _e1,1 + _e2,1 = 1\n",
      " cons0,2: _e0,2 + _e1,2 + _e2,2 = 1\n",
      " cons1,0: - 40 x0 + 16 _e0,0 + 9 _e0,1 + 23 _e0,2 <= 0\n",
      " cons1,1: - 40 x1 + 16 _e1,0 + 9 _e1,1 + 23 _e1,2 <= 0\n",
      " cons1,2: - 40 x2 + 16 _e2,0 + 9 _e2,1 + 23 _e2,2 <= 0\n",
      "\n",
      "Bounds\n",
      " 0 <= x0 <= 1\n",
      " 0 <= x1 <= 1\n",
      " 0 <= x2 <= 1\n",
      " 0 <= _e0,0 <= 1\n",
      " 0 <= _e0,1 <= 1\n",
      " 0 <= _e0,2 <= 1\n",
      " 0 <= _e1,0 <= 1\n",
      " 0 <= _e1,1 <= 1\n",
      " 0 <= _e1,2 <= 1\n",
      " 0 <= _e2,0 <= 1\n",
      " 0 <= _e2,1 <= 1\n",
      " 0 <= _e2,2 <= 1\n",
      "\n",
      "Binaries\n",
      " x0 x1 x2 _e0,0 _e0,1 _e0,2 _e1,0 _e1,1 _e1,2 _e2,0 _e2,1 _e2,2\n",
      "End\n",
      "\n",
      "fval=2.0, x0=1.0, x1=0.0, x2=1.0, e0,0=1.0, e0,1=1.0, e0,2=0.0, e1,0=0.0, e1,1=0.0, e1,2=0.0, e2,0=0.0, e2,1=0.0, e2,2=1.0, status=SUCCESS\n"
     ]
    },
    {
     "data": {
      "image/png": "[encoded data removed]",
      "text/plain": [
       "<Figure size 640x480 with 1 Axes>"
      ]
     },
     "metadata": {},
     "output_type": "display_data"
    }
   ],
   "source": [
    "import numpy as np\n",
    "import matplotlib.pyplot as plt\n",
    "from docplex.mp.model import Model\n",
    "\n",
    "from qiskit import BasicAer\n",
    "import qiskit_algorithms\n",
    "from qiskit_optimization.algorithms import CplexOptimizer, MinimumEigenOptimizer\n",
    "from qiskit_optimization.algorithms.admm_optimizer import ADMMParameters, ADMMOptimizer\n",
    "from qiskit_optimization import QuadraticProgram\n",
    "\n",
    "from qiskit_optimization.converters import InequalityToEquality, IntegerToBinary, LinearEqualityToPenalty\n",
    "\n",
    "from qiskit_optimization.translators import from_docplex_mp\n",
    "\n",
    "def data_bins(results, wj, n, m, l=0, simplify=False):\n",
    "    \"\"\"save the results on a dictionary with the three items, bins, items, and index.\n",
    "    results (cplex.solve): results of the optimization\n",
    "    wj: (array (1,m): weights of the items\n",
    "    n: (int) number of items\n",
    "    m: (int) number of bins\n",
    "    \"\"\"\n",
    "    if simplify:\n",
    "        bins = np.ones((m,))\n",
    "        if m-l > 0: \n",
    "            bins[m-l-1:m] = results[:m-l]\n",
    "        items = np.zeros((m,n))\n",
    "        items[:,1:] =  results[m-l:(m-1)*n+m-l].reshape(m,n-1)\n",
    "        items[0,0] = 1\n",
    "        items = items.reshape(m,n) * wj\n",
    "        return {\"bins\":bins, \"items\":items,\"index\":np.arange(m)}\n",
    "    else:        \n",
    "        return {\"bins\":results[:m], \"items\":results[m:m+m*n].reshape(m,n) * wj, \"index\":np.arange(m)}\n",
    "\n",
    "def plot_bins(results, wj, n, m, l=0,simplify=False):\n",
    "    \"\"\"plot in a bar diagram the results of an optimization bin packing problem\"\"\"\n",
    "    res = data_bins(results.x, wj, n, m, l, simplify)\n",
    "    plt.figure()\n",
    "    ind = res[\"index\"]\n",
    "    plt.bar(ind, res[\"items\"][:,0], label=f\"item {0}\")\n",
    "    suma = bottom=res[\"items\"][:,0]\n",
    "    for j in range(1,n):\n",
    "        plt.bar(ind, res[\"items\"][:,j], bottom=suma, label=f\"item {j}\")\n",
    "        suma += res[\"items\"][:,j]\n",
    "    plt.hlines(Q,0-0.5,m-0.5,linestyle=\"--\", color=\"r\",label=\"Max W\")\n",
    "    plt.xticks(ind)\n",
    "    plt.xlabel(\"Bin\")\n",
    "    plt.ylabel(\"Weight\")\n",
    "    plt.legend()\n",
    "\n",
    "np.random.seed(2)\n",
    "n = 3 # number of bins\n",
    "m = n # number of items\n",
    "Q = 40 # max weight of a bin\n",
    "\n",
    "wj = np.random.randint(1,Q,n) # Randomly picking the item weight\n",
    "\n",
    "# Construct model using docplex\n",
    "mdl = Model(\"BinPacking\")\n",
    "\n",
    "x = mdl.binary_var_list([f\"x{i}\" for i in range(n)]) # list of variables that represent the bins\n",
    "e =  mdl.binary_var_list([f\"e{i//m},{i%m}\" for i in range(n*m)]) # variables that represent the items on the specific bin\n",
    "\n",
    "objective = mdl.sum([x[i] for i in range(n)])\n",
    "\n",
    "mdl.minimize(objective)\n",
    "\n",
    "for j in range(m):\n",
    "    # First set of constraints: the items must be in any bin\n",
    "    constraint0 = mdl.sum([e[i*m+j] for i in range(n)])\n",
    "    mdl.add_constraint(constraint0 == 1, f\"cons0,{j}\")\n",
    "    \n",
    "for i in range(n):\n",
    "    # Second set of constraints: weight constraints\n",
    "    constraint1 = mdl.sum([wj[j] * e[i*m+j] for j in range(m)])\n",
    "    mdl.add_constraint(constraint1 <= Q * x[i], f\"cons1,{i}\")\n",
    "\n",
    "\n",
    "# Load quadratic program from docplex model\n",
    "#qp = QuadraticProgram()\n",
    "qp = from_docplex_mp(mdl)\n",
    "print(qp.export_as_lp_string())\n",
    "\n",
    "# convert from DOcplex model to Qiskit Quadratic program\n",
    "#qp = QuadraticProgram()\n",
    "#qp.from_docplex(mdl)\n",
    "\n",
    "# Solving Quadratic Program using CPLEX\n",
    "cplex = CplexOptimizer()\n",
    "result = cplex.solve(qp)\n",
    "print(result)\n",
    "plot_bins(result, wj, n, m)"
   ]
  },
  {
   "cell_type": "markdown",
   "id": "1bcc6b56",
   "metadata": {},
   "source": [
    "# Encoding QUBO into ISING Hamiltonian #\n",
    "The next step is to encode the classical QUBO formulation into a quantum state. There exist techniques to encode classical data into quantum such as basis encoding, amplitude encoding, and angle encoding. In this paper, we apply basis encoding, for which any quantum basis can be chosen, but the common way for doing so is to choose basis $\\{-1,1\\}$ as follows:\n",
    "\\begin{align}\n",
    "\\label{eqn:to_ising}\n",
    "    \\begin{split}\n",
    "    x_i = \\frac{1-z_i}{2}\\\\\n",
    "    z_i*z_j = \\sigma_Z^i \\otimes \\sigma_Z^j \\\\\n",
    "    z_i = \\sigma_Z^i\n",
    "    \\end{split}\n",
    "\\end{align}\n",
    "where $\\sigma_Z^i$ denotes the Pauli-Z matrix \n",
    "$\\begin{pmatrix}\n",
    "  1 & 0\\\\ \n",
    "  0 & -1\n",
    "\\end{pmatrix}$ on the $i$-th qubit.\n",
    "The eigenvalues of $\\text{I} - \\frac{Z}{2}$ are $\\{-1,1\\}$ with corresponding eigenstates $|0\\rangle$ and $|1\\rangle$. Thus, we switch from Z to $\\text{I} - \\frac{Z}{2}$, and rewrite the problem as BPP Ising hamiltonian,\n",
    "\\begin{equation} \\label{eqn:final_hamiltonian}\n",
    "    H_{bpp}= \\sum_{j=1}^{K} \\sigma_j + \\sum_{j=1}^{K}p_1(\\lambda, g_j) + \\sum_{i=1}^{N}p_2(\\beta,h_i)\n",
    "\\end{equation}\n",
    "where $g_j$ and $h_i$ are now functions of $\\sigma$."
   ]
  },
  {
   "cell_type": "markdown",
   "id": "667dcbe7",
   "metadata": {},
   "source": [
    "## YOUR TASK: Encoding the QUBO as an Ising Hamiltonian ##"
   ]
  },
  {
   "cell_type": "markdown",
   "id": "0e383180",
   "metadata": {},
   "source": [
    "# Solving BPP instances #\n",
    "Solve each problem instances using different methods:\n",
    "## CPLEX optimizer ##\n",
    "Classic optimizer, to be used as baseline with all the others."
   ]
  },
  {
   "cell_type": "code",
   "execution_count": 3,
   "id": "a6f38976",
   "metadata": {},
   "outputs": [],
   "source": [
    "from docplex.mp.model import Model\n",
    "from qiskit_optimization.algorithms import CplexOptimizer"
   ]
  },
  {
   "cell_type": "markdown",
   "id": "de1e20c0",
   "metadata": {},
   "source": [
    "## QAOA solution ##\n"
   ]
  },
  {
   "cell_type": "code",
   "execution_count": 4,
   "id": "0c420424",
   "metadata": {},
   "outputs": [
    {
     "name": "stderr",
     "output_type": "stream",
     "text": [
      "/tmp/ipykernel_8366/536549235.py:1: DeprecationWarning: ``qiskit.algorithms`` has been migrated to an independent package: https://github.com/qiskit-community/qiskit-algorithms. The ``qiskit.algorithms`` import path is deprecated as of qiskit-terra 0.25.0 and will be removed no earlier than 3 months after the release date. Please run ``pip install qiskit_algorithms`` and use ``import qiskit_algorithms`` instead.\n",
      "  from qiskit.algorithms.minimum_eigensolvers import QAOA\n"
     ]
    }
   ],
   "source": [
    "from qiskit.algorithms.minimum_eigensolvers import QAOA"
   ]
  },
  {
   "cell_type": "markdown",
   "id": "ed853d11",
   "metadata": {},
   "source": [
    "## Warm start QAOA ##"
   ]
  },
  {
   "cell_type": "code",
   "execution_count": 5,
   "id": "92515181",
   "metadata": {},
   "outputs": [],
   "source": [
    "from qiskit_optimization.algorithms import WarmStartQAOAOptimizer"
   ]
  },
  {
   "cell_type": "markdown",
   "id": "72de9740",
   "metadata": {},
   "source": [
    "# Evaluation #"
   ]
  },
  {
   "cell_type": "markdown",
   "id": "3e3d3de7",
   "metadata": {},
   "source": [
    "Evaluate quantum solutions in comparison with classic solution using the following metrics:\n",
    "* Running time;\n",
    "* Mean square error between quantum optimum and classic optimum;\n",
    "* Number of times each algorithm reaches the optimum;\n",
    "\n",
    "Evaluation should be performed on the following backends:\n",
    "* Noiseless simulator (Aer)\n",
    "* Noisy simulator (choose a noise model)\n",
    "* BONUS: test on AQT simulator (check https://github.com/qiskit-community/qiskit-aqt-provider)\n",
    "\n",
    "QAOA should be evaluated using different configurations:\n",
    "* QAOAAnsatz with $p=[1,5]$ \n",
    "* Optimizers: COBYLA, NelderMead, SLSQP\n",
    "* Shots: {200, 400, 600, 800, 1000} (Please note that AQT backend is limited to 200 shots)\n",
    "* Optimizers' iteration: {250, 500, 750, 1000}"
   ]
  },
  {
   "cell_type": "code",
   "execution_count": null,
   "id": "ed42806c",
   "metadata": {},
   "outputs": [],
   "source": []
  }
 ],
 "metadata": {
  "kernelspec": {
   "display_name": "venv",
   "language": "python",
   "name": "venv"
  },
  "language_info": {
   "codemirror_mode": {
    "name": "ipython",
    "version": 3
   },
   "file_extension": ".py",
   "mimetype": "text/x-python",
   "name": "python",
   "nbconvert_exporter": "python",
   "pygments_lexer": "ipython3",
   "version": "3.11.6"
  }
 },
 "nbformat": 4,
 "nbformat_minor": 5
}
