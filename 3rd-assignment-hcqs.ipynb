{
 "cells": [
  {
   "cell_type": "markdown",
   "id": "e741379f",
   "metadata": {},
   "source": [
    "# Hybrid Classic-Quantum Systems - Third Assignment\n",
    "\n",
    "You should fill in this Jupyter notebook in order to complete the assignment. Here a small recap of the rules:\n",
    "\n",
    "- You should **NOT** modify the functions that are already provided in the notebook, unless it is strictly necessary;\n",
    "- If you want to modify the given functions, please, provide an explanation of why you had to;\n",
    "- You can define new functions, as soon as they are well commented;\n",
    "- You can import all libraries you want, as soon as you justify their utilization;\n",
    "- You can add new cells, as soon as you do not remove the cells where you are supposed to comment your solution;\n",
    "- This is a group assignment. The maximum number of people is 3;\n",
    "- Your solution should be commented and accompanied by a small description - you can add additional cells if needed;\n",
    "- For any issue and doubt, please do not hesitate to use the forum or to write me an email.\n"
   ]
  },
  {
   "cell_type": "markdown",
   "id": "abc48bc1",
   "metadata": {},
   "source": [
    "# Preliminaries\n",
    "\n",
    "## Bin Packing Problem (BPP)\n",
    "\n",
    "The bin packing problem (BPP) is an optimization problem. The final goal is to fit items of different sizes into a finite number of bins, each of a fixed given capacity, minimizing the number of bins used. The problem has many applications, ranging from logistics, multi-processor scheduling.\n",
    "\n",
    "Computationally, the problem is NP-hard, and the corresponding decision problem, deciding if items can fit into a specified number of bins, is NP-complete.\n",
    "![np-complete](https://imgs.xkcd.com/comics/np_complete.png)\n"
   ]
  },
  {
   "cell_type": "markdown",
   "id": "b02c1bad",
   "metadata": {},
   "source": [
    "## Mathematical formulation\n",
    "\n",
    "The objective function of BPP is to minimize the number of bins used, more formally,\n",
    "\\begin{align} \\label{eqn:bpp}\n",
    "& {\\min}\n",
    "& & \\sum*{j=1}^{K} B_j \\\\\n",
    "& {\\text{subject to}}\n",
    "& & g(x*{ij}) = \\sum*{j=1}^{K} x*{ij} = 1 \\qquad \\forall i \\\\\n",
    "& & & h(x*{ij}) = \\sum*{i=1}^N w*{i}x*{ij} \\le C\\*B_j \\qquad \\forall j\n",
    "\\end{align}\n"
   ]
  },
  {
   "cell_type": "markdown",
   "id": "8cd6c093",
   "metadata": {},
   "source": [
    "The constraint $g(x)$ implies that each task can be packed into at most one CPU, and constraint $h(x_{ij})$ says that the requirements of each task can not exceed the given $C$ capacity. In this paper, BPP can be considered as a mixture of inequality and equality-constrained optimization problems.\n"
   ]
  },
  {
   "cell_type": "markdown",
   "id": "11009203",
   "metadata": {},
   "source": [
    "# Loading BPP instances\n",
    "\n",
    "First of all, we focus on generating instances of BPP to be used for the evaluation. Each instance is structured in the following way:\n",
    "\n",
    "$[[w_0, w_1, ..., w_n], C, B, items]$, such that:\n",
    "\n",
    "- $w_i$ is the weight of item $i$;\n",
    "- $C$ is the capacity of each bin;\n",
    "- $B$ is the number of bins;\n",
    "- $items$ is the number of items\n",
    "\n",
    "We pre-generated the instances for you and saved them in an attached binary file. You can read them in your code by using the following code:\n"
   ]
  },
  {
   "cell_type": "code",
   "execution_count": 25,
   "id": "98c95b55",
   "metadata": {},
   "outputs": [],
   "source": [
    "import pickle\n",
    "\n",
    "\n",
    "def read_list(filename):\n",
    "    # for reading also binary mode is important\n",
    "    with open(filename, \"rb\") as fp:\n",
    "        n_list = pickle.load(fp)\n",
    "        return n_list"
   ]
  },
  {
   "cell_type": "code",
   "execution_count": 26,
   "id": "cf5759b1",
   "metadata": {},
   "outputs": [],
   "source": [
    "# plotting the results\n",
    "# adapted from https://qiskit.org/ecosystem/optimization/_modules/qiskit_optimization/applications/bin_packing.html\n",
    "\n",
    "import numpy as np\n",
    "\n",
    "def interpret(result, n, m):\n",
    "    x = result.x\n",
    "    num_items = m\n",
    "    num_bins = n\n",
    "    bins = x[:num_bins]\n",
    "    items = np.array(x[num_bins:num_bins + (num_items * num_bins)]).reshape((num_items, num_bins))\n",
    "    return [\n",
    "        [i for i in range(num_items) if bins[j] and items[i, j]] for j in range(num_bins)\n",
    "    ]\n",
    "\n",
    "def plot(result, n, m, wj, Q):\n",
    "    import matplotlib.pyplot as plt\n",
    "\n",
    "    colors = plt.colormaps[\"jet\"].resampled(m)\n",
    "    items_in_bins = interpret(result, n, m)\n",
    "    num_bins = len(items_in_bins)\n",
    "    fig, axes = plt.subplots()\n",
    "    for _, bin_i in enumerate(items_in_bins):\n",
    "        sum_items = 0\n",
    "        for item in bin_i:\n",
    "            axes.bar( _, wj[item], bottom=sum_items, label=f\"Item {item}\", color=colors(item))\n",
    "            sum_items += wj[item]\n",
    "    axes.hlines( Q, -0.5, num_bins - 0.5, linestyle=\"--\", color=\"tab:red\", label=\"Max Weight\")\n",
    "    axes.set_xticks(np.arange(num_bins))\n",
    "    axes.set_xlabel(\"Bin\")\n",
    "    axes.set_ylabel(\"Weight\")\n",
    "    axes.legend()\n",
    "    return fig"
   ]
  },
  {
   "cell_type": "markdown",
   "id": "e4577458",
   "metadata": {},
   "source": [
    "# Transforming BPP into a QUBO\n",
    "\n",
    "QUBO is a mathematical model that is used to represent combinatorial optimization problems in which the variables are binary $\\{0,1\\}$ and the objective function with constraints is quadratic. We employ QUBO for BPP because it provides a framework for representing combinatorial optimization problems in a form that can be efficiently solved using quantum computing algorithms designed for QUBO problems, such as VQE or QAOA.\n",
    "\n",
    "## Slack Variables + Quadratic Penalty Encoding\n",
    "\n",
    "Qiskit Optimization provides with QuadraticProgram a very generic and powerful representation for optimization problems. However, usually, optimization algorithms cannot handle all possible types of problems that can be modelled, but only a sub-class. Many available quantum optimization algorithms can handle Quadratic Unconstrained Binary Optimization (QUBO) problems. To do so, first, it is necessary to convert a given optimization problem into a QUBO.\n",
    "\n",
    "Qiskit Optimization provides converters to achieve this conversion whenever possible. More precisely, Qiskit Optimization provides the following converters:\n",
    "\n",
    "- _InequalityToEquality_: converts inequality constraints into equality constraints with additional slack variables.\n",
    "- _IntegerToBinary_ : converts integer variables into binary variables and corresponding coefficients.\n",
    "- _LinearEqualityToPenalty_ : convert equality constraints into additional terms of the object function.\n",
    "- _QuadraticProgramToQubo_ : a wrapper for IntegerToBinary and LinearEqualityToPenalty for convenience.\n",
    "  More information available at: https://qiskit.org/documentation/stable/0.19/tutorials/optimization/2_converters_for_quadratic_programs.html\n",
    "\n",
    "## Penalty-Based Encoding\n",
    "\n",
    "### Define penalties\n",
    "\n",
    "To enforce the constraints, we introduce penalty terms to the objective function. These terms penalize solutions that violate the constraints. Firsts, we rewrite constraints $g(x_{ij})$ and $h(x_{ij})$ as follows,\n",
    "\\begin{align*}\n",
    "g(x*{ij}) = \\sum*{j=1}^{K} x*{ij} - 1 = 0 \\qquad \\forall i \\\\\n",
    "h(x*{ij}) = \\sum*{i=1}^N w*{i}x\\_{ij} - C \\cdot B_j \\le 0 \\qquad \\forall j \\\\\n",
    "\\end{align*}\n",
    "Second, introduce penalty functions $p_1(\\lambda, g(x))$ and $p_2(\\beta, h(x))$ with coefficients $\\{\\lambda, \\beta\\} \\geq 0 $\n",
    "    \\begin{equation}\\label{penalty1}\n",
    "        p_1(\\lambda, g(x_{ij})) =\n",
    "        \\begin{cases}\n",
    "            0 & \\text{if $g(x_{ij}) \\leq 0$} \\\\\n",
    "\\lambda g(x*{ij}) & \\text{if $g(x*{ij}) > 0$} \n",
    "        \\end{cases}\n",
    "    \\end{equation}\n",
    "    \\begin{equation}\\label{penalty2}\n",
    "        p_2(\\beta, h(x_{ij})) =\n",
    "        \\begin{cases}\n",
    "            0 & \\text{if $h(x_{ij}) \\leq 0$} \\\\\n",
    "\\beta h(x*{ij}) & \\text{if $h(x*{ij}) > 0$}\n",
    "\\end{cases}\n",
    "\\end{equation}\n",
    "\n",
    "In literature, there are multiple methods for penalization such as the exterior penalty function and interior penalty function.\n",
    "\n",
    "### Injecting Penalties in the Model\n",
    "\n",
    "To get the final QUBO form we combine penalties with objective function and get\n",
    "\n",
    "\\begin{equation}\n",
    "\\mathcal{F} = \\sum*{j=1}^{K} B_j + \\sum*{j=1}^{K}p*1(\\lambda, g_j) + \\sum*{i=1}^{N}p_2(\\beta,h_i)\n",
    "\\end{equation}\n",
    "\n",
    "### Examples of penalty functions\n",
    "\n",
    "- https://www.stat.cmu.edu/~ryantibs/convexopt-F13/scribes/lec16.pdf\n",
    "- https://www.rose-hulman.edu/~bryan/lottamath/penalty.pdf\n"
   ]
  },
  {
   "cell_type": "markdown",
   "id": "4e4c2d63",
   "metadata": {},
   "source": [
    "## YOUR TASK\n",
    "\n",
    "- Apply slack + quadratic penalty\n",
    "- Apply penalty-based encoding using three functions\n"
   ]
  },
  {
   "cell_type": "markdown",
   "id": "1bcc6b56",
   "metadata": {},
   "source": [
    "# Encoding QUBO into ISING Hamiltonian\n",
    "\n",
    "The next step is to encode the classical QUBO formulation into a quantum state. There exist techniques to encode classical data into quantum such as basis encoding, amplitude encoding, and angle encoding. In this paper, we apply basis encoding, for which any quantum basis can be chosen, but the common way for doing so is to choose basis $\\{-1,1\\}$ as follows:\n",
    "\\begin{align}\n",
    "\\label{eqn:to*ising}\n",
    "\\begin{split}\n",
    "x_i = \\frac{1-z_i}{2}\\\\\n",
    "z_i\\*z_j = \\sigma_Z^i \\otimes \\sigma_Z^j \\\\\n",
    "z_i = \\sigma_Z^i\n",
    "\\end{split}\n",
    "\\end{align}\n",
    "where $\\sigma_Z^i$ denotes the Pauli-Z matrix\n",
    "$\\begin{pmatrix}\n",
    "  1 & 0\\\\ \n",
    "  0 & -1\n",
    "\\end{pmatrix}$ on the $i$-th qubit.\n",
    "The eigenvalues of $\\text{I} - \\frac{Z}{2}$ are $\\{-1,1\\}$ with corresponding eigenstates $|0\\rangle$ and $|1\\rangle$. Thus, we switch from Z to $\\text{I} - \\frac{Z}{2}$, and rewrite the problem as BPP Ising hamiltonian,\n",
    "\\begin{equation} \\label{eqn:final_hamiltonian}\n",
    "H*{bpp}= \\sum*{j=1}^{K} \\sigma_j + \\sum*{j=1}^{K}p*1(\\lambda, g_j) + \\sum*{i=1}^{N}p_2(\\beta,h_i)\n",
    "\\end{equation}\n",
    "where $g_j$ and $h_i$ are now functions of $\\sigma$.\n"
   ]
  },
  {
   "cell_type": "markdown",
   "id": "667dcbe7",
   "metadata": {},
   "source": [
    "## YOUR TASK: Encoding the QUBO as an Ising Hamiltonian\n"
   ]
  },
  {
   "cell_type": "markdown",
   "id": "0e383180",
   "metadata": {},
   "source": [
    "# Solving BPP instances\n",
    "\n",
    "Solve each problem instances using different methods:\n",
    "\n",
    "## CPLEX optimizer\n",
    "\n",
    "Classic optimizer, to be used as baseline with all the others.\n"
   ]
  },
  {
   "cell_type": "code",
   "execution_count": 27,
   "id": "cf8c65e0",
   "metadata": {},
   "outputs": [],
   "source": [
    "from qiskit_optimization import QuadraticProgram\n",
    "from qiskit_optimization.converters import (\n",
    "    LinearEqualityToPenalty,\n",
    "    InequalityToEquality,\n",
    "    IntegerToBinary,\n",
    ")\n",
    "\n",
    "\n",
    "def quadratic_penalty(weights, C, B, items):\n",
    "    # Create a Quadratic Program\n",
    "    qp = QuadraticProgram()\n",
    "\n",
    "    # Add binary variables x_{ij} for each item i and bin j\n",
    "    # x_{ij} = 1 if item i is in bin j, else 0\n",
    "\n",
    "    for j in range(B):\n",
    "        qp.binary_var(name=f\"B_{j}\")\n",
    "\n",
    "    for i in range(items):\n",
    "        for j in range(B):\n",
    "            qp.binary_var(name=f\"x_{i}_{j}\")\n",
    "\n",
    "    # Objective function: Minimize the number of bins used\n",
    "    # This is done by minimizing the sum of B_j, where B_j = 1 if bin j is used\n",
    "    qp.minimize(linear=[1] * B)\n",
    "\n",
    "    eq_to_pen = LinearEqualityToPenalty(100)\n",
    "    # Constraint g(x): Each item i must be in exactly one bin\n",
    "    for i in range(items):\n",
    "        qp.linear_constraint(\n",
    "            linear={f\"x_{i}_{j}\": 1 for j in range(B)},\n",
    "            sense=\"==\",\n",
    "            rhs=1,\n",
    "            name=f\"item_in_one_bin_{i}\",\n",
    "        )\n",
    "        qp = eq_to_pen.convert(qp)\n",
    "    neq_to_eq = InequalityToEquality(\"integer\")\n",
    "    eq_to_pen2 = LinearEqualityToPenalty(200)\n",
    "    int_to_bin = IntegerToBinary()\n",
    "    # Constraint h(x): Total weight in each bin j must not exceed its capacity C\n",
    "    for j in range(B):\n",
    "        # Create a dictionary for the linear terms\n",
    "        linear_terms = {f\"x_{i}_{j}\": weights[i] for i in range(items)}\n",
    "        # Add the term for B_j with a negative coefficient\n",
    "        linear_terms[f\"B_{j}\"] = -C\n",
    "        qp.linear_constraint(\n",
    "            linear=linear_terms,\n",
    "            sense=\"<=\",\n",
    "            rhs=0,  # Set the RHS to 0\n",
    "            name=f\"bin_capacity_{j}\",\n",
    "        )\n",
    "        qp = neq_to_eq.convert(qp)\n",
    "        qp = int_to_bin.convert(qp)\n",
    "        qp = eq_to_pen2.convert(qp)\n",
    "\n",
    "    return qp"
   ]
  },
  {
   "cell_type": "code",
   "execution_count": 36,
   "id": "a6f38976",
   "metadata": {},
   "outputs": [
    {
     "name": "stdout",
     "output_type": "stream",
     "text": [
      "BPP instance: [[50, 50, 30], 100, 2, 3]\n"
     ]
    },
    {
     "name": "stdout",
     "output_type": "stream",
     "text": [
      "Result: fval=2.0, B_0=1.0, B_1=1.0, x_0_0=1.0, x_0_1=0.0, x_1_0=1.0, x_1_1=0.0, x_2_0=0.0, x_2_1=1.0, bin_capacity_0@int_slack@0=0.0, bin_capacity_0@int_slack@1=0.0, bin_capacity_0@int_slack@2=0.0, bin_capacity_0@int_slack@3=0.0, bin_capacity_0@int_slack@4=0.0, bin_capacity_0@int_slack@5=0.0, bin_capacity_0@int_slack@6=0.0, bin_capacity_1@int_slack@0=1.0, bin_capacity_1@int_slack@1=0.0, bin_capacity_1@int_slack@2=0.0, bin_capacity_1@int_slack@3=0.0, bin_capacity_1@int_slack@4=0.0, bin_capacity_1@int_slack@5=1.0, bin_capacity_1@int_slack@6=1.0, status=SUCCESS\n",
      "Number of variables: 22\n",
      "Interpreted result: [[0, 1], [2]]\n"
     ]
    },
    {
     "data": {
      "image/png": "[encoded data removed]",
      "text/plain": [
       "<Figure size 640x480 with 1 Axes>"
      ]
     },
     "metadata": {},
     "output_type": "display_data"
    }
   ],
   "source": [
    "from docplex.mp.model import Model\n",
    "from qiskit_optimization.algorithms import CplexOptimizer\n",
    "\n",
    "bpp_example = read_list(\"bpp_instances\")[12]\n",
    "print(\"BPP instance:\", bpp_example)\n",
    "\n",
    "weights = bpp_example[0]  # item weights\n",
    "C = bpp_example[1]  # capacity of each bin\n",
    "B = bpp_example[2]  # num of bins\n",
    "items = bpp_example[3]  # num of items\n",
    "\n",
    "qp = quadratic_penalty(weights, C, B, items)\n",
    "cplex = CplexOptimizer()\n",
    "exact_result = cplex.solve(qp)\n",
    "\n",
    "print(f\"Result:\", exact_result)\n",
    "print(f\"Number of variables: {len(exact_result.variables)}\")\n",
    "print(f\"Interpreted result: {interpret(exact_result, B, items)}\")\n",
    "\n",
    "_ = plot(exact_result, B, items, weights, C)"
   ]
  },
  {
   "cell_type": "markdown",
   "id": "de1e20c0",
   "metadata": {},
   "source": [
    "## QAOA solution\n"
   ]
  },
  {
   "cell_type": "code",
   "execution_count": 29,
   "id": "0c420424",
   "metadata": {},
   "outputs": [],
   "source": [
    "from qiskit.algorithms.minimum_eigensolvers import QAOA"
   ]
  },
  {
   "cell_type": "markdown",
   "id": "ed853d11",
   "metadata": {},
   "source": [
    "## Warm start QAOA\n"
   ]
  },
  {
   "cell_type": "code",
   "execution_count": 30,
   "id": "92515181",
   "metadata": {},
   "outputs": [],
   "source": [
    "from qiskit_optimization.algorithms import WarmStartQAOAOptimizer"
   ]
  },
  {
   "cell_type": "markdown",
   "id": "72de9740",
   "metadata": {},
   "source": [
    "# Evaluation\n"
   ]
  },
  {
   "cell_type": "markdown",
   "id": "3e3d3de7",
   "metadata": {},
   "source": [
    "Evaluate quantum solutions in comparison with classic solution using the following metrics:\n",
    "\n",
    "- Running time;\n",
    "- Mean square error between quantum optimum and classic optimum;\n",
    "- Number of times each algorithm reaches the optimum;\n",
    "\n",
    "Evaluation should be performed on the following backends:\n",
    "\n",
    "- Noiseless simulator (Aer)\n",
    "- Noisy simulator (choose a noise model)\n",
    "- BONUS: test on AQT simulator (check https://github.com/qiskit-community/qiskit-aqt-provider)\n",
    "\n",
    "QAOA should be evaluated using different configurations:\n",
    "\n",
    "- QAOAAnsatz with $p=[1,5]$\n",
    "- Optimizers: COBYLA, NelderMead, SLSQP\n",
    "- Shots: {200, 400, 600, 800, 1000} (Please note that AQT backend is limited to 200 shots)\n",
    "- Optimizers' iteration: {250, 500, 750, 1000}\n"
   ]
  },
  {
   "cell_type": "code",
   "execution_count": null,
   "id": "ed42806c",
   "metadata": {},
   "outputs": [],
   "source": []
  }
 ],
 "metadata": {
  "kernelspec": {
   "display_name": ".venv",
   "language": "python",
   "name": "python3"
  },
  "language_info": {
   "codemirror_mode": {
    "name": "ipython",
    "version": 3
   },
   "file_extension": ".py",
   "mimetype": "text/x-python",
   "name": "python",
   "nbconvert_exporter": "python",
   "pygments_lexer": "ipython3",
   "version": "3.11.6"
  }
 },
 "nbformat": 4,
 "nbformat_minor": 5
}
