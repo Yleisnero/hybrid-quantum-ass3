{
 "cells": [
  {
   "cell_type": "markdown",
   "id": "e741379f",
   "metadata": {},
   "source": [
    "# Hybrid Classic-Quantum Systems - Third Assignment #\n",
    "\n",
    "You should fill in this Jupyter notebook in order to complete the assignment. Here a small recap of the rules:\n",
    "\n",
    "* You should **NOT** modify the functions that are already provided in the notebook, unless it is strictly necessary;\n",
    "* If you want to modify the given functions, please, provide an explanation of why you had to;\n",
    "* You can define new functions, as soon as they are well commented;\n",
    "* You can import all libraries you want, as soon as you justify their utilization;\n",
    "* You can add new cells, as soon as you do not remove the cells where you are supposed to comment your solution;\n",
    "* This is a group assignment. The maximum number of people is 3;\n",
    "* Your solution should be commented and accompanied by a small description - you can add additional cells if needed;\n",
    "* For any issue and doubt, please do not hesitate to use the forum or to write me an email."
   ]
  },
  {
   "cell_type": "markdown",
   "id": "abc48bc1",
   "metadata": {},
   "source": [
    "# Preliminaries #\n",
    "\n",
    "## Bin Packing Problem (BPP) ##\n",
    "The bin packing problem (BPP) is an optimization problem. The final goal is to fit items of different sizes into a finite number of bins, each of a fixed given capacity, minimizing the number of bins used. The problem has many applications, ranging from logistics, multi-processor scheduling.\n",
    "\n",
    "Computationally, the problem is NP-hard, and the corresponding decision problem, deciding if items can fit into a specified number of bins, is NP-complete."
   ]
  },
  {
   "cell_type": "markdown",
   "id": "b02c1bad",
   "metadata": {},
   "source": [
    "## Mathematical formulation ##\n",
    "The objective function of BPP is to minimize the number of bins used, more formally,\n",
    "\\begin{align}\n",
    "    & {\\min}\n",
    "    & &  \\sum_{j=1}^{K} B_j \\\\\n",
    "    & {\\text{subject to}}\n",
    "    & & g(x_{ij}) = \\sum_{j=1}^{K} x_{ij} = 1 \\qquad \\forall i \\\\\n",
    "    & & & h(x_{ij}) = \\sum_{i=1}^N w_{i}x_{ij} \\le C*B_j \\qquad \\forall j\n",
    "\\end{align}"
   ]
  },
  {
   "cell_type": "markdown",
   "id": "8cd6c093",
   "metadata": {},
   "source": [
    "The constraint $g(x)$ implies that each task can be packed into at most one CPU, and constraint $h(x_{ij})$ says that the requirements of each task can not exceed the given $C$ capacity. In this paper, BPP can be considered as a mixture of inequality and equality-constrained optimization problems."
   ]
  },
  {
   "cell_type": "markdown",
   "id": "11009203",
   "metadata": {},
   "source": [
    "# Loading BPP instances #\n",
    "First of all, we focus on generating instances of BPP to be used for the evaluation. Each instance is structured in the following way:\n",
    "\n",
    "$[[w_0, w_1, ..., w_n], C, B, items]$, such that:\n",
    "* $w_i$ is the weight of item $i$;\n",
    "* $C$ is the capacity of each bin;\n",
    "* $B$ is the number of bins;\n",
    "* $items$ is the number of items\n",
    "\n",
    "We pre-generated the instances for you and saved them in an attached binary file. You can read them in your code by using the following code:"
   ]
  },
  {
   "cell_type": "code",
   "execution_count": 14,
   "id": "98c95b55",
   "metadata": {},
   "outputs": [],
   "source": [
    "import pickle\n",
    "\n",
    "def read_list(filename):\n",
    "    # for reading also binary mode is important\n",
    "    with open(filename, 'rb') as fp:\n",
    "        n_list = pickle.load(fp)\n",
    "        return n_list"
   ]
  },
  {
   "cell_type": "markdown",
   "id": "e4577458",
   "metadata": {},
   "source": [
    "# Transforming BPP into a QUBO #\n",
    "QUBO is a mathematical model that is used to represent combinatorial optimization problems in which the variables are binary $\\{0,1\\}$ and the objective function with constraints is quadratic. We employ QUBO for BPP because it provides a framework for representing combinatorial optimization problems in a form that can be efficiently solved using quantum computing algorithms designed for QUBO problems, such as VQE or QAOA.\n",
    "\n",
    "## Slack Variables + Quadratic Penalty Encoding ##\n",
    "Qiskit Optimization provides with QuadraticProgram a very generic and powerful representation for optimization problems. However, usually, optimization algorithms cannot handle all possible types of problems that can be modelled, but only a sub-class. Many available quantum optimization algorithms can handle Quadratic Unconstrained Binary Optimization (QUBO) problems. To do so, first, it is necessary to convert a given optimization problem into a QUBO.\n",
    "\n",
    "Qiskit Optimization provides converters to achieve this conversion whenever possible. More precisely, Qiskit Optimization provides the following converters: \n",
    "* *InequalityToEquality*: converts inequality constraints into equality constraints with additional slack variables.\n",
    "* *IntegerToBinary* : converts integer variables into binary variables and corresponding coefficients. \n",
    "* *LinearEqualityToPenalty* : convert equality constraints into additional terms of the object function. \n",
    "* *QuadraticProgramToQubo* : a wrapper for IntegerToBinary and LinearEqualityToPenalty for convenience.\n",
    "More information available at: https://qiskit.org/documentation/stable/0.19/tutorials/optimization/2_converters_for_quadratic_programs.html\n",
    "\n",
    "## Penalty-Based Encoding ##\n",
    "\n",
    "### Define penalties ###\n",
    "To enforce the constraints, we introduce penalty terms to the objective function. These terms penalize solutions that violate the constraints. Firsts, we rewrite constraints $g(x_{ij})$ and $h(x_{ij})$ as follows,\n",
    "     \\begin{align*}\n",
    "        g(x_{ij}) = \\sum_{j=1}^{K} x_{ij} - 1 = 0 \\qquad \\forall i \\\\\n",
    "        h(x_{ij}) = \\sum_{i=1}^N w_{i}x_{ij} - C \\cdot B_j \\le 0 \\qquad \\forall j \\\\\n",
    "    \\end{align*}\n",
    "    Second, introduce penalty functions $p_1(\\lambda, g(x))$ and $p_2(\\beta, h(x))$ with coefficients $\\{\\lambda, \\beta\\} \\geq 0 $\n",
    "    \\begin{equation}\\label{penalty1}\n",
    "        p_1(\\lambda, g(x_{ij})) =\n",
    "        \\begin{cases}\n",
    "            0 & \\text{if $g(x_{ij}) \\leq 0$} \\\\\n",
    "            \\lambda g(x_{ij}) & \\text{if $g(x_{ij}) > 0$} \n",
    "        \\end{cases}\n",
    "    \\end{equation}\n",
    "    \\begin{equation}\\label{penalty2}\n",
    "        p_2(\\beta, h(x_{ij})) =\n",
    "        \\begin{cases}\n",
    "            0 & \\text{if $h(x_{ij}) \\leq 0$} \\\\\n",
    "            \\beta h(x_{ij}) & \\text{if $h(x_{ij}) > 0$} \n",
    "        \\end{cases} \n",
    "    \\end{equation}\n",
    "    \n",
    "In literature, there are multiple methods for penalization such as the exterior penalty function and interior penalty function.\n",
    "\n",
    "### Injecting Penalties in the Model ###\n",
    "To get the final QUBO form we combine penalties with objective function and get\n",
    "\n",
    "\\begin{equation}\n",
    "    \\mathcal{F} = \\sum_{j=1}^{K} B_j + \\sum_{j=1}^{K}p_1(\\lambda, g_j) + \\sum_{i=1}^{N}p_2(\\beta,h_i)\n",
    "\\end{equation}\n",
    "\n",
    "### Examples of penalty functions ###\n",
    "* https://www.stat.cmu.edu/~ryantibs/convexopt-F13/scribes/lec16.pdf\n",
    "* https://www.rose-hulman.edu/~bryan/lottamath/penalty.pdf"
   ]
  },
  {
   "cell_type": "markdown",
   "id": "4e4c2d63",
   "metadata": {},
   "source": [
    "## YOUR TASK ##\n",
    "* Apply slack + quadratic penalty\n",
    "* Apply penalty-based encoding using three functions"
   ]
  },
  {
   "cell_type": "code",
   "execution_count": 15,
   "id": "8d1d55b5-d64a-4a20-ac06-9c39c9afb9cd",
   "metadata": {},
   "outputs": [
    {
     "name": "stdout",
     "output_type": "stream",
     "text": [
      "BPP instance: [[50, 50, 30], 100, 2, 3]\n"
     ]
    }
   ],
   "source": [
    "from qiskit_optimization.applications import BinPacking\n",
    "from qiskit_optimization.converters import QuadraticProgramToQubo\n",
    "from qiskit_optimization.algorithms import CplexOptimizer\n",
    "\n",
    "\n",
    "bpp_example = read_list(\"bpp_instances\")[12]\n",
    "print(\"BPP instance:\", bpp_example)\n",
    "\n",
    "wj = bpp_example[0] # item weights\n",
    "Q = bpp_example[1]  # capacity of each bin\n",
    "n = bpp_example[2]  # num of bins\n",
    "m = bpp_example[3]  # num of items\n",
    "\n",
    "bp = BinPacking(wj, Q, n)"
   ]
  },
  {
   "cell_type": "code",
   "execution_count": 16,
   "id": "4ffddff0",
   "metadata": {},
   "outputs": [
    {
     "name": "stdout",
     "output_type": "stream",
     "text": [
      "\n",
      "==========\n",
      "NON-QUBO\n",
      "==========\n",
      "Result: <OptimizationResult: fval=2.0, y_0=1.0, y_1=1.0, x_0_0=0.0, x_0_1=1.0, x_1_0=0.0, x_1_1=1.0, x_2_0=1.0, x_2_1=0.0, status=SUCCESS>\n",
      "Interpreted result: [[2], [0, 1]]\n"
     ]
    },
    {
     "data": {
      "image/png": "[encoded data removed]",
      "text/plain": [
       "<Figure size 640x480 with 1 Axes>"
      ]
     },
     "metadata": {},
     "output_type": "display_data"
    }
   ],
   "source": [
    "# NON QUBO\n",
    "print(\"\\n\" + \"=\" * 10 + \"\\nNON-QUBO\\n\" + \"=\" * 10)\n",
    "\n",
    "qp = bp.to_quadratic_program()\n",
    "\n",
    "result = CplexOptimizer().solve(qp)\n",
    "print(\"Result:\", result.__repr__())\n",
    "print(\"Interpreted result:\", bp.interpret(result))\n",
    "\n",
    "_ = bp.get_figure(result)"
   ]
  },
  {
   "cell_type": "code",
   "execution_count": 17,
   "id": "e11b5b8f",
   "metadata": {},
   "outputs": [
    {
     "name": "stdout",
     "output_type": "stream",
     "text": [
      "\n",
      "==========\n",
      "QUBO\n",
      "==========\n",
      "Result: <OptimizationResult: fval=2.0, y_0=0.0, y_1=1.0, x_0_0=0.0, x_0_1=1.0, x_1_0=0.0, x_1_1=1.0, x_2_0=0.0, x_2_1=0.0, c3@int_slack@0=0.0, c3@int_slack@1=0.0, c3@int_slack@2=0.0, c3@int_slack@3=0.0, c3@int_slack@4=0.0, c3@int_slack@5=0.0, c3@int_slack@6=0.0, c4@int_slack@0=0.0, c4@int_slack@1=0.0, c4@int_slack@2=0.0, c4@int_slack@3=0.0, c4@int_slack@4=0.0, c4@int_slack@5=0.0, c4@int_slack@6=0.0, status=SUCCESS>\n"
     ]
    },
    {
     "ename": "ValueError",
     "evalue": "cannot reshape array of size 20 into shape (3,2)",
     "output_type": "error",
     "traceback": [
      "\u001b[1;31m---------------------------------------------------------------------------\u001b[0m",
      "\u001b[1;31mValueError\u001b[0m                                Traceback (most recent call last)",
      "\u001b[1;32m/home/alex/projects/tu/hcqs/assignment3/3rd-assignment-hcqs.ipynb Cell 11\u001b[0m line \u001b[0;36m1\n\u001b[0;32m      <a href='vscode-notebook-cell:/home/alex/projects/tu/hcqs/assignment3/3rd-assignment-hcqs.ipynb#Y103sZmlsZQ%3D%3D?line=7'>8</a>\u001b[0m result_qubo \u001b[39m=\u001b[39m CplexOptimizer()\u001b[39m.\u001b[39msolve(qp_qubo)\n\u001b[0;32m      <a href='vscode-notebook-cell:/home/alex/projects/tu/hcqs/assignment3/3rd-assignment-hcqs.ipynb#Y103sZmlsZQ%3D%3D?line=8'>9</a>\u001b[0m \u001b[39mprint\u001b[39m(\u001b[39m\"\u001b[39m\u001b[39mResult:\u001b[39m\u001b[39m\"\u001b[39m, result_qubo\u001b[39m.\u001b[39m\u001b[39m__repr__\u001b[39m())\n\u001b[1;32m---> <a href='vscode-notebook-cell:/home/alex/projects/tu/hcqs/assignment3/3rd-assignment-hcqs.ipynb#Y103sZmlsZQ%3D%3D?line=9'>10</a>\u001b[0m \u001b[39mprint\u001b[39m(\u001b[39m\"\u001b[39m\u001b[39mInterpreted result:\u001b[39m\u001b[39m\"\u001b[39m, bp\u001b[39m.\u001b[39;49minterpret(result_qubo))\n\u001b[0;32m     <a href='vscode-notebook-cell:/home/alex/projects/tu/hcqs/assignment3/3rd-assignment-hcqs.ipynb#Y103sZmlsZQ%3D%3D?line=11'>12</a>\u001b[0m \u001b[39m# FIXME\u001b[39;00m\n\u001b[0;32m     <a href='vscode-notebook-cell:/home/alex/projects/tu/hcqs/assignment3/3rd-assignment-hcqs.ipynb#Y103sZmlsZQ%3D%3D?line=12'>13</a>\u001b[0m _ \u001b[39m=\u001b[39m bp\u001b[39m.\u001b[39mget_figure(result_qubo)\n",
      "File \u001b[1;32m~/projects/tu/hcqs/assignment3/.venv/lib/python3.11/site-packages/qiskit_optimization/applications/bin_packing.py:102\u001b[0m, in \u001b[0;36mBinPacking.interpret\u001b[1;34m(self, result)\u001b[0m\n\u001b[0;32m    100\u001b[0m num_bins \u001b[39m=\u001b[39m \u001b[39mself\u001b[39m\u001b[39m.\u001b[39m_max_number_of_bins\n\u001b[0;32m    101\u001b[0m bins \u001b[39m=\u001b[39m x[:num_bins]\n\u001b[1;32m--> 102\u001b[0m items \u001b[39m=\u001b[39m np\u001b[39m.\u001b[39;49marray(x[num_bins:])\u001b[39m.\u001b[39;49mreshape((num_items, num_bins))\n\u001b[0;32m    103\u001b[0m items_in_bins \u001b[39m=\u001b[39m [\n\u001b[0;32m    104\u001b[0m     [i \u001b[39mfor\u001b[39;00m i \u001b[39min\u001b[39;00m \u001b[39mrange\u001b[39m(num_items) \u001b[39mif\u001b[39;00m bins[j] \u001b[39mand\u001b[39;00m items[i, j]] \u001b[39mfor\u001b[39;00m j \u001b[39min\u001b[39;00m \u001b[39mrange\u001b[39m(num_bins)\n\u001b[0;32m    105\u001b[0m ]\n\u001b[0;32m    106\u001b[0m \u001b[39mreturn\u001b[39;00m items_in_bins\n",
      "\u001b[1;31mValueError\u001b[0m: cannot reshape array of size 20 into shape (3,2)"
     ]
    }
   ],
   "source": [
    "## QUBO\n",
    "print(\"\\n\" + \"=\" * 10 + \"\\nQUBO\\n\" + \"=\" * 10)\n",
    "\n",
    "# TODO\n",
    "penalty = 1\n",
    "qp_qubo = QuadraticProgramToQubo(penalty=penalty).convert(qp)\n",
    "\n",
    "result_qubo = CplexOptimizer().solve(qp_qubo)\n",
    "print(\"Result:\", result_qubo.__repr__())\n",
    "print(\"Interpreted result:\", bp.interpret(result_qubo))\n",
    "\n",
    "# FIXME\n",
    "_ = bp.get_figure(result_qubo)"
   ]
  },
  {
   "cell_type": "markdown",
   "id": "1bcc6b56",
   "metadata": {},
   "source": [
    "# Encoding QUBO into ISING Hamiltonian #\n",
    "The next step is to encode the classical QUBO formulation into a quantum state. There exist techniques to encode classical data into quantum such as basis encoding, amplitude encoding, and angle encoding. In this paper, we apply basis encoding, for which any quantum basis can be chosen, but the common way for doing so is to choose basis $\\{-1,1\\}$ as follows:\n",
    "\\begin{align}\n",
    "    \\begin{split}\n",
    "    x_i = \\frac{1-z_i}{2}\\\\\n",
    "    z_i*z_j = \\sigma_Z^i \\otimes \\sigma_Z^j \\\\\n",
    "    z_i = \\sigma_Z^i\n",
    "    \\end{split}\n",
    "\\end{align}\n",
    "where $\\sigma_Z^i$ denotes the Pauli-Z matrix \n",
    "$\\begin{pmatrix}\n",
    "  1 & 0\\\\ \n",
    "  0 & -1\n",
    "\\end{pmatrix}$ on the $i$-th qubit.\n",
    "The eigenvalues of $\\text{I} - \\frac{Z}{2}$ are $\\{-1,1\\}$ with corresponding eigenstates $|0\\rangle$ and $|1\\rangle$. Thus, we switch from Z to $\\text{I} - \\frac{Z}{2}$, and rewrite the problem as BPP Ising hamiltonian,\n",
    "\\begin{equation}\n",
    "    H_{bpp}= \\sum_{j=1}^{K} \\sigma_j + \\sum_{j=1}^{K}p_1(\\lambda, g_j) + \\sum_{i=1}^{N}p_2(\\beta,h_i)\n",
    "\\end{equation}\n",
    "where $g_j$ and $h_i$ are now functions of $\\sigma$."
   ]
  },
  {
   "cell_type": "markdown",
   "id": "667dcbe7",
   "metadata": {},
   "source": [
    "## YOUR TASK: Encoding the QUBO as an Ising Hamiltonian ##"
   ]
  },
  {
   "cell_type": "code",
   "execution_count": null,
   "id": "f9d9caba-7cff-4423-823b-fe10606d2037",
   "metadata": {},
   "outputs": [],
   "source": [
    "from qiskit.primitives import Sampler\n",
    "from qiskit_algorithms.optimizers import COBYLA\n",
    "from qiskit_algorithms import QAOA\n",
    "\n",
    "sampler = Sampler()\n",
    "optimizer = COBYLA()\n",
    "\n",
    "qaoa = QAOA(reps=1, sampler=sampler, optimizer=optimizer)\n",
    "\n",
    "# TODO\n",
    "\n",
    "# QUBO as an Ising Hamiltonian\n",
    "#operator, offset = qubo.to_ising()\n",
    "\n",
    "#result_qaoa = qaoa.compute_minimum_eigenvalue(operator=operator)\n",
    "#\n",
    "#print(result_qaoa)\n",
    "#\n",
    "#plot_bins(result, wj, n, m, l, simplify=True)\n",
    "#plt.title(\"QAOA solution\", fontsize=18)"
   ]
  },
  {
   "cell_type": "markdown",
   "id": "0e383180",
   "metadata": {},
   "source": [
    "# Solving BPP instances #\n",
    "Solve each problem instances using different methods:\n",
    "## CPLEX optimizer ##\n",
    "Classic optimizer, to be used as baseline with all the others."
   ]
  },
  {
   "cell_type": "code",
   "execution_count": null,
   "id": "a6f38976",
   "metadata": {},
   "outputs": [],
   "source": [
    "from docplex.mp.model import Model\n",
    "from qiskit_optimization.algorithms import CplexOptimizer"
   ]
  },
  {
   "cell_type": "markdown",
   "id": "de1e20c0",
   "metadata": {},
   "source": [
    "## QAOA solution ##\n"
   ]
  },
  {
   "cell_type": "code",
   "execution_count": null,
   "id": "0c420424",
   "metadata": {},
   "outputs": [],
   "source": [
    "from qiskit.algorithms.minimum_eigensolvers import QAOA"
   ]
  },
  {
   "cell_type": "markdown",
   "id": "ed853d11",
   "metadata": {},
   "source": [
    "## Warm start QAOA ##"
   ]
  },
  {
   "cell_type": "code",
   "execution_count": null,
   "id": "92515181",
   "metadata": {},
   "outputs": [],
   "source": [
    "from qiskit_optimization.algorithms import WarmStartQAOAOptimizer"
   ]
  },
  {
   "cell_type": "markdown",
   "id": "72de9740",
   "metadata": {},
   "source": [
    "# Evaluation #"
   ]
  },
  {
   "cell_type": "markdown",
   "id": "3e3d3de7",
   "metadata": {},
   "source": [
    "Evaluate quantum solutions in comparison with classic solution using the following metrics:\n",
    "* Running time;\n",
    "* Mean square error between quantum optimum and classic optimum;\n",
    "* Number of times each algorithm reaches the optimum;\n",
    "\n",
    "Evaluation should be performed on the following backends:\n",
    "* Noiseless simulator (Aer)\n",
    "* Noisy simulator (choose a noise model)\n",
    "* BONUS: test on AQT simulator (check https://github.com/qiskit-community/qiskit-aqt-provider)\n",
    "\n",
    "QAOA should be evaluated using different configurations:\n",
    "* QAOAAnsatz with $p=[1,5]$ \n",
    "* Optimizers: COBYLA, NelderMead, SLSQP\n",
    "* Shots: {200, 400, 600, 800, 1000} (Please note that AQT backend is limited to 200 shots)\n",
    "* Optimizers' iteration: {250, 500, 750, 1000}"
   ]
  },
  {
   "cell_type": "code",
   "execution_count": null,
   "id": "ed42806c",
   "metadata": {},
   "outputs": [],
   "source": []
  }
 ],
 "metadata": {
  "jupytext": {
   "formats": "py:percent,ipynb"
  },
  "kernelspec": {
   "display_name": ".venv",
   "language": "python",
   "name": "python3"
  },
  "language_info": {
   "codemirror_mode": {
    "name": "ipython",
    "version": 3
   },
   "file_extension": ".py",
   "mimetype": "text/x-python",
   "name": "python",
   "nbconvert_exporter": "python",
   "pygments_lexer": "ipython3",
   "version": "3.11.6"
  }
 },
 "nbformat": 4,
 "nbformat_minor": 5
}
