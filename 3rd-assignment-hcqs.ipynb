{
 "cells": [
  {
   "cell_type": "markdown",
   "id": "e741379f",
   "metadata": {},
   "source": [
    "# Hybrid Classic-Quantum Systems - Third Assignment\n",
    "\n",
    "You should fill in this Jupyter notebook in order to complete the assignment. Here a small recap of the rules:\n",
    "\n",
    "- You should **NOT** modify the functions that are already provided in the notebook, unless it is strictly necessary;\n",
    "- If you want to modify the given functions, please, provide an explanation of why you had to;\n",
    "- You can define new functions, as soon as they are well commented;\n",
    "- You can import all libraries you want, as soon as you justify their utilization;\n",
    "- You can add new cells, as soon as you do not remove the cells where you are supposed to comment your solution;\n",
    "- This is a group assignment. The maximum number of people is 3;\n",
    "- Your solution should be commented and accompanied by a small description - you can add additional cells if needed;\n",
    "- For any issue and doubt, please do not hesitate to use the forum or to write me an email.\n"
   ]
  },
  {
   "cell_type": "markdown",
   "id": "abc48bc1",
   "metadata": {},
   "source": [
    "# Preliminaries\n",
    "\n",
    "## Bin Packing Problem (BPP)\n",
    "\n",
    "The bin packing problem (BPP) is an optimization problem. The final goal is to fit items of different sizes into a finite number of bins, each of a fixed given capacity, minimizing the number of bins used. The problem has many applications, ranging from logistics, multi-processor scheduling.\n",
    "\n",
    "Computationally, the problem is NP-hard, and the corresponding decision problem, deciding if items can fit into a specified number of bins, is NP-complete.\n",
    "![np-complete](https://imgs.xkcd.com/comics/np_complete.png)\n"
   ]
  },
  {
   "cell_type": "markdown",
   "id": "b02c1bad",
   "metadata": {},
   "source": [
    "## Mathematical formulation\n",
    "\n",
    "The objective function of BPP is to minimize the number of bins used, more formally,\n",
    "\\begin{align} \\label{eqn:bpp}\n",
    "& {\\min}\n",
    "& & \\sum*{j=1}^{K} B_j \\\\\n",
    "& {\\text{subject to}}\n",
    "& & g(x*{ij}) = \\sum*{j=1}^{K} x*{ij} = 1 \\qquad \\forall i \\\\\n",
    "& & & h(x*{ij}) = \\sum*{i=1}^N w*{i}x*{ij} \\le C\\*B_j \\qquad \\forall j\n",
    "\\end{align}\n"
   ]
  },
  {
   "cell_type": "markdown",
   "id": "8cd6c093",
   "metadata": {},
   "source": [
    "The constraint $g(x)$ implies that each task can be packed into at most one CPU, and constraint $h(x_{ij})$ says that the requirements of each task can not exceed the given $C$ capacity. In this paper, BPP can be considered as a mixture of inequality and equality-constrained optimization problems.\n"
   ]
  },
  {
   "cell_type": "markdown",
   "id": "11009203",
   "metadata": {},
   "source": [
    "# Loading BPP instances\n",
    "\n",
    "First of all, we focus on generating instances of BPP to be used for the evaluation. Each instance is structured in the following way:\n",
    "\n",
    "$[[w_0, w_1, ..., w_n], C, B, items]$, such that:\n",
    "\n",
    "- $w_i$ is the weight of item $i$;\n",
    "- $C$ is the capacity of each bin;\n",
    "- $B$ is the number of bins;\n",
    "- $items$ is the number of items\n",
    "\n",
    "We pre-generated the instances for you and saved them in an attached binary file. You can read them in your code by using the following code:\n"
   ]
  },
  {
   "cell_type": "code",
   "execution_count": 2,
   "id": "98c95b55",
   "metadata": {},
   "outputs": [],
   "source": [
    " import pickle\n",
    "\n",
    "\n",
    "def read_list(filename):\n",
    "    # for reading also binary mode is important\n",
    "    with open(filename, \"rb\") as fp:\n",
    "        n_list = pickle.load(fp)\n",
    "        return n_list"
   ]
  },
  {
   "cell_type": "markdown",
   "id": "e4577458",
   "metadata": {},
   "source": [
    "# Transforming BPP into a QUBO\n",
    "\n",
    "QUBO is a mathematical model that is used to represent combinatorial optimization problems in which the variables are binary $\\{0,1\\}$ and the objective function with constraints is quadratic. We employ QUBO for BPP because it provides a framework for representing combinatorial optimization problems in a form that can be efficiently solved using quantum computing algorithms designed for QUBO problems, such as VQE or QAOA.\n",
    "\n",
    "## Slack Variables + Quadratic Penalty Encoding\n",
    "\n",
    "Qiskit Optimization provides with QuadraticProgram a very generic and powerful representation for optimization problems. However, usually, optimization algorithms cannot handle all possible types of problems that can be modelled, but only a sub-class. Many available quantum optimization algorithms can handle Quadratic Unconstrained Binary Optimization (QUBO) problems. To do so, first, it is necessary to convert a given optimization problem into a QUBO.\n",
    "\n",
    "Qiskit Optimization provides converters to achieve this conversion whenever possible. More precisely, Qiskit Optimization provides the following converters:\n",
    "\n",
    "- _InequalityToEquality_: converts inequality constraints into equality constraints with additional slack variables.\n",
    "- _IntegerToBinary_ : converts integer variables into binary variables and corresponding coefficients.\n",
    "- _LinearEqualityToPenalty_ : convert equality constraints into additional terms of the object function.\n",
    "- _QuadraticProgramToQubo_ : a wrapper for IntegerToBinary and LinearEqualityToPenalty for convenience.\n",
    "  More information available at: https://qiskit.org/documentation/stable/0.19/tutorials/optimization/2_converters_for_quadratic_programs.html\n",
    "\n",
    "## Penalty-Based Encoding\n",
    "\n",
    "### Define penalties\n",
    "\n",
    "To enforce the constraints, we introduce penalty terms to the objective function. These terms penalize solutions that violate the constraints. Firsts, we rewrite constraints $g(x_{ij})$ and $h(x_{ij})$ as follows,\n",
    "\\begin{align*}\n",
    "g(x*{ij}) = \\sum*{j=1}^{K} x*{ij} - 1 = 0 \\qquad \\forall i \\\\\n",
    "h(x*{ij}) = \\sum*{i=1}^N w*{i}x\\_{ij} - C \\cdot B_j \\le 0 \\qquad \\forall j \\\\\n",
    "\\end{align*}\n",
    "Second, introduce penalty functions $p_1(\\lambda, g(x))$ and $p_2(\\beta, h(x))$ with coefficients $\\{\\lambda, \\beta\\} \\geq 0 $\n",
    "    \\begin{equation}\\label{penalty1}\n",
    "        p_1(\\lambda, g(x_{ij})) =\n",
    "        \\begin{cases}\n",
    "            0 & \\text{if $g(x_{ij}) \\leq 0$} \\\\\n",
    "\\lambda g(x*{ij}) & \\text{if $g(x*{ij}) > 0$} \n",
    "        \\end{cases}\n",
    "    \\end{equation}\n",
    "    \\begin{equation}\\label{penalty2}\n",
    "        p_2(\\beta, h(x_{ij})) =\n",
    "        \\begin{cases}\n",
    "            0 & \\text{if $h(x_{ij}) \\leq 0$} \\\\\n",
    "\\beta h(x*{ij}) & \\text{if $h(x*{ij}) > 0$}\n",
    "\\end{cases}\n",
    "\\end{equation}\n",
    "\n",
    "In literature, there are multiple methods for penalization such as the exterior penalty function and interior penalty function.\n",
    "\n",
    "### Injecting Penalties in the Model\n",
    "\n",
    "To get the final QUBO form we combine penalties with objective function and get\n",
    "\n",
    "\\begin{equation}\n",
    "\\mathcal{F} = \\sum*{j=1}^{K} B_j + \\sum*{j=1}^{K}p*1(\\lambda, g_j) + \\sum*{i=1}^{N}p_2(\\beta,h_i)\n",
    "\\end{equation}\n",
    "\n",
    "### Examples of penalty functions\n",
    "\n",
    "- https://www.stat.cmu.edu/~ryantibs/convexopt-F13/scribes/lec16.pdf\n",
    "- https://www.rose-hulman.edu/~bryan/lottamath/penalty.pdf\n"
   ]
  },
  {
   "cell_type": "markdown",
   "id": "4e4c2d63",
   "metadata": {},
   "source": [
    "## YOUR TASK\n",
    "\n",
    "- Apply slack + quadratic penalty\n",
    "- Apply penalty-based encoding using three functions\n"
   ]
  },
  {
   "cell_type": "markdown",
   "id": "1bcc6b56",
   "metadata": {},
   "source": [
    "# Encoding QUBO into ISING Hamiltonian\n",
    "\n",
    "The next step is to encode the classical QUBO formulation into a quantum state. There exist techniques to encode classical data into quantum such as basis encoding, amplitude encoding, and angle encoding. In this paper, we apply basis encoding, for which any quantum basis can be chosen, but the common way for doing so is to choose basis $\\{-1,1\\}$ as follows:\n",
    "\\begin{align}\n",
    "\\label{eqn:to*ising}\n",
    "\\begin{split}\n",
    "x_i = \\frac{1-z_i}{2}\\\\\n",
    "z_i\\*z_j = \\sigma_Z^i \\otimes \\sigma_Z^j \\\\\n",
    "z_i = \\sigma_Z^i\n",
    "\\end{split}\n",
    "\\end{align}\n",
    "where $\\sigma_Z^i$ denotes the Pauli-Z matrix\n",
    "$\\begin{pmatrix}\n",
    "  1 & 0\\\\ \n",
    "  0 & -1\n",
    "\\end{pmatrix}$ on the $i$-th qubit.\n",
    "The eigenvalues of $\\text{I} - \\frac{Z}{2}$ are $\\{-1,1\\}$ with corresponding eigenstates $|0\\rangle$ and $|1\\rangle$. Thus, we switch from Z to $\\text{I} - \\frac{Z}{2}$, and rewrite the problem as BPP Ising hamiltonian,\n",
    "\\begin{equation} \\label{eqn:final_hamiltonian}\n",
    "H*{bpp}= \\sum*{j=1}^{K} \\sigma_j + \\sum*{j=1}^{K}p*1(\\lambda, g_j) + \\sum*{i=1}^{N}p_2(\\beta,h_i)\n",
    "\\end{equation}\n",
    "where $g_j$ and $h_i$ are now functions of $\\sigma$.\n"
   ]
  },
  {
   "cell_type": "markdown",
   "id": "667dcbe7",
   "metadata": {},
   "source": [
    "## YOUR TASK: Encoding the QUBO as an Ising Hamiltonian\n"
   ]
  },
  {
   "cell_type": "markdown",
   "id": "0e383180",
   "metadata": {},
   "source": [
    "# Solving BPP instances\n",
    "\n",
    "Solve each problem instances using different methods:\n",
    "\n",
    "## CPLEX optimizer\n",
    "\n",
    "Classic optimizer, to be used as baseline with all the others.\n"
   ]
  },
  {
   "cell_type": "code",
   "execution_count": 3,
   "id": "cf8c65e0",
   "metadata": {},
   "outputs": [],
   "source": [
    "from qiskit_optimization import QuadraticProgram\n",
    "from qiskit_optimization.converters import (\n",
    "    LinearEqualityToPenalty,\n",
    "    InequalityToEquality,\n",
    "    IntegerToBinary,\n",
    ")\n",
    "\n",
    "\n",
    "def quadratic_penalty(weights, C, B, items):\n",
    "    # Create a Quadratic Program\n",
    "    qp = QuadraticProgram()\n",
    "\n",
    "    # Add binary variables x_{ij} for each item i and bin j\n",
    "    # x_{ij} = 1 if item i is in bin j, else 0\n",
    "\n",
    "    for j in range(B):\n",
    "        qp.binary_var(name=f\"B_{j}\")\n",
    "\n",
    "    for i in range(items):\n",
    "        for j in range(B):\n",
    "            qp.binary_var(name=f\"x_{i}_{j}\")\n",
    "\n",
    "    # Objective function: Minimize the number of bins used\n",
    "    # This is done by minimizing the sum of B_j, where B_j = 1 if bin j is used\n",
    "    qp.minimize(linear=[1] * B)\n",
    "\n",
    "    eq_to_pen = LinearEqualityToPenalty(100)\n",
    "    # Constraint g(x): Each item i must be in exactly one bin\n",
    "    for i in range(items):\n",
    "        qp.linear_constraint(\n",
    "            linear={f\"x_{i}_{j}\": 1 for j in range(B)},\n",
    "            sense=\"==\",\n",
    "            rhs=1,\n",
    "            name=f\"item_in_one_bin_{i}\",\n",
    "        )\n",
    "        qp = eq_to_pen.convert(qp)\n",
    "    neq_to_eq = InequalityToEquality(\"integer\")\n",
    "    eq_to_pen2 = LinearEqualityToPenalty(200)\n",
    "    int_to_bin = IntegerToBinary()\n",
    "    # Constraint h(x): Total weight in each bin j must not exceed its capacity C\n",
    "    for j in range(B):\n",
    "        # Create a dictionary for the linear terms\n",
    "        linear_terms = {f\"x_{i}_{j}\": weights[i] for i in range(items)}\n",
    "        # Add the term for B_j with a negative coefficient\n",
    "        linear_terms[f\"B_{j}\"] = -C\n",
    "        qp.linear_constraint(\n",
    "            linear=linear_terms,\n",
    "            sense=\"<=\",\n",
    "            rhs=0,  # Set the RHS to 0\n",
    "            name=f\"bin_capacity_{j}\",\n",
    "        )\n",
    "        qp = neq_to_eq.convert(qp)\n",
    "        qp = int_to_bin.convert(qp)\n",
    "        qp = eq_to_pen2.convert(qp)\n",
    "\n",
    "    return qp"
   ]
  },
  {
   "cell_type": "code",
   "execution_count": 22,
   "id": "a6f38976",
   "metadata": {},
   "outputs": [
    {
     "name": "stdout",
     "output_type": "stream",
     "text": [
      "BPP instance: [[80, 20, 55, 15], 120, 3, 4]\n",
      "fval=2.0, B_0=0.0, B_1=1.0, B_2=1.0, x_0_0=0.0, x_0_1=0.0, x_0_2=1.0, x_1_0=0.0, x_1_1=1.0, x_1_2=0.0, x_2_0=0.0, x_2_1=1.0, x_2_2=0.0, x_3_0=0.0, x_3_1=1.0, x_3_2=0.0, bin_capacity_0@int_slack@0=0.0, bin_capacity_0@int_slack@1=0.0, bin_capacity_0@int_slack@2=0.0, bin_capacity_0@int_slack@3=0.0, bin_capacity_0@int_slack@4=0.0, bin_capacity_0@int_slack@5=0.0, bin_capacity_0@int_slack@6=0.0, bin_capacity_1@int_slack@0=0.0, bin_capacity_1@int_slack@1=1.0, bin_capacity_1@int_slack@2=1.0, bin_capacity_1@int_slack@3=1.0, bin_capacity_1@int_slack@4=1.0, bin_capacity_1@int_slack@5=0.0, bin_capacity_1@int_slack@6=0.0, bin_capacity_2@int_slack@0=0.0, bin_capacity_2@int_slack@1=0.0, bin_capacity_2@int_slack@2=0.0, bin_capacity_2@int_slack@3=1.0, bin_capacity_2@int_slack@4=0.0, bin_capacity_2@int_slack@5=1.0, bin_capacity_2@int_slack@6=0.0, status=SUCCESS\n",
      "{'B_0': 0.0, 'B_1': 1.0, 'B_2': 1.0, 'x_0_0': 0.0, 'x_0_1': 0.0, 'x_0_2': 1.0, 'x_1_0': 0.0, 'x_1_1': 1.0, 'x_1_2': 0.0, 'x_2_0': 0.0, 'x_2_1': 1.0, 'x_2_2': 0.0, 'x_3_0': 0.0, 'x_3_1': 1.0, 'x_3_2': 0.0, 'bin_capacity_0@int_slack@0': 0.0, 'bin_capacity_0@int_slack@1': 0.0, 'bin_capacity_0@int_slack@2': 0.0, 'bin_capacity_0@int_slack@3': 0.0, 'bin_capacity_0@int_slack@4': 0.0, 'bin_capacity_0@int_slack@5': 0.0, 'bin_capacity_0@int_slack@6': 0.0, 'bin_capacity_1@int_slack@0': 0.0, 'bin_capacity_1@int_slack@1': 1.0, 'bin_capacity_1@int_slack@2': 1.0, 'bin_capacity_1@int_slack@3': 1.0, 'bin_capacity_1@int_slack@4': 1.0, 'bin_capacity_1@int_slack@5': 0.0, 'bin_capacity_1@int_slack@6': 0.0, 'bin_capacity_2@int_slack@0': 0.0, 'bin_capacity_2@int_slack@1': 0.0, 'bin_capacity_2@int_slack@2': 0.0, 'bin_capacity_2@int_slack@3': 1.0, 'bin_capacity_2@int_slack@4': 0.0, 'bin_capacity_2@int_slack@5': 1.0, 'bin_capacity_2@int_slack@6': 0.0}\n",
      "Number of variables: 36\n"
     ]
    },
    {
     "ename": "ValueError",
     "evalue": "cannot reshape array of size 33 into shape (4,3)",
     "output_type": "error",
     "traceback": [
      "\u001b[0;31m---------------------------------------------------------------------------\u001b[0m",
      "\u001b[0;31mValueError\u001b[0m                                Traceback (most recent call last)",
      "Cell \u001b[0;32mIn[22], line 24\u001b[0m\n\u001b[1;32m     21\u001b[0m \u001b[38;5;28mprint\u001b[39m(\u001b[38;5;124mf\u001b[39m\u001b[38;5;124m\"\u001b[39m\u001b[38;5;124mNumber of variables: \u001b[39m\u001b[38;5;132;01m{\u001b[39;00m\u001b[38;5;28mlen\u001b[39m(exact_result\u001b[38;5;241m.\u001b[39mvariables)\u001b[38;5;132;01m}\u001b[39;00m\u001b[38;5;124m\"\u001b[39m)\n\u001b[1;32m     23\u001b[0m bp \u001b[38;5;241m=\u001b[39m BinPacking(weights, C, B)\n\u001b[0;32m---> 24\u001b[0m _ \u001b[38;5;241m=\u001b[39m \u001b[43mbp\u001b[49m\u001b[38;5;241;43m.\u001b[39;49m\u001b[43mget_figure\u001b[49m\u001b[43m(\u001b[49m\u001b[43mexact_result\u001b[49m\u001b[43m)\u001b[49m\n",
      "File \u001b[0;32m~/Repositories/HybridQuantum/hybrid-quantum-ass3/venv/lib64/python3.11/site-packages/qiskit/utils/lazy_tester.py:165\u001b[0m, in \u001b[0;36mLazyDependencyManager.require_in_call.<locals>.out\u001b[0;34m(*args, **kwargs)\u001b[0m\n\u001b[1;32m    162\u001b[0m \u001b[38;5;129m@functools\u001b[39m\u001b[38;5;241m.\u001b[39mwraps(function)\n\u001b[1;32m    163\u001b[0m \u001b[38;5;28;01mdef\u001b[39;00m \u001b[38;5;21mout\u001b[39m(\u001b[38;5;241m*\u001b[39margs, \u001b[38;5;241m*\u001b[39m\u001b[38;5;241m*\u001b[39mkwargs):\n\u001b[1;32m    164\u001b[0m     \u001b[38;5;28mself\u001b[39m\u001b[38;5;241m.\u001b[39mrequire_now(feature)\n\u001b[0;32m--> 165\u001b[0m     \u001b[38;5;28;01mreturn\u001b[39;00m \u001b[43mfunction\u001b[49m\u001b[43m(\u001b[49m\u001b[38;5;241;43m*\u001b[39;49m\u001b[43margs\u001b[49m\u001b[43m,\u001b[49m\u001b[43m \u001b[49m\u001b[38;5;241;43m*\u001b[39;49m\u001b[38;5;241;43m*\u001b[39;49m\u001b[43mkwargs\u001b[49m\u001b[43m)\u001b[49m\n",
      "File \u001b[0;32m~/Repositories/HybridQuantum/hybrid-quantum-ass3/venv/lib64/python3.11/site-packages/qiskit_optimization/applications/bin_packing.py:122\u001b[0m, in \u001b[0;36mBinPacking.get_figure\u001b[0;34m(self, result)\u001b[0m\n\u001b[1;32m    119\u001b[0m \u001b[38;5;28;01mimport\u001b[39;00m \u001b[38;5;21;01mmatplotlib\u001b[39;00m\u001b[38;5;21;01m.\u001b[39;00m\u001b[38;5;21;01mpyplot\u001b[39;00m \u001b[38;5;28;01mas\u001b[39;00m \u001b[38;5;21;01mplt\u001b[39;00m\n\u001b[1;32m    121\u001b[0m colors \u001b[38;5;241m=\u001b[39m plt\u001b[38;5;241m.\u001b[39mcolormaps[\u001b[38;5;124m\"\u001b[39m\u001b[38;5;124mjet\u001b[39m\u001b[38;5;124m\"\u001b[39m]\u001b[38;5;241m.\u001b[39mresampled(\u001b[38;5;28mlen\u001b[39m(\u001b[38;5;28mself\u001b[39m\u001b[38;5;241m.\u001b[39m_weights))\n\u001b[0;32m--> 122\u001b[0m items_in_bins \u001b[38;5;241m=\u001b[39m \u001b[38;5;28;43mself\u001b[39;49m\u001b[38;5;241;43m.\u001b[39;49m\u001b[43minterpret\u001b[49m\u001b[43m(\u001b[49m\u001b[43mresult\u001b[49m\u001b[43m)\u001b[49m\n\u001b[1;32m    123\u001b[0m num_bins \u001b[38;5;241m=\u001b[39m \u001b[38;5;28mlen\u001b[39m(items_in_bins)\n\u001b[1;32m    124\u001b[0m fig, axes \u001b[38;5;241m=\u001b[39m plt\u001b[38;5;241m.\u001b[39msubplots()\n",
      "File \u001b[0;32m~/Repositories/HybridQuantum/hybrid-quantum-ass3/venv/lib64/python3.11/site-packages/qiskit_optimization/applications/bin_packing.py:102\u001b[0m, in \u001b[0;36mBinPacking.interpret\u001b[0;34m(self, result)\u001b[0m\n\u001b[1;32m    100\u001b[0m num_bins \u001b[38;5;241m=\u001b[39m \u001b[38;5;28mself\u001b[39m\u001b[38;5;241m.\u001b[39m_max_number_of_bins\n\u001b[1;32m    101\u001b[0m bins \u001b[38;5;241m=\u001b[39m x[:num_bins]\n\u001b[0;32m--> 102\u001b[0m items \u001b[38;5;241m=\u001b[39m \u001b[43mnp\u001b[49m\u001b[38;5;241;43m.\u001b[39;49m\u001b[43marray\u001b[49m\u001b[43m(\u001b[49m\u001b[43mx\u001b[49m\u001b[43m[\u001b[49m\u001b[43mnum_bins\u001b[49m\u001b[43m:\u001b[49m\u001b[43m]\u001b[49m\u001b[43m)\u001b[49m\u001b[38;5;241;43m.\u001b[39;49m\u001b[43mreshape\u001b[49m\u001b[43m(\u001b[49m\u001b[43m(\u001b[49m\u001b[43mnum_items\u001b[49m\u001b[43m,\u001b[49m\u001b[43m \u001b[49m\u001b[43mnum_bins\u001b[49m\u001b[43m)\u001b[49m\u001b[43m)\u001b[49m\n\u001b[1;32m    103\u001b[0m items_in_bins \u001b[38;5;241m=\u001b[39m [\n\u001b[1;32m    104\u001b[0m     [i \u001b[38;5;28;01mfor\u001b[39;00m i \u001b[38;5;129;01min\u001b[39;00m \u001b[38;5;28mrange\u001b[39m(num_items) \u001b[38;5;28;01mif\u001b[39;00m bins[j] \u001b[38;5;129;01mand\u001b[39;00m items[i, j]] \u001b[38;5;28;01mfor\u001b[39;00m j \u001b[38;5;129;01min\u001b[39;00m \u001b[38;5;28mrange\u001b[39m(num_bins)\n\u001b[1;32m    105\u001b[0m ]\n\u001b[1;32m    106\u001b[0m \u001b[38;5;28;01mreturn\u001b[39;00m items_in_bins\n",
      "\u001b[0;31mValueError\u001b[0m: cannot reshape array of size 33 into shape (4,3)"
     ]
    }
   ],
   "source": [
    "from docplex.mp.model import Model\n",
    "from qiskit_optimization.algorithms import CplexOptimizer\n",
    "\n",
    "bpp_example = read_list(\"bpp_instances\")[1]\n",
    "print(\"BPP instance:\", bpp_example)\n",
    "\n",
    "weights = bpp_example[0]  # item weights\n",
    "C = bpp_example[1]  # capacity of each bin\n",
    "B = bpp_example[2]  # num of bins\n",
    "items = bpp_example[3]  # num of items\n",
    "\n",
    "qp = quadratic_penalty(weights, C, B, items)\n",
    "cplex = CplexOptimizer()\n",
    "exact_result = cplex.solve(qp)\n",
    "\n",
    "print(exact_result)\n",
    "print(exact_result.variables_dict)\n",
    "print(f\"Number of variables: {len(exact_result.variables)}\")"
   ]
  },
  {
   "cell_type": "markdown",
   "id": "de1e20c0",
   "metadata": {},
   "source": [
    "## QAOA solution\n"
   ]
  },
  {
   "cell_type": "code",
   "execution_count": null,
   "id": "0c420424",
   "metadata": {},
   "outputs": [],
   "source": [
    "from qiskit.algorithms.minimum_eigensolvers import QAOA"
   ]
  },
  {
   "cell_type": "markdown",
   "id": "ed853d11",
   "metadata": {},
   "source": [
    "## Warm start QAOA\n"
   ]
  },
  {
   "cell_type": "code",
   "execution_count": null,
   "id": "92515181",
   "metadata": {},
   "outputs": [],
   "source": [
    "from qiskit_optimization.algorithms import WarmStartQAOAOptimizer"
   ]
  },
  {
   "cell_type": "markdown",
   "id": "72de9740",
   "metadata": {},
   "source": [
    "# Evaluation\n"
   ]
  },
  {
   "cell_type": "markdown",
   "id": "3e3d3de7",
   "metadata": {},
   "source": [
    "Evaluate quantum solutions in comparison with classic solution using the following metrics:\n",
    "\n",
    "- Running time;\n",
    "- Mean square error between quantum optimum and classic optimum;\n",
    "- Number of times each algorithm reaches the optimum;\n",
    "\n",
    "Evaluation should be performed on the following backends:\n",
    "\n",
    "- Noiseless simulator (Aer)\n",
    "- Noisy simulator (choose a noise model)\n",
    "- BONUS: test on AQT simulator (check https://github.com/qiskit-community/qiskit-aqt-provider)\n",
    "\n",
    "QAOA should be evaluated using different configurations:\n",
    "\n",
    "- QAOAAnsatz with $p=[1,5]$\n",
    "- Optimizers: COBYLA, NelderMead, SLSQP\n",
    "- Shots: {200, 400, 600, 800, 1000} (Please note that AQT backend is limited to 200 shots)\n",
    "- Optimizers' iteration: {250, 500, 750, 1000}\n"
   ]
  },
  {
   "cell_type": "code",
   "execution_count": null,
   "id": "ed42806c",
   "metadata": {},
   "outputs": [],
   "source": []
  }
 ],
 "metadata": {
  "kernelspec": {
   "display_name": "venv",
   "language": "python",
   "name": "venv"
  },
  "language_info": {
   "codemirror_mode": {
    "name": "ipython",
    "version": 3
   },
   "file_extension": ".py",
   "mimetype": "text/x-python",
   "name": "python",
   "nbconvert_exporter": "python",
   "pygments_lexer": "ipython3",
   "version": "3.11.6"
  }
 },
 "nbformat": 4,
 "nbformat_minor": 5
}
