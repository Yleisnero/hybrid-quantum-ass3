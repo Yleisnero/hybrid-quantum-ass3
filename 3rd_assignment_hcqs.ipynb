{
 "cells": [
  {
   "cell_type": "markdown",
   "id": "e741379f",
   "metadata": {
    "id": "e741379f"
   },
   "source": [
    "# Hybrid Classic-Quantum Systems - Third Assignment #\n",
    "\n",
    "You should fill in this Jupyter notebook in order to complete the assignment. Here a small recap of the rules:\n",
    "\n",
    "* You should **NOT** modify the functions that are already provided in the notebook, unless it is strictly necessary;\n",
    "* If you want to modify the given functions, please, provide an explanation of why you had to;\n",
    "* You can define new functions, as soon as they are well commented;\n",
    "* You can import all libraries you want, as soon as you justify their utilization;\n",
    "* You can add new cells, as soon as you do not remove the cells where you are supposed to comment your solution;\n",
    "* This is a group assignment. The maximum number of people is 3;\n",
    "* Your solution should be commented and accompanied by a small description - you can add additional cells if needed;\n",
    "* For any issue and doubt, please do not hesitate to use the forum or to write me an email."
   ]
  },
  {
   "cell_type": "markdown",
   "id": "abc48bc1",
   "metadata": {
    "id": "abc48bc1"
   },
   "source": [
    "# Preliminaries #\n",
    "\n",
    "## Bin Packing Problem (BPP) ##\n",
    "The bin packing problem (BPP) is an optimization problem. The final goal is to fit items of different sizes into a finite number of bins, each of a fixed given capacity, minimizing the number of bins used. The problem has many applications, ranging from logistics, multi-processor scheduling.\n",
    "\n",
    "Computationally, the problem is NP-hard, and the corresponding decision problem, deciding if items can fit into a specified number of bins, is NP-complete.\n",
    "![np-complete](https://imgs.xkcd.com/comics/np_complete.png)"
   ]
  },
  {
   "cell_type": "markdown",
   "id": "b02c1bad",
   "metadata": {
    "id": "b02c1bad"
   },
   "source": [
    "## Mathematical formulation ##\n",
    "The objective function of BPP is to minimize the number of bins used, more formally,\n",
    "\\begin{align} \\label{eqn:bpp}\n",
    "    & {\\min}\n",
    "    & &  \\sum_{j=1}^{K} B_j \\\\\n",
    "    & {\\text{subject to}}\n",
    "    & & g(x_{ij}) = \\sum_{j=1}^{K} x_{ij} = 1 \\qquad \\forall i \\\\\n",
    "    & & & h(x_{ij}) = \\sum_{i=1}^N w_{i}x_{ij} \\le C*B_j \\qquad \\forall j\n",
    "\\end{align}"
   ]
  },
  {
   "cell_type": "markdown",
   "id": "11009203",
   "metadata": {
    "id": "11009203"
   },
   "source": [
    "# Loading BPP instances #\n",
    "First of all, we focus on generating instances of BPP to be used for the evaluation. Each instance is structured in the following way:\n",
    "\n",
    "$[[w_0, w_1, ..., w_n], C, B, items]$, such that:\n",
    "* $w_i$ is the weight of item $i$;\n",
    "* $C$ is the capacity of each bin;\n",
    "* $B$ is the number of bins;\n",
    "* $items$ is the number of items\n",
    "\n",
    "We pre-generated the instances for you and saved them in an attached binary file. You can read them in your code by using the following code:"
   ]
  },
  {
   "cell_type": "code",
   "outputs": [
    {
     "name": "stdout",
     "output_type": "stream",
     "text": [
      "Requirement already satisfied: numpy in ./venv/lib/python3.9/site-packages (1.26.3)\r\n",
      "\r\n",
      "\u001B[1m[\u001B[0m\u001B[34;49mnotice\u001B[0m\u001B[1;39;49m]\u001B[0m\u001B[39;49m A new release of pip is available: \u001B[0m\u001B[31;49m23.2.1\u001B[0m\u001B[39;49m -> \u001B[0m\u001B[32;49m23.3.2\u001B[0m\r\n",
      "\u001B[1m[\u001B[0m\u001B[34;49mnotice\u001B[0m\u001B[1;39;49m]\u001B[0m\u001B[39;49m To update, run: \u001B[0m\u001B[32;49mpip install --upgrade pip\u001B[0m\r\n"
     ]
    }
   ],
   "source": [
    "!pip install numpy"
   ],
   "metadata": {
    "colab": {
     "base_uri": "https://localhost:8080/"
    },
    "id": "f84b335ce41030be",
    "outputId": "4184e866-669f-4a78-ba78-bb3079fa9a64",
    "ExecuteTime": {
     "end_time": "2024-02-01T07:15:49.119784Z",
     "start_time": "2024-02-01T07:15:47.323823Z"
    }
   },
   "id": "f84b335ce41030be",
   "execution_count": 69
  },
  {
   "cell_type": "code",
   "outputs": [],
   "source": [
    "import pickle\n",
    "\n",
    "\n",
    "def read_list(filename):\n",
    "    # for reading also binary mode is important\n",
    "    with open(filename, 'rb') as fp:\n",
    "        n_list = pickle.load(fp)\n",
    "        return n_list"
   ],
   "metadata": {
    "id": "98c95b55",
    "ExecuteTime": {
     "end_time": "2024-02-01T07:15:49.121969Z",
     "start_time": "2024-02-01T07:15:49.119607Z"
    }
   },
   "id": "98c95b55",
   "execution_count": 70
  },
  {
   "cell_type": "markdown",
   "source": [
    "The constraint $g(x)$ implies that each task can be packed into at most one CPU, and constraint $h(x_{ij})$ says that the requirements of each task can not exceed the given $C$ capacity. In this paper, BPP can be considered as a mixture of inequality and equality-constrained optimization problems."
   ],
   "metadata": {
    "id": "8cd6c093"
   },
   "id": "8cd6c093"
  },
  {
   "cell_type": "code",
   "outputs": [],
   "source": [
    "from math import gcd\n",
    "from functools import reduce\n",
    "def smallest_denominator(instances):\n",
    "    processed = []\n",
    "\n",
    "    for ins in instances:\n",
    "        weights, C, B, items = ins\n",
    "\n",
    "        while True:\n",
    "            # Finding the GCD of all weights and the capacity\n",
    "            all_values = weights + [C]\n",
    "            smallest_denominator = reduce(gcd, all_values)\n",
    "\n",
    "            if smallest_denominator <= 1:\n",
    "                break  # Exit the loop if the GCD is 1\n",
    "\n",
    "            # Dividing weights and capacity by the smallest denominator\n",
    "            weights = [w // smallest_denominator for w in weights]\n",
    "            C = C // smallest_denominator\n",
    "        processed.append([weights, C, B, items])\n",
    "    return processed\n"
   ],
   "metadata": {
    "id": "7a9c18dcc2b60b79",
    "ExecuteTime": {
     "end_time": "2024-02-01T07:15:49.127862Z",
     "start_time": "2024-02-01T07:15:49.123208Z"
    }
   },
   "id": "7a9c18dcc2b60b79",
   "execution_count": 71
  },
  {
   "cell_type": "code",
   "outputs": [],
   "source": [
    "from itertools import combinations\n",
    "\n",
    "def best_space_util(instances):\n",
    "    processed = []\n",
    "    for ins in instances:\n",
    "        weights, C, B, items = ins\n",
    "\n",
    "        # Initialize variables to track the best pair and minimum remaining capacity\n",
    "        best_pair = None\n",
    "        min_remaining_capacity = C\n",
    "        additional_weight = None\n",
    "\n",
    "        # Iterate through all pairs of weights\n",
    "        for pair in combinations(weights, 2):\n",
    "            combined_weight = sum(pair)\n",
    "            remaining_capacity = C - combined_weight\n",
    "\n",
    "            # Update best_pair and min_remaining_capacity if this pair is better\n",
    "            if 0 <= remaining_capacity < min_remaining_capacity:\n",
    "                min_remaining_capacity = remaining_capacity\n",
    "                best_pair = pair\n",
    "\n",
    "        # Check for an additional weight that can be added to the best pair\n",
    "        if best_pair:\n",
    "            for weight in weights:\n",
    "                if weight not in best_pair and sum(best_pair) + weight <= C:\n",
    "                    # Ensure no other weight can be added with this additional weight\n",
    "                    if all(w + sum(best_pair) + weight > C for w in weights if w not in best_pair):\n",
    "                        additional_weight = weight\n",
    "                        break\n",
    "\n",
    "        # Combine the best pair and additional weight into a single item or keep the weights as is if no pair found\n",
    "        if best_pair:\n",
    "            new_weights = weights.copy()\n",
    "            # Remove the elements of the pair\n",
    "            new_weights.remove(best_pair[0])\n",
    "            new_weights.remove(best_pair[1])\n",
    "            # Add the combined weight of the pair\n",
    "            combined_weight = sum(best_pair)\n",
    "            if additional_weight:\n",
    "                new_weights.remove(additional_weight)\n",
    "                combined_weight += additional_weight\n",
    "                new_items = items - 2  # Reduce items by 2 as three weights are combined into one\n",
    "            else:\n",
    "                new_items = items - 1  # Reduce items by 1 as two weights are combined into one\n",
    "            new_weights.append(combined_weight)\n",
    "            processed.append([new_weights, C, B, new_items])\n",
    "        else:\n",
    "            processed.append([weights, C, B, items])\n",
    "\n",
    "    return processed\n",
    "\n"
   ],
   "metadata": {
    "id": "46d1700fb1172813",
    "ExecuteTime": {
     "end_time": "2024-02-01T07:15:49.137366Z",
     "start_time": "2024-02-01T07:15:49.130343Z"
    }
   },
   "id": "46d1700fb1172813",
   "execution_count": 72
  },
  {
   "cell_type": "code",
   "outputs": [],
   "source": [
    "def remove_bucket_if_item_is_big(instances):\n",
    "    processed = []\n",
    "    for ins in instances:\n",
    "        weights, C, B, items = ins\n",
    "        biggest_item = max(weights)\n",
    "        smallest_item = min(weights)\n",
    "        if biggest_item + smallest_item > C:\n",
    "            # Remove the bucket\n",
    "            new_B = B - 1\n",
    "            new_weights = weights.copy()\n",
    "            # Remove the biggest item\n",
    "            new_weights.remove(biggest_item)\n",
    "            new_items = items - 1\n",
    "            processed.append([new_weights, C, new_B, new_items])\n",
    "        else:\n",
    "            processed.append([weights, C, B, items])\n",
    "    return processed"
   ],
   "metadata": {
    "id": "9a51aa4afe353431",
    "ExecuteTime": {
     "end_time": "2024-02-01T07:15:49.138130Z",
     "start_time": "2024-02-01T07:15:49.134184Z"
    }
   },
   "id": "9a51aa4afe353431",
   "execution_count": 73
  },
  {
   "cell_type": "code",
   "outputs": [],
   "source": [
    "def preprocess_instances(instances):\n",
    "    space_util = best_space_util(instances)\n",
    "    better_buckets = remove_bucket_if_item_is_big(space_util)\n",
    "    reduced_weight = smallest_denominator(better_buckets)\n",
    "    return reduced_weight"
   ],
   "metadata": {
    "id": "bffdf91985e80f93",
    "ExecuteTime": {
     "end_time": "2024-02-01T07:15:49.141236Z",
     "start_time": "2024-02-01T07:15:49.137609Z"
    }
   },
   "id": "bffdf91985e80f93",
   "execution_count": 74
  },
  {
   "cell_type": "markdown",
   "source": [
    "# Transforming BPP into a QUBO #\n",
    "QUBO is a mathematical model that is used to represent combinatorial optimization problems in which the variables are binary $\\{0,1\\}$ and the objective function with constraints is quadratic. We employ QUBO for BPP because it provides a framework for representing combinatorial optimization problems in a form that can be efficiently solved using quantum computing algorithms designed for QUBO problems, such as VQE or QAOA.\n",
    "\n",
    "## Slack Variables + Quadratic Penalty Encoding ##\n",
    "Qiskit Optimization provides with QuadraticProgram a very generic and powerful representation for optimization problems. However, usually, optimization algorithms cannot handle all possible types of problems that can be modelled, but only a sub-class. Many available quantum optimization algorithms can handle Quadratic Unconstrained Binary Optimization (QUBO) problems. To do so, first, it is necessary to convert a given optimization problem into a QUBO.\n",
    "\n",
    "Qiskit Optimization provides converters to achieve this conversion whenever possible. More precisely, Qiskit Optimization provides the following converters:\n",
    "* *InequalityToEquality*: converts inequality constraints into equality constraints with additional slack variables.\n",
    "* *IntegerToBinary* : converts integer variables into binary variables and corresponding coefficients.\n",
    "* *LinearEqualityToPenalty* : convert equality constraints into additional terms of the object function.\n",
    "* *QuadraticProgramToQubo* : a wrapper for IntegerToBinary and LinearEqualityToPenalty for convenience.\n",
    "More information available at: https://qiskit.org/documentation/stable/0.19/tutorials/optimization/2_converters_for_quadratic_programs.html\n",
    "\n",
    "## Penalty-Based Encoding ##\n",
    "\n",
    "### Define penalties ###\n",
    "To enforce the constraints, we introduce penalty terms to the objective function. These terms penalize solutions that violate the constraints. Firsts, we rewrite constraints $g(x_{ij})$ and $h(x_{ij})$ as follows,\n",
    "     \\begin{align*}\n",
    "        g(x_{ij}) = \\sum_{j=1}^{K} x_{ij} - 1 = 0 \\qquad \\forall i \\\\\n",
    "        h(x_{ij}) = \\sum_{i=1}^N w_{i}x_{ij} - C \\cdot B_j \\le 0 \\qquad \\forall j \\\\\n",
    "    \\end{align*}\n",
    "    Second, introduce penalty functions $p_1(\\lambda, g(x))$ and $p_2(\\beta, h(x))$ with coefficients $\\{\\lambda, \\beta\\} \\geq 0 $\n",
    "    \\begin{equation}\\label{penalty1}\n",
    "        p_1(\\lambda, g(x_{ij})) =\n",
    "        \\begin{cases}\n",
    "            0 & \\text{if $g(x_{ij}) \\leq 0$} \\\\\n",
    "            \\lambda g(x_{ij}) & \\text{if $g(x_{ij}) > 0$}\n",
    "        \\end{cases}\n",
    "    \\end{equation}\n",
    "    \\begin{equation}\\label{penalty2}\n",
    "        p_2(\\beta, h(x_{ij})) =\n",
    "        \\begin{cases}\n",
    "            0 & \\text{if $h(x_{ij}) \\leq 0$} \\\\\n",
    "            \\beta h(x_{ij}) & \\text{if $h(x_{ij}) > 0$}\n",
    "        \\end{cases}\n",
    "    \\end{equation}\n",
    "    \n",
    "In literature, there are multiple methods for penalization such as the exterior penalty function and interior penalty function.\n",
    "\n",
    "### Injecting Penalties in the Model ###\n",
    "To get the final QUBO form we combine penalties with objective function and get\n",
    "\n",
    "\\begin{equation}\n",
    "    \\mathcal{F} = \\sum_{j=1}^{K} B_j + \\sum_{j=1}^{K}p_1(\\lambda, g_j) + \\sum_{i=1}^{N}p_2(\\beta,h_i)\n",
    "\\end{equation}\n",
    "\n",
    "### Examples of penalty functions ###\n",
    "* https://www.stat.cmu.edu/~ryantibs/convexopt-F13/scribes/lec16.pdf\n",
    "* https://www.rose-hulman.edu/~bryan/lottamath/penalty.pdf"
   ],
   "metadata": {
    "id": "e4577458"
   },
   "id": "e4577458"
  },
  {
   "cell_type": "markdown",
   "source": [
    "## YOUR TASK ##\n",
    "* Apply slack + quadratic penalty\n",
    "* Apply penalty-based encoding using three functions"
   ],
   "metadata": {
    "id": "4e4c2d63"
   },
   "id": "4e4c2d63"
  },
  {
   "cell_type": "code",
   "outputs": [
    {
     "name": "stdout",
     "output_type": "stream",
     "text": [
      "Requirement already satisfied: qiskit-aqt-provider in ./venv/lib/python3.9/site-packages (1.1.0)\r\n",
      "Requirement already satisfied: httpx>=0.24.0 in ./venv/lib/python3.9/site-packages (from qiskit-aqt-provider) (0.26.0)\r\n",
      "Requirement already satisfied: platformdirs>=3 in ./venv/lib/python3.9/site-packages (from qiskit-aqt-provider) (4.1.0)\r\n",
      "Requirement already satisfied: pydantic>=2.5.0 in ./venv/lib/python3.9/site-packages (from qiskit-aqt-provider) (2.5.3)\r\n",
      "Requirement already satisfied: python-dotenv>=1 in ./venv/lib/python3.9/site-packages (from qiskit-aqt-provider) (1.0.1)\r\n",
      "Requirement already satisfied: qiskit>=0.45.0 in ./venv/lib/python3.9/site-packages (from qiskit-aqt-provider) (0.45.2)\r\n",
      "Requirement already satisfied: qiskit-aer>=0.11 in ./venv/lib/python3.9/site-packages (from qiskit-aqt-provider) (0.13.2)\r\n",
      "Requirement already satisfied: tabulate>=0.9.0 in ./venv/lib/python3.9/site-packages (from qiskit-aqt-provider) (0.9.0)\r\n",
      "Requirement already satisfied: tqdm>=4 in ./venv/lib/python3.9/site-packages (from qiskit-aqt-provider) (4.66.1)\r\n",
      "Requirement already satisfied: typing-extensions>=4.0.0 in ./venv/lib/python3.9/site-packages (from qiskit-aqt-provider) (4.9.0)\r\n",
      "Requirement already satisfied: anyio in ./venv/lib/python3.9/site-packages (from httpx>=0.24.0->qiskit-aqt-provider) (4.2.0)\r\n",
      "Requirement already satisfied: certifi in ./venv/lib/python3.9/site-packages (from httpx>=0.24.0->qiskit-aqt-provider) (2023.11.17)\r\n",
      "Requirement already satisfied: httpcore==1.* in ./venv/lib/python3.9/site-packages (from httpx>=0.24.0->qiskit-aqt-provider) (1.0.2)\r\n",
      "Requirement already satisfied: idna in ./venv/lib/python3.9/site-packages (from httpx>=0.24.0->qiskit-aqt-provider) (3.6)\r\n",
      "Requirement already satisfied: sniffio in ./venv/lib/python3.9/site-packages (from httpx>=0.24.0->qiskit-aqt-provider) (1.3.0)\r\n",
      "Requirement already satisfied: h11<0.15,>=0.13 in ./venv/lib/python3.9/site-packages (from httpcore==1.*->httpx>=0.24.0->qiskit-aqt-provider) (0.14.0)\r\n",
      "Requirement already satisfied: annotated-types>=0.4.0 in ./venv/lib/python3.9/site-packages (from pydantic>=2.5.0->qiskit-aqt-provider) (0.6.0)\r\n",
      "Requirement already satisfied: pydantic-core==2.14.6 in ./venv/lib/python3.9/site-packages (from pydantic>=2.5.0->qiskit-aqt-provider) (2.14.6)\r\n",
      "Requirement already satisfied: qiskit-terra==0.45.2 in ./venv/lib/python3.9/site-packages (from qiskit>=0.45.0->qiskit-aqt-provider) (0.45.2)\r\n",
      "Requirement already satisfied: rustworkx>=0.13.0 in ./venv/lib/python3.9/site-packages (from qiskit-terra==0.45.2->qiskit>=0.45.0->qiskit-aqt-provider) (0.14.0)\r\n",
      "Requirement already satisfied: numpy<2,>=1.17 in ./venv/lib/python3.9/site-packages (from qiskit-terra==0.45.2->qiskit>=0.45.0->qiskit-aqt-provider) (1.26.3)\r\n",
      "Requirement already satisfied: ply>=3.10 in ./venv/lib/python3.9/site-packages (from qiskit-terra==0.45.2->qiskit>=0.45.0->qiskit-aqt-provider) (3.11)\r\n",
      "Requirement already satisfied: psutil>=5 in ./venv/lib/python3.9/site-packages (from qiskit-terra==0.45.2->qiskit>=0.45.0->qiskit-aqt-provider) (5.9.8)\r\n",
      "Requirement already satisfied: scipy>=1.5 in ./venv/lib/python3.9/site-packages (from qiskit-terra==0.45.2->qiskit>=0.45.0->qiskit-aqt-provider) (1.12.0)\r\n",
      "Requirement already satisfied: sympy>=1.3 in ./venv/lib/python3.9/site-packages (from qiskit-terra==0.45.2->qiskit>=0.45.0->qiskit-aqt-provider) (1.12)\r\n",
      "Requirement already satisfied: dill>=0.3 in ./venv/lib/python3.9/site-packages (from qiskit-terra==0.45.2->qiskit>=0.45.0->qiskit-aqt-provider) (0.3.7)\r\n",
      "Requirement already satisfied: python-dateutil>=2.8.0 in ./venv/lib/python3.9/site-packages (from qiskit-terra==0.45.2->qiskit>=0.45.0->qiskit-aqt-provider) (2.8.2)\r\n",
      "Requirement already satisfied: stevedore>=3.0.0 in ./venv/lib/python3.9/site-packages (from qiskit-terra==0.45.2->qiskit>=0.45.0->qiskit-aqt-provider) (5.1.0)\r\n",
      "Requirement already satisfied: symengine!=0.10.0,>=0.9 in ./venv/lib/python3.9/site-packages (from qiskit-terra==0.45.2->qiskit>=0.45.0->qiskit-aqt-provider) (0.11.0)\r\n",
      "Requirement already satisfied: exceptiongroup>=1.0.2 in ./venv/lib/python3.9/site-packages (from anyio->httpx>=0.24.0->qiskit-aqt-provider) (1.2.0)\r\n",
      "Requirement already satisfied: six>=1.5 in ./venv/lib/python3.9/site-packages (from python-dateutil>=2.8.0->qiskit-terra==0.45.2->qiskit>=0.45.0->qiskit-aqt-provider) (1.16.0)\r\n",
      "Requirement already satisfied: pbr!=2.1.0,>=2.0.0 in ./venv/lib/python3.9/site-packages (from stevedore>=3.0.0->qiskit-terra==0.45.2->qiskit>=0.45.0->qiskit-aqt-provider) (6.0.0)\r\n",
      "Requirement already satisfied: mpmath>=0.19 in ./venv/lib/python3.9/site-packages (from sympy>=1.3->qiskit-terra==0.45.2->qiskit>=0.45.0->qiskit-aqt-provider) (1.3.0)\r\n",
      "\r\n",
      "\u001B[1m[\u001B[0m\u001B[34;49mnotice\u001B[0m\u001B[1;39;49m]\u001B[0m\u001B[39;49m A new release of pip is available: \u001B[0m\u001B[31;49m23.2.1\u001B[0m\u001B[39;49m -> \u001B[0m\u001B[32;49m23.3.2\u001B[0m\r\n",
      "\u001B[1m[\u001B[0m\u001B[34;49mnotice\u001B[0m\u001B[1;39;49m]\u001B[0m\u001B[39;49m To update, run: \u001B[0m\u001B[32;49mpip install --upgrade pip\u001B[0m\r\n"
     ]
    }
   ],
   "source": [
    "# needs to installed before other qiskit packages to avoid dependency issues\n",
    "!pip install qiskit-aqt-provider"
   ],
   "metadata": {
    "colab": {
     "base_uri": "https://localhost:8080/"
    },
    "id": "a09dad25222a0d0c",
    "outputId": "81a703c3-7ee1-4a04-c295-86e8ba35f6dd",
    "ExecuteTime": {
     "end_time": "2024-02-01T07:15:50.158565Z",
     "start_time": "2024-02-01T07:15:49.140410Z"
    }
   },
   "id": "a09dad25222a0d0c",
   "execution_count": 75
  },
  {
   "cell_type": "code",
   "outputs": [
    {
     "name": "stdout",
     "output_type": "stream",
     "text": [
      "Requirement already satisfied: qiskit-optimization in ./venv/lib/python3.9/site-packages (0.6.0)\r\n",
      "Requirement already satisfied: qiskit>=0.44 in ./venv/lib/python3.9/site-packages (from qiskit-optimization) (0.45.2)\r\n",
      "Requirement already satisfied: qiskit-algorithms>=0.2.0 in ./venv/lib/python3.9/site-packages (from qiskit-optimization) (0.2.2)\r\n",
      "Requirement already satisfied: scipy>=1.9.0 in ./venv/lib/python3.9/site-packages (from qiskit-optimization) (1.12.0)\r\n",
      "Requirement already satisfied: numpy>=1.17 in ./venv/lib/python3.9/site-packages (from qiskit-optimization) (1.26.3)\r\n",
      "Requirement already satisfied: docplex!=2.24.231,>=2.21.207 in ./venv/lib/python3.9/site-packages (from qiskit-optimization) (2.25.236)\r\n",
      "Requirement already satisfied: setuptools>=40.1.0 in ./venv/lib/python3.9/site-packages (from qiskit-optimization) (68.2.0)\r\n",
      "Requirement already satisfied: networkx>=2.6.3 in ./venv/lib/python3.9/site-packages (from qiskit-optimization) (3.2.1)\r\n",
      "Requirement already satisfied: six in ./venv/lib/python3.9/site-packages (from docplex!=2.24.231,>=2.21.207->qiskit-optimization) (1.16.0)\r\n",
      "Requirement already satisfied: qiskit-terra==0.45.2 in ./venv/lib/python3.9/site-packages (from qiskit>=0.44->qiskit-optimization) (0.45.2)\r\n",
      "Requirement already satisfied: rustworkx>=0.13.0 in ./venv/lib/python3.9/site-packages (from qiskit-terra==0.45.2->qiskit>=0.44->qiskit-optimization) (0.14.0)\r\n",
      "Requirement already satisfied: ply>=3.10 in ./venv/lib/python3.9/site-packages (from qiskit-terra==0.45.2->qiskit>=0.44->qiskit-optimization) (3.11)\r\n",
      "Requirement already satisfied: psutil>=5 in ./venv/lib/python3.9/site-packages (from qiskit-terra==0.45.2->qiskit>=0.44->qiskit-optimization) (5.9.8)\r\n",
      "Requirement already satisfied: sympy>=1.3 in ./venv/lib/python3.9/site-packages (from qiskit-terra==0.45.2->qiskit>=0.44->qiskit-optimization) (1.12)\r\n",
      "Requirement already satisfied: dill>=0.3 in ./venv/lib/python3.9/site-packages (from qiskit-terra==0.45.2->qiskit>=0.44->qiskit-optimization) (0.3.7)\r\n",
      "Requirement already satisfied: python-dateutil>=2.8.0 in ./venv/lib/python3.9/site-packages (from qiskit-terra==0.45.2->qiskit>=0.44->qiskit-optimization) (2.8.2)\r\n",
      "Requirement already satisfied: stevedore>=3.0.0 in ./venv/lib/python3.9/site-packages (from qiskit-terra==0.45.2->qiskit>=0.44->qiskit-optimization) (5.1.0)\r\n",
      "Requirement already satisfied: symengine!=0.10.0,>=0.9 in ./venv/lib/python3.9/site-packages (from qiskit-terra==0.45.2->qiskit>=0.44->qiskit-optimization) (0.11.0)\r\n",
      "Requirement already satisfied: typing-extensions in ./venv/lib/python3.9/site-packages (from qiskit-terra==0.45.2->qiskit>=0.44->qiskit-optimization) (4.9.0)\r\n",
      "Requirement already satisfied: pbr!=2.1.0,>=2.0.0 in ./venv/lib/python3.9/site-packages (from stevedore>=3.0.0->qiskit-terra==0.45.2->qiskit>=0.44->qiskit-optimization) (6.0.0)\r\n",
      "Requirement already satisfied: mpmath>=0.19 in ./venv/lib/python3.9/site-packages (from sympy>=1.3->qiskit-terra==0.45.2->qiskit>=0.44->qiskit-optimization) (1.3.0)\r\n",
      "\r\n",
      "\u001B[1m[\u001B[0m\u001B[34;49mnotice\u001B[0m\u001B[1;39;49m]\u001B[0m\u001B[39;49m A new release of pip is available: \u001B[0m\u001B[31;49m23.2.1\u001B[0m\u001B[39;49m -> \u001B[0m\u001B[32;49m23.3.2\u001B[0m\r\n",
      "\u001B[1m[\u001B[0m\u001B[34;49mnotice\u001B[0m\u001B[1;39;49m]\u001B[0m\u001B[39;49m To update, run: \u001B[0m\u001B[32;49mpip install --upgrade pip\u001B[0m\r\n"
     ]
    }
   ],
   "source": [
    "!pip install qiskit-optimization"
   ],
   "metadata": {
    "colab": {
     "base_uri": "https://localhost:8080/"
    },
    "id": "6f419d6b9893bee2",
    "outputId": "fda5b899-893d-4aee-82e2-5c3539177dee",
    "ExecuteTime": {
     "end_time": "2024-02-01T07:15:51.133803Z",
     "start_time": "2024-02-01T07:15:50.159956Z"
    }
   },
   "id": "6f419d6b9893bee2",
   "execution_count": 76
  },
  {
   "cell_type": "code",
   "outputs": [],
   "source": [
    "from qiskit_optimization import QuadraticProgram\n",
    "from qiskit_optimization.converters import LinearEqualityToPenalty, InequalityToEquality, \\\n",
    "    IntegerToBinary\n",
    "\n",
    "\n",
    "def quadratic_penalty(instance):\n",
    "    # Extract instance data\n",
    "    weights, C, B, items = instance\n",
    "\n",
    "    # Create a Quadratic Program\n",
    "    qp = QuadraticProgram()\n",
    "\n",
    "\n",
    "    for j in range(B):\n",
    "        qp.binary_var(name=f'B_{j}')\n",
    "\n",
    "    for i in range(items):\n",
    "        for j in range(B):\n",
    "            # Skip creating a variable for the first item in non-first bins\n",
    "            if i == 0 and j != 0:\n",
    "                continue\n",
    "            qp.binary_var(name=f'x_{i}_{j}')\n",
    "\n",
    "    # Objective function: Minimize the number of bins used\n",
    "    # This is done by minimizing the sum of B_j, where B_j = 1 if bin j is used\n",
    "    qp.minimize(linear=[1] * B)\n",
    "\n",
    "    eq_to_pen = LinearEqualityToPenalty(100)\n",
    "    # Constraint g(x): Each item i must be in exactly one bin\n",
    "    for i in range(items):\n",
    "        qp.linear_constraint(\n",
    "            linear={f'x_{i}_{j}': 1 for j in range(B) if not (i == 0 and j != 0)},\n",
    "            sense='==',\n",
    "            rhs=1,\n",
    "            name=f'item_in_one_bin_{i}')\n",
    "        qp = eq_to_pen.convert(qp)\n",
    "    neq_to_eq = InequalityToEquality(\"integer\")\n",
    "    eq_to_pen2 = LinearEqualityToPenalty(200)\n",
    "    int_to_bin = IntegerToBinary()\n",
    "    # Constraint h(x): Total weight in each bin j must not exceed its capacity C\n",
    "    for j in range(B):\n",
    "        # Create a dictionary for the linear terms\n",
    "        linear_terms = {f'x_{i}_{j}': weights[i] for i in range(items) if not (i == 0 and j != 0)}\n",
    "        # Add the term for B_j with a negative coefficient\n",
    "        linear_terms[f'B_{j}'] = -C\n",
    "        qp.linear_constraint(\n",
    "            linear=linear_terms,\n",
    "            sense='<=',\n",
    "            rhs=0,  # Set the RHS to 0\n",
    "            name=f'bin_capacity_{j}')\n",
    "        qp = neq_to_eq.convert(qp)\n",
    "        qp = int_to_bin.convert(qp)\n",
    "        qp = eq_to_pen2.convert(qp)\n",
    "    return qp"
   ],
   "metadata": {
    "id": "b14eed48e5f66c93",
    "ExecuteTime": {
     "end_time": "2024-02-01T07:15:51.153987Z",
     "start_time": "2024-02-01T07:15:51.143696Z"
    }
   },
   "id": "b14eed48e5f66c93",
   "execution_count": 77
  },
  {
   "cell_type": "markdown",
   "id": "1bcc6b56",
   "metadata": {
    "id": "1bcc6b56"
   },
   "source": [
    "# Encoding QUBO into ISING Hamiltonian #\n",
    "The next step is to encode the classical QUBO formulation into a quantum state. There exist techniques to encode classical data into quantum such as basis encoding, amplitude encoding, and angle encoding. In this paper, we apply basis encoding, for which any quantum basis can be chosen, but the common way for doing so is to choose basis $\\{-1,1\\}$ as follows:\n",
    "\\begin{align}\n",
    "\\label{eqn:to_ising}\n",
    "    \\begin{split}\n",
    "    x_i = \\frac{1-z_i}{2}\\\\\n",
    "    z_i*z_j = \\sigma_Z^i \\otimes \\sigma_Z^j \\\\\n",
    "    z_i = \\sigma_Z^i\n",
    "    \\end{split}\n",
    "\\end{align}\n",
    "where $\\sigma_Z^i$ denotes the Pauli-Z matrix\n",
    "$\\begin{pmatrix}\n",
    "  1 & 0\\\\\n",
    "  0 & -1\n",
    "\\end{pmatrix}$ on the $i$-th qubit.\n",
    "The eigenvalues of $\\text{I} - \\frac{Z}{2}$ are $\\{-1,1\\}$ with corresponding eigenstates $|0\\rangle$ and $|1\\rangle$. Thus, we switch from Z to $\\text{I} - \\frac{Z}{2}$, and rewrite the problem as BPP Ising hamiltonian,\n",
    "\\begin{equation} \\label{eqn:final_hamiltonian}\n",
    "    H_{bpp}= \\sum_{j=1}^{K} \\sigma_j + \\sum_{j=1}^{K}p_1(\\lambda, g_j) + \\sum_{i=1}^{N}p_2(\\beta,h_i)\n",
    "\\end{equation}\n",
    "where $g_j$ and $h_i$ are now functions of $\\sigma$."
   ]
  },
  {
   "cell_type": "markdown",
   "id": "667dcbe7",
   "metadata": {
    "id": "667dcbe7"
   },
   "source": [
    "## YOUR TASK: Encoding the QUBO as an Ising Hamiltonian ##\n"
   ]
  },
  {
   "cell_type": "markdown",
   "source": [
    "With the quadratic penalty encoding quskit automatically converts the QUBO into an Ising Hamiltonian when using the QAOA algorithm\n",
    "for demonstrations show how to convert the QUBO into an Ising Hamiltonian and back"
   ],
   "metadata": {
    "collapsed": false,
    "id": "921eab5cfaaba24d"
   },
   "id": "921eab5cfaaba24d"
  },
  {
   "cell_type": "code",
   "outputs": [],
   "source": [
    "import os\n",
    "\n",
    "\n",
    "def is_colab_env():\n",
    "    return 'COLAB_GPU' in os.environ"
   ],
   "metadata": {
    "id": "66959ea4dd48653f",
    "ExecuteTime": {
     "end_time": "2024-02-01T07:15:51.154684Z",
     "start_time": "2024-02-01T07:15:51.149170Z"
    }
   },
   "id": "66959ea4dd48653f",
   "execution_count": 78
  },
  {
   "cell_type": "code",
   "outputs": [],
   "source": [
    "if is_colab_env():\n",
    "    from google.colab import drive\n",
    "\n",
    "    drive.mount('/content/drive', force_remount=True)\n",
    "    %cd /content/drive/My Drive/Data Set/HCQ"
   ],
   "metadata": {
    "colab": {
     "base_uri": "https://localhost:8080/"
    },
    "id": "2c1d42a9808eb68e",
    "outputId": "38e5437b-733d-4cfc-f30c-8fe433b3de8b",
    "ExecuteTime": {
     "end_time": "2024-02-01T07:15:51.155351Z",
     "start_time": "2024-02-01T07:15:51.152602Z"
    }
   },
   "id": "2c1d42a9808eb68e",
   "execution_count": 79
  },
  {
   "cell_type": "code",
   "outputs": [],
   "source": [
    "from qiskit_optimization import QuadraticProgram\n",
    "from qiskit_optimization.converters import LinearEqualityToPenalty, InequalityToEquality, \\\n",
    "    IntegerToBinary\n",
    "\n",
    "\n",
    "def quadratic_penalty(instance):\n",
    "    # Extract instance data\n",
    "    weights, C, B, items = instance\n",
    "\n",
    "    # Create a Quadratic Program\n",
    "    qp = QuadraticProgram()\n",
    "\n",
    "\n",
    "    for j in range(B):\n",
    "        qp.binary_var(name=f'B_{j}')\n",
    "\n",
    "    for i in range(items):\n",
    "        for j in range(B):\n",
    "            qp.binary_var(name=f'x_{i}_{j}')\n",
    "\n",
    "    # Objective function: Minimize the number of bins used\n",
    "    # This is done by minimizing the sum of B_j, where B_j = 1 if bin j is used\n",
    "    qp.minimize(linear=[1] * B)\n",
    "\n",
    "    eq_to_pen = LinearEqualityToPenalty(100)\n",
    "    # Constraint g(x): Each item i must be in exactly one bin\n",
    "    for i in range(items):\n",
    "        qp.linear_constraint(\n",
    "            linear={f'x_{i}_{j}': 1 for j in range(B)},\n",
    "            sense='==',\n",
    "            rhs=1,\n",
    "            name=f'item_in_one_bin_{i}')\n",
    "        qp = eq_to_pen.convert(qp)\n",
    "    neq_to_eq = InequalityToEquality(\"integer\")\n",
    "    eq_to_pen2 = LinearEqualityToPenalty(200)\n",
    "    int_to_bin = IntegerToBinary()\n",
    "    # Constraint h(x): Total weight in each bin j must not exceed its capacity C\n",
    "    for j in range(B):\n",
    "        # Create a dictionary for the linear terms\n",
    "        linear_terms = {f'x_{i}_{j}': weights[i] for i in range(items)}\n",
    "        # Add the term for B_j with a negative coefficient\n",
    "        linear_terms[f'B_{j}'] = -C\n",
    "        qp.linear_constraint(\n",
    "            linear=linear_terms,\n",
    "            sense='<=',\n",
    "            rhs=0,  # Set the RHS to 0\n",
    "            name=f'bin_capacity_{j}')\n",
    "        qp = neq_to_eq.convert(qp)\n",
    "        qp = int_to_bin.convert(qp)\n",
    "        qp = eq_to_pen2.convert(qp)\n",
    "    return qp"
   ],
   "metadata": {
    "id": "de0734df5faedd09",
    "ExecuteTime": {
     "end_time": "2024-02-01T07:15:51.173953Z",
     "start_time": "2024-02-01T07:15:51.157893Z"
    }
   },
   "id": "de0734df5faedd09",
   "execution_count": 80
  },
  {
   "cell_type": "markdown",
   "id": "0e383180",
   "metadata": {
    "id": "0e383180"
   },
   "source": [
    "# Solving BPP instances #\n",
    "Solve each problem instances using different methods:\n",
    "## CPLEX optimizer ##\n",
    "Classic optimizer, to be used as baseline with all the others."
   ]
  },
  {
   "cell_type": "code",
   "outputs": [
    {
     "name": "stdout",
     "output_type": "stream",
     "text": [
      "Invoking ['/Users/paulpinter/Repository/hybrid-quantum-ass3/venv/bin/python', '-m', 'pip', 'install', '.'] in /Users/paulpinter/Applications/CPLEX_Studio_Community2211/cplex/python/3.9/arm64_osx\r\n",
      "Processing /Users/paulpinter/Applications/CPLEX_Studio_Community2211/cplex/python/3.9/arm64_osx\r\n",
      "  Preparing metadata (setup.py) ... \u001B[?25ldone\r\n",
      "\u001B[?25hBuilding wheels for collected packages: cplex\r\n",
      "  Building wheel for cplex (setup.py) ... \u001B[?25ldone\r\n",
      "\u001B[?25h  Created wheel for cplex: filename=cplex-22.1.1.0-py3-none-any.whl size=8153295 sha256=641110f624b10ea4a9f238e14d2ac183a22eb271a81cfc7f4f7cc6cdd283ab19\r\n",
      "  Stored in directory: /private/var/folders/6l/zlnf9sw956d63h7tczx2cqv00000gn/T/pip-ephem-wheel-cache-lf960cqt/wheels/1d/cd/cd/a559b6d9c297ea89fe811bf256b1066cc5e0e02508337d4277\r\n",
      "Successfully built cplex\r\n",
      "Installing collected packages: cplex\r\n",
      "  Attempting uninstall: cplex\r\n",
      "    Found existing installation: cplex 22.1.1.0\r\n",
      "    Uninstalling cplex-22.1.1.0:\r\n",
      "      Successfully uninstalled cplex-22.1.1.0\r\n",
      "Successfully installed cplex-22.1.1.0\r\n",
      "\r\n",
      "\u001B[1m[\u001B[0m\u001B[34;49mnotice\u001B[0m\u001B[1;39;49m]\u001B[0m\u001B[39;49m A new release of pip is available: \u001B[0m\u001B[31;49m23.2.1\u001B[0m\u001B[39;49m -> \u001B[0m\u001B[32;49m23.3.2\u001B[0m\r\n",
      "\u001B[1m[\u001B[0m\u001B[34;49mnotice\u001B[0m\u001B[1;39;49m]\u001B[0m\u001B[39;49m To update, run: \u001B[0m\u001B[32;49mpip install --upgrade pip\u001B[0m\r\n",
      "Invoking ['/Users/paulpinter/Repository/hybrid-quantum-ass3/venv/bin/python', '-m', 'pip', 'install', 'docplex']\r\n",
      "Requirement already satisfied: docplex in ./venv/lib/python3.9/site-packages (2.25.236)\r\n",
      "Requirement already satisfied: six in ./venv/lib/python3.9/site-packages (from docplex) (1.16.0)\r\n",
      "\r\n",
      "\u001B[1m[\u001B[0m\u001B[34;49mnotice\u001B[0m\u001B[1;39;49m]\u001B[0m\u001B[39;49m A new release of pip is available: \u001B[0m\u001B[31;49m23.2.1\u001B[0m\u001B[39;49m -> \u001B[0m\u001B[32;49m23.3.2\u001B[0m\r\n",
      "\u001B[1m[\u001B[0m\u001B[34;49mnotice\u001B[0m\u001B[1;39;49m]\u001B[0m\u001B[39;49m To update, run: \u001B[0m\u001B[32;49mpip install --upgrade pip\u001B[0m\r\n"
     ]
    }
   ],
   "source": [
    "if os.getenv(\"CUSTOM_MAC_ENV\"):\n",
    "    !python ~/Applications/CPLEX_Studio_Community2211/python/setup.py install\n",
    "else:\n",
    "    !pip install qiskit-optimization[cplex]"
   ],
   "metadata": {
    "colab": {
     "base_uri": "https://localhost:8080/"
    },
    "id": "475d42229e27295e",
    "outputId": "03ae10e0-0778-46f3-898f-0ed8bb484690",
    "ExecuteTime": {
     "end_time": "2024-02-01T07:15:54.183690Z",
     "start_time": "2024-02-01T07:15:51.162805Z"
    }
   },
   "id": "475d42229e27295e",
   "execution_count": 81
  },
  {
   "cell_type": "code",
   "outputs": [
    {
     "name": "stdout",
     "output_type": "stream",
     "text": [
      "Requirement already satisfied: pandas in ./venv/lib/python3.9/site-packages (2.2.0)\r\n",
      "Requirement already satisfied: numpy<2,>=1.22.4 in ./venv/lib/python3.9/site-packages (from pandas) (1.26.3)\r\n",
      "Requirement already satisfied: python-dateutil>=2.8.2 in ./venv/lib/python3.9/site-packages (from pandas) (2.8.2)\r\n",
      "Requirement already satisfied: pytz>=2020.1 in ./venv/lib/python3.9/site-packages (from pandas) (2023.3.post1)\r\n",
      "Requirement already satisfied: tzdata>=2022.7 in ./venv/lib/python3.9/site-packages (from pandas) (2023.4)\r\n",
      "Requirement already satisfied: six>=1.5 in ./venv/lib/python3.9/site-packages (from python-dateutil>=2.8.2->pandas) (1.16.0)\r\n",
      "\r\n",
      "\u001B[1m[\u001B[0m\u001B[34;49mnotice\u001B[0m\u001B[1;39;49m]\u001B[0m\u001B[39;49m A new release of pip is available: \u001B[0m\u001B[31;49m23.2.1\u001B[0m\u001B[39;49m -> \u001B[0m\u001B[32;49m23.3.2\u001B[0m\r\n",
      "\u001B[1m[\u001B[0m\u001B[34;49mnotice\u001B[0m\u001B[1;39;49m]\u001B[0m\u001B[39;49m To update, run: \u001B[0m\u001B[32;49mpip install --upgrade pip\u001B[0m\r\n"
     ]
    }
   ],
   "source": [
    "!pip install pandas"
   ],
   "metadata": {
    "colab": {
     "base_uri": "https://localhost:8080/"
    },
    "id": "b5c58e70f63b1c2c",
    "outputId": "ac99326a-f0db-4d39-d1fd-1598e9d26155",
    "ExecuteTime": {
     "end_time": "2024-02-01T07:15:55.109117Z",
     "start_time": "2024-02-01T07:15:54.165358Z"
    }
   },
   "id": "b5c58e70f63b1c2c",
   "execution_count": 82
  },
  {
   "cell_type": "code",
   "outputs": [],
   "source": [
    "def create_instance_df(instances):\n",
    "    instance_file = 'instance_data.csv'\n",
    "    instance_df = pd.DataFrame(columns=['id', 'weights', 'capacity', 'bins', 'items', 'number_var'])\n",
    "    prep = preprocess_instances(instances)\n",
    "    for idx, ins in enumerate(instances):\n",
    "        bp = quadratic_penalty(prep[idx])\n",
    "        instance_df.loc[idx] = [idx, ins[0], ins[1], ins[2], ins[3], bp.get_num_vars()]\n",
    "    instance_df.to_csv(instance_file, index=False)"
   ],
   "metadata": {
    "id": "197ebe8f11a2eaf8",
    "ExecuteTime": {
     "end_time": "2024-02-01T07:15:55.118507Z",
     "start_time": "2024-02-01T07:15:55.111983Z"
    }
   },
   "id": "197ebe8f11a2eaf8",
   "execution_count": 83
  },
  {
   "cell_type": "code",
   "outputs": [],
   "source": [
    "from qiskit_optimization.algorithms import CplexOptimizer\n",
    "from time import time\n",
    "\n",
    "\n",
    "def create_classical_df(instances):\n",
    "    classical_file = 'classical_data.csv'\n",
    "    classical_df = pd.DataFrame(columns=['id', 'instance_id', 'optimum', 'time'])\n",
    "    for idx, ins in enumerate(instances):\n",
    "        bp = quadratic_penalty(ins)\n",
    "        cplex_solver = CplexOptimizer()\n",
    "        start_time = time()\n",
    "        result = cplex_solver.solve(bp)\n",
    "        end_time = time()\n",
    "        execution_time = end_time - start_time\n",
    "        classical_df.loc[idx] = [idx, idx, result.fval, execution_time]\n",
    "    classical_df.to_csv(classical_file, index=False)"
   ],
   "metadata": {
    "id": "543ba05315547019",
    "ExecuteTime": {
     "end_time": "2024-02-01T07:15:55.130681Z",
     "start_time": "2024-02-01T07:15:55.119771Z"
    }
   },
   "id": "543ba05315547019",
   "execution_count": 84
  },
  {
   "cell_type": "markdown",
   "source": [
    "## QAOA solution ##"
   ],
   "metadata": {
    "id": "de1e20c0"
   },
   "id": "de1e20c0"
  },
  {
   "cell_type": "code",
   "outputs": [
    {
     "name": "stdout",
     "output_type": "stream",
     "text": [
      "Requirement already satisfied: qiskit-algorithms in ./venv/lib/python3.9/site-packages (0.2.2)\r\n",
      "Requirement already satisfied: qiskit>=0.44 in ./venv/lib/python3.9/site-packages (from qiskit-algorithms) (0.45.2)\r\n",
      "Requirement already satisfied: scipy>=1.4 in ./venv/lib/python3.9/site-packages (from qiskit-algorithms) (1.12.0)\r\n",
      "Requirement already satisfied: numpy>=1.17 in ./venv/lib/python3.9/site-packages (from qiskit-algorithms) (1.26.3)\r\n",
      "Requirement already satisfied: qiskit-terra==0.45.2 in ./venv/lib/python3.9/site-packages (from qiskit>=0.44->qiskit-algorithms) (0.45.2)\r\n",
      "Requirement already satisfied: rustworkx>=0.13.0 in ./venv/lib/python3.9/site-packages (from qiskit-terra==0.45.2->qiskit>=0.44->qiskit-algorithms) (0.14.0)\r\n",
      "Requirement already satisfied: ply>=3.10 in ./venv/lib/python3.9/site-packages (from qiskit-terra==0.45.2->qiskit>=0.44->qiskit-algorithms) (3.11)\r\n",
      "Requirement already satisfied: psutil>=5 in ./venv/lib/python3.9/site-packages (from qiskit-terra==0.45.2->qiskit>=0.44->qiskit-algorithms) (5.9.8)\r\n",
      "Requirement already satisfied: sympy>=1.3 in ./venv/lib/python3.9/site-packages (from qiskit-terra==0.45.2->qiskit>=0.44->qiskit-algorithms) (1.12)\r\n",
      "Requirement already satisfied: dill>=0.3 in ./venv/lib/python3.9/site-packages (from qiskit-terra==0.45.2->qiskit>=0.44->qiskit-algorithms) (0.3.7)\r\n",
      "Requirement already satisfied: python-dateutil>=2.8.0 in ./venv/lib/python3.9/site-packages (from qiskit-terra==0.45.2->qiskit>=0.44->qiskit-algorithms) (2.8.2)\r\n",
      "Requirement already satisfied: stevedore>=3.0.0 in ./venv/lib/python3.9/site-packages (from qiskit-terra==0.45.2->qiskit>=0.44->qiskit-algorithms) (5.1.0)\r\n",
      "Requirement already satisfied: symengine!=0.10.0,>=0.9 in ./venv/lib/python3.9/site-packages (from qiskit-terra==0.45.2->qiskit>=0.44->qiskit-algorithms) (0.11.0)\r\n",
      "Requirement already satisfied: typing-extensions in ./venv/lib/python3.9/site-packages (from qiskit-terra==0.45.2->qiskit>=0.44->qiskit-algorithms) (4.9.0)\r\n",
      "Requirement already satisfied: six>=1.5 in ./venv/lib/python3.9/site-packages (from python-dateutil>=2.8.0->qiskit-terra==0.45.2->qiskit>=0.44->qiskit-algorithms) (1.16.0)\r\n",
      "Requirement already satisfied: pbr!=2.1.0,>=2.0.0 in ./venv/lib/python3.9/site-packages (from stevedore>=3.0.0->qiskit-terra==0.45.2->qiskit>=0.44->qiskit-algorithms) (6.0.0)\r\n",
      "Requirement already satisfied: mpmath>=0.19 in ./venv/lib/python3.9/site-packages (from sympy>=1.3->qiskit-terra==0.45.2->qiskit>=0.44->qiskit-algorithms) (1.3.0)\r\n",
      "\r\n",
      "\u001B[1m[\u001B[0m\u001B[34;49mnotice\u001B[0m\u001B[1;39;49m]\u001B[0m\u001B[39;49m A new release of pip is available: \u001B[0m\u001B[31;49m23.2.1\u001B[0m\u001B[39;49m -> \u001B[0m\u001B[32;49m23.3.2\u001B[0m\r\n",
      "\u001B[1m[\u001B[0m\u001B[34;49mnotice\u001B[0m\u001B[1;39;49m]\u001B[0m\u001B[39;49m To update, run: \u001B[0m\u001B[32;49mpip install --upgrade pip\u001B[0m\r\n"
     ]
    }
   ],
   "source": [
    "!pip install qiskit-algorithms"
   ],
   "metadata": {
    "colab": {
     "base_uri": "https://localhost:8080/"
    },
    "id": "3c782c17131b6782",
    "outputId": "0d80d8b3-054c-49ee-a970-8c36d8e3cf88",
    "ExecuteTime": {
     "end_time": "2024-02-01T07:15:56.067821Z",
     "start_time": "2024-02-01T07:15:55.121961Z"
    }
   },
   "id": "3c782c17131b6782",
   "execution_count": 85
  },
  {
   "cell_type": "code",
   "outputs": [
    {
     "name": "stdout",
     "output_type": "stream",
     "text": [
      "Not running on Google Colab. Installing qiskit-aer...\n",
      "Requirement already satisfied: qiskit-aer in ./venv/lib/python3.9/site-packages (0.13.2)\r\n",
      "Requirement already satisfied: qiskit>=0.45.0 in ./venv/lib/python3.9/site-packages (from qiskit-aer) (0.45.2)\r\n",
      "Requirement already satisfied: numpy>=1.16.3 in ./venv/lib/python3.9/site-packages (from qiskit-aer) (1.26.3)\r\n",
      "Requirement already satisfied: scipy>=1.0 in ./venv/lib/python3.9/site-packages (from qiskit-aer) (1.12.0)\r\n",
      "Requirement already satisfied: psutil>=5 in ./venv/lib/python3.9/site-packages (from qiskit-aer) (5.9.8)\r\n",
      "Requirement already satisfied: qiskit-terra==0.45.2 in ./venv/lib/python3.9/site-packages (from qiskit>=0.45.0->qiskit-aer) (0.45.2)\r\n",
      "Requirement already satisfied: rustworkx>=0.13.0 in ./venv/lib/python3.9/site-packages (from qiskit-terra==0.45.2->qiskit>=0.45.0->qiskit-aer) (0.14.0)\r\n",
      "Requirement already satisfied: ply>=3.10 in ./venv/lib/python3.9/site-packages (from qiskit-terra==0.45.2->qiskit>=0.45.0->qiskit-aer) (3.11)\r\n",
      "Requirement already satisfied: sympy>=1.3 in ./venv/lib/python3.9/site-packages (from qiskit-terra==0.45.2->qiskit>=0.45.0->qiskit-aer) (1.12)\r\n",
      "Requirement already satisfied: dill>=0.3 in ./venv/lib/python3.9/site-packages (from qiskit-terra==0.45.2->qiskit>=0.45.0->qiskit-aer) (0.3.7)\r\n",
      "Requirement already satisfied: python-dateutil>=2.8.0 in ./venv/lib/python3.9/site-packages (from qiskit-terra==0.45.2->qiskit>=0.45.0->qiskit-aer) (2.8.2)\r\n",
      "Requirement already satisfied: stevedore>=3.0.0 in ./venv/lib/python3.9/site-packages (from qiskit-terra==0.45.2->qiskit>=0.45.0->qiskit-aer) (5.1.0)\r\n",
      "Requirement already satisfied: symengine!=0.10.0,>=0.9 in ./venv/lib/python3.9/site-packages (from qiskit-terra==0.45.2->qiskit>=0.45.0->qiskit-aer) (0.11.0)\r\n",
      "Requirement already satisfied: typing-extensions in ./venv/lib/python3.9/site-packages (from qiskit-terra==0.45.2->qiskit>=0.45.0->qiskit-aer) (4.9.0)\r\n",
      "Requirement already satisfied: six>=1.5 in ./venv/lib/python3.9/site-packages (from python-dateutil>=2.8.0->qiskit-terra==0.45.2->qiskit>=0.45.0->qiskit-aer) (1.16.0)\r\n",
      "Requirement already satisfied: pbr!=2.1.0,>=2.0.0 in ./venv/lib/python3.9/site-packages (from stevedore>=3.0.0->qiskit-terra==0.45.2->qiskit>=0.45.0->qiskit-aer) (6.0.0)\r\n",
      "Requirement already satisfied: mpmath>=0.19 in ./venv/lib/python3.9/site-packages (from sympy>=1.3->qiskit-terra==0.45.2->qiskit>=0.45.0->qiskit-aer) (1.3.0)\r\n",
      "\r\n",
      "\u001B[1m[\u001B[0m\u001B[34;49mnotice\u001B[0m\u001B[1;39;49m]\u001B[0m\u001B[39;49m A new release of pip is available: \u001B[0m\u001B[31;49m23.2.1\u001B[0m\u001B[39;49m -> \u001B[0m\u001B[32;49m23.3.2\u001B[0m\r\n",
      "\u001B[1m[\u001B[0m\u001B[34;49mnotice\u001B[0m\u001B[1;39;49m]\u001B[0m\u001B[39;49m To update, run: \u001B[0m\u001B[32;49mpip install --upgrade pip\u001B[0m\r\n",
      "Note: you may need to restart the kernel to use updated packages.\n"
     ]
    }
   ],
   "source": [
    "if is_colab_env():\n",
    "    print(\"Running on Google Colab. Installing qiskit-aer-gpu...\")\n",
    "    %pip install qiskit-aer-gpu\n",
    "else:\n",
    "    print(\"Not running on Google Colab. Installing qiskit-aer...\")\n",
    "    %pip install qiskit-aer"
   ],
   "metadata": {
    "colab": {
     "base_uri": "https://localhost:8080/"
    },
    "id": "963fd9aab43fb936",
    "outputId": "36a55afa-8100-4ea5-c511-041c361cebae",
    "ExecuteTime": {
     "end_time": "2024-02-01T07:15:57.031058Z",
     "start_time": "2024-02-01T07:15:56.051269Z"
    }
   },
   "id": "963fd9aab43fb936",
   "execution_count": 86
  },
  {
   "cell_type": "code",
   "outputs": [],
   "source": [
    "from qiskit import Aer\n",
    "from qiskit.primitives import BackendSampler\n",
    "\n",
    "\n",
    "def aer_sampler(shots):\n",
    "    backend = Aer.get_backend('aer_simulator')\n",
    "    if is_colab_env():\n",
    "        backend.set_options(device='GPU', shots=shots)\n",
    "    else:\n",
    "        backend.set_options(shots=shots)\n",
    "    return BackendSampler(backend=backend)"
   ],
   "metadata": {
    "id": "e5686da8dbacf0f4",
    "ExecuteTime": {
     "end_time": "2024-02-01T07:15:57.037848Z",
     "start_time": "2024-02-01T07:15:57.029556Z"
    }
   },
   "id": "e5686da8dbacf0f4",
   "execution_count": 87
  },
  {
   "cell_type": "code",
   "outputs": [],
   "source": [
    "from qiskit_aer.noise import NoiseModel, phase_damping_error\n",
    "\n",
    "\n",
    "def noisy_sampler(shots):\n",
    "    noise_model = NoiseModel()\n",
    "    # Phase damping error\n",
    "    p_phase_damping = 0.05\n",
    "    phase_damping = phase_damping_error(p_phase_damping)\n",
    "    noise_model.add_all_qubit_quantum_error(phase_damping, 'z')\n",
    "    backend = Aer.get_backend('aer_simulator')\n",
    "    if is_colab_env():\n",
    "        backend.set_options(device='GPU', shots=shots, noise_model=noise_model)\n",
    "    else:\n",
    "        backend.set_options(shots=shots, noise_model=noise_model)\n",
    "    return BackendSampler(backend=backend)"
   ],
   "metadata": {
    "id": "5afaf107485b410",
    "ExecuteTime": {
     "end_time": "2024-02-01T07:15:57.038607Z",
     "start_time": "2024-02-01T07:15:57.036086Z"
    }
   },
   "id": "5afaf107485b410",
   "execution_count": 88
  },
  {
   "cell_type": "code",
   "outputs": [],
   "source": [
    "from qiskit_aqt_provider import AQTProvider\n",
    "from qiskit_aqt_provider.primitives import AQTSampler\n",
    "\n",
    "\n",
    "def aqt_sampler(shots):\n",
    "    aqt = AQTProvider(\"ACCESS_TOKEN\")\n",
    "    backend = aqt.get_backend('offline_simulator_no_noise')\n",
    "    backend.set_options(shots=shots)\n",
    "    return AQTSampler(backend=backend)"
   ],
   "metadata": {
    "id": "8ffb44db1d331fd4",
    "ExecuteTime": {
     "end_time": "2024-02-01T07:15:57.040984Z",
     "start_time": "2024-02-01T07:15:57.038691Z"
    }
   },
   "id": "8ffb44db1d331fd4",
   "execution_count": 89
  },
  {
   "cell_type": "code",
   "outputs": [],
   "source": [
    "from qiskit_algorithms.utils import algorithm_globals\n",
    "\n",
    "algorithm_globals.random_seed = 10598"
   ],
   "metadata": {
    "id": "164c2cae9598f8d8",
    "ExecuteTime": {
     "end_time": "2024-02-01T07:15:57.064111Z",
     "start_time": "2024-02-01T07:15:57.043237Z"
    }
   },
   "id": "164c2cae9598f8d8",
   "execution_count": 90
  },
  {
   "cell_type": "code",
   "outputs": [],
   "source": [
    "from qiskit_optimization.algorithms import MinimumEigenOptimizer\n",
    "from qiskit_algorithms.minimum_eigensolvers import QAOA\n",
    "\n",
    "\n",
    "def solve_qaoa(sampler, reps, optimizer):\n",
    "    qaoa_mes = QAOA(sampler=sampler, optimizer=optimizer, reps=reps)\n",
    "    solver = MinimumEigenOptimizer(qaoa_mes)\n",
    "    return solver"
   ],
   "metadata": {
    "id": "0c420424",
    "ExecuteTime": {
     "end_time": "2024-02-01T07:15:57.079012Z",
     "start_time": "2024-02-01T07:15:57.047142Z"
    }
   },
   "id": "0c420424",
   "execution_count": 91
  },
  {
   "cell_type": "markdown",
   "source": [
    "## Warm start QAOA ##"
   ],
   "metadata": {
    "id": "ed853d11"
   },
   "id": "ed853d11"
  },
  {
   "cell_type": "code",
   "outputs": [],
   "source": [
    "from qiskit_optimization.algorithms import WarmStartQAOAOptimizer\n",
    "\n",
    "\n",
    "def solve_qaoa_warm_start(sampler, optimizer, reps):\n",
    "    qaoa_mes = QAOA(sampler=sampler, reps=reps, optimizer=optimizer)\n",
    "    solver = WarmStartQAOAOptimizer(pre_solver=CplexOptimizer(),\n",
    "                                    relax_for_pre_solver=True,\n",
    "                                    qaoa=qaoa_mes)\n",
    "    return solver"
   ],
   "metadata": {
    "id": "92515181",
    "ExecuteTime": {
     "end_time": "2024-02-01T07:15:57.079709Z",
     "start_time": "2024-02-01T07:15:57.049534Z"
    }
   },
   "id": "92515181",
   "execution_count": 92
  },
  {
   "cell_type": "markdown",
   "source": [
    "# Evaluation #"
   ],
   "metadata": {
    "id": "72de9740"
   },
   "id": "72de9740"
  },
  {
   "cell_type": "markdown",
   "source": [
    "Evaluate quantum solutions in comparison with classic solution using the following metrics:\n",
    "* Running time;\n",
    "* Mean square error between quantum optimum and classic optimum;\n",
    "* Number of times each algorithm reaches the optimum;\n",
    "\n",
    "Evaluation should be performed on the following backends:\n",
    "* Noiseless simulator (Aer)\n",
    "* Noisy simulator (choose a noise model)\n",
    "* BONUS: test on AQT simulator (check https://github.com/qiskit-community/qiskit-aqt-provider)\n",
    "\n",
    "QAOA should be evaluated using different configurations:\n",
    "* QAOAAnsatz with $p=[1,5]$\n",
    "* Optimizers: COBYLA, NelderMead, SLSQP\n",
    "* Shots: {200, 400, 600, 800, 1000} (Please note that AQT backend is limited to 200 shots)\n",
    "* Optimizers' iteration: {250, 500, 750, 1000}"
   ],
   "metadata": {
    "id": "3e3d3de7"
   },
   "id": "3e3d3de7"
  },
  {
   "cell_type": "code",
   "outputs": [],
   "source": [
    "def extract_backend_str(s):\n",
    "    if 'aqt' in s:\n",
    "        return 'aqt'\n",
    "    elif 'noise' in s:\n",
    "        return 'noise'\n",
    "    elif 'aer' in s:\n",
    "        return 'aer'\n",
    "    else:\n",
    "        return 'unknown'"
   ],
   "metadata": {
    "id": "c0b7b40e4c53166",
    "ExecuteTime": {
     "end_time": "2024-02-01T07:15:57.080274Z",
     "start_time": "2024-02-01T07:15:57.052197Z"
    }
   },
   "id": "c0b7b40e4c53166",
   "execution_count": 93
  },
  {
   "cell_type": "code",
   "execution_count": 94,
   "id": "ed42806c",
   "metadata": {
    "id": "ed42806c",
    "ExecuteTime": {
     "end_time": "2024-02-01T07:15:57.080817Z",
     "start_time": "2024-02-01T07:15:57.058010Z"
    }
   },
   "outputs": [],
   "source": [
    "from qiskit_algorithms.optimizers import NELDER_MEAD, SLSQP, COBYLA\n",
    "import pandas as pd\n",
    "import os\n",
    "\n",
    "\n",
    "def create_quantum_df(instances, skip=0, quantum_file='quantum_data.csv'):\n",
    "    batch_size = 10\n",
    "    quantum_df = pd.DataFrame(\n",
    "        columns=['id', 'instance_id', 'sampler', 'p', 'max_iter', 'shots', 'optimizer', 'warm_start', 'optimum',\n",
    "                 'time'])\n",
    "\n",
    "    count = 0\n",
    "    if skip == 0:\n",
    "        quantum_df.to_csv(quantum_file, index=False)\n",
    "    for idx, ins in enumerate(instances):\n",
    "        print(f\"instance: {idx}\")\n",
    "        bp = quadratic_penalty(ins)\n",
    "        for p in range(1, 6):\n",
    "            for ite in [250, 500, 750, 1000]:\n",
    "                for sh in [200, 400, 600, 800, 1000]:\n",
    "                    for o in [COBYLA(maxiter=ite), NELDER_MEAD(maxiter=ite), SLSQP(maxiter=ite)]:\n",
    "                        for sa in [aer_sampler(sh), noisy_sampler(sh)] + ([aqt_sampler(sh)] if sh <= 200 else []):\n",
    "                            for so in [solve_qaoa(sampler=sa, reps=p, optimizer=o), solve_qaoa_warm_start(sampler=sa, reps=p, optimizer=o)]:\n",
    "                                if count < skip:\n",
    "                                    print(f\"skipped: {count}\")\n",
    "                                    count += 1\n",
    "                                    continue\n",
    "                                optimizer_name = o.__class__.__name__\n",
    "                                backend_name = extract_backend_str(str(sa.backend))\n",
    "                                warm_start = so.__class__.__name__ == 'WarmStartQAOAOptimizer'\n",
    "                                start_time = time()\n",
    "                                res = so.solve(bp)\n",
    "                                end_time = time()\n",
    "                                t = end_time - start_time\n",
    "                                row = [count, idx, backend_name, p, ite, sh, optimizer_name, warm_start, res.fval, t]\n",
    "                                print(f\"solved: {row}\")\n",
    "                                quantum_df.loc[count] = row\n",
    "                                count += 1\n",
    "                                if count % batch_size == 0:\n",
    "                                    quantum_df.to_csv(quantum_file, mode='a', header=False, index=False)\n",
    "                                    quantum_df = pd.DataFrame(\n",
    "                                        columns=['id', 'instance_id', 'sampler', 'p', 'max_iter', 'shots', 'optimizer',\n",
    "                                                 'warm_start', 'optimum', 'time'])\n",
    "    quantum_df.to_csv(quantum_file, mode='a', header=False, index=False)"
   ]
  },
  {
   "cell_type": "code",
   "outputs": [],
   "source": [
    "def create_evaluation_df(quantum_df, classical_df):\n",
    "    for instance_id in quantum_df['instance_id'].unique():\n",
    "        # Finding corresponding classical time for the instance ID\n",
    "        if instance_id in classical_df['instance_id'].values:\n",
    "            classical_time = classical_df[classical_df['instance_id'] == instance_id]['time'].iloc[0]\n",
    "            classical_optimum = classical_df[classical_df['instance_id'] == instance_id]['optimum'].iloc[0]\n",
    "            # Updating time difference for each row in quantum dataframe with this instance ID\n",
    "            quantum_df.loc[quantum_df['instance_id'] == instance_id, 'time_difference'] = \\\n",
    "                quantum_df[quantum_df['instance_id'] == instance_id]['time'] - classical_time\n",
    "            quantum_df['error'] = (quantum_df['optimum'] - classical_optimum) ** 2\n",
    "    quantum_df.to_csv('evaluation_data.csv', index=False)"
   ],
   "metadata": {
    "id": "29bb77871f568927",
    "ExecuteTime": {
     "end_time": "2024-02-01T07:15:57.082536Z",
     "start_time": "2024-02-01T07:15:57.063030Z"
    }
   },
   "id": "29bb77871f568927",
   "execution_count": 95
  },
  {
   "cell_type": "code",
   "outputs": [],
   "source": [
    "def calc_optimum_percentage(evaluation_df):\n",
    "    mse_zero_count = len(e_df[e_df['error'] == 0])\n",
    "    # Total number of rows\n",
    "    total_rows = len(evaluation_df)\n",
    "    # Calculate the percentage\n",
    "    percentage = (mse_zero_count / total_rows) * 100\n",
    "    print(\n",
    "        f\"{mse_zero_count} from {total_rows} of quantum solutions have reached the optimum, which is {percentage}% of all solutions\")\n",
    "    print(f\"Mean square error: {evaluation_df['error'].mean()}\")\n",
    "    print(f\"Mean time difference: {evaluation_df['time_difference'].mean()}\")"
   ],
   "metadata": {
    "id": "1cc66fd2c0433b08",
    "ExecuteTime": {
     "end_time": "2024-02-01T07:15:57.083225Z",
     "start_time": "2024-02-01T07:15:57.072509Z"
    }
   },
   "id": "1cc66fd2c0433b08",
   "execution_count": 96
  },
  {
   "cell_type": "code",
   "outputs": [],
   "source": [
    "import os\n",
    "\n",
    "def calculate_skip():\n",
    "    if os.path.exists('quantum_data.csv'):\n",
    "        quantum_df = pd.read_csv('quantum_data.csv')\n",
    "        print(f\"Skipping {len(quantum_df)} rows\")\n",
    "        return len(quantum_df)\n",
    "    else:\n",
    "        return 0"
   ],
   "metadata": {
    "id": "d84eaae5377838a6",
    "ExecuteTime": {
     "end_time": "2024-02-01T07:15:57.083767Z",
     "start_time": "2024-02-01T07:15:57.074891Z"
    }
   },
   "id": "d84eaae5377838a6",
   "execution_count": 97
  },
  {
   "cell_type": "code",
   "outputs": [
    {
     "name": "stdout",
     "output_type": "stream",
     "text": [
      "13912 from 27720 of quantum solutions have reached the optimum, which is 50.18759018759019% of all solutions\n",
      "Mean square error: 93385.94844877344\n",
      "Mean time difference: 34.876216151919024\n"
     ]
    }
   ],
   "source": [
    "#raw_instances = read_list('bpp_instances')\n",
    "#preprocessed_instances = preprocess_instances(raw_instances)\n",
    "#create_instance_df(raw_instances)\n",
    "#create_classical_df(preprocessed_instances)\n",
    "#create_quantum_df(preprocessed_instances, skip=calculate_skip())\n",
    "q_df = pd.read_csv('quantum_data.csv')\n",
    "c_df = pd.read_csv('classical_data.csv')\n",
    "create_evaluation_df(q_df, c_df)\n",
    "e_df = pd.read_csv('evaluation_data.csv')\n",
    "calc_optimum_percentage(e_df)"
   ],
   "metadata": {
    "colab": {
     "base_uri": "https://localhost:8080/"
    },
    "id": "bccbc8969c753b6d",
    "outputId": "6b7bac34-38bb-4747-c9c2-815de4ad53b9",
    "ExecuteTime": {
     "end_time": "2024-02-01T07:16:37.024562Z",
     "start_time": "2024-02-01T07:16:36.718716Z"
    }
   },
   "id": "bccbc8969c753b6d",
   "execution_count": 99
  },
  {
   "cell_type": "code",
   "execution_count": 262,
   "id": "b42f1d79f7302d9d",
   "metadata": {
    "collapsed": false
   },
   "outputs": [
    {
     "data": {
      "image/png": "[encoded data removed]",
      "text/plain": [
       "<Figure size 1800x400 with 3 Axes>"
      ]
     },
     "metadata": {},
     "output_type": "display_data"
    },
    {
     "data": {
      "image/png": "[encoded data removed]",
      "text/plain": [
       "<Figure size 1800x400 with 3 Axes>"
      ]
     },
     "metadata": {},
     "output_type": "display_data"
    },
    {
     "data": {
      "image/png": "[encoded data removed]",
      "text/plain": [
       "<Figure size 1800x400 with 3 Axes>"
      ]
     },
     "metadata": {},
     "output_type": "display_data"
    },
    {
     "data": {
      "image/png": "[encoded data removed]",
      "text/plain": [
       "<Figure size 1800x400 with 3 Axes>"
      ]
     },
     "metadata": {},
     "output_type": "display_data"
    }
   ],
   "source": [
    "import pandas as pd\n",
    "import matplotlib.pyplot as plt\n",
    "plt.style.use('seaborn-v0_8')\n",
    "\n",
    "def plot(df, index, title, group=\"sampler\"):\n",
    "    fig, ax = plt.subplots(nrows=1, ncols=3)\n",
    "    fig.suptitle(title)\n",
    "    size = (18, 4)\n",
    "    df.pivot_table(sort=False, values=\"time_difference\", columns=[group], index=[index], aggfunc=\"mean\").plot(kind=\"bar\", rot=0, xlabel=\"\", ylabel=\"Mean time difference (s)\", ax=ax[0], figsize=size)\n",
    "    df.pivot_table(sort=False, values=\"error\", columns=[group], index=[index], aggfunc=\"mean\").plot(kind=\"bar\", rot=0, xlabel=\"\", ylabel=\"Mean square error\", ax=ax[1], figsize=size, legend=False)\n",
    "    df.pivot_table(sort=False, values=\"optimum\", columns=[group], index=[index], aggfunc=\"mean\").plot(kind=\"bar\", rot=0, xlabel=\"\", ylabel=\"Mean number of optimum results\", ax=ax[2], figsize=size, legend=False)\n",
    "\n",
    "data = pd.read_csv('evaluation_data.csv')\n",
    "\n",
    "plot(data, \"p\", \"Evaluation of different QAOAAnsatz with $p=[1,5]$\")\n",
    "plot(data, \"shots\", \"Evaluation of number of shots\")\n",
    "plot(data, \"optimizer\", \"Evaluation of optimizers\")\n",
    "plot(data, \"max_iter\", \"Evaluation of optimizer's iterations\")"
   ]
  }
 ],
 "metadata": {
  "kernelspec": {
   "name": "python3",
   "language": "python",
   "display_name": "Python 3 (ipykernel)"
  },
  "language_info": {
   "codemirror_mode": {
    "name": "ipython",
    "version": 3
   },
   "file_extension": ".py",
   "mimetype": "text/x-python",
   "name": "python",
   "nbconvert_exporter": "python",
   "pygments_lexer": "ipython3",
   "version": "3.10.12"
  },
  "colab": {
   "provenance": [],
   "gpuType": "T4"
  },
  "accelerator": "GPU"
 },
 "nbformat": 4,
 "nbformat_minor": 5
}
