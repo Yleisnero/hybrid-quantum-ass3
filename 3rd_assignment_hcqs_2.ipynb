{
 "cells": [
  {
   "cell_type": "markdown",
   "id": "e741379f",
   "metadata": {
    "id": "e741379f"
   },
   "source": [
    "# Hybrid Classic-Quantum Systems - Third Assignment #\n",
    "\n",
    "You should fill in this Jupyter notebook in order to complete the assignment. Here a small recap of the rules:\n",
    "\n",
    "* You should **NOT** modify the functions that are already provided in the notebook, unless it is strictly necessary;\n",
    "* If you want to modify the given functions, please, provide an explanation of why you had to;\n",
    "* You can define new functions, as soon as they are well commented;\n",
    "* You can import all libraries you want, as soon as you justify their utilization;\n",
    "* You can add new cells, as soon as you do not remove the cells where you are supposed to comment your solution;\n",
    "* This is a group assignment. The maximum number of people is 3;\n",
    "* Your solution should be commented and accompanied by a small description - you can add additional cells if needed;\n",
    "* For any issue and doubt, please do not hesitate to use the forum or to write me an email."
   ]
  },
  {
   "cell_type": "markdown",
   "id": "abc48bc1",
   "metadata": {
    "id": "abc48bc1"
   },
   "source": [
    "# Preliminaries #\n",
    "\n",
    "## Bin Packing Problem (BPP) ##\n",
    "The bin packing problem (BPP) is an optimization problem. The final goal is to fit items of different sizes into a finite number of bins, each of a fixed given capacity, minimizing the number of bins used. The problem has many applications, ranging from logistics, multi-processor scheduling.\n",
    "\n",
    "Computationally, the problem is NP-hard, and the corresponding decision problem, deciding if items can fit into a specified number of bins, is NP-complete.\n",
    "![np-complete](https://imgs.xkcd.com/comics/np_complete.png)"
   ]
  },
  {
   "cell_type": "markdown",
   "id": "b02c1bad",
   "metadata": {
    "id": "b02c1bad"
   },
   "source": [
    "## Mathematical formulation ##\n",
    "The objective function of BPP is to minimize the number of bins used, more formally,\n",
    "\\begin{align} \\label{eqn:bpp}\n",
    "    & {\\min}\n",
    "    & &  \\sum_{j=1}^{K} B_j \\\\\n",
    "    & {\\text{subject to}}\n",
    "    & & g(x_{ij}) = \\sum_{j=1}^{K} x_{ij} = 1 \\qquad \\forall i \\\\\n",
    "    & & & h(x_{ij}) = \\sum_{i=1}^N w_{i}x_{ij} \\le C*B_j \\qquad \\forall j\n",
    "\\end{align}"
   ]
  },
  {
   "cell_type": "markdown",
   "id": "11009203",
   "metadata": {
    "id": "11009203"
   },
   "source": [
    "# Loading BPP instances #\n",
    "First of all, we focus on generating instances of BPP to be used for the evaluation. Each instance is structured in the following way:\n",
    "\n",
    "$[[w_0, w_1, ..., w_n], C, B, items]$, such that:\n",
    "* $w_i$ is the weight of item $i$;\n",
    "* $C$ is the capacity of each bin;\n",
    "* $B$ is the number of bins;\n",
    "* $items$ is the number of items\n",
    "\n",
    "We pre-generated the instances for you and saved them in an attached binary file. You can read them in your code by using the following code:"
   ]
  },
  {
   "cell_type": "code",
   "outputs": [
    {
     "name": "stdout",
     "output_type": "stream",
     "text": [
      "Requirement already satisfied: numpy in ./venv/lib/python3.9/site-packages (1.26.3)\r\n",
      "\r\n",
      "\u001B[1m[\u001B[0m\u001B[34;49mnotice\u001B[0m\u001B[1;39;49m]\u001B[0m\u001B[39;49m A new release of pip is available: \u001B[0m\u001B[31;49m23.2.1\u001B[0m\u001B[39;49m -> \u001B[0m\u001B[32;49m23.3.2\u001B[0m\r\n",
      "\u001B[1m[\u001B[0m\u001B[34;49mnotice\u001B[0m\u001B[1;39;49m]\u001B[0m\u001B[39;49m To update, run: \u001B[0m\u001B[32;49mpip install --upgrade pip\u001B[0m\r\n"
     ]
    }
   ],
   "source": [
    "!pip install numpy"
   ],
   "metadata": {
    "colab": {
     "base_uri": "https://localhost:8080/"
    },
    "id": "f84b335ce41030be",
    "outputId": "4184e866-669f-4a78-ba78-bb3079fa9a64",
    "ExecuteTime": {
     "end_time": "2024-01-29T13:17:27.188008Z",
     "start_time": "2024-01-29T13:17:24.656622Z"
    }
   },
   "id": "f84b335ce41030be",
   "execution_count": 35
  },
  {
   "cell_type": "code",
   "outputs": [],
   "source": [
    "import pickle\n",
    "\n",
    "\n",
    "def read_list(filename):\n",
    "    # for reading also binary mode is important\n",
    "    with open(filename, 'rb') as fp:\n",
    "        n_list = pickle.load(fp)\n",
    "        return n_list"
   ],
   "metadata": {
    "id": "98c95b55",
    "ExecuteTime": {
     "end_time": "2024-01-29T13:17:27.195054Z",
     "start_time": "2024-01-29T13:17:27.191366Z"
    }
   },
   "id": "98c95b55",
   "execution_count": 36
  },
  {
   "cell_type": "markdown",
   "source": [
    "The constraint $g(x)$ implies that each task can be packed into at most one CPU, and constraint $h(x_{ij})$ says that the requirements of each task can not exceed the given $C$ capacity. In this paper, BPP can be considered as a mixture of inequality and equality-constrained optimization problems."
   ],
   "metadata": {
    "id": "8cd6c093"
   },
   "id": "8cd6c093"
  },
  {
   "cell_type": "code",
   "outputs": [],
   "source": [
    "from math import gcd\n",
    "from functools import reduce\n",
    "def smallest_denominator(instances):\n",
    "    processed = []\n",
    "\n",
    "    for ins in instances:\n",
    "        weights, C, B, items = ins\n",
    "\n",
    "        while True:\n",
    "            # Finding the GCD of all weights and the capacity\n",
    "            all_values = weights + [C]\n",
    "            smallest_denominator = reduce(gcd, all_values)\n",
    "\n",
    "            if smallest_denominator <= 1:\n",
    "                break  # Exit the loop if the GCD is 1\n",
    "\n",
    "            # Dividing weights and capacity by the smallest denominator\n",
    "            weights = [w // smallest_denominator for w in weights]\n",
    "            C = C // smallest_denominator\n",
    "        processed.append([weights, C, B, items])\n",
    "    return processed\n"
   ],
   "metadata": {
    "id": "7a9c18dcc2b60b79",
    "ExecuteTime": {
     "end_time": "2024-01-29T13:17:27.205412Z",
     "start_time": "2024-01-29T13:17:27.196863Z"
    }
   },
   "id": "7a9c18dcc2b60b79",
   "execution_count": 37
  },
  {
   "cell_type": "code",
   "outputs": [],
   "source": [
    "from itertools import combinations\n",
    "\n",
    "def best_space_util(instances):\n",
    "    processed = []\n",
    "    for ins in instances:\n",
    "        weights, C, B, items = ins\n",
    "\n",
    "        # Initialize variables to track the best pair and minimum remaining capacity\n",
    "        best_pair = None\n",
    "        min_remaining_capacity = C\n",
    "\n",
    "        # Iterate through all pairs of weights\n",
    "        for pair in combinations(weights, 2):\n",
    "            combined_weight = sum(pair)\n",
    "            remaining_capacity = C - combined_weight\n",
    "\n",
    "            # Update best_pair and min_remaining_capacity if this pair is better\n",
    "            if 0 <= remaining_capacity < min_remaining_capacity:\n",
    "                min_remaining_capacity = remaining_capacity\n",
    "                best_pair = pair\n",
    "\n",
    "        # Combine the best pair into a single item or keep the weights as is if no pair found\n",
    "        if best_pair:\n",
    "            new_weights = weights.copy()\n",
    "            # Remove the first element of the pair\n",
    "            new_weights.remove(best_pair[0])\n",
    "            # Remove the second element of the pair\n",
    "            new_weights.remove(best_pair[1])\n",
    "            new_weights.append(sum(best_pair))\n",
    "            new_items = items - 1\n",
    "            processed.append([new_weights, C, B, new_items])\n",
    "        else:\n",
    "            processed.append([weights, C, B, items])\n",
    "    return processed"
   ],
   "metadata": {
    "id": "46d1700fb1172813",
    "ExecuteTime": {
     "end_time": "2024-01-29T13:17:27.212385Z",
     "start_time": "2024-01-29T13:17:27.201840Z"
    }
   },
   "id": "46d1700fb1172813",
   "execution_count": 38
  },
  {
   "cell_type": "code",
   "outputs": [],
   "source": [
    "def remove_bucket_if_item_is_big(instances):\n",
    "    processed = []\n",
    "    for ins in instances:\n",
    "        weights, C, B, items = ins\n",
    "        biggest_item = max(weights)\n",
    "        smallest_item = min(weights)\n",
    "        if biggest_item + smallest_item > C:\n",
    "            # Remove the bucket\n",
    "            new_B = B - 1\n",
    "            new_weights = weights.copy()\n",
    "            # Remove the biggest item\n",
    "            new_weights.remove(biggest_item)\n",
    "            new_items = items - 1\n",
    "            processed.append([new_weights, C, new_B, new_items])\n",
    "        else:\n",
    "            processed.append([weights, C, B, items])\n",
    "    return processed"
   ],
   "metadata": {
    "id": "9a51aa4afe353431",
    "ExecuteTime": {
     "end_time": "2024-01-29T13:17:27.232959Z",
     "start_time": "2024-01-29T13:17:27.211751Z"
    }
   },
   "id": "9a51aa4afe353431",
   "execution_count": 39
  },
  {
   "cell_type": "code",
   "outputs": [],
   "source": [
    "def preprocess_instances(instances):\n",
    "    space_util = best_space_util(instances)\n",
    "    better_buckets = remove_bucket_if_item_is_big(space_util)\n",
    "    reduced_weight = smallest_denominator(better_buckets)\n",
    "    single_instance_space_util = best_space_util([reduced_weight[1]])\n",
    "    single_instance_better_buckets = remove_bucket_if_item_is_big(single_instance_space_util)\n",
    "    single_instance_reduced_weight = smallest_denominator(single_instance_better_buckets)\n",
    "    reduced_weight[1] = single_instance_reduced_weight[0]\n",
    "    return reduced_weight"
   ],
   "metadata": {
    "id": "bffdf91985e80f93",
    "ExecuteTime": {
     "end_time": "2024-01-29T13:17:27.241607Z",
     "start_time": "2024-01-29T13:17:27.218405Z"
    }
   },
   "id": "bffdf91985e80f93",
   "execution_count": 40
  },
  {
   "cell_type": "markdown",
   "source": [
    "# Transforming BPP into a QUBO #\n",
    "QUBO is a mathematical model that is used to represent combinatorial optimization problems in which the variables are binary $\\{0,1\\}$ and the objective function with constraints is quadratic. We employ QUBO for BPP because it provides a framework for representing combinatorial optimization problems in a form that can be efficiently solved using quantum computing algorithms designed for QUBO problems, such as VQE or QAOA.\n",
    "\n",
    "## Slack Variables + Quadratic Penalty Encoding ##\n",
    "Qiskit Optimization provides with QuadraticProgram a very generic and powerful representation for optimization problems. However, usually, optimization algorithms cannot handle all possible types of problems that can be modelled, but only a sub-class. Many available quantum optimization algorithms can handle Quadratic Unconstrained Binary Optimization (QUBO) problems. To do so, first, it is necessary to convert a given optimization problem into a QUBO.\n",
    "\n",
    "Qiskit Optimization provides converters to achieve this conversion whenever possible. More precisely, Qiskit Optimization provides the following converters:\n",
    "* *InequalityToEquality*: converts inequality constraints into equality constraints with additional slack variables.\n",
    "* *IntegerToBinary* : converts integer variables into binary variables and corresponding coefficients.\n",
    "* *LinearEqualityToPenalty* : convert equality constraints into additional terms of the object function.\n",
    "* *QuadraticProgramToQubo* : a wrapper for IntegerToBinary and LinearEqualityToPenalty for convenience.\n",
    "More information available at: https://qiskit.org/documentation/stable/0.19/tutorials/optimization/2_converters_for_quadratic_programs.html\n",
    "\n",
    "## Penalty-Based Encoding ##\n",
    "\n",
    "### Define penalties ###\n",
    "To enforce the constraints, we introduce penalty terms to the objective function. These terms penalize solutions that violate the constraints. Firsts, we rewrite constraints $g(x_{ij})$ and $h(x_{ij})$ as follows,\n",
    "     \\begin{align*}\n",
    "        g(x_{ij}) = \\sum_{j=1}^{K} x_{ij} - 1 = 0 \\qquad \\forall i \\\\\n",
    "        h(x_{ij}) = \\sum_{i=1}^N w_{i}x_{ij} - C \\cdot B_j \\le 0 \\qquad \\forall j \\\\\n",
    "    \\end{align*}\n",
    "    Second, introduce penalty functions $p_1(\\lambda, g(x))$ and $p_2(\\beta, h(x))$ with coefficients $\\{\\lambda, \\beta\\} \\geq 0 $\n",
    "    \\begin{equation}\\label{penalty1}\n",
    "        p_1(\\lambda, g(x_{ij})) =\n",
    "        \\begin{cases}\n",
    "            0 & \\text{if $g(x_{ij}) \\leq 0$} \\\\\n",
    "            \\lambda g(x_{ij}) & \\text{if $g(x_{ij}) > 0$}\n",
    "        \\end{cases}\n",
    "    \\end{equation}\n",
    "    \\begin{equation}\\label{penalty2}\n",
    "        p_2(\\beta, h(x_{ij})) =\n",
    "        \\begin{cases}\n",
    "            0 & \\text{if $h(x_{ij}) \\leq 0$} \\\\\n",
    "            \\beta h(x_{ij}) & \\text{if $h(x_{ij}) > 0$}\n",
    "        \\end{cases}\n",
    "    \\end{equation}\n",
    "    \n",
    "In literature, there are multiple methods for penalization such as the exterior penalty function and interior penalty function.\n",
    "\n",
    "### Injecting Penalties in the Model ###\n",
    "To get the final QUBO form we combine penalties with objective function and get\n",
    "\n",
    "\\begin{equation}\n",
    "    \\mathcal{F} = \\sum_{j=1}^{K} B_j + \\sum_{j=1}^{K}p_1(\\lambda, g_j) + \\sum_{i=1}^{N}p_2(\\beta,h_i)\n",
    "\\end{equation}\n",
    "\n",
    "### Examples of penalty functions ###\n",
    "* https://www.stat.cmu.edu/~ryantibs/convexopt-F13/scribes/lec16.pdf\n",
    "* https://www.rose-hulman.edu/~bryan/lottamath/penalty.pdf"
   ],
   "metadata": {
    "id": "e4577458"
   },
   "id": "e4577458"
  },
  {
   "cell_type": "markdown",
   "source": [
    "## YOUR TASK ##\n",
    "* Apply slack + quadratic penalty\n",
    "* Apply penalty-based encoding using three functions"
   ],
   "metadata": {
    "id": "4e4c2d63"
   },
   "id": "4e4c2d63"
  },
  {
   "cell_type": "code",
   "outputs": [
    {
     "name": "stdout",
     "output_type": "stream",
     "text": [
      "Requirement already satisfied: qiskit-aqt-provider in ./venv/lib/python3.9/site-packages (1.1.0)\r\n",
      "Requirement already satisfied: httpx>=0.24.0 in ./venv/lib/python3.9/site-packages (from qiskit-aqt-provider) (0.26.0)\r\n",
      "Requirement already satisfied: platformdirs>=3 in ./venv/lib/python3.9/site-packages (from qiskit-aqt-provider) (4.1.0)\r\n",
      "Requirement already satisfied: pydantic>=2.5.0 in ./venv/lib/python3.9/site-packages (from qiskit-aqt-provider) (2.5.3)\r\n",
      "Requirement already satisfied: python-dotenv>=1 in ./venv/lib/python3.9/site-packages (from qiskit-aqt-provider) (1.0.1)\r\n",
      "Requirement already satisfied: qiskit>=0.45.0 in ./venv/lib/python3.9/site-packages (from qiskit-aqt-provider) (0.45.2)\r\n",
      "Requirement already satisfied: qiskit-aer>=0.11 in ./venv/lib/python3.9/site-packages (from qiskit-aqt-provider) (0.13.2)\r\n",
      "Requirement already satisfied: tabulate>=0.9.0 in ./venv/lib/python3.9/site-packages (from qiskit-aqt-provider) (0.9.0)\r\n",
      "Requirement already satisfied: tqdm>=4 in ./venv/lib/python3.9/site-packages (from qiskit-aqt-provider) (4.66.1)\r\n",
      "Requirement already satisfied: typing-extensions>=4.0.0 in ./venv/lib/python3.9/site-packages (from qiskit-aqt-provider) (4.9.0)\r\n",
      "Requirement already satisfied: anyio in ./venv/lib/python3.9/site-packages (from httpx>=0.24.0->qiskit-aqt-provider) (4.2.0)\r\n",
      "Requirement already satisfied: certifi in ./venv/lib/python3.9/site-packages (from httpx>=0.24.0->qiskit-aqt-provider) (2023.11.17)\r\n",
      "Requirement already satisfied: httpcore==1.* in ./venv/lib/python3.9/site-packages (from httpx>=0.24.0->qiskit-aqt-provider) (1.0.2)\r\n",
      "Requirement already satisfied: idna in ./venv/lib/python3.9/site-packages (from httpx>=0.24.0->qiskit-aqt-provider) (3.6)\r\n",
      "Requirement already satisfied: sniffio in ./venv/lib/python3.9/site-packages (from httpx>=0.24.0->qiskit-aqt-provider) (1.3.0)\r\n",
      "Requirement already satisfied: h11<0.15,>=0.13 in ./venv/lib/python3.9/site-packages (from httpcore==1.*->httpx>=0.24.0->qiskit-aqt-provider) (0.14.0)\r\n",
      "Requirement already satisfied: annotated-types>=0.4.0 in ./venv/lib/python3.9/site-packages (from pydantic>=2.5.0->qiskit-aqt-provider) (0.6.0)\r\n",
      "Requirement already satisfied: pydantic-core==2.14.6 in ./venv/lib/python3.9/site-packages (from pydantic>=2.5.0->qiskit-aqt-provider) (2.14.6)\r\n",
      "Requirement already satisfied: qiskit-terra==0.45.2 in ./venv/lib/python3.9/site-packages (from qiskit>=0.45.0->qiskit-aqt-provider) (0.45.2)\r\n",
      "Requirement already satisfied: rustworkx>=0.13.0 in ./venv/lib/python3.9/site-packages (from qiskit-terra==0.45.2->qiskit>=0.45.0->qiskit-aqt-provider) (0.14.0)\r\n",
      "Requirement already satisfied: numpy<2,>=1.17 in ./venv/lib/python3.9/site-packages (from qiskit-terra==0.45.2->qiskit>=0.45.0->qiskit-aqt-provider) (1.26.3)\r\n",
      "Requirement already satisfied: ply>=3.10 in ./venv/lib/python3.9/site-packages (from qiskit-terra==0.45.2->qiskit>=0.45.0->qiskit-aqt-provider) (3.11)\r\n",
      "Requirement already satisfied: psutil>=5 in ./venv/lib/python3.9/site-packages (from qiskit-terra==0.45.2->qiskit>=0.45.0->qiskit-aqt-provider) (5.9.8)\r\n",
      "Requirement already satisfied: scipy>=1.5 in ./venv/lib/python3.9/site-packages (from qiskit-terra==0.45.2->qiskit>=0.45.0->qiskit-aqt-provider) (1.12.0)\r\n",
      "Requirement already satisfied: sympy>=1.3 in ./venv/lib/python3.9/site-packages (from qiskit-terra==0.45.2->qiskit>=0.45.0->qiskit-aqt-provider) (1.12)\r\n",
      "Requirement already satisfied: dill>=0.3 in ./venv/lib/python3.9/site-packages (from qiskit-terra==0.45.2->qiskit>=0.45.0->qiskit-aqt-provider) (0.3.7)\r\n",
      "Requirement already satisfied: python-dateutil>=2.8.0 in ./venv/lib/python3.9/site-packages (from qiskit-terra==0.45.2->qiskit>=0.45.0->qiskit-aqt-provider) (2.8.2)\r\n",
      "Requirement already satisfied: stevedore>=3.0.0 in ./venv/lib/python3.9/site-packages (from qiskit-terra==0.45.2->qiskit>=0.45.0->qiskit-aqt-provider) (5.1.0)\r\n",
      "Requirement already satisfied: symengine!=0.10.0,>=0.9 in ./venv/lib/python3.9/site-packages (from qiskit-terra==0.45.2->qiskit>=0.45.0->qiskit-aqt-provider) (0.11.0)\r\n",
      "Requirement already satisfied: exceptiongroup>=1.0.2 in ./venv/lib/python3.9/site-packages (from anyio->httpx>=0.24.0->qiskit-aqt-provider) (1.2.0)\r\n",
      "Requirement already satisfied: six>=1.5 in ./venv/lib/python3.9/site-packages (from python-dateutil>=2.8.0->qiskit-terra==0.45.2->qiskit>=0.45.0->qiskit-aqt-provider) (1.16.0)\r\n",
      "Requirement already satisfied: pbr!=2.1.0,>=2.0.0 in ./venv/lib/python3.9/site-packages (from stevedore>=3.0.0->qiskit-terra==0.45.2->qiskit>=0.45.0->qiskit-aqt-provider) (6.0.0)\r\n",
      "Requirement already satisfied: mpmath>=0.19 in ./venv/lib/python3.9/site-packages (from sympy>=1.3->qiskit-terra==0.45.2->qiskit>=0.45.0->qiskit-aqt-provider) (1.3.0)\r\n",
      "\r\n",
      "\u001B[1m[\u001B[0m\u001B[34;49mnotice\u001B[0m\u001B[1;39;49m]\u001B[0m\u001B[39;49m A new release of pip is available: \u001B[0m\u001B[31;49m23.2.1\u001B[0m\u001B[39;49m -> \u001B[0m\u001B[32;49m23.3.2\u001B[0m\r\n",
      "\u001B[1m[\u001B[0m\u001B[34;49mnotice\u001B[0m\u001B[1;39;49m]\u001B[0m\u001B[39;49m To update, run: \u001B[0m\u001B[32;49mpip install --upgrade pip\u001B[0m\r\n"
     ]
    }
   ],
   "source": [
    "# needs to installed before other qiskit packages to avoid dependency issues\n",
    "!pip install qiskit-aqt-provider"
   ],
   "metadata": {
    "colab": {
     "base_uri": "https://localhost:8080/"
    },
    "id": "a09dad25222a0d0c",
    "outputId": "81a703c3-7ee1-4a04-c295-86e8ba35f6dd",
    "ExecuteTime": {
     "end_time": "2024-01-29T13:17:29.202831Z",
     "start_time": "2024-01-29T13:17:27.221596Z"
    }
   },
   "id": "a09dad25222a0d0c",
   "execution_count": 41
  },
  {
   "cell_type": "code",
   "outputs": [
    {
     "name": "stdout",
     "output_type": "stream",
     "text": [
      "Requirement already satisfied: qiskit-optimization in ./venv/lib/python3.9/site-packages (0.6.0)\r\n",
      "Requirement already satisfied: qiskit>=0.44 in ./venv/lib/python3.9/site-packages (from qiskit-optimization) (0.45.2)\r\n",
      "Requirement already satisfied: qiskit-algorithms>=0.2.0 in ./venv/lib/python3.9/site-packages (from qiskit-optimization) (0.2.2)\r\n",
      "Requirement already satisfied: scipy>=1.9.0 in ./venv/lib/python3.9/site-packages (from qiskit-optimization) (1.12.0)\r\n",
      "Requirement already satisfied: numpy>=1.17 in ./venv/lib/python3.9/site-packages (from qiskit-optimization) (1.26.3)\r\n",
      "Requirement already satisfied: docplex!=2.24.231,>=2.21.207 in ./venv/lib/python3.9/site-packages (from qiskit-optimization) (2.25.236)\r\n",
      "Requirement already satisfied: setuptools>=40.1.0 in ./venv/lib/python3.9/site-packages (from qiskit-optimization) (68.2.0)\r\n",
      "Requirement already satisfied: networkx>=2.6.3 in ./venv/lib/python3.9/site-packages (from qiskit-optimization) (3.2.1)\r\n",
      "Requirement already satisfied: six in ./venv/lib/python3.9/site-packages (from docplex!=2.24.231,>=2.21.207->qiskit-optimization) (1.16.0)\r\n",
      "Requirement already satisfied: qiskit-terra==0.45.2 in ./venv/lib/python3.9/site-packages (from qiskit>=0.44->qiskit-optimization) (0.45.2)\r\n",
      "Requirement already satisfied: rustworkx>=0.13.0 in ./venv/lib/python3.9/site-packages (from qiskit-terra==0.45.2->qiskit>=0.44->qiskit-optimization) (0.14.0)\r\n",
      "Requirement already satisfied: ply>=3.10 in ./venv/lib/python3.9/site-packages (from qiskit-terra==0.45.2->qiskit>=0.44->qiskit-optimization) (3.11)\r\n",
      "Requirement already satisfied: psutil>=5 in ./venv/lib/python3.9/site-packages (from qiskit-terra==0.45.2->qiskit>=0.44->qiskit-optimization) (5.9.8)\r\n",
      "Requirement already satisfied: sympy>=1.3 in ./venv/lib/python3.9/site-packages (from qiskit-terra==0.45.2->qiskit>=0.44->qiskit-optimization) (1.12)\r\n",
      "Requirement already satisfied: dill>=0.3 in ./venv/lib/python3.9/site-packages (from qiskit-terra==0.45.2->qiskit>=0.44->qiskit-optimization) (0.3.7)\r\n",
      "Requirement already satisfied: python-dateutil>=2.8.0 in ./venv/lib/python3.9/site-packages (from qiskit-terra==0.45.2->qiskit>=0.44->qiskit-optimization) (2.8.2)\r\n",
      "Requirement already satisfied: stevedore>=3.0.0 in ./venv/lib/python3.9/site-packages (from qiskit-terra==0.45.2->qiskit>=0.44->qiskit-optimization) (5.1.0)\r\n",
      "Requirement already satisfied: symengine!=0.10.0,>=0.9 in ./venv/lib/python3.9/site-packages (from qiskit-terra==0.45.2->qiskit>=0.44->qiskit-optimization) (0.11.0)\r\n",
      "Requirement already satisfied: typing-extensions in ./venv/lib/python3.9/site-packages (from qiskit-terra==0.45.2->qiskit>=0.44->qiskit-optimization) (4.9.0)\r\n",
      "Requirement already satisfied: pbr!=2.1.0,>=2.0.0 in ./venv/lib/python3.9/site-packages (from stevedore>=3.0.0->qiskit-terra==0.45.2->qiskit>=0.44->qiskit-optimization) (6.0.0)\r\n",
      "Requirement already satisfied: mpmath>=0.19 in ./venv/lib/python3.9/site-packages (from sympy>=1.3->qiskit-terra==0.45.2->qiskit>=0.44->qiskit-optimization) (1.3.0)\r\n",
      "\r\n",
      "\u001B[1m[\u001B[0m\u001B[34;49mnotice\u001B[0m\u001B[1;39;49m]\u001B[0m\u001B[39;49m A new release of pip is available: \u001B[0m\u001B[31;49m23.2.1\u001B[0m\u001B[39;49m -> \u001B[0m\u001B[32;49m23.3.2\u001B[0m\r\n",
      "\u001B[1m[\u001B[0m\u001B[34;49mnotice\u001B[0m\u001B[1;39;49m]\u001B[0m\u001B[39;49m To update, run: \u001B[0m\u001B[32;49mpip install --upgrade pip\u001B[0m\r\n"
     ]
    }
   ],
   "source": [
    "!pip install qiskit-optimization"
   ],
   "metadata": {
    "colab": {
     "base_uri": "https://localhost:8080/"
    },
    "id": "6f419d6b9893bee2",
    "outputId": "fda5b899-893d-4aee-82e2-5c3539177dee",
    "ExecuteTime": {
     "end_time": "2024-01-29T13:17:31.143924Z",
     "start_time": "2024-01-29T13:17:29.203553Z"
    }
   },
   "id": "6f419d6b9893bee2",
   "execution_count": 42
  },
  {
   "cell_type": "code",
   "outputs": [],
   "source": [
    "from qiskit_optimization import QuadraticProgram\n",
    "from qiskit_optimization.converters import LinearEqualityToPenalty, InequalityToEquality, \\\n",
    "    IntegerToBinary\n",
    "\n",
    "\n",
    "def quadratic_penalty(instance):\n",
    "    # Extract instance data\n",
    "    weights, C, B, items = instance\n",
    "\n",
    "    # Create a Quadratic Program\n",
    "    qp = QuadraticProgram()\n",
    "\n",
    "\n",
    "    for j in range(B):\n",
    "        qp.binary_var(name=f'B_{j}')\n",
    "\n",
    "    for i in range(items):\n",
    "        for j in range(B):\n",
    "            # Skip creating a variable for the first item in non-first bins\n",
    "            if i == 0 and j != 0:\n",
    "                continue\n",
    "            qp.binary_var(name=f'x_{i}_{j}')\n",
    "\n",
    "    # Objective function: Minimize the number of bins used\n",
    "    # This is done by minimizing the sum of B_j, where B_j = 1 if bin j is used\n",
    "    qp.minimize(linear=[1] * B)\n",
    "\n",
    "    eq_to_pen = LinearEqualityToPenalty(100)\n",
    "    # Constraint g(x): Each item i must be in exactly one bin\n",
    "    for i in range(items):\n",
    "        qp.linear_constraint(\n",
    "            linear={f'x_{i}_{j}': 1 for j in range(B) if not (i == 0 and j != 0)},\n",
    "            sense='==',\n",
    "            rhs=1,\n",
    "            name=f'item_in_one_bin_{i}')\n",
    "        qp = eq_to_pen.convert(qp)\n",
    "    neq_to_eq = InequalityToEquality(\"integer\")\n",
    "    eq_to_pen2 = LinearEqualityToPenalty(200)\n",
    "    int_to_bin = IntegerToBinary()\n",
    "    # Constraint h(x): Total weight in each bin j must not exceed its capacity C\n",
    "    for j in range(B):\n",
    "        # Create a dictionary for the linear terms\n",
    "        linear_terms = {f'x_{i}_{j}': weights[i] for i in range(items) if not (i == 0 and j != 0)}\n",
    "        # Add the term for B_j with a negative coefficient\n",
    "        linear_terms[f'B_{j}'] = -C\n",
    "        qp.linear_constraint(\n",
    "            linear=linear_terms,\n",
    "            sense='<=',\n",
    "            rhs=0,  # Set the RHS to 0\n",
    "            name=f'bin_capacity_{j}')\n",
    "        qp = neq_to_eq.convert(qp)\n",
    "        qp = int_to_bin.convert(qp)\n",
    "        qp = eq_to_pen2.convert(qp)\n",
    "    return qp"
   ],
   "metadata": {
    "id": "b14eed48e5f66c93",
    "ExecuteTime": {
     "end_time": "2024-01-29T13:17:31.153243Z",
     "start_time": "2024-01-29T13:17:31.149383Z"
    }
   },
   "id": "b14eed48e5f66c93",
   "execution_count": 43
  },
  {
   "cell_type": "markdown",
   "id": "1bcc6b56",
   "metadata": {
    "id": "1bcc6b56"
   },
   "source": [
    "# Encoding QUBO into ISING Hamiltonian #\n",
    "The next step is to encode the classical QUBO formulation into a quantum state. There exist techniques to encode classical data into quantum such as basis encoding, amplitude encoding, and angle encoding. In this paper, we apply basis encoding, for which any quantum basis can be chosen, but the common way for doing so is to choose basis $\\{-1,1\\}$ as follows:\n",
    "\\begin{align}\n",
    "\\label{eqn:to_ising}\n",
    "    \\begin{split}\n",
    "    x_i = \\frac{1-z_i}{2}\\\\\n",
    "    z_i*z_j = \\sigma_Z^i \\otimes \\sigma_Z^j \\\\\n",
    "    z_i = \\sigma_Z^i\n",
    "    \\end{split}\n",
    "\\end{align}\n",
    "where $\\sigma_Z^i$ denotes the Pauli-Z matrix\n",
    "$\\begin{pmatrix}\n",
    "  1 & 0\\\\\n",
    "  0 & -1\n",
    "\\end{pmatrix}$ on the $i$-th qubit.\n",
    "The eigenvalues of $\\text{I} - \\frac{Z}{2}$ are $\\{-1,1\\}$ with corresponding eigenstates $|0\\rangle$ and $|1\\rangle$. Thus, we switch from Z to $\\text{I} - \\frac{Z}{2}$, and rewrite the problem as BPP Ising hamiltonian,\n",
    "\\begin{equation} \\label{eqn:final_hamiltonian}\n",
    "    H_{bpp}= \\sum_{j=1}^{K} \\sigma_j + \\sum_{j=1}^{K}p_1(\\lambda, g_j) + \\sum_{i=1}^{N}p_2(\\beta,h_i)\n",
    "\\end{equation}\n",
    "where $g_j$ and $h_i$ are now functions of $\\sigma$."
   ]
  },
  {
   "cell_type": "markdown",
   "id": "667dcbe7",
   "metadata": {
    "id": "667dcbe7"
   },
   "source": [
    "## YOUR TASK: Encoding the QUBO as an Ising Hamiltonian ##\n"
   ]
  },
  {
   "cell_type": "markdown",
   "source": [
    "With the quadratic penalty encoding quskit automatically converts the QUBO into an Ising Hamiltonian when using the QAOA algorithm\n",
    "for demonstrations show how to convert the QUBO into an Ising Hamiltonian and back"
   ],
   "metadata": {
    "collapsed": false,
    "id": "921eab5cfaaba24d"
   },
   "id": "921eab5cfaaba24d"
  },
  {
   "cell_type": "code",
   "outputs": [],
   "source": [
    "import os\n",
    "\n",
    "\n",
    "def is_colab_env():\n",
    "    return 'COLAB_GPU' in os.environ"
   ],
   "metadata": {
    "id": "66959ea4dd48653f",
    "ExecuteTime": {
     "end_time": "2024-01-29T13:17:31.159628Z",
     "start_time": "2024-01-29T13:17:31.155431Z"
    }
   },
   "id": "66959ea4dd48653f",
   "execution_count": 44
  },
  {
   "cell_type": "code",
   "outputs": [],
   "source": [
    "if is_colab_env():\n",
    "    from google.colab import drive\n",
    "\n",
    "    drive.mount('/content/drive', force_remount=True)\n",
    "    %cd /content/drive/My Drive/Data Set/HCQ"
   ],
   "metadata": {
    "colab": {
     "base_uri": "https://localhost:8080/"
    },
    "id": "2c1d42a9808eb68e",
    "outputId": "38e5437b-733d-4cfc-f30c-8fe433b3de8b",
    "ExecuteTime": {
     "end_time": "2024-01-29T13:17:31.162315Z",
     "start_time": "2024-01-29T13:17:31.159543Z"
    }
   },
   "id": "2c1d42a9808eb68e",
   "execution_count": 45
  },
  {
   "cell_type": "code",
   "outputs": [],
   "source": [
    "from qiskit_optimization import QuadraticProgram\n",
    "from qiskit_optimization.converters import LinearEqualityToPenalty, InequalityToEquality, \\\n",
    "    IntegerToBinary\n",
    "\n",
    "\n",
    "def quadratic_penalty(instance):\n",
    "    # Extract instance data\n",
    "    weights, C, B, items = instance\n",
    "\n",
    "    # Create a Quadratic Program\n",
    "    qp = QuadraticProgram()\n",
    "\n",
    "\n",
    "    for j in range(B):\n",
    "        qp.binary_var(name=f'B_{j}')\n",
    "\n",
    "    for i in range(items):\n",
    "        for j in range(B):\n",
    "            qp.binary_var(name=f'x_{i}_{j}')\n",
    "\n",
    "    # Objective function: Minimize the number of bins used\n",
    "    # This is done by minimizing the sum of B_j, where B_j = 1 if bin j is used\n",
    "    qp.minimize(linear=[1] * B)\n",
    "\n",
    "    eq_to_pen = LinearEqualityToPenalty(100)\n",
    "    # Constraint g(x): Each item i must be in exactly one bin\n",
    "    for i in range(items):\n",
    "        qp.linear_constraint(\n",
    "            linear={f'x_{i}_{j}': 1 for j in range(B)},\n",
    "            sense='==',\n",
    "            rhs=1,\n",
    "            name=f'item_in_one_bin_{i}')\n",
    "        qp = eq_to_pen.convert(qp)\n",
    "    neq_to_eq = InequalityToEquality(\"integer\")\n",
    "    eq_to_pen2 = LinearEqualityToPenalty(200)\n",
    "    int_to_bin = IntegerToBinary()\n",
    "    # Constraint h(x): Total weight in each bin j must not exceed its capacity C\n",
    "    for j in range(B):\n",
    "        # Create a dictionary for the linear terms\n",
    "        linear_terms = {f'x_{i}_{j}': weights[i] for i in range(items)}\n",
    "        # Add the term for B_j with a negative coefficient\n",
    "        linear_terms[f'B_{j}'] = -C\n",
    "        qp.linear_constraint(\n",
    "            linear=linear_terms,\n",
    "            sense='<=',\n",
    "            rhs=0,  # Set the RHS to 0\n",
    "            name=f'bin_capacity_{j}')\n",
    "        qp = neq_to_eq.convert(qp)\n",
    "        qp = int_to_bin.convert(qp)\n",
    "        qp = eq_to_pen2.convert(qp)\n",
    "    return qp"
   ],
   "metadata": {
    "id": "de0734df5faedd09",
    "ExecuteTime": {
     "end_time": "2024-01-29T13:17:31.185492Z",
     "start_time": "2024-01-29T13:17:31.165622Z"
    }
   },
   "id": "de0734df5faedd09",
   "execution_count": 46
  },
  {
   "cell_type": "markdown",
   "id": "0e383180",
   "metadata": {
    "id": "0e383180"
   },
   "source": [
    "# Solving BPP instances #\n",
    "Solve each problem instances using different methods:\n",
    "## CPLEX optimizer ##\n",
    "Classic optimizer, to be used as baseline with all the others."
   ]
  },
  {
   "cell_type": "code",
   "outputs": [
    {
     "name": "stdout",
     "output_type": "stream",
     "text": [
      "Invoking ['/Users/paulpinter/Repository/hybrid-quantum-ass3/venv/bin/python', '-m', 'pip', 'install', '.'] in /Users/paulpinter/Applications/CPLEX_Studio_Community2211/cplex/python/3.9/arm64_osx\r\n",
      "Processing /Users/paulpinter/Applications/CPLEX_Studio_Community2211/cplex/python/3.9/arm64_osx\r\n",
      "  Preparing metadata (setup.py) ... \u001B[?25ldone\r\n",
      "\u001B[?25hBuilding wheels for collected packages: cplex\r\n",
      "  Building wheel for cplex (setup.py) ... \u001B[?25ldone\r\n",
      "\u001B[?25h  Created wheel for cplex: filename=cplex-22.1.1.0-py3-none-any.whl size=8153295 sha256=51cf2f03ae1e6fb9528047e7491947311ebd54b2317b49e2f017fa5c7c8899ce\r\n",
      "  Stored in directory: /private/var/folders/6l/zlnf9sw956d63h7tczx2cqv00000gn/T/pip-ephem-wheel-cache-ekqt9cpp/wheels/1d/cd/cd/a559b6d9c297ea89fe811bf256b1066cc5e0e02508337d4277\r\n",
      "Successfully built cplex\r\n",
      "Installing collected packages: cplex\r\n",
      "  Attempting uninstall: cplex\r\n",
      "    Found existing installation: cplex 22.1.1.0\r\n",
      "    Uninstalling cplex-22.1.1.0:\r\n",
      "      Successfully uninstalled cplex-22.1.1.0\r\n",
      "Successfully installed cplex-22.1.1.0\r\n",
      "\r\n",
      "\u001B[1m[\u001B[0m\u001B[34;49mnotice\u001B[0m\u001B[1;39;49m]\u001B[0m\u001B[39;49m A new release of pip is available: \u001B[0m\u001B[31;49m23.2.1\u001B[0m\u001B[39;49m -> \u001B[0m\u001B[32;49m23.3.2\u001B[0m\r\n",
      "\u001B[1m[\u001B[0m\u001B[34;49mnotice\u001B[0m\u001B[1;39;49m]\u001B[0m\u001B[39;49m To update, run: \u001B[0m\u001B[32;49mpip install --upgrade pip\u001B[0m\r\n",
      "Invoking ['/Users/paulpinter/Repository/hybrid-quantum-ass3/venv/bin/python', '-m', 'pip', 'install', 'docplex']\r\n",
      "Requirement already satisfied: docplex in ./venv/lib/python3.9/site-packages (2.25.236)\r\n",
      "Requirement already satisfied: six in ./venv/lib/python3.9/site-packages (from docplex) (1.16.0)\r\n",
      "\r\n",
      "\u001B[1m[\u001B[0m\u001B[34;49mnotice\u001B[0m\u001B[1;39;49m]\u001B[0m\u001B[39;49m A new release of pip is available: \u001B[0m\u001B[31;49m23.2.1\u001B[0m\u001B[39;49m -> \u001B[0m\u001B[32;49m23.3.2\u001B[0m\r\n",
      "\u001B[1m[\u001B[0m\u001B[34;49mnotice\u001B[0m\u001B[1;39;49m]\u001B[0m\u001B[39;49m To update, run: \u001B[0m\u001B[32;49mpip install --upgrade pip\u001B[0m\r\n"
     ]
    }
   ],
   "source": [
    "if os.getenv(\"CUSTOM_MAC_ENV\"):\n",
    "    !python ~/Applications/CPLEX_Studio_Community2211/python/setup.py install\n",
    "else:\n",
    "    !pip install qiskit-optimization[cplex]"
   ],
   "metadata": {
    "colab": {
     "base_uri": "https://localhost:8080/"
    },
    "id": "475d42229e27295e",
    "outputId": "03ae10e0-0778-46f3-898f-0ed8bb484690",
    "ExecuteTime": {
     "end_time": "2024-01-29T13:17:35.778672Z",
     "start_time": "2024-01-29T13:17:31.170134Z"
    }
   },
   "id": "475d42229e27295e",
   "execution_count": 47
  },
  {
   "cell_type": "code",
   "outputs": [
    {
     "name": "stdout",
     "output_type": "stream",
     "text": [
      "Requirement already satisfied: pandas in ./venv/lib/python3.9/site-packages (2.2.0)\r\n",
      "Requirement already satisfied: numpy<2,>=1.22.4 in ./venv/lib/python3.9/site-packages (from pandas) (1.26.3)\r\n",
      "Requirement already satisfied: python-dateutil>=2.8.2 in ./venv/lib/python3.9/site-packages (from pandas) (2.8.2)\r\n",
      "Requirement already satisfied: pytz>=2020.1 in ./venv/lib/python3.9/site-packages (from pandas) (2023.3.post1)\r\n",
      "Requirement already satisfied: tzdata>=2022.7 in ./venv/lib/python3.9/site-packages (from pandas) (2023.4)\r\n",
      "Requirement already satisfied: six>=1.5 in ./venv/lib/python3.9/site-packages (from python-dateutil>=2.8.2->pandas) (1.16.0)\r\n",
      "\r\n",
      "\u001B[1m[\u001B[0m\u001B[34;49mnotice\u001B[0m\u001B[1;39;49m]\u001B[0m\u001B[39;49m A new release of pip is available: \u001B[0m\u001B[31;49m23.2.1\u001B[0m\u001B[39;49m -> \u001B[0m\u001B[32;49m23.3.2\u001B[0m\r\n",
      "\u001B[1m[\u001B[0m\u001B[34;49mnotice\u001B[0m\u001B[1;39;49m]\u001B[0m\u001B[39;49m To update, run: \u001B[0m\u001B[32;49mpip install --upgrade pip\u001B[0m\r\n"
     ]
    }
   ],
   "source": [
    "!pip install pandas"
   ],
   "metadata": {
    "colab": {
     "base_uri": "https://localhost:8080/"
    },
    "id": "b5c58e70f63b1c2c",
    "outputId": "ac99326a-f0db-4d39-d1fd-1598e9d26155",
    "ExecuteTime": {
     "end_time": "2024-01-29T13:17:36.685744Z",
     "start_time": "2024-01-29T13:17:35.779688Z"
    }
   },
   "id": "b5c58e70f63b1c2c",
   "execution_count": 48
  },
  {
   "cell_type": "code",
   "outputs": [],
   "source": [
    "def create_instance_df(instances):\n",
    "    instance_file = 'instance_data.csv'\n",
    "    instance_df = pd.DataFrame(columns=['id', 'weights', 'capacity', 'bins', 'items', 'number_var'])\n",
    "    for idx, ins in enumerate(instances):\n",
    "        bp = quadratic_penalty(ins)\n",
    "        instance_df.loc[idx] = [idx, ins[0], ins[1], ins[2], ins[3], bp.get_num_vars()]\n",
    "    instance_df.to_csv(instance_file, index=False)"
   ],
   "metadata": {
    "id": "197ebe8f11a2eaf8",
    "ExecuteTime": {
     "end_time": "2024-01-29T13:17:36.693460Z",
     "start_time": "2024-01-29T13:17:36.688070Z"
    }
   },
   "id": "197ebe8f11a2eaf8",
   "execution_count": 49
  },
  {
   "cell_type": "code",
   "outputs": [],
   "source": [
    "from qiskit_optimization.algorithms import CplexOptimizer\n",
    "from time import time\n",
    "\n",
    "\n",
    "def create_classical_df(instances):\n",
    "    classical_file = 'classical_data.csv'\n",
    "    classical_df = pd.DataFrame(columns=['id', 'instance_id', 'optimum', 'time'])\n",
    "    for idx, ins in enumerate(instances):\n",
    "        bp = quadratic_penalty(ins)\n",
    "        cplex_solver = CplexOptimizer()\n",
    "        start_time = time()\n",
    "        result = cplex_solver.solve(bp)\n",
    "        end_time = time()\n",
    "        execution_time = end_time - start_time\n",
    "        classical_df.loc[idx] = [idx, idx, result.fval, execution_time]\n",
    "    classical_df.to_csv(classical_file, index=False)"
   ],
   "metadata": {
    "id": "543ba05315547019",
    "ExecuteTime": {
     "end_time": "2024-01-29T13:17:36.695694Z",
     "start_time": "2024-01-29T13:17:36.691734Z"
    }
   },
   "id": "543ba05315547019",
   "execution_count": 50
  },
  {
   "cell_type": "markdown",
   "source": [
    "## QAOA solution ##"
   ],
   "metadata": {
    "id": "de1e20c0"
   },
   "id": "de1e20c0"
  },
  {
   "cell_type": "code",
   "outputs": [
    {
     "name": "stdout",
     "output_type": "stream",
     "text": [
      "Requirement already satisfied: qiskit-algorithms in ./venv/lib/python3.9/site-packages (0.2.2)\r\n",
      "Requirement already satisfied: qiskit>=0.44 in ./venv/lib/python3.9/site-packages (from qiskit-algorithms) (0.45.2)\r\n",
      "Requirement already satisfied: scipy>=1.4 in ./venv/lib/python3.9/site-packages (from qiskit-algorithms) (1.12.0)\r\n",
      "Requirement already satisfied: numpy>=1.17 in ./venv/lib/python3.9/site-packages (from qiskit-algorithms) (1.26.3)\r\n",
      "Requirement already satisfied: qiskit-terra==0.45.2 in ./venv/lib/python3.9/site-packages (from qiskit>=0.44->qiskit-algorithms) (0.45.2)\r\n",
      "Requirement already satisfied: rustworkx>=0.13.0 in ./venv/lib/python3.9/site-packages (from qiskit-terra==0.45.2->qiskit>=0.44->qiskit-algorithms) (0.14.0)\r\n",
      "Requirement already satisfied: ply>=3.10 in ./venv/lib/python3.9/site-packages (from qiskit-terra==0.45.2->qiskit>=0.44->qiskit-algorithms) (3.11)\r\n",
      "Requirement already satisfied: psutil>=5 in ./venv/lib/python3.9/site-packages (from qiskit-terra==0.45.2->qiskit>=0.44->qiskit-algorithms) (5.9.8)\r\n",
      "Requirement already satisfied: sympy>=1.3 in ./venv/lib/python3.9/site-packages (from qiskit-terra==0.45.2->qiskit>=0.44->qiskit-algorithms) (1.12)\r\n",
      "Requirement already satisfied: dill>=0.3 in ./venv/lib/python3.9/site-packages (from qiskit-terra==0.45.2->qiskit>=0.44->qiskit-algorithms) (0.3.7)\r\n",
      "Requirement already satisfied: python-dateutil>=2.8.0 in ./venv/lib/python3.9/site-packages (from qiskit-terra==0.45.2->qiskit>=0.44->qiskit-algorithms) (2.8.2)\r\n",
      "Requirement already satisfied: stevedore>=3.0.0 in ./venv/lib/python3.9/site-packages (from qiskit-terra==0.45.2->qiskit>=0.44->qiskit-algorithms) (5.1.0)\r\n",
      "Requirement already satisfied: symengine!=0.10.0,>=0.9 in ./venv/lib/python3.9/site-packages (from qiskit-terra==0.45.2->qiskit>=0.44->qiskit-algorithms) (0.11.0)\r\n",
      "Requirement already satisfied: typing-extensions in ./venv/lib/python3.9/site-packages (from qiskit-terra==0.45.2->qiskit>=0.44->qiskit-algorithms) (4.9.0)\r\n",
      "Requirement already satisfied: six>=1.5 in ./venv/lib/python3.9/site-packages (from python-dateutil>=2.8.0->qiskit-terra==0.45.2->qiskit>=0.44->qiskit-algorithms) (1.16.0)\r\n",
      "Requirement already satisfied: pbr!=2.1.0,>=2.0.0 in ./venv/lib/python3.9/site-packages (from stevedore>=3.0.0->qiskit-terra==0.45.2->qiskit>=0.44->qiskit-algorithms) (6.0.0)\r\n",
      "Requirement already satisfied: mpmath>=0.19 in ./venv/lib/python3.9/site-packages (from sympy>=1.3->qiskit-terra==0.45.2->qiskit>=0.44->qiskit-algorithms) (1.3.0)\r\n",
      "\r\n",
      "\u001B[1m[\u001B[0m\u001B[34;49mnotice\u001B[0m\u001B[1;39;49m]\u001B[0m\u001B[39;49m A new release of pip is available: \u001B[0m\u001B[31;49m23.2.1\u001B[0m\u001B[39;49m -> \u001B[0m\u001B[32;49m23.3.2\u001B[0m\r\n",
      "\u001B[1m[\u001B[0m\u001B[34;49mnotice\u001B[0m\u001B[1;39;49m]\u001B[0m\u001B[39;49m To update, run: \u001B[0m\u001B[32;49mpip install --upgrade pip\u001B[0m\r\n"
     ]
    }
   ],
   "source": [
    "!pip install qiskit-algorithms"
   ],
   "metadata": {
    "colab": {
     "base_uri": "https://localhost:8080/"
    },
    "id": "3c782c17131b6782",
    "outputId": "0d80d8b3-054c-49ee-a970-8c36d8e3cf88",
    "ExecuteTime": {
     "end_time": "2024-01-29T13:17:37.594027Z",
     "start_time": "2024-01-29T13:17:36.694959Z"
    }
   },
   "id": "3c782c17131b6782",
   "execution_count": 51
  },
  {
   "cell_type": "code",
   "outputs": [
    {
     "name": "stdout",
     "output_type": "stream",
     "text": [
      "Not running on Google Colab. Installing qiskit-aer...\n",
      "Requirement already satisfied: qiskit-aer in ./venv/lib/python3.9/site-packages (0.13.2)\r\n",
      "Requirement already satisfied: qiskit>=0.45.0 in ./venv/lib/python3.9/site-packages (from qiskit-aer) (0.45.2)\r\n",
      "Requirement already satisfied: numpy>=1.16.3 in ./venv/lib/python3.9/site-packages (from qiskit-aer) (1.26.3)\r\n",
      "Requirement already satisfied: scipy>=1.0 in ./venv/lib/python3.9/site-packages (from qiskit-aer) (1.12.0)\r\n",
      "Requirement already satisfied: psutil>=5 in ./venv/lib/python3.9/site-packages (from qiskit-aer) (5.9.8)\r\n",
      "Requirement already satisfied: qiskit-terra==0.45.2 in ./venv/lib/python3.9/site-packages (from qiskit>=0.45.0->qiskit-aer) (0.45.2)\r\n",
      "Requirement already satisfied: rustworkx>=0.13.0 in ./venv/lib/python3.9/site-packages (from qiskit-terra==0.45.2->qiskit>=0.45.0->qiskit-aer) (0.14.0)\r\n",
      "Requirement already satisfied: ply>=3.10 in ./venv/lib/python3.9/site-packages (from qiskit-terra==0.45.2->qiskit>=0.45.0->qiskit-aer) (3.11)\r\n",
      "Requirement already satisfied: sympy>=1.3 in ./venv/lib/python3.9/site-packages (from qiskit-terra==0.45.2->qiskit>=0.45.0->qiskit-aer) (1.12)\r\n",
      "Requirement already satisfied: dill>=0.3 in ./venv/lib/python3.9/site-packages (from qiskit-terra==0.45.2->qiskit>=0.45.0->qiskit-aer) (0.3.7)\r\n",
      "Requirement already satisfied: python-dateutil>=2.8.0 in ./venv/lib/python3.9/site-packages (from qiskit-terra==0.45.2->qiskit>=0.45.0->qiskit-aer) (2.8.2)\r\n",
      "Requirement already satisfied: stevedore>=3.0.0 in ./venv/lib/python3.9/site-packages (from qiskit-terra==0.45.2->qiskit>=0.45.0->qiskit-aer) (5.1.0)\r\n",
      "Requirement already satisfied: symengine!=0.10.0,>=0.9 in ./venv/lib/python3.9/site-packages (from qiskit-terra==0.45.2->qiskit>=0.45.0->qiskit-aer) (0.11.0)\r\n",
      "Requirement already satisfied: typing-extensions in ./venv/lib/python3.9/site-packages (from qiskit-terra==0.45.2->qiskit>=0.45.0->qiskit-aer) (4.9.0)\r\n",
      "Requirement already satisfied: six>=1.5 in ./venv/lib/python3.9/site-packages (from python-dateutil>=2.8.0->qiskit-terra==0.45.2->qiskit>=0.45.0->qiskit-aer) (1.16.0)\r\n",
      "Requirement already satisfied: pbr!=2.1.0,>=2.0.0 in ./venv/lib/python3.9/site-packages (from stevedore>=3.0.0->qiskit-terra==0.45.2->qiskit>=0.45.0->qiskit-aer) (6.0.0)\r\n",
      "Requirement already satisfied: mpmath>=0.19 in ./venv/lib/python3.9/site-packages (from sympy>=1.3->qiskit-terra==0.45.2->qiskit>=0.45.0->qiskit-aer) (1.3.0)\r\n",
      "\r\n",
      "\u001B[1m[\u001B[0m\u001B[34;49mnotice\u001B[0m\u001B[1;39;49m]\u001B[0m\u001B[39;49m A new release of pip is available: \u001B[0m\u001B[31;49m23.2.1\u001B[0m\u001B[39;49m -> \u001B[0m\u001B[32;49m23.3.2\u001B[0m\r\n",
      "\u001B[1m[\u001B[0m\u001B[34;49mnotice\u001B[0m\u001B[1;39;49m]\u001B[0m\u001B[39;49m To update, run: \u001B[0m\u001B[32;49mpip install --upgrade pip\u001B[0m\r\n",
      "Note: you may need to restart the kernel to use updated packages.\n"
     ]
    }
   ],
   "source": [
    "if is_colab_env():\n",
    "    print(\"Running on Google Colab. Installing qiskit-aer-gpu...\")\n",
    "    %pip install qiskit-aer-gpu\n",
    "else:\n",
    "    print(\"Not running on Google Colab. Installing qiskit-aer...\")\n",
    "    %pip install qiskit-aer"
   ],
   "metadata": {
    "colab": {
     "base_uri": "https://localhost:8080/"
    },
    "id": "963fd9aab43fb936",
    "outputId": "36a55afa-8100-4ea5-c511-041c361cebae",
    "ExecuteTime": {
     "end_time": "2024-01-29T13:17:38.502974Z",
     "start_time": "2024-01-29T13:17:37.600539Z"
    }
   },
   "id": "963fd9aab43fb936",
   "execution_count": 52
  },
  {
   "cell_type": "code",
   "outputs": [],
   "source": [
    "from qiskit import Aer\n",
    "from qiskit.primitives import BackendSampler\n",
    "\n",
    "\n",
    "def aer_sampler(shots):\n",
    "    backend = Aer.get_backend('aer_simulator')\n",
    "    if is_colab_env():\n",
    "        backend.set_options(device='GPU', shots=shots)\n",
    "    else:\n",
    "        backend.set_options(shots=shots)\n",
    "    return BackendSampler(backend=backend)"
   ],
   "metadata": {
    "id": "e5686da8dbacf0f4",
    "ExecuteTime": {
     "end_time": "2024-01-29T13:17:38.510402Z",
     "start_time": "2024-01-29T13:17:38.505053Z"
    }
   },
   "id": "e5686da8dbacf0f4",
   "execution_count": 53
  },
  {
   "cell_type": "code",
   "outputs": [],
   "source": [
    "from qiskit_aer.noise import NoiseModel, phase_damping_error\n",
    "\n",
    "\n",
    "def noisy_sampler(shots):\n",
    "    noise_model = NoiseModel()\n",
    "    # Phase damping error\n",
    "    p_phase_damping = 0.05\n",
    "    phase_damping = phase_damping_error(p_phase_damping)\n",
    "    noise_model.add_all_qubit_quantum_error(phase_damping, 'z')\n",
    "    backend = Aer.get_backend('aer_simulator')\n",
    "    if is_colab_env():\n",
    "        backend.set_options(device='GPU', shots=shots, noise_model=noise_model)\n",
    "    else:\n",
    "        backend.set_options(shots=shots, noise_model=noise_model)\n",
    "    return BackendSampler(backend=backend)"
   ],
   "metadata": {
    "id": "5afaf107485b410",
    "ExecuteTime": {
     "end_time": "2024-01-29T13:17:38.512560Z",
     "start_time": "2024-01-29T13:17:38.509103Z"
    }
   },
   "id": "5afaf107485b410",
   "execution_count": 54
  },
  {
   "cell_type": "code",
   "outputs": [],
   "source": [
    "from qiskit_aqt_provider import AQTProvider\n",
    "from qiskit_aqt_provider.primitives import AQTSampler\n",
    "\n",
    "\n",
    "def aqt_sampler(shots):\n",
    "    aqt = AQTProvider(\"ACCESS_TOKEN\")\n",
    "    backend = aqt.get_backend('offline_simulator_no_noise')\n",
    "    backend.set_options(shots=shots)\n",
    "    return AQTSampler(backend=backend)"
   ],
   "metadata": {
    "id": "8ffb44db1d331fd4",
    "ExecuteTime": {
     "end_time": "2024-01-29T13:17:38.516171Z",
     "start_time": "2024-01-29T13:17:38.512530Z"
    }
   },
   "id": "8ffb44db1d331fd4",
   "execution_count": 55
  },
  {
   "cell_type": "code",
   "outputs": [],
   "source": [
    "from qiskit_algorithms.utils import algorithm_globals\n",
    "\n",
    "algorithm_globals.random_seed = 10598"
   ],
   "metadata": {
    "id": "164c2cae9598f8d8",
    "ExecuteTime": {
     "end_time": "2024-01-29T13:17:38.524393Z",
     "start_time": "2024-01-29T13:17:38.517233Z"
    }
   },
   "id": "164c2cae9598f8d8",
   "execution_count": 56
  },
  {
   "cell_type": "code",
   "outputs": [],
   "source": [
    "from qiskit_optimization.algorithms import MinimumEigenOptimizer\n",
    "from qiskit_algorithms.minimum_eigensolvers import QAOA\n",
    "\n",
    "\n",
    "def solve_qaoa(sampler, reps, optimizer):\n",
    "    qaoa_mes = QAOA(sampler=sampler, optimizer=optimizer, reps=reps)\n",
    "    solver = MinimumEigenOptimizer(qaoa_mes)\n",
    "    return solver"
   ],
   "metadata": {
    "id": "0c420424",
    "ExecuteTime": {
     "end_time": "2024-01-29T13:17:38.525503Z",
     "start_time": "2024-01-29T13:17:38.520296Z"
    }
   },
   "id": "0c420424",
   "execution_count": 57
  },
  {
   "cell_type": "markdown",
   "source": [
    "## Warm start QAOA ##"
   ],
   "metadata": {
    "id": "ed853d11"
   },
   "id": "ed853d11"
  },
  {
   "cell_type": "code",
   "outputs": [],
   "source": [
    "from qiskit_optimization.algorithms import WarmStartQAOAOptimizer\n",
    "\n",
    "\n",
    "def solve_qaoa_warm_start(sampler, optimizer, reps):\n",
    "    qaoa_mes = QAOA(sampler=sampler, reps=reps, optimizer=optimizer)\n",
    "    solver = WarmStartQAOAOptimizer(pre_solver=CplexOptimizer(),\n",
    "                                    relax_for_pre_solver=True,\n",
    "                                    qaoa=qaoa_mes)\n",
    "    return solver"
   ],
   "metadata": {
    "id": "92515181",
    "ExecuteTime": {
     "end_time": "2024-01-29T13:17:38.544156Z",
     "start_time": "2024-01-29T13:17:38.523909Z"
    }
   },
   "id": "92515181",
   "execution_count": 58
  },
  {
   "cell_type": "markdown",
   "source": [
    "# Evaluation #"
   ],
   "metadata": {
    "id": "72de9740"
   },
   "id": "72de9740"
  },
  {
   "cell_type": "markdown",
   "source": [
    "Evaluate quantum solutions in comparison with classic solution using the following metrics:\n",
    "* Running time;\n",
    "* Mean square error between quantum optimum and classic optimum;\n",
    "* Number of times each algorithm reaches the optimum;\n",
    "\n",
    "Evaluation should be performed on the following backends:\n",
    "* Noiseless simulator (Aer)\n",
    "* Noisy simulator (choose a noise model)\n",
    "* BONUS: test on AQT simulator (check https://github.com/qiskit-community/qiskit-aqt-provider)\n",
    "\n",
    "QAOA should be evaluated using different configurations:\n",
    "* QAOAAnsatz with $p=[1,5]$\n",
    "* Optimizers: COBYLA, NelderMead, SLSQP\n",
    "* Shots: {200, 400, 600, 800, 1000} (Please note that AQT backend is limited to 200 shots)\n",
    "* Optimizers' iteration: {250, 500, 750, 1000}"
   ],
   "metadata": {
    "id": "3e3d3de7"
   },
   "id": "3e3d3de7"
  },
  {
   "cell_type": "code",
   "outputs": [],
   "source": [
    "def extract_backend_str(s):\n",
    "    if 'aqt' in s:\n",
    "        return 'aqt'\n",
    "    elif 'noise' in s:\n",
    "        return 'noise'\n",
    "    elif 'aer' in s:\n",
    "        return 'aer'\n",
    "    else:\n",
    "        return 'unknown'"
   ],
   "metadata": {
    "id": "c0b7b40e4c53166",
    "ExecuteTime": {
     "end_time": "2024-01-29T13:17:38.545154Z",
     "start_time": "2024-01-29T13:17:38.527653Z"
    }
   },
   "id": "c0b7b40e4c53166",
   "execution_count": 59
  },
  {
   "cell_type": "code",
   "execution_count": 60,
   "id": "ed42806c",
   "metadata": {
    "id": "ed42806c",
    "ExecuteTime": {
     "end_time": "2024-01-29T13:17:38.545807Z",
     "start_time": "2024-01-29T13:17:38.529730Z"
    }
   },
   "outputs": [],
   "source": [
    "from qiskit_algorithms.optimizers import NELDER_MEAD, SLSQP, COBYLA\n",
    "import pandas as pd\n",
    "import os\n",
    "\n",
    "\n",
    "def create_quantum_df(instances, skip=0, quantum_file='quantum_data.csv'):\n",
    "    batch_size = 10\n",
    "    quantum_df = pd.DataFrame(\n",
    "        columns=['id', 'instance_id', 'sampler', 'p', 'max_iter', 'shots', 'optimizer', 'warm_start', 'optimum',\n",
    "                 'time'])\n",
    "\n",
    "    count = 0\n",
    "    if skip == 0:\n",
    "        quantum_df.to_csv(quantum_file, index=False)\n",
    "    for idx, ins in enumerate(instances):\n",
    "        print(f\"instance: {idx}\")\n",
    "        bp = quadratic_penalty(ins)\n",
    "        for p in range(1, 6):\n",
    "            for ite in [250, 500, 750, 1000]:\n",
    "                for sh in [200, 400, 600, 800, 1000]:\n",
    "                    for o in [COBYLA(maxiter=ite), NELDER_MEAD(maxiter=ite), SLSQP(maxiter=ite)]:\n",
    "                        for sa in [aer_sampler(sh), noisy_sampler(sh)] + ([aqt_sampler(sh)] if sh <= 200 else []):\n",
    "                            for so in [solve_qaoa(sampler=sa, reps=p, optimizer=o), solve_qaoa_warm_start(sampler=sa, reps=p, optimizer=o)]:\n",
    "                                if count < skip:\n",
    "                                    print(f\"skipped: {count}\")\n",
    "                                    count += 1\n",
    "                                    continue\n",
    "                                optimizer_name = o.__class__.__name__\n",
    "                                backend_name = extract_backend_str(str(sa.backend))\n",
    "                                warm_start = so.__class__.__name__ == 'WarmStartQAOAOptimizer'\n",
    "                                start_time = time()\n",
    "                                res = so.solve(bp)\n",
    "                                end_time = time()\n",
    "                                t = end_time - start_time\n",
    "                                row = [count, idx, backend_name, p, ite, sh, optimizer_name, warm_start, res.fval, t]\n",
    "                                print(f\"solved: {row}\")\n",
    "                                quantum_df.loc[count] = row\n",
    "                                count += 1\n",
    "                                if count % batch_size == 0:\n",
    "                                    quantum_df.to_csv(quantum_file, mode='a', header=False, index=False)\n",
    "                                    quantum_df = pd.DataFrame(\n",
    "                                        columns=['id', 'instance_id', 'sampler', 'p', 'max_iter', 'shots', 'optimizer',\n",
    "                                                 'warm_start', 'optimum', 'time'])\n",
    "    quantum_df.to_csv(quantum_file, mode='a', header=False, index=False)"
   ]
  },
  {
   "cell_type": "code",
   "outputs": [],
   "source": [
    "def create_evaluation_df(quantum_df, classical_df):\n",
    "    for instance_id in quantum_df['instance_id'].unique():\n",
    "        # Finding corresponding classical time for the instance ID\n",
    "        if instance_id in classical_df['instance_id'].values:\n",
    "            classical_time = classical_df[classical_df['instance_id'] == instance_id]['time'].iloc[0]\n",
    "            classical_optimum = classical_df[classical_df['instance_id'] == instance_id]['optimum'].iloc[0]\n",
    "            # Updating time difference for each row in quantum dataframe with this instance ID\n",
    "            quantum_df.loc[quantum_df['instance_id'] == instance_id, 'time_difference'] = \\\n",
    "                quantum_df[quantum_df['instance_id'] == instance_id]['time'] - classical_time\n",
    "            quantum_df['error'] = (quantum_df['optimum'] - classical_optimum) ** 2\n",
    "    quantum_df.to_csv('evaluation_data.csv', index=False)"
   ],
   "metadata": {
    "id": "29bb77871f568927",
    "ExecuteTime": {
     "end_time": "2024-01-29T13:17:38.546583Z",
     "start_time": "2024-01-29T13:17:38.538083Z"
    }
   },
   "id": "29bb77871f568927",
   "execution_count": 61
  },
  {
   "cell_type": "code",
   "outputs": [],
   "source": [
    "def calc_optimum_percentage(evaluation_df):\n",
    "    mse_zero_count = len(e_df[e_df['error'] == 0])\n",
    "    # Total number of rows\n",
    "    total_rows = len(evaluation_df)\n",
    "    # Calculate the percentage\n",
    "    percentage = (mse_zero_count / total_rows) * 100\n",
    "    print(\n",
    "        f\"{mse_zero_count} from {total_rows} of quantum solutions have reached the optimum, which is {percentage}% of all solutions\")\n",
    "    print(f\"Mean square error: {evaluation_df['error'].mean()}\")\n",
    "    print(f\"Mean time difference: {evaluation_df['time_difference'].mean()}\")"
   ],
   "metadata": {
    "id": "1cc66fd2c0433b08",
    "ExecuteTime": {
     "end_time": "2024-01-29T13:17:38.557062Z",
     "start_time": "2024-01-29T13:17:38.544922Z"
    }
   },
   "id": "1cc66fd2c0433b08",
   "execution_count": 62
  },
  {
   "cell_type": "code",
   "outputs": [],
   "source": [
    "import os\n",
    "\n",
    "def calculate_skip():\n",
    "    if os.path.exists('quantum_data.csv'):\n",
    "        quantum_df = pd.read_csv('quantum_data.csv')\n",
    "        print(f\"Skipping {len(quantum_df)} rows\")\n",
    "        return len(quantum_df)\n",
    "    else:\n",
    "        return 0"
   ],
   "metadata": {
    "id": "d84eaae5377838a6",
    "ExecuteTime": {
     "end_time": "2024-01-29T13:17:38.572425Z",
     "start_time": "2024-01-29T13:17:38.548400Z"
    }
   },
   "id": "d84eaae5377838a6",
   "execution_count": 63
  },
  {
   "cell_type": "code",
   "outputs": [
    {
     "name": "stdout",
     "output_type": "stream",
     "text": [
      "instance: 0\n",
      "solved: [0, 0, 'aer', 1, 250, 200, 'COBYLA', False, 201.0, 0.2859652042388916]\n",
      "solved: [1, 0, 'aer', 1, 250, 200, 'COBYLA', True, 300.0, 0.288499116897583]\n",
      "solved: [2, 0, 'noise', 1, 250, 200, 'COBYLA', False, 201.0, 0.3511998653411865]\n",
      "solved: [3, 0, 'noise', 1, 250, 200, 'COBYLA', True, 1.0, 0.3861548900604248]\n",
      "solved: [4, 0, 'aqt', 1, 250, 200, 'COBYLA', False, 202.0, 1.0686118602752686]\n",
      "solved: [5, 0, 'aqt', 1, 250, 200, 'COBYLA', True, 201.0, 1.0600719451904297]\n"
     ]
    },
    {
     "ename": "KeyboardInterrupt",
     "evalue": "",
     "output_type": "error",
     "traceback": [
      "\u001B[0;31m---------------------------------------------------------------------------\u001B[0m",
      "\u001B[0;31mKeyboardInterrupt\u001B[0m                         Traceback (most recent call last)",
      "Cell \u001B[0;32mIn[65], line 6\u001B[0m\n\u001B[1;32m      4\u001B[0m create_classical_df(preprocessed_instances)\n\u001B[1;32m      5\u001B[0m instance_number \u001B[38;5;241m=\u001B[39m \u001B[38;5;241m0\u001B[39m\n\u001B[0;32m----> 6\u001B[0m \u001B[43mcreate_quantum_df\u001B[49m\u001B[43m(\u001B[49m\u001B[43m[\u001B[49m\u001B[43mpreprocessed_instances\u001B[49m\u001B[43m[\u001B[49m\u001B[43minstance_number\u001B[49m\u001B[43m]\u001B[49m\u001B[43m]\u001B[49m\u001B[43m,\u001B[49m\u001B[43m \u001B[49m\u001B[43mquantum_file\u001B[49m\u001B[38;5;241;43m=\u001B[39;49m\u001B[38;5;124;43mf\u001B[39;49m\u001B[38;5;124;43m'\u001B[39;49m\u001B[38;5;124;43mquantum_data_\u001B[39;49m\u001B[38;5;132;43;01m{\u001B[39;49;00m\u001B[43minstance_number\u001B[49m\u001B[38;5;132;43;01m}\u001B[39;49;00m\u001B[38;5;124;43m.csv\u001B[39;49m\u001B[38;5;124;43m'\u001B[39;49m\u001B[43m)\u001B[49m\n\u001B[1;32m      7\u001B[0m q_df \u001B[38;5;241m=\u001B[39m pd\u001B[38;5;241m.\u001B[39mread_csv(\u001B[38;5;124m'\u001B[39m\u001B[38;5;124mquantum_data.csv\u001B[39m\u001B[38;5;124m'\u001B[39m)\n\u001B[1;32m      8\u001B[0m c_df \u001B[38;5;241m=\u001B[39m pd\u001B[38;5;241m.\u001B[39mread_csv(\u001B[38;5;124m'\u001B[39m\u001B[38;5;124mclassical_data.csv\u001B[39m\u001B[38;5;124m'\u001B[39m)\n",
      "Cell \u001B[0;32mIn[60], line 32\u001B[0m, in \u001B[0;36mcreate_quantum_df\u001B[0;34m(instances, skip, quantum_file)\u001B[0m\n\u001B[1;32m     30\u001B[0m warm_start \u001B[38;5;241m=\u001B[39m so\u001B[38;5;241m.\u001B[39m\u001B[38;5;18m__class__\u001B[39m\u001B[38;5;241m.\u001B[39m\u001B[38;5;18m__name__\u001B[39m \u001B[38;5;241m==\u001B[39m \u001B[38;5;124m'\u001B[39m\u001B[38;5;124mWarmStartQAOAOptimizer\u001B[39m\u001B[38;5;124m'\u001B[39m\n\u001B[1;32m     31\u001B[0m start_time \u001B[38;5;241m=\u001B[39m time()\n\u001B[0;32m---> 32\u001B[0m res \u001B[38;5;241m=\u001B[39m \u001B[43mso\u001B[49m\u001B[38;5;241;43m.\u001B[39;49m\u001B[43msolve\u001B[49m\u001B[43m(\u001B[49m\u001B[43mbp\u001B[49m\u001B[43m)\u001B[49m\n\u001B[1;32m     33\u001B[0m end_time \u001B[38;5;241m=\u001B[39m time()\n\u001B[1;32m     34\u001B[0m t \u001B[38;5;241m=\u001B[39m end_time \u001B[38;5;241m-\u001B[39m start_time\n",
      "File \u001B[0;32m~/Repository/hybrid-quantum-ass3/venv/lib/python3.9/site-packages/qiskit_optimization/algorithms/minimum_eigen_optimizer.py:205\u001B[0m, in \u001B[0;36mMinimumEigenOptimizer.solve\u001B[0;34m(self, problem)\u001B[0m\n\u001B[1;32m    202\u001B[0m \u001B[38;5;66;03m# construct operator and offset\u001B[39;00m\n\u001B[1;32m    203\u001B[0m operator, offset \u001B[38;5;241m=\u001B[39m problem_\u001B[38;5;241m.\u001B[39mto_ising()\n\u001B[0;32m--> 205\u001B[0m \u001B[38;5;28;01mreturn\u001B[39;00m \u001B[38;5;28;43mself\u001B[39;49m\u001B[38;5;241;43m.\u001B[39;49m\u001B[43m_solve_internal\u001B[49m\u001B[43m(\u001B[49m\u001B[43moperator\u001B[49m\u001B[43m,\u001B[49m\u001B[43m \u001B[49m\u001B[43moffset\u001B[49m\u001B[43m,\u001B[49m\u001B[43m \u001B[49m\u001B[43mproblem_\u001B[49m\u001B[43m,\u001B[49m\u001B[43m \u001B[49m\u001B[43mproblem\u001B[49m\u001B[43m)\u001B[49m\n",
      "File \u001B[0;32m~/Repository/hybrid-quantum-ass3/venv/lib/python3.9/site-packages/qiskit_optimization/algorithms/minimum_eigen_optimizer.py:218\u001B[0m, in \u001B[0;36mMinimumEigenOptimizer._solve_internal\u001B[0;34m(self, operator, offset, converted_problem, original_problem)\u001B[0m\n\u001B[1;32m    215\u001B[0m eigen_result: Optional[MinimumEigensolverResult] \u001B[38;5;241m=\u001B[39m \u001B[38;5;28;01mNone\u001B[39;00m\n\u001B[1;32m    216\u001B[0m \u001B[38;5;28;01mif\u001B[39;00m operator\u001B[38;5;241m.\u001B[39mnum_qubits \u001B[38;5;241m>\u001B[39m \u001B[38;5;241m0\u001B[39m:\n\u001B[1;32m    217\u001B[0m     \u001B[38;5;66;03m# approximate ground state of operator using min eigen solver\u001B[39;00m\n\u001B[0;32m--> 218\u001B[0m     eigen_result \u001B[38;5;241m=\u001B[39m \u001B[38;5;28;43mself\u001B[39;49m\u001B[38;5;241;43m.\u001B[39;49m\u001B[43m_min_eigen_solver\u001B[49m\u001B[38;5;241;43m.\u001B[39;49m\u001B[43mcompute_minimum_eigenvalue\u001B[49m\u001B[43m(\u001B[49m\u001B[43moperator\u001B[49m\u001B[43m)\u001B[49m\n\u001B[1;32m    219\u001B[0m     \u001B[38;5;66;03m# analyze results\u001B[39;00m\n\u001B[1;32m    220\u001B[0m     raw_samples \u001B[38;5;241m=\u001B[39m \u001B[38;5;28;01mNone\u001B[39;00m\n",
      "File \u001B[0;32m~/Repository/hybrid-quantum-ass3/venv/lib/python3.9/site-packages/qiskit_algorithms/minimum_eigensolvers/sampling_vqe.py:218\u001B[0m, in \u001B[0;36mSamplingVQE.compute_minimum_eigenvalue\u001B[0;34m(self, operator, aux_operators)\u001B[0m\n\u001B[1;32m    213\u001B[0m \u001B[38;5;28;01melse\u001B[39;00m:\n\u001B[1;32m    214\u001B[0m     \u001B[38;5;66;03m# we always want to submit as many estimations per job as possible for minimal\u001B[39;00m\n\u001B[1;32m    215\u001B[0m     \u001B[38;5;66;03m# overhead on the hardware\u001B[39;00m\n\u001B[1;32m    216\u001B[0m     was_updated \u001B[38;5;241m=\u001B[39m _set_default_batchsize(\u001B[38;5;28mself\u001B[39m\u001B[38;5;241m.\u001B[39moptimizer)\n\u001B[0;32m--> 218\u001B[0m     optimizer_result \u001B[38;5;241m=\u001B[39m \u001B[38;5;28;43mself\u001B[39;49m\u001B[38;5;241;43m.\u001B[39;49m\u001B[43moptimizer\u001B[49m\u001B[38;5;241;43m.\u001B[39;49m\u001B[43mminimize\u001B[49m\u001B[43m(\u001B[49m\n\u001B[1;32m    219\u001B[0m \u001B[43m        \u001B[49m\u001B[43mfun\u001B[49m\u001B[38;5;241;43m=\u001B[39;49m\u001B[43mevaluate_energy\u001B[49m\u001B[43m,\u001B[49m\u001B[43m \u001B[49m\u001B[43mx0\u001B[49m\u001B[38;5;241;43m=\u001B[39;49m\u001B[43minitial_point\u001B[49m\u001B[43m,\u001B[49m\u001B[43m \u001B[49m\u001B[43mbounds\u001B[49m\u001B[38;5;241;43m=\u001B[39;49m\u001B[43mbounds\u001B[49m\n\u001B[1;32m    220\u001B[0m \u001B[43m    \u001B[49m\u001B[43m)\u001B[49m\n\u001B[1;32m    222\u001B[0m     \u001B[38;5;66;03m# reset to original value\u001B[39;00m\n\u001B[1;32m    223\u001B[0m     \u001B[38;5;28;01mif\u001B[39;00m was_updated:\n",
      "File \u001B[0;32m~/Repository/hybrid-quantum-ass3/venv/lib/python3.9/site-packages/qiskit_algorithms/optimizers/scipy_optimizer.py:148\u001B[0m, in \u001B[0;36mSciPyOptimizer.minimize\u001B[0;34m(self, fun, x0, jac, bounds)\u001B[0m\n\u001B[1;32m    145\u001B[0m     swapped_deprecated_args \u001B[38;5;241m=\u001B[39m \u001B[38;5;28;01mTrue\u001B[39;00m\n\u001B[1;32m    146\u001B[0m     \u001B[38;5;28mself\u001B[39m\u001B[38;5;241m.\u001B[39m_options[\u001B[38;5;124m\"\u001B[39m\u001B[38;5;124mmaxfun\u001B[39m\u001B[38;5;124m\"\u001B[39m] \u001B[38;5;241m=\u001B[39m \u001B[38;5;28mself\u001B[39m\u001B[38;5;241m.\u001B[39m_options\u001B[38;5;241m.\u001B[39mpop(\u001B[38;5;124m\"\u001B[39m\u001B[38;5;124mmaxiter\u001B[39m\u001B[38;5;124m\"\u001B[39m)\n\u001B[0;32m--> 148\u001B[0m raw_result \u001B[38;5;241m=\u001B[39m \u001B[43mminimize\u001B[49m\u001B[43m(\u001B[49m\n\u001B[1;32m    149\u001B[0m \u001B[43m    \u001B[49m\u001B[43mfun\u001B[49m\u001B[38;5;241;43m=\u001B[39;49m\u001B[43mfun\u001B[49m\u001B[43m,\u001B[49m\n\u001B[1;32m    150\u001B[0m \u001B[43m    \u001B[49m\u001B[43mx0\u001B[49m\u001B[38;5;241;43m=\u001B[39;49m\u001B[43mx0\u001B[49m\u001B[43m,\u001B[49m\n\u001B[1;32m    151\u001B[0m \u001B[43m    \u001B[49m\u001B[43mmethod\u001B[49m\u001B[38;5;241;43m=\u001B[39;49m\u001B[38;5;28;43mself\u001B[39;49m\u001B[38;5;241;43m.\u001B[39;49m\u001B[43m_method\u001B[49m\u001B[43m,\u001B[49m\n\u001B[1;32m    152\u001B[0m \u001B[43m    \u001B[49m\u001B[43mjac\u001B[49m\u001B[38;5;241;43m=\u001B[39;49m\u001B[43mjac\u001B[49m\u001B[43m,\u001B[49m\n\u001B[1;32m    153\u001B[0m \u001B[43m    \u001B[49m\u001B[43mbounds\u001B[49m\u001B[38;5;241;43m=\u001B[39;49m\u001B[43mbounds\u001B[49m\u001B[43m,\u001B[49m\n\u001B[1;32m    154\u001B[0m \u001B[43m    \u001B[49m\u001B[43moptions\u001B[49m\u001B[38;5;241;43m=\u001B[39;49m\u001B[38;5;28;43mself\u001B[39;49m\u001B[38;5;241;43m.\u001B[39;49m\u001B[43m_options\u001B[49m\u001B[43m,\u001B[49m\n\u001B[1;32m    155\u001B[0m \u001B[43m    \u001B[49m\u001B[38;5;241;43m*\u001B[39;49m\u001B[38;5;241;43m*\u001B[39;49m\u001B[38;5;28;43mself\u001B[39;49m\u001B[38;5;241;43m.\u001B[39;49m\u001B[43m_kwargs\u001B[49m\u001B[43m,\u001B[49m\n\u001B[1;32m    156\u001B[0m \u001B[43m\u001B[49m\u001B[43m)\u001B[49m\n\u001B[1;32m    157\u001B[0m \u001B[38;5;28;01mif\u001B[39;00m swapped_deprecated_args:\n\u001B[1;32m    158\u001B[0m     \u001B[38;5;28mself\u001B[39m\u001B[38;5;241m.\u001B[39m_options[\u001B[38;5;124m\"\u001B[39m\u001B[38;5;124mmaxiter\u001B[39m\u001B[38;5;124m\"\u001B[39m] \u001B[38;5;241m=\u001B[39m \u001B[38;5;28mself\u001B[39m\u001B[38;5;241m.\u001B[39m_options\u001B[38;5;241m.\u001B[39mpop(\u001B[38;5;124m\"\u001B[39m\u001B[38;5;124mmaxfun\u001B[39m\u001B[38;5;124m\"\u001B[39m)\n",
      "File \u001B[0;32m~/Repository/hybrid-quantum-ass3/venv/lib/python3.9/site-packages/scipy/optimize/_minimize.py:701\u001B[0m, in \u001B[0;36mminimize\u001B[0;34m(fun, x0, args, method, jac, hess, hessp, bounds, constraints, tol, callback, options)\u001B[0m\n\u001B[1;32m    698\u001B[0m callback \u001B[38;5;241m=\u001B[39m _wrap_callback(callback, meth)\n\u001B[1;32m    700\u001B[0m \u001B[38;5;28;01mif\u001B[39;00m meth \u001B[38;5;241m==\u001B[39m \u001B[38;5;124m'\u001B[39m\u001B[38;5;124mnelder-mead\u001B[39m\u001B[38;5;124m'\u001B[39m:\n\u001B[0;32m--> 701\u001B[0m     res \u001B[38;5;241m=\u001B[39m \u001B[43m_minimize_neldermead\u001B[49m\u001B[43m(\u001B[49m\u001B[43mfun\u001B[49m\u001B[43m,\u001B[49m\u001B[43m \u001B[49m\u001B[43mx0\u001B[49m\u001B[43m,\u001B[49m\u001B[43m \u001B[49m\u001B[43margs\u001B[49m\u001B[43m,\u001B[49m\u001B[43m \u001B[49m\u001B[43mcallback\u001B[49m\u001B[43m,\u001B[49m\u001B[43m \u001B[49m\u001B[43mbounds\u001B[49m\u001B[38;5;241;43m=\u001B[39;49m\u001B[43mbounds\u001B[49m\u001B[43m,\u001B[49m\n\u001B[1;32m    702\u001B[0m \u001B[43m                               \u001B[49m\u001B[38;5;241;43m*\u001B[39;49m\u001B[38;5;241;43m*\u001B[39;49m\u001B[43moptions\u001B[49m\u001B[43m)\u001B[49m\n\u001B[1;32m    703\u001B[0m \u001B[38;5;28;01melif\u001B[39;00m meth \u001B[38;5;241m==\u001B[39m \u001B[38;5;124m'\u001B[39m\u001B[38;5;124mpowell\u001B[39m\u001B[38;5;124m'\u001B[39m:\n\u001B[1;32m    704\u001B[0m     res \u001B[38;5;241m=\u001B[39m _minimize_powell(fun, x0, args, callback, bounds, \u001B[38;5;241m*\u001B[39m\u001B[38;5;241m*\u001B[39moptions)\n",
      "File \u001B[0;32m~/Repository/hybrid-quantum-ass3/venv/lib/python3.9/site-packages/scipy/optimize/_optimize.py:973\u001B[0m, in \u001B[0;36m_minimize_neldermead\u001B[0;34m(func, x0, args, callback, maxiter, maxfev, disp, return_all, initial_simplex, xatol, fatol, adaptive, bounds, **unknown_options)\u001B[0m\n\u001B[1;32m    971\u001B[0m \u001B[38;5;28;01mif\u001B[39;00m bounds \u001B[38;5;129;01mis\u001B[39;00m \u001B[38;5;129;01mnot\u001B[39;00m \u001B[38;5;28;01mNone\u001B[39;00m:\n\u001B[1;32m    972\u001B[0m     xc \u001B[38;5;241m=\u001B[39m np\u001B[38;5;241m.\u001B[39mclip(xc, lower_bound, upper_bound)\n\u001B[0;32m--> 973\u001B[0m fxc \u001B[38;5;241m=\u001B[39m \u001B[43mfunc\u001B[49m\u001B[43m(\u001B[49m\u001B[43mxc\u001B[49m\u001B[43m)\u001B[49m\n\u001B[1;32m    975\u001B[0m \u001B[38;5;28;01mif\u001B[39;00m fxc \u001B[38;5;241m<\u001B[39m\u001B[38;5;241m=\u001B[39m fxr:\n\u001B[1;32m    976\u001B[0m     sim[\u001B[38;5;241m-\u001B[39m\u001B[38;5;241m1\u001B[39m] \u001B[38;5;241m=\u001B[39m xc\n",
      "File \u001B[0;32m~/Repository/hybrid-quantum-ass3/venv/lib/python3.9/site-packages/scipy/optimize/_optimize.py:640\u001B[0m, in \u001B[0;36m_wrap_scalar_function_maxfun_validation.<locals>.function_wrapper\u001B[0;34m(x, *wrapper_args)\u001B[0m\n\u001B[1;32m    638\u001B[0m ncalls[\u001B[38;5;241m0\u001B[39m] \u001B[38;5;241m+\u001B[39m\u001B[38;5;241m=\u001B[39m \u001B[38;5;241m1\u001B[39m\n\u001B[1;32m    639\u001B[0m \u001B[38;5;66;03m# A copy of x is sent to the user function (gh13740)\u001B[39;00m\n\u001B[0;32m--> 640\u001B[0m fx \u001B[38;5;241m=\u001B[39m \u001B[43mfunction\u001B[49m\u001B[43m(\u001B[49m\u001B[43mnp\u001B[49m\u001B[38;5;241;43m.\u001B[39;49m\u001B[43mcopy\u001B[49m\u001B[43m(\u001B[49m\u001B[43mx\u001B[49m\u001B[43m)\u001B[49m\u001B[43m,\u001B[49m\u001B[43m \u001B[49m\u001B[38;5;241;43m*\u001B[39;49m\u001B[43m(\u001B[49m\u001B[43mwrapper_args\u001B[49m\u001B[43m \u001B[49m\u001B[38;5;241;43m+\u001B[39;49m\u001B[43m \u001B[49m\u001B[43margs\u001B[49m\u001B[43m)\u001B[49m\u001B[43m)\u001B[49m\n\u001B[1;32m    641\u001B[0m \u001B[38;5;66;03m# Ideally, we'd like to a have a true scalar returned from f(x). For\u001B[39;00m\n\u001B[1;32m    642\u001B[0m \u001B[38;5;66;03m# backwards-compatibility, also allow np.array([1.3]),\u001B[39;00m\n\u001B[1;32m    643\u001B[0m \u001B[38;5;66;03m# np.array([[1.3]]) etc.\u001B[39;00m\n\u001B[1;32m    644\u001B[0m \u001B[38;5;28;01mif\u001B[39;00m \u001B[38;5;129;01mnot\u001B[39;00m np\u001B[38;5;241m.\u001B[39misscalar(fx):\n",
      "File \u001B[0;32m~/Repository/hybrid-quantum-ass3/venv/lib/python3.9/site-packages/qiskit_algorithms/minimum_eigensolvers/sampling_vqe.py:307\u001B[0m, in \u001B[0;36mSamplingVQE._get_evaluate_energy.<locals>.evaluate_energy\u001B[0;34m(parameters)\u001B[0m\n\u001B[1;32m    304\u001B[0m parameters \u001B[38;5;241m=\u001B[39m np\u001B[38;5;241m.\u001B[39mreshape(parameters, (\u001B[38;5;241m-\u001B[39m\u001B[38;5;241m1\u001B[39m, num_parameters))\u001B[38;5;241m.\u001B[39mtolist()\n\u001B[1;32m    305\u001B[0m batch_size \u001B[38;5;241m=\u001B[39m \u001B[38;5;28mlen\u001B[39m(parameters)\n\u001B[0;32m--> 307\u001B[0m estimator_result \u001B[38;5;241m=\u001B[39m \u001B[43mestimator\u001B[49m\u001B[38;5;241;43m.\u001B[39;49m\u001B[43mrun\u001B[49m\u001B[43m(\u001B[49m\n\u001B[1;32m    308\u001B[0m \u001B[43m    \u001B[49m\u001B[43mbatch_size\u001B[49m\u001B[43m \u001B[49m\u001B[38;5;241;43m*\u001B[39;49m\u001B[43m \u001B[49m\u001B[43m[\u001B[49m\u001B[43mansatz\u001B[49m\u001B[43m]\u001B[49m\u001B[43m,\u001B[49m\u001B[43m \u001B[49m\u001B[43mbatch_size\u001B[49m\u001B[43m \u001B[49m\u001B[38;5;241;43m*\u001B[39;49m\u001B[43m \u001B[49m\u001B[43m[\u001B[49m\u001B[43moperator\u001B[49m\u001B[43m]\u001B[49m\u001B[43m,\u001B[49m\u001B[43m \u001B[49m\u001B[43mparameters\u001B[49m\n\u001B[1;32m    309\u001B[0m \u001B[43m\u001B[49m\u001B[43m)\u001B[49m\u001B[38;5;241m.\u001B[39mresult()\n\u001B[1;32m    310\u001B[0m values \u001B[38;5;241m=\u001B[39m estimator_result\u001B[38;5;241m.\u001B[39mvalues\n\u001B[1;32m    312\u001B[0m \u001B[38;5;28;01mif\u001B[39;00m \u001B[38;5;28mself\u001B[39m\u001B[38;5;241m.\u001B[39mcallback \u001B[38;5;129;01mis\u001B[39;00m \u001B[38;5;129;01mnot\u001B[39;00m \u001B[38;5;28;01mNone\u001B[39;00m:\n",
      "File \u001B[0;32m~/Repository/hybrid-quantum-ass3/venv/lib/python3.9/site-packages/qiskit/primitives/base/base_estimator.py:188\u001B[0m, in \u001B[0;36mBaseEstimator.run\u001B[0;34m(self, circuits, observables, parameter_values, **run_options)\u001B[0m\n\u001B[1;32m    185\u001B[0m run_opts \u001B[38;5;241m=\u001B[39m copy(\u001B[38;5;28mself\u001B[39m\u001B[38;5;241m.\u001B[39moptions)\n\u001B[1;32m    186\u001B[0m run_opts\u001B[38;5;241m.\u001B[39mupdate_options(\u001B[38;5;241m*\u001B[39m\u001B[38;5;241m*\u001B[39mrun_options)\n\u001B[0;32m--> 188\u001B[0m \u001B[38;5;28;01mreturn\u001B[39;00m \u001B[38;5;28;43mself\u001B[39;49m\u001B[38;5;241;43m.\u001B[39;49m\u001B[43m_run\u001B[49m\u001B[43m(\u001B[49m\n\u001B[1;32m    189\u001B[0m \u001B[43m    \u001B[49m\u001B[43mcircuits\u001B[49m\u001B[43m,\u001B[49m\n\u001B[1;32m    190\u001B[0m \u001B[43m    \u001B[49m\u001B[43mobservables\u001B[49m\u001B[43m,\u001B[49m\n\u001B[1;32m    191\u001B[0m \u001B[43m    \u001B[49m\u001B[43mparameter_values\u001B[49m\u001B[43m,\u001B[49m\n\u001B[1;32m    192\u001B[0m \u001B[43m    \u001B[49m\u001B[38;5;241;43m*\u001B[39;49m\u001B[38;5;241;43m*\u001B[39;49m\u001B[43mrun_opts\u001B[49m\u001B[38;5;241;43m.\u001B[39;49m\u001B[38;5;18;43m__dict__\u001B[39;49m\u001B[43m,\u001B[49m\n\u001B[1;32m    193\u001B[0m \u001B[43m\u001B[49m\u001B[43m)\u001B[49m\n",
      "File \u001B[0;32m~/Repository/hybrid-quantum-ass3/venv/lib/python3.9/site-packages/qiskit_algorithms/minimum_eigensolvers/diagonal_estimator.py:80\u001B[0m, in \u001B[0;36m_DiagonalEstimator._run\u001B[0;34m(self, circuits, observables, parameter_values, **run_options)\u001B[0m\n\u001B[1;32m     78\u001B[0m circuit_indices \u001B[38;5;241m=\u001B[39m []\n\u001B[1;32m     79\u001B[0m \u001B[38;5;28;01mfor\u001B[39;00m circuit \u001B[38;5;129;01min\u001B[39;00m circuits:\n\u001B[0;32m---> 80\u001B[0m     key \u001B[38;5;241m=\u001B[39m \u001B[43m_circuit_key\u001B[49m\u001B[43m(\u001B[49m\u001B[43mcircuit\u001B[49m\u001B[43m)\u001B[49m\n\u001B[1;32m     81\u001B[0m     index \u001B[38;5;241m=\u001B[39m \u001B[38;5;28mself\u001B[39m\u001B[38;5;241m.\u001B[39m_circuit_ids\u001B[38;5;241m.\u001B[39mget(key)\n\u001B[1;32m     82\u001B[0m     \u001B[38;5;28;01mif\u001B[39;00m index \u001B[38;5;129;01mis\u001B[39;00m \u001B[38;5;129;01mnot\u001B[39;00m \u001B[38;5;28;01mNone\u001B[39;00m:\n",
      "File \u001B[0;32m~/Repository/hybrid-quantum-ass3/venv/lib/python3.9/site-packages/qiskit/primitives/utils.py:164\u001B[0m, in \u001B[0;36m_circuit_key\u001B[0;34m(circuit, functional)\u001B[0m\n\u001B[1;32m    147\u001B[0m \u001B[38;5;28;01mdef\u001B[39;00m \u001B[38;5;21m_circuit_key\u001B[39m(circuit: QuantumCircuit, functional: \u001B[38;5;28mbool\u001B[39m \u001B[38;5;241m=\u001B[39m \u001B[38;5;28;01mTrue\u001B[39;00m) \u001B[38;5;241m-\u001B[39m\u001B[38;5;241m>\u001B[39m \u001B[38;5;28mtuple\u001B[39m:\n\u001B[1;32m    148\u001B[0m \u001B[38;5;250m    \u001B[39m\u001B[38;5;124;03m\"\"\"Private key function for QuantumCircuit.\u001B[39;00m\n\u001B[1;32m    149\u001B[0m \n\u001B[1;32m    150\u001B[0m \u001B[38;5;124;03m    This is the workaround until :meth:`QuantumCircuit.__hash__` will be introduced.\u001B[39;00m\n\u001B[0;32m   (...)\u001B[0m\n\u001B[1;32m    158\u001B[0m \u001B[38;5;124;03m        Composite key for circuit.\u001B[39;00m\n\u001B[1;32m    159\u001B[0m \u001B[38;5;124;03m    \"\"\"\u001B[39;00m\n\u001B[1;32m    160\u001B[0m     functional_key: \u001B[38;5;28mtuple\u001B[39m \u001B[38;5;241m=\u001B[39m (\n\u001B[1;32m    161\u001B[0m         circuit\u001B[38;5;241m.\u001B[39mnum_qubits,\n\u001B[1;32m    162\u001B[0m         circuit\u001B[38;5;241m.\u001B[39mnum_clbits,\n\u001B[1;32m    163\u001B[0m         circuit\u001B[38;5;241m.\u001B[39mnum_parameters,\n\u001B[0;32m--> 164\u001B[0m         \u001B[38;5;28;43mtuple\u001B[39;49m\u001B[43m(\u001B[49m\u001B[43m  \u001B[49m\u001B[38;5;66;43;03m# circuit.data\u001B[39;49;00m\n\u001B[1;32m    165\u001B[0m \u001B[43m            \u001B[49m\u001B[43m(\u001B[49m\n\u001B[1;32m    166\u001B[0m \u001B[43m                \u001B[49m\u001B[43m_bits_key\u001B[49m\u001B[43m(\u001B[49m\u001B[43mdata\u001B[49m\u001B[38;5;241;43m.\u001B[39;49m\u001B[43mqubits\u001B[49m\u001B[43m,\u001B[49m\u001B[43m \u001B[49m\u001B[43mcircuit\u001B[49m\u001B[43m)\u001B[49m\u001B[43m,\u001B[49m\u001B[43m  \u001B[49m\u001B[38;5;66;43;03m# qubits\u001B[39;49;00m\n\u001B[1;32m    167\u001B[0m \u001B[43m                \u001B[49m\u001B[43m_bits_key\u001B[49m\u001B[43m(\u001B[49m\u001B[43mdata\u001B[49m\u001B[38;5;241;43m.\u001B[39;49m\u001B[43mclbits\u001B[49m\u001B[43m,\u001B[49m\u001B[43m \u001B[49m\u001B[43mcircuit\u001B[49m\u001B[43m)\u001B[49m\u001B[43m,\u001B[49m\u001B[43m  \u001B[49m\u001B[38;5;66;43;03m# clbits\u001B[39;49;00m\n\u001B[1;32m    168\u001B[0m \u001B[43m                \u001B[49m\u001B[43mdata\u001B[49m\u001B[38;5;241;43m.\u001B[39;49m\u001B[43moperation\u001B[49m\u001B[38;5;241;43m.\u001B[39;49m\u001B[43mname\u001B[49m\u001B[43m,\u001B[49m\u001B[43m  \u001B[49m\u001B[38;5;66;43;03m# operation.name\u001B[39;49;00m\n\u001B[1;32m    169\u001B[0m \u001B[43m                \u001B[49m\u001B[38;5;28;43mtuple\u001B[39;49m\u001B[43m(\u001B[49m\u001B[43m_format_params\u001B[49m\u001B[43m(\u001B[49m\u001B[43mparam\u001B[49m\u001B[43m)\u001B[49m\u001B[43m \u001B[49m\u001B[38;5;28;43;01mfor\u001B[39;49;00m\u001B[43m \u001B[49m\u001B[43mparam\u001B[49m\u001B[43m \u001B[49m\u001B[38;5;129;43;01min\u001B[39;49;00m\u001B[43m \u001B[49m\u001B[43mdata\u001B[49m\u001B[38;5;241;43m.\u001B[39;49m\u001B[43moperation\u001B[49m\u001B[38;5;241;43m.\u001B[39;49m\u001B[43mparams\u001B[49m\u001B[43m)\u001B[49m\u001B[43m,\u001B[49m\u001B[43m  \u001B[49m\u001B[38;5;66;43;03m# operation.params\u001B[39;49;00m\n\u001B[1;32m    170\u001B[0m \u001B[43m            \u001B[49m\u001B[43m)\u001B[49m\n\u001B[1;32m    171\u001B[0m \u001B[43m            \u001B[49m\u001B[38;5;28;43;01mfor\u001B[39;49;00m\u001B[43m \u001B[49m\u001B[43mdata\u001B[49m\u001B[43m \u001B[49m\u001B[38;5;129;43;01min\u001B[39;49;00m\u001B[43m \u001B[49m\u001B[43mcircuit\u001B[49m\u001B[38;5;241;43m.\u001B[39;49m\u001B[43mdata\u001B[49m\n\u001B[1;32m    172\u001B[0m \u001B[43m        \u001B[49m\u001B[43m)\u001B[49m,\n\u001B[1;32m    173\u001B[0m         \u001B[38;5;28;01mNone\u001B[39;00m \u001B[38;5;28;01mif\u001B[39;00m circuit\u001B[38;5;241m.\u001B[39m_op_start_times \u001B[38;5;129;01mis\u001B[39;00m \u001B[38;5;28;01mNone\u001B[39;00m \u001B[38;5;28;01melse\u001B[39;00m \u001B[38;5;28mtuple\u001B[39m(circuit\u001B[38;5;241m.\u001B[39m_op_start_times),\n\u001B[1;32m    174\u001B[0m     )\n\u001B[1;32m    175\u001B[0m     \u001B[38;5;28;01mif\u001B[39;00m functional:\n\u001B[1;32m    176\u001B[0m         \u001B[38;5;28;01mreturn\u001B[39;00m functional_key\n",
      "File \u001B[0;32m~/Repository/hybrid-quantum-ass3/venv/lib/python3.9/site-packages/qiskit/primitives/utils.py:166\u001B[0m, in \u001B[0;36m<genexpr>\u001B[0;34m(.0)\u001B[0m\n\u001B[1;32m    147\u001B[0m \u001B[38;5;28;01mdef\u001B[39;00m \u001B[38;5;21m_circuit_key\u001B[39m(circuit: QuantumCircuit, functional: \u001B[38;5;28mbool\u001B[39m \u001B[38;5;241m=\u001B[39m \u001B[38;5;28;01mTrue\u001B[39;00m) \u001B[38;5;241m-\u001B[39m\u001B[38;5;241m>\u001B[39m \u001B[38;5;28mtuple\u001B[39m:\n\u001B[1;32m    148\u001B[0m \u001B[38;5;250m    \u001B[39m\u001B[38;5;124;03m\"\"\"Private key function for QuantumCircuit.\u001B[39;00m\n\u001B[1;32m    149\u001B[0m \n\u001B[1;32m    150\u001B[0m \u001B[38;5;124;03m    This is the workaround until :meth:`QuantumCircuit.__hash__` will be introduced.\u001B[39;00m\n\u001B[0;32m   (...)\u001B[0m\n\u001B[1;32m    158\u001B[0m \u001B[38;5;124;03m        Composite key for circuit.\u001B[39;00m\n\u001B[1;32m    159\u001B[0m \u001B[38;5;124;03m    \"\"\"\u001B[39;00m\n\u001B[1;32m    160\u001B[0m     functional_key: \u001B[38;5;28mtuple\u001B[39m \u001B[38;5;241m=\u001B[39m (\n\u001B[1;32m    161\u001B[0m         circuit\u001B[38;5;241m.\u001B[39mnum_qubits,\n\u001B[1;32m    162\u001B[0m         circuit\u001B[38;5;241m.\u001B[39mnum_clbits,\n\u001B[1;32m    163\u001B[0m         circuit\u001B[38;5;241m.\u001B[39mnum_parameters,\n\u001B[1;32m    164\u001B[0m         \u001B[38;5;28mtuple\u001B[39m(  \u001B[38;5;66;03m# circuit.data\u001B[39;00m\n\u001B[1;32m    165\u001B[0m             (\n\u001B[0;32m--> 166\u001B[0m                 \u001B[43m_bits_key\u001B[49m\u001B[43m(\u001B[49m\u001B[43mdata\u001B[49m\u001B[38;5;241;43m.\u001B[39;49m\u001B[43mqubits\u001B[49m\u001B[43m,\u001B[49m\u001B[43m \u001B[49m\u001B[43mcircuit\u001B[49m\u001B[43m)\u001B[49m,  \u001B[38;5;66;03m# qubits\u001B[39;00m\n\u001B[1;32m    167\u001B[0m                 _bits_key(data\u001B[38;5;241m.\u001B[39mclbits, circuit),  \u001B[38;5;66;03m# clbits\u001B[39;00m\n\u001B[1;32m    168\u001B[0m                 data\u001B[38;5;241m.\u001B[39moperation\u001B[38;5;241m.\u001B[39mname,  \u001B[38;5;66;03m# operation.name\u001B[39;00m\n\u001B[1;32m    169\u001B[0m                 \u001B[38;5;28mtuple\u001B[39m(_format_params(param) \u001B[38;5;28;01mfor\u001B[39;00m param \u001B[38;5;129;01min\u001B[39;00m data\u001B[38;5;241m.\u001B[39moperation\u001B[38;5;241m.\u001B[39mparams),  \u001B[38;5;66;03m# operation.params\u001B[39;00m\n\u001B[1;32m    170\u001B[0m             )\n\u001B[1;32m    171\u001B[0m             \u001B[38;5;28;01mfor\u001B[39;00m data \u001B[38;5;129;01min\u001B[39;00m circuit\u001B[38;5;241m.\u001B[39mdata\n\u001B[1;32m    172\u001B[0m         ),\n\u001B[1;32m    173\u001B[0m         \u001B[38;5;28;01mNone\u001B[39;00m \u001B[38;5;28;01mif\u001B[39;00m circuit\u001B[38;5;241m.\u001B[39m_op_start_times \u001B[38;5;129;01mis\u001B[39;00m \u001B[38;5;28;01mNone\u001B[39;00m \u001B[38;5;28;01melse\u001B[39;00m \u001B[38;5;28mtuple\u001B[39m(circuit\u001B[38;5;241m.\u001B[39m_op_start_times),\n\u001B[1;32m    174\u001B[0m     )\n\u001B[1;32m    175\u001B[0m     \u001B[38;5;28;01mif\u001B[39;00m functional:\n\u001B[1;32m    176\u001B[0m         \u001B[38;5;28;01mreturn\u001B[39;00m functional_key\n",
      "File \u001B[0;32m~/Repository/hybrid-quantum-ass3/venv/lib/python3.9/site-packages/qiskit/primitives/utils.py:128\u001B[0m, in \u001B[0;36m_bits_key\u001B[0;34m(bits, circuit)\u001B[0m\n\u001B[1;32m    127\u001B[0m \u001B[38;5;28;01mdef\u001B[39;00m \u001B[38;5;21m_bits_key\u001B[39m(bits: \u001B[38;5;28mtuple\u001B[39m[Bit, \u001B[38;5;241m.\u001B[39m\u001B[38;5;241m.\u001B[39m\u001B[38;5;241m.\u001B[39m], circuit: QuantumCircuit) \u001B[38;5;241m-\u001B[39m\u001B[38;5;241m>\u001B[39m \u001B[38;5;28mtuple\u001B[39m:\n\u001B[0;32m--> 128\u001B[0m     \u001B[38;5;28;01mreturn\u001B[39;00m \u001B[38;5;28;43mtuple\u001B[39;49m\u001B[43m(\u001B[49m\n\u001B[1;32m    129\u001B[0m \u001B[43m        \u001B[49m\u001B[43m(\u001B[49m\n\u001B[1;32m    130\u001B[0m \u001B[43m            \u001B[49m\u001B[43mcircuit\u001B[49m\u001B[38;5;241;43m.\u001B[39;49m\u001B[43mfind_bit\u001B[49m\u001B[43m(\u001B[49m\u001B[43mbit\u001B[49m\u001B[43m)\u001B[49m\u001B[38;5;241;43m.\u001B[39;49m\u001B[43mindex\u001B[49m\u001B[43m,\u001B[49m\n\u001B[1;32m    131\u001B[0m \u001B[43m            \u001B[49m\u001B[38;5;28;43mtuple\u001B[39;49m\u001B[43m(\u001B[49m\u001B[43m(\u001B[49m\u001B[43mreg\u001B[49m\u001B[43m[\u001B[49m\u001B[38;5;241;43m0\u001B[39;49m\u001B[43m]\u001B[49m\u001B[38;5;241;43m.\u001B[39;49m\u001B[43msize\u001B[49m\u001B[43m,\u001B[49m\u001B[43m \u001B[49m\u001B[43mreg\u001B[49m\u001B[43m[\u001B[49m\u001B[38;5;241;43m0\u001B[39;49m\u001B[43m]\u001B[49m\u001B[38;5;241;43m.\u001B[39;49m\u001B[43mname\u001B[49m\u001B[43m,\u001B[49m\u001B[43m \u001B[49m\u001B[43mreg\u001B[49m\u001B[43m[\u001B[49m\u001B[38;5;241;43m1\u001B[39;49m\u001B[43m]\u001B[49m\u001B[43m)\u001B[49m\u001B[43m \u001B[49m\u001B[38;5;28;43;01mfor\u001B[39;49;00m\u001B[43m \u001B[49m\u001B[43mreg\u001B[49m\u001B[43m \u001B[49m\u001B[38;5;129;43;01min\u001B[39;49;00m\u001B[43m \u001B[49m\u001B[43mcircuit\u001B[49m\u001B[38;5;241;43m.\u001B[39;49m\u001B[43mfind_bit\u001B[49m\u001B[43m(\u001B[49m\u001B[43mbit\u001B[49m\u001B[43m)\u001B[49m\u001B[38;5;241;43m.\u001B[39;49m\u001B[43mregisters\u001B[49m\u001B[43m)\u001B[49m\u001B[43m,\u001B[49m\n\u001B[1;32m    132\u001B[0m \u001B[43m        \u001B[49m\u001B[43m)\u001B[49m\n\u001B[1;32m    133\u001B[0m \u001B[43m        \u001B[49m\u001B[38;5;28;43;01mfor\u001B[39;49;00m\u001B[43m \u001B[49m\u001B[43mbit\u001B[49m\u001B[43m \u001B[49m\u001B[38;5;129;43;01min\u001B[39;49;00m\u001B[43m \u001B[49m\u001B[43mbits\u001B[49m\n\u001B[1;32m    134\u001B[0m \u001B[43m    \u001B[49m\u001B[43m)\u001B[49m\n",
      "File \u001B[0;32m~/Repository/hybrid-quantum-ass3/venv/lib/python3.9/site-packages/qiskit/primitives/utils.py:130\u001B[0m, in \u001B[0;36m<genexpr>\u001B[0;34m(.0)\u001B[0m\n\u001B[1;32m    127\u001B[0m \u001B[38;5;28;01mdef\u001B[39;00m \u001B[38;5;21m_bits_key\u001B[39m(bits: \u001B[38;5;28mtuple\u001B[39m[Bit, \u001B[38;5;241m.\u001B[39m\u001B[38;5;241m.\u001B[39m\u001B[38;5;241m.\u001B[39m], circuit: QuantumCircuit) \u001B[38;5;241m-\u001B[39m\u001B[38;5;241m>\u001B[39m \u001B[38;5;28mtuple\u001B[39m:\n\u001B[1;32m    128\u001B[0m     \u001B[38;5;28;01mreturn\u001B[39;00m \u001B[38;5;28mtuple\u001B[39m(\n\u001B[1;32m    129\u001B[0m         (\n\u001B[0;32m--> 130\u001B[0m             \u001B[43mcircuit\u001B[49m\u001B[38;5;241;43m.\u001B[39;49m\u001B[43mfind_bit\u001B[49m\u001B[43m(\u001B[49m\u001B[43mbit\u001B[49m\u001B[43m)\u001B[49m\u001B[38;5;241m.\u001B[39mindex,\n\u001B[1;32m    131\u001B[0m             \u001B[38;5;28mtuple\u001B[39m((reg[\u001B[38;5;241m0\u001B[39m]\u001B[38;5;241m.\u001B[39msize, reg[\u001B[38;5;241m0\u001B[39m]\u001B[38;5;241m.\u001B[39mname, reg[\u001B[38;5;241m1\u001B[39m]) \u001B[38;5;28;01mfor\u001B[39;00m reg \u001B[38;5;129;01min\u001B[39;00m circuit\u001B[38;5;241m.\u001B[39mfind_bit(bit)\u001B[38;5;241m.\u001B[39mregisters),\n\u001B[1;32m    132\u001B[0m         )\n\u001B[1;32m    133\u001B[0m         \u001B[38;5;28;01mfor\u001B[39;00m bit \u001B[38;5;129;01min\u001B[39;00m bits\n\u001B[1;32m    134\u001B[0m     )\n",
      "File \u001B[0;32m~/Repository/hybrid-quantum-ass3/venv/lib/python3.9/site-packages/qiskit/circuit/quantumcircuit.py:1501\u001B[0m, in \u001B[0;36mQuantumCircuit.find_bit\u001B[0;34m(self, bit)\u001B[0m\n\u001B[1;32m   1478\u001B[0m \u001B[38;5;250m\u001B[39m\u001B[38;5;124;03m\"\"\"Find locations in the circuit which can be used to reference a given :obj:`~Bit`.\u001B[39;00m\n\u001B[1;32m   1479\u001B[0m \n\u001B[1;32m   1480\u001B[0m \u001B[38;5;124;03mArgs:\u001B[39;00m\n\u001B[0;32m   (...)\u001B[0m\n\u001B[1;32m   1497\u001B[0m \u001B[38;5;124;03m    CircuitError: If the supplied :obj:`~Bit` could not be found on the circuit.\u001B[39;00m\n\u001B[1;32m   1498\u001B[0m \u001B[38;5;124;03m\"\"\"\u001B[39;00m\n\u001B[1;32m   1500\u001B[0m \u001B[38;5;28;01mtry\u001B[39;00m:\n\u001B[0;32m-> 1501\u001B[0m     \u001B[38;5;28;01mif\u001B[39;00m \u001B[38;5;28;43misinstance\u001B[39;49m(bit, Qubit):\n\u001B[1;32m   1502\u001B[0m         \u001B[38;5;28;01mreturn\u001B[39;00m \u001B[38;5;28mself\u001B[39m\u001B[38;5;241m.\u001B[39m_qubit_indices[bit]\n\u001B[1;32m   1503\u001B[0m     \u001B[38;5;28;01melif\u001B[39;00m \u001B[38;5;28misinstance\u001B[39m(bit, Clbit):\n",
      "\u001B[0;31mKeyboardInterrupt\u001B[0m: "
     ]
    }
   ],
   "source": [
    "raw_instances = read_list('bpp_instances')\n",
    "preprocessed_instances = preprocess_instances(raw_instances)\n",
    "create_instance_df(preprocessed_instances)\n",
    "create_classical_df(preprocessed_instances)\n",
    "instance_number = 2\n",
    "create_quantum_df([preprocessed_instances[instance_number]], quantum_file=f'quantum_data_{instance_number}.csv')\n",
    "q_df = pd.read_csv('quantum_data.csv')\n",
    "c_df = pd.read_csv('classical_data.csv')\n",
    "create_evaluation_df(q_df, c_df)\n",
    "e_df = pd.read_csv('evaluation_data.csv')\n",
    "calc_optimum_percentage(e_df)"
   ],
   "metadata": {
    "colab": {
     "base_uri": "https://localhost:8080/"
    },
    "id": "bccbc8969c753b6d",
    "outputId": "6b7bac34-38bb-4747-c9c2-815de4ad53b9",
    "ExecuteTime": {
     "end_time": "2024-01-29T13:18:21.271231Z",
     "start_time": "2024-01-29T13:18:14.250824Z"
    }
   },
   "id": "bccbc8969c753b6d",
   "execution_count": 65
  },
  {
   "cell_type": "code",
   "outputs": [],
   "source": [],
   "metadata": {
    "collapsed": false,
    "ExecuteTime": {
     "start_time": "2024-01-29T13:17:40.449572Z"
    }
   },
   "id": "8f227c626fc978f4"
  }
 ],
 "metadata": {
  "kernelspec": {
   "name": "python3",
   "language": "python",
   "display_name": "Python 3 (ipykernel)"
  },
  "language_info": {
   "codemirror_mode": {
    "name": "ipython",
    "version": 3
   },
   "file_extension": ".py",
   "mimetype": "text/x-python",
   "name": "python",
   "nbconvert_exporter": "python",
   "pygments_lexer": "ipython3",
   "version": "3.10.12"
  },
  "colab": {
   "provenance": [],
   "gpuType": "T4"
  },
  "accelerator": "GPU"
 },
 "nbformat": 4,
 "nbformat_minor": 5
}
